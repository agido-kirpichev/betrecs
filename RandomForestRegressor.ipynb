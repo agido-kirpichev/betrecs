{
 "cells": [
  {
   "cell_type": "code",
   "execution_count": 1,
   "outputs": [
    {
     "name": "stdout",
     "output_type": "stream",
     "text": [
      "<class 'pandas.core.frame.DataFrame'>\n",
      "RangeIndex: 4871648 entries, 0 to 4871647\n",
      "Data columns (total 23 columns):\n",
      " #   Column                Dtype         \n",
      "---  ------                -----         \n",
      " 0   customer_id           object        \n",
      " 1   age                   int64         \n",
      " 2   country               object        \n",
      " 3   section               object        \n",
      " 4   point                 object        \n",
      " 5   market                object        \n",
      " 6   market_params         object        \n",
      " 7   contest_id            object        \n",
      " 8   placement_date        object        \n",
      " 9   placement_time        datetime64[ns]\n",
      " 10  placement_odds        float32       \n",
      " 11  home                  object        \n",
      " 12  away                  object        \n",
      " 13  region                object        \n",
      " 14  sport                 object        \n",
      " 15  league                object        \n",
      " 16  minutes_before_start  float64       \n",
      " 17  stake_eur             float64       \n",
      " 18  dayofweek             int32         \n",
      " 19  weekday_stake         float64       \n",
      " 20  section_2w            float64       \n",
      " 21  point_2w              float64       \n",
      " 22  market_2w             float64       \n",
      "dtypes: datetime64[ns](1), float32(1), float64(6), int32(1), int64(1), object(13)\n",
      "memory usage: 817.7+ MB\n"
     ]
    }
   ],
   "source": [
    "from deltalake import DeltaTable\n",
    "import numpy as np\n",
    "import pandas as pd\n",
    "\n",
    "bets = DeltaTable(\"/Users/andreikirpichev/Downloads/bets/\")\n",
    "bets = bets.to_pandas()\n",
    "bets.head()\n",
    "bets.info()"
   ],
   "metadata": {
    "collapsed": false
   }
  },
  {
   "cell_type": "code",
   "execution_count": 2,
   "outputs": [
    {
     "data": {
      "text/plain": "  customer_id  age  country  section  point  market  market_params  \\\n0     9786810   26        2       37      7      12           2320   \n1     9187810   26        2       39      6       7           2320   \n2     9187810   26        2       86      6       9           2320   \n3    12072510   44        2       10      7      12           2320   \n4    12072510   44        2       37      7      12           2320   \n\n   contest_id placement_date          placement_time  ...  region  sport  \\\n0       15531     2022-09-01 2022-09-01 00:00:07.176  ...      61     13   \n1       63387     2022-09-01 2022-09-01 00:00:20.216  ...     130     28   \n2       63380     2022-09-01 2022-09-01 00:00:20.216  ...     130     28   \n3       15484     2022-09-01 2022-09-01 00:00:22.536  ...     130     13   \n4       15476     2022-09-01 2022-09-01 00:00:22.536  ...     132     13   \n\n   league  minutes_before_start  stake_eur  dayofweek  weekday_stake  \\\n0     618                  60.0      11.25          5           2.98   \n1    1484                   0.0       5.00          5           3.56   \n2    1481                   0.0       5.00          5           3.58   \n3     919                   0.0       3.75          5           3.29   \n4     415                   0.0       3.75          5           3.26   \n\n   section_2w  point_2w  market_2w  \n0        6.25      6.25       6.56  \n1        3.02      3.25       2.94  \n2        5.00      3.25       3.26  \n3        3.75      3.75       3.75  \n4        3.75      3.75       3.75  \n\n[5 rows x 23 columns]",
      "text/html": "<div>\n<style scoped>\n    .dataframe tbody tr th:only-of-type {\n        vertical-align: middle;\n    }\n\n    .dataframe tbody tr th {\n        vertical-align: top;\n    }\n\n    .dataframe thead th {\n        text-align: right;\n    }\n</style>\n<table border=\"1\" class=\"dataframe\">\n  <thead>\n    <tr style=\"text-align: right;\">\n      <th></th>\n      <th>customer_id</th>\n      <th>age</th>\n      <th>country</th>\n      <th>section</th>\n      <th>point</th>\n      <th>market</th>\n      <th>market_params</th>\n      <th>contest_id</th>\n      <th>placement_date</th>\n      <th>placement_time</th>\n      <th>...</th>\n      <th>region</th>\n      <th>sport</th>\n      <th>league</th>\n      <th>minutes_before_start</th>\n      <th>stake_eur</th>\n      <th>dayofweek</th>\n      <th>weekday_stake</th>\n      <th>section_2w</th>\n      <th>point_2w</th>\n      <th>market_2w</th>\n    </tr>\n  </thead>\n  <tbody>\n    <tr>\n      <th>0</th>\n      <td>9786810</td>\n      <td>26</td>\n      <td>2</td>\n      <td>37</td>\n      <td>7</td>\n      <td>12</td>\n      <td>2320</td>\n      <td>15531</td>\n      <td>2022-09-01</td>\n      <td>2022-09-01 00:00:07.176</td>\n      <td>...</td>\n      <td>61</td>\n      <td>13</td>\n      <td>618</td>\n      <td>60.0</td>\n      <td>11.25</td>\n      <td>5</td>\n      <td>2.98</td>\n      <td>6.25</td>\n      <td>6.25</td>\n      <td>6.56</td>\n    </tr>\n    <tr>\n      <th>1</th>\n      <td>9187810</td>\n      <td>26</td>\n      <td>2</td>\n      <td>39</td>\n      <td>6</td>\n      <td>7</td>\n      <td>2320</td>\n      <td>63387</td>\n      <td>2022-09-01</td>\n      <td>2022-09-01 00:00:20.216</td>\n      <td>...</td>\n      <td>130</td>\n      <td>28</td>\n      <td>1484</td>\n      <td>0.0</td>\n      <td>5.00</td>\n      <td>5</td>\n      <td>3.56</td>\n      <td>3.02</td>\n      <td>3.25</td>\n      <td>2.94</td>\n    </tr>\n    <tr>\n      <th>2</th>\n      <td>9187810</td>\n      <td>26</td>\n      <td>2</td>\n      <td>86</td>\n      <td>6</td>\n      <td>9</td>\n      <td>2320</td>\n      <td>63380</td>\n      <td>2022-09-01</td>\n      <td>2022-09-01 00:00:20.216</td>\n      <td>...</td>\n      <td>130</td>\n      <td>28</td>\n      <td>1481</td>\n      <td>0.0</td>\n      <td>5.00</td>\n      <td>5</td>\n      <td>3.58</td>\n      <td>5.00</td>\n      <td>3.25</td>\n      <td>3.26</td>\n    </tr>\n    <tr>\n      <th>3</th>\n      <td>12072510</td>\n      <td>44</td>\n      <td>2</td>\n      <td>10</td>\n      <td>7</td>\n      <td>12</td>\n      <td>2320</td>\n      <td>15484</td>\n      <td>2022-09-01</td>\n      <td>2022-09-01 00:00:22.536</td>\n      <td>...</td>\n      <td>130</td>\n      <td>13</td>\n      <td>919</td>\n      <td>0.0</td>\n      <td>3.75</td>\n      <td>5</td>\n      <td>3.29</td>\n      <td>3.75</td>\n      <td>3.75</td>\n      <td>3.75</td>\n    </tr>\n    <tr>\n      <th>4</th>\n      <td>12072510</td>\n      <td>44</td>\n      <td>2</td>\n      <td>37</td>\n      <td>7</td>\n      <td>12</td>\n      <td>2320</td>\n      <td>15476</td>\n      <td>2022-09-01</td>\n      <td>2022-09-01 00:00:22.536</td>\n      <td>...</td>\n      <td>132</td>\n      <td>13</td>\n      <td>415</td>\n      <td>0.0</td>\n      <td>3.75</td>\n      <td>5</td>\n      <td>3.26</td>\n      <td>3.75</td>\n      <td>3.75</td>\n      <td>3.75</td>\n    </tr>\n  </tbody>\n</table>\n<p>5 rows × 23 columns</p>\n</div>"
     },
     "execution_count": 2,
     "metadata": {},
     "output_type": "execute_result"
    }
   ],
   "source": [
    "from sklearn.preprocessing import LabelEncoder\n",
    "\n",
    "categorical_features = ['country', 'section', 'point', 'market', 'market_params', 'contest_id', 'home', 'away', 'region', 'sport', 'league']\n",
    "\n",
    "le = LabelEncoder()\n",
    "\n",
    "# Convert the variables to numerical\n",
    "for i in range(len(categorical_features)):\n",
    "    label = le.fit_transform(bets[categorical_features[i]])\n",
    "    bets[categorical_features[i]] = label\n",
    "bets.head()\n"
   ],
   "metadata": {
    "collapsed": false
   }
  },
  {
   "cell_type": "code",
   "execution_count": 3,
   "outputs": [
    {
     "data": {
      "text/plain": "RandomForestRegressor(max_depth=10, n_estimators=10, random_state=101)"
     },
     "execution_count": 3,
     "metadata": {},
     "output_type": "execute_result"
    }
   ],
   "source": [
    "# Create features and target\n",
    "X = bets[['customer_id', 'age', 'country', 'section', 'point', 'market', 'market_params', 'contest_id', 'home', 'away', 'region', 'sport', 'league', 'minutes_before_start', 'weekday_stake', 'section_2w', 'point_2w', 'market_2w']]\n",
    "y = bets[['stake_eur']]\n",
    "\n",
    "# show rows with NaN values\n",
    "# X[X.isna().any(axis=1)]\n",
    "\n",
    "# Make necessary imports\n",
    "from sklearn.ensemble import RandomForestRegressor\n",
    "from sklearn.model_selection import train_test_split\n",
    "\n",
    "# Split data into training and test sets\n",
    "X_train, X_test, y_train, y_test = train_test_split(X, y, test_size = 0.25, random_state = 101)\n",
    "\n",
    "# Train the model\n",
    "regr = RandomForestRegressor(n_estimators = 10, max_depth = 10, random_state = 101)\n",
    "regr.fit(X_train, y_train.values.ravel())"
   ],
   "metadata": {
    "collapsed": false
   }
  },
  {
   "cell_type": "code",
   "execution_count": 4,
   "outputs": [
    {
     "data": {
      "text/plain": "        customer_id  age  country  section  point  market  market_params  \\\n1912175     3581510   31        2       37      7       4           2320   \n2679583    16695110   27        2       37      7       0           2320   \n2330869    16879510   57        2       37      7       4           2320   \n2262266     8062010   51        2       37      7       4           2320   \n3504300     8592510   35        2       37      7      12           2320   \n\n         contest_id   home   away  region  sport  league  \\\n1912175       25938  13261   2429      43     13    1471   \n2679583       27296  16909   2878      43     13    1465   \n2330869       30134  19423  16475     107     13    1173   \n2262266       27740  19289  16545      33     13      45   \n3504300       48355   8695   9949      85     13     588   \n\n         minutes_before_start  weekday_stake  section_2w  point_2w  market_2w  \\\n1912175                  88.0           0.85        0.88      0.83       0.64   \n2679583                 477.0           2.14        1.97      1.96       0.97   \n2330869                 224.0           7.18        5.17      5.17       4.40   \n2262266                 130.0           0.41        0.44      0.44       0.41   \n3504300                   0.0           6.08        4.05      5.31       5.28   \n\n         stake_eur  prediction  \n1912175       0.20    0.570315  \n2679583       1.28    1.006688  \n2330869       6.25    4.969072  \n2262266       0.23    0.384174  \n3504300       5.00    6.316569  ",
      "text/html": "<div>\n<style scoped>\n    .dataframe tbody tr th:only-of-type {\n        vertical-align: middle;\n    }\n\n    .dataframe tbody tr th {\n        vertical-align: top;\n    }\n\n    .dataframe thead th {\n        text-align: right;\n    }\n</style>\n<table border=\"1\" class=\"dataframe\">\n  <thead>\n    <tr style=\"text-align: right;\">\n      <th></th>\n      <th>customer_id</th>\n      <th>age</th>\n      <th>country</th>\n      <th>section</th>\n      <th>point</th>\n      <th>market</th>\n      <th>market_params</th>\n      <th>contest_id</th>\n      <th>home</th>\n      <th>away</th>\n      <th>region</th>\n      <th>sport</th>\n      <th>league</th>\n      <th>minutes_before_start</th>\n      <th>weekday_stake</th>\n      <th>section_2w</th>\n      <th>point_2w</th>\n      <th>market_2w</th>\n      <th>stake_eur</th>\n      <th>prediction</th>\n    </tr>\n  </thead>\n  <tbody>\n    <tr>\n      <th>1912175</th>\n      <td>3581510</td>\n      <td>31</td>\n      <td>2</td>\n      <td>37</td>\n      <td>7</td>\n      <td>4</td>\n      <td>2320</td>\n      <td>25938</td>\n      <td>13261</td>\n      <td>2429</td>\n      <td>43</td>\n      <td>13</td>\n      <td>1471</td>\n      <td>88.0</td>\n      <td>0.85</td>\n      <td>0.88</td>\n      <td>0.83</td>\n      <td>0.64</td>\n      <td>0.20</td>\n      <td>0.570315</td>\n    </tr>\n    <tr>\n      <th>2679583</th>\n      <td>16695110</td>\n      <td>27</td>\n      <td>2</td>\n      <td>37</td>\n      <td>7</td>\n      <td>0</td>\n      <td>2320</td>\n      <td>27296</td>\n      <td>16909</td>\n      <td>2878</td>\n      <td>43</td>\n      <td>13</td>\n      <td>1465</td>\n      <td>477.0</td>\n      <td>2.14</td>\n      <td>1.97</td>\n      <td>1.96</td>\n      <td>0.97</td>\n      <td>1.28</td>\n      <td>1.006688</td>\n    </tr>\n    <tr>\n      <th>2330869</th>\n      <td>16879510</td>\n      <td>57</td>\n      <td>2</td>\n      <td>37</td>\n      <td>7</td>\n      <td>4</td>\n      <td>2320</td>\n      <td>30134</td>\n      <td>19423</td>\n      <td>16475</td>\n      <td>107</td>\n      <td>13</td>\n      <td>1173</td>\n      <td>224.0</td>\n      <td>7.18</td>\n      <td>5.17</td>\n      <td>5.17</td>\n      <td>4.40</td>\n      <td>6.25</td>\n      <td>4.969072</td>\n    </tr>\n    <tr>\n      <th>2262266</th>\n      <td>8062010</td>\n      <td>51</td>\n      <td>2</td>\n      <td>37</td>\n      <td>7</td>\n      <td>4</td>\n      <td>2320</td>\n      <td>27740</td>\n      <td>19289</td>\n      <td>16545</td>\n      <td>33</td>\n      <td>13</td>\n      <td>45</td>\n      <td>130.0</td>\n      <td>0.41</td>\n      <td>0.44</td>\n      <td>0.44</td>\n      <td>0.41</td>\n      <td>0.23</td>\n      <td>0.384174</td>\n    </tr>\n    <tr>\n      <th>3504300</th>\n      <td>8592510</td>\n      <td>35</td>\n      <td>2</td>\n      <td>37</td>\n      <td>7</td>\n      <td>12</td>\n      <td>2320</td>\n      <td>48355</td>\n      <td>8695</td>\n      <td>9949</td>\n      <td>85</td>\n      <td>13</td>\n      <td>588</td>\n      <td>0.0</td>\n      <td>6.08</td>\n      <td>4.05</td>\n      <td>5.31</td>\n      <td>5.28</td>\n      <td>5.00</td>\n      <td>6.316569</td>\n    </tr>\n  </tbody>\n</table>\n</div>"
     },
     "execution_count": 4,
     "metadata": {},
     "output_type": "execute_result"
    }
   ],
   "source": [
    "import warnings\n",
    "warnings.filterwarnings('ignore')\n",
    "\n",
    "# Make prediction\n",
    "predictions = regr.predict(X_test)\n",
    "\n",
    "result = X_test\n",
    "result['stake_eur'] = y_test\n",
    "result['prediction'] = predictions.tolist()\n",
    "result.head()"
   ],
   "metadata": {
    "collapsed": false
   }
  },
  {
   "cell_type": "code",
   "execution_count": 5,
   "outputs": [
    {
     "name": "stdout",
     "output_type": "stream",
     "text": [
      "Mean Absolute Error: 5.17\n",
      "Mean Squared Error: 801.37\n",
      "R-squared scores: 0.63\n"
     ]
    }
   ],
   "source": [
    "# Import library for metrics\n",
    "from sklearn.metrics import mean_squared_error, r2_score, mean_absolute_error\n",
    "\n",
    "# Mean absolute error (MAE)\n",
    "mae = mean_absolute_error(y_test.values.ravel(), predictions)\n",
    "\n",
    "# Mean squared error (MSE)\n",
    "mse = mean_squared_error(y_test.values.ravel(), predictions)\n",
    "\n",
    "# R-squared scores\n",
    "r2 = r2_score(y_test.values.ravel(), predictions)\n",
    "\n",
    "# Print metrics\n",
    "print('Mean Absolute Error:', round(mae, 2))\n",
    "print('Mean Squared Error:', round(mse, 2))\n",
    "print('R-squared scores:', round(r2, 2))"
   ],
   "metadata": {
    "collapsed": false
   }
  },
  {
   "cell_type": "code",
   "execution_count": 5,
   "outputs": [],
   "source": [],
   "metadata": {
    "collapsed": false
   }
  }
 ],
 "metadata": {
  "kernelspec": {
   "display_name": "Python 3 (ipykernel)",
   "language": "python",
   "name": "python3"
  },
  "language_info": {
   "codemirror_mode": {
    "name": "ipython",
    "version": 3
   },
   "file_extension": ".py",
   "mimetype": "text/x-python",
   "name": "python",
   "nbconvert_exporter": "python",
   "pygments_lexer": "ipython3",
   "version": "3.9.13"
  }
 },
 "nbformat": 4,
 "nbformat_minor": 5
}
