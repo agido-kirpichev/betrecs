{
 "cells": [
  {
   "cell_type": "code",
   "execution_count": 1,
   "outputs": [
    {
     "data": {
      "text/plain": "        customer_id  age country section point         market market_params  \\\n3935682     3044310   40      AT     HT1  Goal      OverUnder          None   \n3935681    17707010   60      DE      RT  Goal      OverUnder          None   \n3935680    11764610   61      DE      RT  Goal     Handicap3w          None   \n3935679    11764610   61      DE      RT  Goal     Handicap3w          None   \n3935678    11764610   61      DE      RT  Goal     Handicap3w          None   \n...             ...  ...     ...     ...   ...            ...           ...   \n5          12089410   29      DE      RT  Goal     Handicap2w          None   \n3           8130610   29      DE      RT  Goal  PlayerToScore          None   \n2          12072510   44      DE      RT  Goal      OverUnder          None   \n1          12072510   44      DE     HT1  Goal      OverUnder          None   \n0           9786810   26      DE      RT  Goal      OverUnder          None   \n\n        contest_id placement_date          placement_time  ...  region  \\\n3935682  FB-226375     2022-10-28 2022-10-28 14:23:42.051  ...      JO   \n3935681  FB-226334     2022-10-28 2022-10-28 14:23:40.631  ...      EG   \n3935680  FB-226449     2022-10-28 2022-10-28 14:23:39.479  ...      BG   \n3935679  FB-219054     2022-10-28 2022-10-28 14:23:39.479  ...      DE   \n3935678  FB-219064     2022-10-28 2022-10-28 14:23:39.479  ...      DE   \n...            ...            ...                     ...  ...     ...   \n5        FB-106204     2022-09-01 2022-09-01 00:00:28.594  ...      US   \n3        FB-106204     2022-09-01 2022-09-01 00:00:26.666  ...      US   \n2        FB-106190     2022-09-01 2022-09-01 00:00:22.536  ...      UY   \n1        FB-106228     2022-09-01 2022-09-01 00:00:22.536  ...      US   \n0        FB-107952     2022-09-01 2022-09-01 00:00:07.176  ...     INT   \n\n            sport          league minutes_before_start stake_eur dayofweek  \\\n3935682  Football  Premier League                  0.0     10.86         6   \n3935681  Football    2nd Division                  0.0     20.00         6   \n3935680  Football    First League                 66.0      0.50         6   \n3935679  Football   2. Bundesliga                126.0      0.50         6   \n3935678  Football   2. Bundesliga                126.0      0.50         6   \n...           ...             ...                  ...       ...       ...   \n5        Football             MLS                  0.0      8.34         5   \n3        Football             MLS                  0.0     15.00         5   \n2        Football             Cup                  0.0      3.75         5   \n1        Football             MLS                  0.0      3.75         5   \n0        Football        Friendly                 60.0     11.25         5   \n\n         weekday_stake  section_2w  point_2w  market_2w  \n3935682          22.20       21.46     20.31      20.74  \n3935681          33.00       12.84     13.01      13.09  \n3935680           0.25        0.25      0.25       0.25  \n3935679           0.25        0.25      0.25       0.25  \n3935678           0.25        0.25      0.25       0.25  \n...                ...         ...       ...        ...  \n5                 3.47        5.83      5.83       8.34  \n3                 8.66       13.00     12.79      15.00  \n2                 3.26        3.75      3.75       3.75  \n1                 3.29        3.75      3.75       3.75  \n0                 2.98        6.25      6.25       6.56  \n\n[3935683 rows x 23 columns]",
      "text/html": "<div>\n<style scoped>\n    .dataframe tbody tr th:only-of-type {\n        vertical-align: middle;\n    }\n\n    .dataframe tbody tr th {\n        vertical-align: top;\n    }\n\n    .dataframe thead th {\n        text-align: right;\n    }\n</style>\n<table border=\"1\" class=\"dataframe\">\n  <thead>\n    <tr style=\"text-align: right;\">\n      <th></th>\n      <th>customer_id</th>\n      <th>age</th>\n      <th>country</th>\n      <th>section</th>\n      <th>point</th>\n      <th>market</th>\n      <th>market_params</th>\n      <th>contest_id</th>\n      <th>placement_date</th>\n      <th>placement_time</th>\n      <th>...</th>\n      <th>region</th>\n      <th>sport</th>\n      <th>league</th>\n      <th>minutes_before_start</th>\n      <th>stake_eur</th>\n      <th>dayofweek</th>\n      <th>weekday_stake</th>\n      <th>section_2w</th>\n      <th>point_2w</th>\n      <th>market_2w</th>\n    </tr>\n  </thead>\n  <tbody>\n    <tr>\n      <th>3935682</th>\n      <td>3044310</td>\n      <td>40</td>\n      <td>AT</td>\n      <td>HT1</td>\n      <td>Goal</td>\n      <td>OverUnder</td>\n      <td>None</td>\n      <td>FB-226375</td>\n      <td>2022-10-28</td>\n      <td>2022-10-28 14:23:42.051</td>\n      <td>...</td>\n      <td>JO</td>\n      <td>Football</td>\n      <td>Premier League</td>\n      <td>0.0</td>\n      <td>10.86</td>\n      <td>6</td>\n      <td>22.20</td>\n      <td>21.46</td>\n      <td>20.31</td>\n      <td>20.74</td>\n    </tr>\n    <tr>\n      <th>3935681</th>\n      <td>17707010</td>\n      <td>60</td>\n      <td>DE</td>\n      <td>RT</td>\n      <td>Goal</td>\n      <td>OverUnder</td>\n      <td>None</td>\n      <td>FB-226334</td>\n      <td>2022-10-28</td>\n      <td>2022-10-28 14:23:40.631</td>\n      <td>...</td>\n      <td>EG</td>\n      <td>Football</td>\n      <td>2nd Division</td>\n      <td>0.0</td>\n      <td>20.00</td>\n      <td>6</td>\n      <td>33.00</td>\n      <td>12.84</td>\n      <td>13.01</td>\n      <td>13.09</td>\n    </tr>\n    <tr>\n      <th>3935680</th>\n      <td>11764610</td>\n      <td>61</td>\n      <td>DE</td>\n      <td>RT</td>\n      <td>Goal</td>\n      <td>Handicap3w</td>\n      <td>None</td>\n      <td>FB-226449</td>\n      <td>2022-10-28</td>\n      <td>2022-10-28 14:23:39.479</td>\n      <td>...</td>\n      <td>BG</td>\n      <td>Football</td>\n      <td>First League</td>\n      <td>66.0</td>\n      <td>0.50</td>\n      <td>6</td>\n      <td>0.25</td>\n      <td>0.25</td>\n      <td>0.25</td>\n      <td>0.25</td>\n    </tr>\n    <tr>\n      <th>3935679</th>\n      <td>11764610</td>\n      <td>61</td>\n      <td>DE</td>\n      <td>RT</td>\n      <td>Goal</td>\n      <td>Handicap3w</td>\n      <td>None</td>\n      <td>FB-219054</td>\n      <td>2022-10-28</td>\n      <td>2022-10-28 14:23:39.479</td>\n      <td>...</td>\n      <td>DE</td>\n      <td>Football</td>\n      <td>2. Bundesliga</td>\n      <td>126.0</td>\n      <td>0.50</td>\n      <td>6</td>\n      <td>0.25</td>\n      <td>0.25</td>\n      <td>0.25</td>\n      <td>0.25</td>\n    </tr>\n    <tr>\n      <th>3935678</th>\n      <td>11764610</td>\n      <td>61</td>\n      <td>DE</td>\n      <td>RT</td>\n      <td>Goal</td>\n      <td>Handicap3w</td>\n      <td>None</td>\n      <td>FB-219064</td>\n      <td>2022-10-28</td>\n      <td>2022-10-28 14:23:39.479</td>\n      <td>...</td>\n      <td>DE</td>\n      <td>Football</td>\n      <td>2. Bundesliga</td>\n      <td>126.0</td>\n      <td>0.50</td>\n      <td>6</td>\n      <td>0.25</td>\n      <td>0.25</td>\n      <td>0.25</td>\n      <td>0.25</td>\n    </tr>\n    <tr>\n      <th>...</th>\n      <td>...</td>\n      <td>...</td>\n      <td>...</td>\n      <td>...</td>\n      <td>...</td>\n      <td>...</td>\n      <td>...</td>\n      <td>...</td>\n      <td>...</td>\n      <td>...</td>\n      <td>...</td>\n      <td>...</td>\n      <td>...</td>\n      <td>...</td>\n      <td>...</td>\n      <td>...</td>\n      <td>...</td>\n      <td>...</td>\n      <td>...</td>\n      <td>...</td>\n      <td>...</td>\n    </tr>\n    <tr>\n      <th>5</th>\n      <td>12089410</td>\n      <td>29</td>\n      <td>DE</td>\n      <td>RT</td>\n      <td>Goal</td>\n      <td>Handicap2w</td>\n      <td>None</td>\n      <td>FB-106204</td>\n      <td>2022-09-01</td>\n      <td>2022-09-01 00:00:28.594</td>\n      <td>...</td>\n      <td>US</td>\n      <td>Football</td>\n      <td>MLS</td>\n      <td>0.0</td>\n      <td>8.34</td>\n      <td>5</td>\n      <td>3.47</td>\n      <td>5.83</td>\n      <td>5.83</td>\n      <td>8.34</td>\n    </tr>\n    <tr>\n      <th>3</th>\n      <td>8130610</td>\n      <td>29</td>\n      <td>DE</td>\n      <td>RT</td>\n      <td>Goal</td>\n      <td>PlayerToScore</td>\n      <td>None</td>\n      <td>FB-106204</td>\n      <td>2022-09-01</td>\n      <td>2022-09-01 00:00:26.666</td>\n      <td>...</td>\n      <td>US</td>\n      <td>Football</td>\n      <td>MLS</td>\n      <td>0.0</td>\n      <td>15.00</td>\n      <td>5</td>\n      <td>8.66</td>\n      <td>13.00</td>\n      <td>12.79</td>\n      <td>15.00</td>\n    </tr>\n    <tr>\n      <th>2</th>\n      <td>12072510</td>\n      <td>44</td>\n      <td>DE</td>\n      <td>RT</td>\n      <td>Goal</td>\n      <td>OverUnder</td>\n      <td>None</td>\n      <td>FB-106190</td>\n      <td>2022-09-01</td>\n      <td>2022-09-01 00:00:22.536</td>\n      <td>...</td>\n      <td>UY</td>\n      <td>Football</td>\n      <td>Cup</td>\n      <td>0.0</td>\n      <td>3.75</td>\n      <td>5</td>\n      <td>3.26</td>\n      <td>3.75</td>\n      <td>3.75</td>\n      <td>3.75</td>\n    </tr>\n    <tr>\n      <th>1</th>\n      <td>12072510</td>\n      <td>44</td>\n      <td>DE</td>\n      <td>HT1</td>\n      <td>Goal</td>\n      <td>OverUnder</td>\n      <td>None</td>\n      <td>FB-106228</td>\n      <td>2022-09-01</td>\n      <td>2022-09-01 00:00:22.536</td>\n      <td>...</td>\n      <td>US</td>\n      <td>Football</td>\n      <td>MLS</td>\n      <td>0.0</td>\n      <td>3.75</td>\n      <td>5</td>\n      <td>3.29</td>\n      <td>3.75</td>\n      <td>3.75</td>\n      <td>3.75</td>\n    </tr>\n    <tr>\n      <th>0</th>\n      <td>9786810</td>\n      <td>26</td>\n      <td>DE</td>\n      <td>RT</td>\n      <td>Goal</td>\n      <td>OverUnder</td>\n      <td>None</td>\n      <td>FB-107952</td>\n      <td>2022-09-01</td>\n      <td>2022-09-01 00:00:07.176</td>\n      <td>...</td>\n      <td>INT</td>\n      <td>Football</td>\n      <td>Friendly</td>\n      <td>60.0</td>\n      <td>11.25</td>\n      <td>5</td>\n      <td>2.98</td>\n      <td>6.25</td>\n      <td>6.25</td>\n      <td>6.56</td>\n    </tr>\n  </tbody>\n</table>\n<p>3935683 rows × 23 columns</p>\n</div>"
     },
     "execution_count": 1,
     "metadata": {},
     "output_type": "execute_result"
    }
   ],
   "source": [
    "from deltalake import DeltaTable\n",
    "import numpy as np\n",
    "import pandas as pd\n",
    "\n",
    "bets = DeltaTable(\"/Users/andreikirpichev/parquet/bets/\")\n",
    "bets = bets.to_pandas()\n",
    "bets.sort_values('placement_time', ascending=False)"
   ],
   "metadata": {
    "collapsed": false
   }
  },
  {
   "cell_type": "code",
   "execution_count": 2,
   "outputs": [
    {
     "data": {
      "text/plain": "  contest_id section point            market          away  \\\n0  FB-216767      RT  goal  BothTeamsToScore  UE Engordany   \n\n                    start                 end             home  \\\n0 2022-10-22 14:53:19.559 2022-10-23 16:30:00  UE Santa Coloma   \n\n             league region     sport  placement_odds  \n0  Primera Division     AD  Football            1.72  ",
      "text/html": "<div>\n<style scoped>\n    .dataframe tbody tr th:only-of-type {\n        vertical-align: middle;\n    }\n\n    .dataframe tbody tr th {\n        vertical-align: top;\n    }\n\n    .dataframe thead th {\n        text-align: right;\n    }\n</style>\n<table border=\"1\" class=\"dataframe\">\n  <thead>\n    <tr style=\"text-align: right;\">\n      <th></th>\n      <th>contest_id</th>\n      <th>section</th>\n      <th>point</th>\n      <th>market</th>\n      <th>away</th>\n      <th>start</th>\n      <th>end</th>\n      <th>home</th>\n      <th>league</th>\n      <th>region</th>\n      <th>sport</th>\n      <th>placement_odds</th>\n    </tr>\n  </thead>\n  <tbody>\n    <tr>\n      <th>0</th>\n      <td>FB-216767</td>\n      <td>RT</td>\n      <td>goal</td>\n      <td>BothTeamsToScore</td>\n      <td>UE Engordany</td>\n      <td>2022-10-22 14:53:19.559</td>\n      <td>2022-10-23 16:30:00</td>\n      <td>UE Santa Coloma</td>\n      <td>Primera Division</td>\n      <td>AD</td>\n      <td>Football</td>\n      <td>1.72</td>\n    </tr>\n  </tbody>\n</table>\n</div>"
     },
     "execution_count": 2,
     "metadata": {},
     "output_type": "execute_result"
    }
   ],
   "source": [
    "test_betmarkets = DeltaTable(\"/Users/andreikirpichev/parquet/test_betmarkets/\")\n",
    "test_betmarkets = test_betmarkets.to_pandas()\n",
    "test_betmarkets.head(1)"
   ],
   "metadata": {
    "collapsed": false
   }
  },
  {
   "cell_type": "code",
   "execution_count": 3,
   "outputs": [],
   "source": [
    "from sklearn.preprocessing import LabelEncoder\n",
    "betmarket_categorical_features = ['section', 'point', 'market', 'region', 'contest_id', 'league', 'home', 'away']\n",
    "categorical_features = betmarket_categorical_features + ['country']\n",
    "\n",
    "le = LabelEncoder()\n",
    "\n",
    "# Convert the variables to numerical\n",
    "def encode(arr, features):\n",
    "    for i in range(len(features)):\n",
    "        encoded = le.fit_transform(arr[features[i]])\n",
    "        arr[features[i]] = encoded\n",
    "\n",
    "encode(test_betmarkets, betmarket_categorical_features)\n",
    "encode(bets, categorical_features)"
   ],
   "metadata": {
    "collapsed": false
   }
  },
  {
   "cell_type": "code",
   "execution_count": 4,
   "outputs": [
    {
     "data": {
      "text/plain": "7    3419599\n1     480459\n2      29604\n4       2995\n3       1686\n8        673\n9        438\n5        153\n6         72\n0          4\nName: section, dtype: int64"
     },
     "execution_count": 4,
     "metadata": {},
     "output_type": "execute_result"
    }
   ],
   "source": [
    "bets['section'].value_counts()"
   ],
   "metadata": {
    "collapsed": false
   }
  },
  {
   "cell_type": "code",
   "execution_count": 5,
   "outputs": [
    {
     "data": {
      "text/plain": "  customer_id  age  country  section  point  market market_params  contest_id  \\\n0     9786810   26        2        7      1      11          None         161   \n\n  placement_date          placement_time  ...  region     sport  league  \\\n0     2022-09-01 2022-09-01 00:00:07.176  ...      60  Football     117   \n\n   minutes_before_start stake_eur  dayofweek  weekday_stake  section_2w  \\\n0                  60.0     11.25          5           2.98        6.25   \n\n   point_2w  market_2w  \n0      6.25       6.56  \n\n[1 rows x 23 columns]",
      "text/html": "<div>\n<style scoped>\n    .dataframe tbody tr th:only-of-type {\n        vertical-align: middle;\n    }\n\n    .dataframe tbody tr th {\n        vertical-align: top;\n    }\n\n    .dataframe thead th {\n        text-align: right;\n    }\n</style>\n<table border=\"1\" class=\"dataframe\">\n  <thead>\n    <tr style=\"text-align: right;\">\n      <th></th>\n      <th>customer_id</th>\n      <th>age</th>\n      <th>country</th>\n      <th>section</th>\n      <th>point</th>\n      <th>market</th>\n      <th>market_params</th>\n      <th>contest_id</th>\n      <th>placement_date</th>\n      <th>placement_time</th>\n      <th>...</th>\n      <th>region</th>\n      <th>sport</th>\n      <th>league</th>\n      <th>minutes_before_start</th>\n      <th>stake_eur</th>\n      <th>dayofweek</th>\n      <th>weekday_stake</th>\n      <th>section_2w</th>\n      <th>point_2w</th>\n      <th>market_2w</th>\n    </tr>\n  </thead>\n  <tbody>\n    <tr>\n      <th>0</th>\n      <td>9786810</td>\n      <td>26</td>\n      <td>2</td>\n      <td>7</td>\n      <td>1</td>\n      <td>11</td>\n      <td>None</td>\n      <td>161</td>\n      <td>2022-09-01</td>\n      <td>2022-09-01 00:00:07.176</td>\n      <td>...</td>\n      <td>60</td>\n      <td>Football</td>\n      <td>117</td>\n      <td>60.0</td>\n      <td>11.25</td>\n      <td>5</td>\n      <td>2.98</td>\n      <td>6.25</td>\n      <td>6.25</td>\n      <td>6.56</td>\n    </tr>\n  </tbody>\n</table>\n<p>1 rows × 23 columns</p>\n</div>"
     },
     "execution_count": 5,
     "metadata": {},
     "output_type": "execute_result"
    }
   ],
   "source": [
    "bets.head(1)"
   ],
   "metadata": {
    "collapsed": false
   }
  },
  {
   "cell_type": "code",
   "execution_count": 6,
   "outputs": [
    {
     "data": {
      "text/plain": "   contest_id  section  point  market  away                   start  \\\n0        1502        4      1       0  2504 2022-10-22 14:53:19.559   \n\n                  end  home  league  region     sport  placement_odds  \n0 2022-10-23 16:30:00  2516     127       0  Football            1.72  ",
      "text/html": "<div>\n<style scoped>\n    .dataframe tbody tr th:only-of-type {\n        vertical-align: middle;\n    }\n\n    .dataframe tbody tr th {\n        vertical-align: top;\n    }\n\n    .dataframe thead th {\n        text-align: right;\n    }\n</style>\n<table border=\"1\" class=\"dataframe\">\n  <thead>\n    <tr style=\"text-align: right;\">\n      <th></th>\n      <th>contest_id</th>\n      <th>section</th>\n      <th>point</th>\n      <th>market</th>\n      <th>away</th>\n      <th>start</th>\n      <th>end</th>\n      <th>home</th>\n      <th>league</th>\n      <th>region</th>\n      <th>sport</th>\n      <th>placement_odds</th>\n    </tr>\n  </thead>\n  <tbody>\n    <tr>\n      <th>0</th>\n      <td>1502</td>\n      <td>4</td>\n      <td>1</td>\n      <td>0</td>\n      <td>2504</td>\n      <td>2022-10-22 14:53:19.559</td>\n      <td>2022-10-23 16:30:00</td>\n      <td>2516</td>\n      <td>127</td>\n      <td>0</td>\n      <td>Football</td>\n      <td>1.72</td>\n    </tr>\n  </tbody>\n</table>\n</div>"
     },
     "execution_count": 6,
     "metadata": {},
     "output_type": "execute_result"
    }
   ],
   "source": [
    "test_betmarkets.head(1)"
   ],
   "metadata": {
    "collapsed": false
   }
  },
  {
   "cell_type": "code",
   "execution_count": 7,
   "outputs": [
    {
     "name": "stdout",
     "output_type": "stream",
     "text": [
      "['section', 'point', 'market', 'region', 'contest_id', 'league', 'home', 'away', 'country', 'age', 'weekday_stake', 'placement_odds', 'section_2w', 'point_2w', 'market_2w']\n",
      "train: from 2022-09-01 00:00:07.176000  to  2022-10-18 02:08:34.266000 (3148546, 17)\n",
      "test: from 2022-10-18 02:08:40.166000  to  2022-10-28 14:23:42.051000 (787137, 17)\n"
     ]
    },
    {
     "data": {
      "text/plain": "RandomForestRegressor(max_depth=10, n_estimators=10, random_state=101)"
     },
     "execution_count": 7,
     "metadata": {},
     "output_type": "execute_result"
    }
   ],
   "source": [
    "# Create features and target\n",
    "features = categorical_features + ['age', 'weekday_stake', 'placement_odds', 'section_2w', 'point_2w', 'market_2w']\n",
    "print(features)\n",
    "features_meta = features + ['placement_time', 'customer_id']\n",
    "X = bets[features_meta]\n",
    "y = bets[['stake_eur']]\n",
    "\n",
    "# show rows with NaN values\n",
    "#print(X[X.isna().any(axis=1)])\n",
    "\n",
    "# Make necessary imports\n",
    "from sklearn.ensemble import RandomForestRegressor\n",
    "from sklearn.model_selection import train_test_split\n",
    "\n",
    "# Split data into training and test sets\n",
    "X_train, X_test, y_train, y_test = train_test_split(X, y, test_size = 0.20, random_state = 101, shuffle=False)\n",
    "\n",
    "print('train: from', X_train['placement_time'].min(), ' to ', X_train['placement_time'].max(), X_train.shape)\n",
    "print('test: from', X_test['placement_time'].min(), ' to ', X_test['placement_time'].max(), X_test.shape)\n",
    "threshhold = X_train['placement_time'].max()\n",
    "\n",
    "X_train = X_train[features]\n",
    "\n",
    "# Train the model\n",
    "regr = RandomForestRegressor(n_estimators = 10, max_depth = 10, random_state = 101)\n",
    "regr.fit(X_train, y_train.values.ravel())"
   ],
   "metadata": {
    "collapsed": false
   }
  },
  {
   "cell_type": "code",
   "execution_count": 16,
   "outputs": [
    {
     "data": {
      "text/plain": "(787137, 17)"
     },
     "execution_count": 16,
     "metadata": {},
     "output_type": "execute_result"
    }
   ],
   "source": [
    "X_test.shape"
   ],
   "metadata": {
    "collapsed": false
   }
  },
  {
   "cell_type": "code",
   "execution_count": 17,
   "outputs": [
    {
     "data": {
      "text/plain": "         section  point  market  region  contest_id  league  home  away  \\\n3148546        7      1      11      87       30911     167  2668  5673   \n3148547        7      1      11      87       30919     167  1587  1519   \n3148548        7      1      11     122       30742     178  2608  4814   \n3148549        7      1       0     120       30962     222  2726  4030   \n3148550        7      1      11      41       30134     151  3182   760   \n\n         country  age  weekday_stake  placement_odds  section_2w  point_2w  \\\n3148546        2   54          11.88           1.280        8.45      8.41   \n3148547        2   54          11.78           1.240        8.45      8.41   \n3148548        2   54          15.25           1.115        8.45      8.41   \n3148549        2   30           0.51           1.780        0.57      0.56   \n3148550        2   30           0.39           2.360        0.57      0.56   \n\n         market_2w          placement_time customer_id  \n3148546       9.17 2022-10-18 02:08:40.166     4526010  \n3148547       9.17 2022-10-18 02:08:40.166     4526010  \n3148548       9.17 2022-10-18 02:08:40.166     4526010  \n3148549       0.65 2022-10-18 02:08:41.854     5475010  \n3148550       0.53 2022-10-18 02:08:41.854     5475010  ",
      "text/html": "<div>\n<style scoped>\n    .dataframe tbody tr th:only-of-type {\n        vertical-align: middle;\n    }\n\n    .dataframe tbody tr th {\n        vertical-align: top;\n    }\n\n    .dataframe thead th {\n        text-align: right;\n    }\n</style>\n<table border=\"1\" class=\"dataframe\">\n  <thead>\n    <tr style=\"text-align: right;\">\n      <th></th>\n      <th>section</th>\n      <th>point</th>\n      <th>market</th>\n      <th>region</th>\n      <th>contest_id</th>\n      <th>league</th>\n      <th>home</th>\n      <th>away</th>\n      <th>country</th>\n      <th>age</th>\n      <th>weekday_stake</th>\n      <th>placement_odds</th>\n      <th>section_2w</th>\n      <th>point_2w</th>\n      <th>market_2w</th>\n      <th>placement_time</th>\n      <th>customer_id</th>\n    </tr>\n  </thead>\n  <tbody>\n    <tr>\n      <th>3148546</th>\n      <td>7</td>\n      <td>1</td>\n      <td>11</td>\n      <td>87</td>\n      <td>30911</td>\n      <td>167</td>\n      <td>2668</td>\n      <td>5673</td>\n      <td>2</td>\n      <td>54</td>\n      <td>11.88</td>\n      <td>1.280</td>\n      <td>8.45</td>\n      <td>8.41</td>\n      <td>9.17</td>\n      <td>2022-10-18 02:08:40.166</td>\n      <td>4526010</td>\n    </tr>\n    <tr>\n      <th>3148547</th>\n      <td>7</td>\n      <td>1</td>\n      <td>11</td>\n      <td>87</td>\n      <td>30919</td>\n      <td>167</td>\n      <td>1587</td>\n      <td>1519</td>\n      <td>2</td>\n      <td>54</td>\n      <td>11.78</td>\n      <td>1.240</td>\n      <td>8.45</td>\n      <td>8.41</td>\n      <td>9.17</td>\n      <td>2022-10-18 02:08:40.166</td>\n      <td>4526010</td>\n    </tr>\n    <tr>\n      <th>3148548</th>\n      <td>7</td>\n      <td>1</td>\n      <td>11</td>\n      <td>122</td>\n      <td>30742</td>\n      <td>178</td>\n      <td>2608</td>\n      <td>4814</td>\n      <td>2</td>\n      <td>54</td>\n      <td>15.25</td>\n      <td>1.115</td>\n      <td>8.45</td>\n      <td>8.41</td>\n      <td>9.17</td>\n      <td>2022-10-18 02:08:40.166</td>\n      <td>4526010</td>\n    </tr>\n    <tr>\n      <th>3148549</th>\n      <td>7</td>\n      <td>1</td>\n      <td>0</td>\n      <td>120</td>\n      <td>30962</td>\n      <td>222</td>\n      <td>2726</td>\n      <td>4030</td>\n      <td>2</td>\n      <td>30</td>\n      <td>0.51</td>\n      <td>1.780</td>\n      <td>0.57</td>\n      <td>0.56</td>\n      <td>0.65</td>\n      <td>2022-10-18 02:08:41.854</td>\n      <td>5475010</td>\n    </tr>\n    <tr>\n      <th>3148550</th>\n      <td>7</td>\n      <td>1</td>\n      <td>11</td>\n      <td>41</td>\n      <td>30134</td>\n      <td>151</td>\n      <td>3182</td>\n      <td>760</td>\n      <td>2</td>\n      <td>30</td>\n      <td>0.39</td>\n      <td>2.360</td>\n      <td>0.57</td>\n      <td>0.56</td>\n      <td>0.53</td>\n      <td>2022-10-18 02:08:41.854</td>\n      <td>5475010</td>\n    </tr>\n  </tbody>\n</table>\n</div>"
     },
     "execution_count": 17,
     "metadata": {},
     "output_type": "execute_result"
    }
   ],
   "source": [
    "X_test.head(5)"
   ],
   "metadata": {
    "collapsed": false
   }
  },
  {
   "cell_type": "code",
   "execution_count": 18,
   "outputs": [
    {
     "data": {
      "text/plain": "         section  point  market  region  contest_id  league  home  away  \\\n3148546        7      1      11      80         265      98  1286  2752   \n\n         country  age  weekday_stake  placement_odds  section_2w  point_2w  \\\n3148546        2   54          11.88            1.28        8.45      8.41   \n\n         market_2w          placement_time customer_id  \n3148546       9.17 2022-10-18 02:08:40.166     4526010  ",
      "text/html": "<div>\n<style scoped>\n    .dataframe tbody tr th:only-of-type {\n        vertical-align: middle;\n    }\n\n    .dataframe tbody tr th {\n        vertical-align: top;\n    }\n\n    .dataframe thead th {\n        text-align: right;\n    }\n</style>\n<table border=\"1\" class=\"dataframe\">\n  <thead>\n    <tr style=\"text-align: right;\">\n      <th></th>\n      <th>section</th>\n      <th>point</th>\n      <th>market</th>\n      <th>region</th>\n      <th>contest_id</th>\n      <th>league</th>\n      <th>home</th>\n      <th>away</th>\n      <th>country</th>\n      <th>age</th>\n      <th>weekday_stake</th>\n      <th>placement_odds</th>\n      <th>section_2w</th>\n      <th>point_2w</th>\n      <th>market_2w</th>\n      <th>placement_time</th>\n      <th>customer_id</th>\n    </tr>\n  </thead>\n  <tbody>\n    <tr>\n      <th>3148546</th>\n      <td>7</td>\n      <td>1</td>\n      <td>11</td>\n      <td>80</td>\n      <td>265</td>\n      <td>98</td>\n      <td>1286</td>\n      <td>2752</td>\n      <td>2</td>\n      <td>54</td>\n      <td>11.88</td>\n      <td>1.28</td>\n      <td>8.45</td>\n      <td>8.41</td>\n      <td>9.17</td>\n      <td>2022-10-18 02:08:40.166</td>\n      <td>4526010</td>\n    </tr>\n  </tbody>\n</table>\n</div>"
     },
     "execution_count": 18,
     "metadata": {},
     "output_type": "execute_result"
    }
   ],
   "source": [
    "X_test_inv = X_test[:]\n",
    "encode(X_test_inv, categorical_features)\n",
    "X_test_inv.head(1)"
   ],
   "metadata": {
    "collapsed": false
   }
  },
  {
   "cell_type": "code",
   "execution_count": 12,
   "outputs": [
    {
     "name": "stdout",
     "output_type": "stream",
     "text": [
      "(787137,)\n",
      "(787137,)\n",
      "(787137,)\n",
      "(787137,)\n",
      "(787137,)\n"
     ]
    },
    {
     "data": {
      "text/plain": "[None, None, None, None, None]"
     },
     "execution_count": 12,
     "metadata": {},
     "output_type": "execute_result"
    }
   ],
   "source": [
    "def f(r):\n",
    "    print(X_test_inv[r].shape)\n",
    "[f(x) for x in X_test_inv[['age', 'weekday_stake', 'section_2w', 'point_2w', 'market_2w']]]"
   ],
   "metadata": {
    "collapsed": false
   }
  },
  {
   "cell_type": "code",
   "execution_count": null,
   "outputs": [],
   "source": [
    "import warnings\n",
    "warnings.filterwarnings('ignore')\n",
    "\n",
    "X_test = X_test.head(1)\n",
    "# Make prediction\n",
    "print(X_test[features].shape)\n",
    "predictions = regr.predict(X_test[features])\n",
    "\n",
    "result = X_test[:]\n",
    "result['stake_eur'] = y_test\n",
    "result['prediction'] = predictions.tolist()\n",
    "result.head()"
   ],
   "metadata": {
    "collapsed": false
   }
  },
  {
   "cell_type": "code",
   "execution_count": null,
   "outputs": [],
   "source": [
    "bets[['market', 'point', 'section']].value_counts()"
   ],
   "metadata": {
    "collapsed": false
   }
  },
  {
   "cell_type": "code",
   "execution_count": 25,
   "outputs": [
    {
     "name": "stdout",
     "output_type": "stream",
     "text": [
      "Mode Hit Rate:  0.4 % baseline:  0.8 %  processed  5.0 %\n",
      "Mode Hit Rate:  0.0 % baseline:  0.8 %  processed  10.0 %\n",
      "Mode Hit Rate:  0.13 % baseline:  0.27 %  processed  15.0 %\n",
      "Mode Hit Rate:  0.1 % baseline:  0.5 %  processed  20.0 %\n",
      "Mode Hit Rate:  0.08 % baseline:  0.4 %  processed  25.0 %\n",
      "Mode Hit Rate:  0.07 % baseline:  0.33 %  processed  30.0 %\n",
      "Mode Hit Rate:  0.06 % baseline:  0.17 %  processed  35.0 %\n",
      "Mode Hit Rate:  0.1 % baseline:  0.15 %  processed  40.0 %\n",
      "Mode Hit Rate:  0.04 % baseline:  0.13 %  processed  45.0 %\n",
      "Mode Hit Rate:  0.04 % baseline:  0.2 %  processed  50.0 %\n",
      "Mode Hit Rate:  0.04 % baseline:  0.07 %  processed  55.0 %\n",
      "Mode Hit Rate:  0.03 % baseline:  0.07 %  processed  60.0 %\n",
      "Mode Hit Rate:  0.06 % baseline:  0.09 %  processed  65.0 %\n",
      "Mode Hit Rate:  0.03 % baseline:  0.11 %  processed  70.0 %\n",
      "Mode Hit Rate:  0.03 % baseline:  0.11 %  processed  75.0 %\n",
      "Mode Hit Rate:  0.03 % baseline:  0.03 %  processed  80.0 %\n",
      "Mode Hit Rate:  0.05 % baseline:  0.09 %  processed  85.0 %\n",
      "Mode Hit Rate:  0.02 % baseline:  0.11 %  processed  90.0 %\n",
      "Mode Hit Rate:  0.02 % baseline:  0.08 %  processed  95.0 %\n",
      "Mode Hit Rate:  0.02 % baseline:  0.1 %  processed  100.0 %\n"
     ]
    }
   ],
   "source": [
    "pd.options.mode.chained_assignment = None\n",
    "size = 1000\n",
    "shuffled = X_test[:].sample(frac=1)\n",
    "progress = 0\n",
    "pred_sum = 0\n",
    "base_sum = 0\n",
    "for index, row in shuffled.head(size).iterrows():\n",
    "    current_betmarkets = test_betmarkets[(test_betmarkets['start'] <= row['placement_time']) &\n",
    "                                         (test_betmarkets['end'] >= row['placement_time'])]\n",
    "    customer_bet_features = ['country', 'age', 'weekday_stake']#, 'section_2w', 'point_2w', 'market_2w']\n",
    "    current_betmarkets[customer_bet_features] = row[customer_bet_features]\n",
    "    bets_2w = bets[(bets['placement_time'] > row['placement_time'] - np.timedelta64(14,'D')) &\n",
    "                   (bets['placement_time'] < row['placement_time'])]\n",
    "    def set_avg_2w(bm_type):\n",
    "        type_2w = bets_2w.groupby(['customer_id',bm_type],as_index=False)['stake_eur'].mean('')\n",
    "        type_by_customer = type_2w[type_2w['customer_id'] == row['customer_id']][[bm_type, 'stake_eur']]\n",
    "        current_betmarkets[bm_type + '_2w'] = pd.merge(current_betmarkets, type_by_customer, on=bm_type)[['stake_eur']]\n",
    "        current_betmarkets[bm_type + '_2w'] = current_betmarkets[bm_type + '_2w'].fillna(0)\n",
    "\n",
    "    set_avg_2w('section')\n",
    "    set_avg_2w('point')\n",
    "    set_avg_2w('market')\n",
    "\n",
    "    predictions = regr.predict(current_betmarkets[features])\n",
    "    current_betmarkets['prediction'] = predictions.tolist()\n",
    "    recommended = current_betmarkets.query('prediction == prediction.max()')\n",
    "    model_predicted = recommended.iloc[0]\n",
    "\n",
    "    customer_bets = bets_2w[bets_2w['customer_id'] == row['customer_id']]\n",
    "    if customer_bets.empty:\n",
    "        baseline_predicted['market'] = 4\n",
    "        baseline_predicted['point'] = 7\n",
    "        baseline_predicted['section'] = 37\n",
    "    else:\n",
    "        last_customer_bet = customer_bets.query('placement_time == placement_time.max()')\n",
    "        baseline_predicted = last_customer_bet.iloc[0]\n",
    "\n",
    "    customerContestIdInteractions = bets_2w[(bets_2w['customer_id'] == row['customer_id']) &\n",
    "                                            (bets_2w['contest_id'] == row['contest_id'])]\n",
    "    if customerContestIdInteractions.empty:\n",
    "        mostPopular = bets_2w[['contest_id', 'region', 'league']].mode().iloc[0]\n",
    "        baseline_predicted[['region', 'league']] = mostPopular[['region', 'league']]\n",
    "    else:\n",
    "        baseline_predicted[['region', 'league']] = customerContestIdInteractions.iloc[0]\n",
    "\n",
    "\n",
    "    def hitRate(predicted, sum):\n",
    "        res = ((1 if predicted['league'] == row['league'] else 0) +\n",
    "               (1 if predicted['region'] == row['region'] else 0) +\n",
    "               (1 if predicted['market'] == row['market'] else 0) +\n",
    "               (1 if predicted['point'] == row['point'] else 0) +\n",
    "               (1 if predicted['section'] == row['section'] else 0)) / 5\n",
    "        sum += res\n",
    "        return sum\n",
    "\n",
    "    progress += 1\n",
    "    if progress % 50 == 0:\n",
    "        print(\"Mode Hit Rate: \", round(hitRate(model_predicted, pred_sum) / progress * 100, 2), \"%\",\n",
    "              \"baseline: \", round(hitRate(baseline_predicted, base_sum) / progress * 100, 2), \"%\",\n",
    "              \" processed \", round(progress / size * 100, 2), \"%\")"
   ],
   "metadata": {
    "collapsed": false
   }
  },
  {
   "cell_type": "code",
   "execution_count": null,
   "outputs": [],
   "source": [
    "# Import library for metrics\n",
    "from sklearn.metrics import mean_squared_error, r2_score, mean_absolute_error\n",
    "\n",
    "# Mean absolute error (MAE)\n",
    "mae = mean_absolute_error(y_test.values.ravel(), predictions)\n",
    "\n",
    "# Mean squared error (MSE)\n",
    "mse = mean_squared_error(y_test.values.ravel(), predictions)\n",
    "\n",
    "# R-squared scores\n",
    "r2 = r2_score(y_test.values.ravel(), predictions)\n",
    "\n",
    "# Print metrics\n",
    "print('Mean Absolute Error:', round(mae, 2))\n",
    "print('Mean Squared Error:', round(mse, 2))\n",
    "print('R-squared scores:', round(r2, 2))"
   ],
   "metadata": {
    "collapsed": false
   }
  },
  {
   "cell_type": "code",
   "execution_count": null,
   "outputs": [],
   "source": [
    "# Import GridSearchCV\n",
    "from sklearn.model_selection import GridSearchCV\n",
    "\n",
    "# Find the best parameters for the model\n",
    "parameters = {\n",
    "    'max_depth': [70, 80, 90, 100],\n",
    "    'n_estimators': [900, 1000, 1100]\n",
    "}\n",
    "gridforest = GridSearchCV(regr, parameters, cv = 3, n_jobs = -1, verbose = 1)\n",
    "gridforest.fit(X_train, y_train)\n",
    "gridforest.best_params_"
   ],
   "metadata": {
    "collapsed": false
   }
  },
  {
   "cell_type": "code",
   "execution_count": null,
   "outputs": [],
   "source": [
    "# Get features list\n",
    "characteristics = X.columns\n",
    "# Get the variables importances, sort them, and print the result\n",
    "importances = list(regr.feature_importances_)\n",
    "characteristics_importances = [(characteristic, round(importance, 2)) for characteristic, importance in zip(characteristics, importances)]\n",
    "characteristics_importances = sorted(characteristics_importances, key = lambda x: x[1], reverse = True)\n",
    "[print('Variable: {:20} Importance: {}'.format(*pair)) for pair in characteristics_importances];"
   ],
   "metadata": {
    "collapsed": false
   }
  },
  {
   "cell_type": "code",
   "execution_count": null,
   "outputs": [],
   "source": [
    "# Import library for visualization\n",
    "import matplotlib.pyplot as plt\n",
    "# Visualize the variables importances\n",
    "plt.bar(characteristics, importances, orientation = 'vertical')\n",
    "plt.xticks(rotation = 'vertical')\n",
    "plt.ylabel('Importance')\n",
    "plt.xlabel('Variable')\n",
    "plt.grid(axis = 'y', color = '#D3D3D3', linestyle = 'solid')\n",
    "plt.show()"
   ],
   "metadata": {
    "collapsed": false
   }
  },
  {
   "cell_type": "code",
   "execution_count": null,
   "outputs": [],
   "source": [
    "pd.options.mode.chained_assignment = None\n",
    "size = 2000\n",
    "sum = 0.0\n",
    "shuffled = X_test[:].sample(frac=1)\n",
    "progress = 0\n",
    "for index, row in shuffled.head(size).iterrows():\n",
    "    current_betmarkets = test_betmarkets[(test_betmarkets['start'] <= row['placement_time']) &\n",
    "                                         (test_betmarkets['end'] >= row['placement_time'])]\n",
    "    customer_bet_features = ['country', 'age', 'weekday_stake']#, 'section_2w', 'point_2w', 'market_2w']\n",
    "    current_betmarkets[customer_bet_features] = row[customer_bet_features]\n",
    "    bets_2w = bets[(bets['placement_time'] >= row['placement_time'] - np.timedelta64(14,'D')) &\n",
    "                        (bets['placement_time'] <= row['placement_time'])]\n",
    "    def set_avg_2w(bm_type):\n",
    "        type_2w = bets_2w.groupby(['customer_id',bm_type],as_index=False)['stake_eur'].mean('')\n",
    "        type_by_customer = type_2w[type_2w['customer_id'] == row['customer_id']][[bm_type, 'stake_eur']]\n",
    "        current_betmarkets[bm_type + '_2w'] = pd.merge(current_betmarkets, type_by_customer, on=bm_type)[['stake_eur']]\n",
    "        current_betmarkets[bm_type + '_2w'] = current_betmarkets[bm_type + '_2w'].fillna(0)\n",
    "\n",
    "    set_avg_2w('section')\n",
    "    set_avg_2w('point')\n",
    "    set_avg_2w('market')\n",
    "\n",
    "    predictions = regr.predict(current_betmarkets[features])\n",
    "    current_betmarkets['prediction'] = predictions.tolist()\n",
    "    #print(len(current_betmarkets))\n",
    "    recommended = current_betmarkets.query('prediction == prediction.max()')\n",
    "    predicted = recommended.iloc[0]\n",
    "    res = ((1 if predicted['league'] == row['league'] else 0) +\n",
    "           (1 if predicted['region'] == row['region'] else 0) +\n",
    "           (1 if predicted['market'] == row['market'] else 0) +\n",
    "           (1 if predicted['point'] == row['point'] else 0) +\n",
    "           (1 if predicted['section'] == row['section'] else 0)) / 5\n",
    "    progress += 1\n",
    "    sum += res\n",
    "    if progress % 100 == 0:\n",
    "        print(progress / size * 100, \"% processed with Hit Rate: \", sum / progress * 100, \"%\")\n",
    "\n",
    "print(\"Result:\", sum / size)\n",
    "\n",
    "\n",
    "#print(row.shape, row)"
   ],
   "metadata": {
    "collapsed": false
   }
  }
 ],
 "metadata": {
  "kernelspec": {
   "display_name": "Python 3 (ipykernel)",
   "language": "python",
   "name": "python3"
  },
  "language_info": {
   "codemirror_mode": {
    "name": "ipython",
    "version": 3
   },
   "file_extension": ".py",
   "mimetype": "text/x-python",
   "name": "python",
   "nbconvert_exporter": "python",
   "pygments_lexer": "ipython3",
   "version": "3.9.13"
  }
 },
 "nbformat": 4,
 "nbformat_minor": 5
}
