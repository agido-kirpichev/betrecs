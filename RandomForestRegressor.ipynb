{
 "cells": [
  {
   "cell_type": "code",
   "execution_count": 2,
   "outputs": [
    {
     "name": "stdout",
     "output_type": "stream",
     "text": [
      "<class 'pandas.core.frame.DataFrame'>\n",
      "RangeIndex: 4871648 entries, 0 to 4871647\n",
      "Data columns (total 23 columns):\n",
      " #   Column                Dtype         \n",
      "---  ------                -----         \n",
      " 0   customer_id           object        \n",
      " 1   age                   int64         \n",
      " 2   country               object        \n",
      " 3   section               object        \n",
      " 4   point                 object        \n",
      " 5   market                object        \n",
      " 6   market_params         object        \n",
      " 7   contest_id            object        \n",
      " 8   placement_date        object        \n",
      " 9   placement_time        datetime64[ns]\n",
      " 10  placement_odds        float32       \n",
      " 11  home                  object        \n",
      " 12  away                  object        \n",
      " 13  region                object        \n",
      " 14  sport                 object        \n",
      " 15  league                object        \n",
      " 16  minutes_before_start  float64       \n",
      " 17  stake_eur             float64       \n",
      " 18  dayofweek             int32         \n",
      " 19  weekday_stake         float64       \n",
      " 20  section_2w            float64       \n",
      " 21  point_2w              float64       \n",
      " 22  market_2w             float64       \n",
      "dtypes: datetime64[ns](1), float32(1), float64(6), int32(1), int64(1), object(13)\n",
      "memory usage: 817.7+ MB\n"
     ]
    }
   ],
   "source": [
    "from deltalake import DeltaTable\n",
    "import numpy as np\n",
    "import pandas as pd\n",
    "\n",
    "bets = DeltaTable(\"/Users/andreikirpichev/Downloads/bets/\")\n",
    "bets = bets.to_pandas()\n",
    "bets.head()\n",
    "bets.info()"
   ],
   "metadata": {
    "collapsed": false
   }
  },
  {
   "cell_type": "code",
   "execution_count": 15,
   "outputs": [
    {
     "data": {
      "text/plain": "  customer_id  age  country  section  point  market  market_params  \\\n0     9872510   39        4       29     18       3           2320   \n1     4143910   39        2       37      7       4           2320   \n2     4136610   44        2       29      6       3           2320   \n3     4136610   44        2       29     21       3           2320   \n4     3749310   67        2       37      7       4           2320   \n\n   contest_id placement_date          placement_time  ...  region  sport  \\\n0       12572     2022-09-24 2022-09-24 10:17:59.980  ...      61      9   \n1       28669     2022-09-24 2022-09-24 10:18:06.130  ...      68     13   \n2       68058     2022-09-24 2022-09-24 10:18:08.910  ...     130     28   \n3       67986     2022-09-24 2022-09-24 10:18:08.910  ...     107     28   \n4       28661     2022-09-24 2022-09-24 10:18:18.830  ...      68     13   \n\n   league  minutes_before_start  stake_eur  dayofweek  weekday_stake  \\\n0    1071                   0.0        3.8          7           8.52   \n1     783                   0.0       20.5          7           6.32   \n2    1263                 783.0        7.5          7           4.58   \n3     269                   0.0        7.5          7           3.92   \n4     783                   0.0        1.0          7           0.94   \n\n   section_2w  point_2w  market_2w  \n0        9.19      9.19       9.19  \n1        7.33      6.88      14.23  \n2        7.89      6.25       6.55  \n3        7.89      7.91       6.55  \n4        0.53      0.69       0.98  \n\n[5 rows x 23 columns]",
      "text/html": "<div>\n<style scoped>\n    .dataframe tbody tr th:only-of-type {\n        vertical-align: middle;\n    }\n\n    .dataframe tbody tr th {\n        vertical-align: top;\n    }\n\n    .dataframe thead th {\n        text-align: right;\n    }\n</style>\n<table border=\"1\" class=\"dataframe\">\n  <thead>\n    <tr style=\"text-align: right;\">\n      <th></th>\n      <th>customer_id</th>\n      <th>age</th>\n      <th>country</th>\n      <th>section</th>\n      <th>point</th>\n      <th>market</th>\n      <th>market_params</th>\n      <th>contest_id</th>\n      <th>placement_date</th>\n      <th>placement_time</th>\n      <th>...</th>\n      <th>region</th>\n      <th>sport</th>\n      <th>league</th>\n      <th>minutes_before_start</th>\n      <th>stake_eur</th>\n      <th>dayofweek</th>\n      <th>weekday_stake</th>\n      <th>section_2w</th>\n      <th>point_2w</th>\n      <th>market_2w</th>\n    </tr>\n  </thead>\n  <tbody>\n    <tr>\n      <th>0</th>\n      <td>9872510</td>\n      <td>39</td>\n      <td>4</td>\n      <td>29</td>\n      <td>18</td>\n      <td>3</td>\n      <td>2320</td>\n      <td>12572</td>\n      <td>2022-09-24</td>\n      <td>2022-09-24 10:17:59.980</td>\n      <td>...</td>\n      <td>61</td>\n      <td>9</td>\n      <td>1071</td>\n      <td>0.0</td>\n      <td>3.8</td>\n      <td>7</td>\n      <td>8.52</td>\n      <td>9.19</td>\n      <td>9.19</td>\n      <td>9.19</td>\n    </tr>\n    <tr>\n      <th>1</th>\n      <td>4143910</td>\n      <td>39</td>\n      <td>2</td>\n      <td>37</td>\n      <td>7</td>\n      <td>4</td>\n      <td>2320</td>\n      <td>28669</td>\n      <td>2022-09-24</td>\n      <td>2022-09-24 10:18:06.130</td>\n      <td>...</td>\n      <td>68</td>\n      <td>13</td>\n      <td>783</td>\n      <td>0.0</td>\n      <td>20.5</td>\n      <td>7</td>\n      <td>6.32</td>\n      <td>7.33</td>\n      <td>6.88</td>\n      <td>14.23</td>\n    </tr>\n    <tr>\n      <th>2</th>\n      <td>4136610</td>\n      <td>44</td>\n      <td>2</td>\n      <td>29</td>\n      <td>6</td>\n      <td>3</td>\n      <td>2320</td>\n      <td>68058</td>\n      <td>2022-09-24</td>\n      <td>2022-09-24 10:18:08.910</td>\n      <td>...</td>\n      <td>130</td>\n      <td>28</td>\n      <td>1263</td>\n      <td>783.0</td>\n      <td>7.5</td>\n      <td>7</td>\n      <td>4.58</td>\n      <td>7.89</td>\n      <td>6.25</td>\n      <td>6.55</td>\n    </tr>\n    <tr>\n      <th>3</th>\n      <td>4136610</td>\n      <td>44</td>\n      <td>2</td>\n      <td>29</td>\n      <td>21</td>\n      <td>3</td>\n      <td>2320</td>\n      <td>67986</td>\n      <td>2022-09-24</td>\n      <td>2022-09-24 10:18:08.910</td>\n      <td>...</td>\n      <td>107</td>\n      <td>28</td>\n      <td>269</td>\n      <td>0.0</td>\n      <td>7.5</td>\n      <td>7</td>\n      <td>3.92</td>\n      <td>7.89</td>\n      <td>7.91</td>\n      <td>6.55</td>\n    </tr>\n    <tr>\n      <th>4</th>\n      <td>3749310</td>\n      <td>67</td>\n      <td>2</td>\n      <td>37</td>\n      <td>7</td>\n      <td>4</td>\n      <td>2320</td>\n      <td>28661</td>\n      <td>2022-09-24</td>\n      <td>2022-09-24 10:18:18.830</td>\n      <td>...</td>\n      <td>68</td>\n      <td>13</td>\n      <td>783</td>\n      <td>0.0</td>\n      <td>1.0</td>\n      <td>7</td>\n      <td>0.94</td>\n      <td>0.53</td>\n      <td>0.69</td>\n      <td>0.98</td>\n    </tr>\n  </tbody>\n</table>\n<p>5 rows × 23 columns</p>\n</div>"
     },
     "execution_count": 15,
     "metadata": {},
     "output_type": "execute_result"
    }
   ],
   "source": [
    "from sklearn.preprocessing import LabelEncoder\n",
    "\n",
    "categorical_features = ['country', 'section', 'point', 'market', 'market_params', 'contest_id', 'home', 'away', 'region', 'sport', 'league']\n",
    "\n",
    "le = LabelEncoder()\n",
    "\n",
    "# Convert the variables to numerical\n",
    "for i in range(len(categorical_features)):\n",
    "    label = le.fit_transform(bets[categorical_features[i]])\n",
    "    bets[categorical_features[i]] = label\n",
    "bets.head()\n"
   ],
   "metadata": {
    "collapsed": false
   }
  },
  {
   "cell_type": "code",
   "execution_count": 17,
   "outputs": [
    {
     "data": {
      "text/plain": "Empty DataFrame\nColumns: [customer_id, age, country, section, point, market, market_params, contest_id, home, away, region, sport, league, minutes_before_start, weekday_stake, section_2w, point_2w, market_2w]\nIndex: []",
      "text/html": "<div>\n<style scoped>\n    .dataframe tbody tr th:only-of-type {\n        vertical-align: middle;\n    }\n\n    .dataframe tbody tr th {\n        vertical-align: top;\n    }\n\n    .dataframe thead th {\n        text-align: right;\n    }\n</style>\n<table border=\"1\" class=\"dataframe\">\n  <thead>\n    <tr style=\"text-align: right;\">\n      <th></th>\n      <th>customer_id</th>\n      <th>age</th>\n      <th>country</th>\n      <th>section</th>\n      <th>point</th>\n      <th>market</th>\n      <th>market_params</th>\n      <th>contest_id</th>\n      <th>home</th>\n      <th>away</th>\n      <th>region</th>\n      <th>sport</th>\n      <th>league</th>\n      <th>minutes_before_start</th>\n      <th>weekday_stake</th>\n      <th>section_2w</th>\n      <th>point_2w</th>\n      <th>market_2w</th>\n    </tr>\n  </thead>\n  <tbody>\n  </tbody>\n</table>\n</div>"
     },
     "execution_count": 17,
     "metadata": {},
     "output_type": "execute_result"
    }
   ],
   "source": [
    "#show rows with NaN values\n",
    "X[X.isna().any(axis=1)]"
   ],
   "metadata": {
    "collapsed": false
   }
  },
  {
   "cell_type": "code",
   "execution_count": 25,
   "outputs": [
    {
     "data": {
      "text/plain": "RandomForestRegressor(max_depth=10, n_estimators=10, random_state=101)"
     },
     "execution_count": 25,
     "metadata": {},
     "output_type": "execute_result"
    }
   ],
   "source": [
    "# Create features and target\n",
    "X = bets[['customer_id', 'age', 'country', 'section', 'point', 'market', 'market_params', 'contest_id', 'home', 'away', 'region', 'sport', 'league', 'minutes_before_start', 'weekday_stake', 'section_2w', 'point_2w', 'market_2w']]\n",
    "y = bets[['stake_eur']]\n",
    "\n",
    "# Make necessary imports\n",
    "from sklearn.ensemble import RandomForestRegressor\n",
    "from sklearn.model_selection import train_test_split\n",
    "\n",
    "# Split data into training and test sets\n",
    "X_train, X_test, y_train, y_test = train_test_split(X, y, test_size = 0.25, random_state = 101)\n",
    "\n",
    "# Train the model\n",
    "regr = RandomForestRegressor(n_estimators = 10, max_depth = 10, random_state = 101)\n",
    "regr.fit(X_train, y_train.values.ravel())"
   ],
   "metadata": {
    "collapsed": false
   }
  },
  {
   "cell_type": "code",
   "execution_count": 26,
   "outputs": [
    {
     "data": {
      "text/plain": "        customer_id  age  country  section  point  market  market_params  \\\n1912175     3725610   45        2       37      7      15           2320   \n2679583     3800010   56        2       10      7      20           2320   \n2330869    15335110   53        2       37      7      12           2320   \n2262266     7920610   21        2       37      7       4           2320   \n3504300     4567110   38        2       37      7      12           2320   \n\n         contest_id   home   away  region  sport  league  \\\n1912175       16731  19658   6158      33     13     175   \n2679583       38814  15446   3323       6     13    1178   \n2330869       21588   6167  17147      43     13    1465   \n2262266       21013  11105    330      43     13    1465   \n3504300       57310   4683   5066      43     13    1471   \n\n         minutes_before_start  weekday_stake  section_2w  point_2w  market_2w  \\\n1912175                   1.0           3.53        3.17      3.16       2.36   \n2679583                 123.0           0.41        0.32      0.31       0.23   \n2330869                  83.0           1.24        1.10      1.10       1.19   \n2262266                   9.0           1.33        1.16      1.17       1.31   \n3504300                  19.0           4.09        4.11      4.14       4.15   \n\n         stake_eur  prediction  \n1912175       3.33    3.276333  \n2679583       0.25    0.226091  \n2330869       0.35    1.174055  \n2262266       4.00    1.368346  \n3504300       2.50    4.322797  ",
      "text/html": "<div>\n<style scoped>\n    .dataframe tbody tr th:only-of-type {\n        vertical-align: middle;\n    }\n\n    .dataframe tbody tr th {\n        vertical-align: top;\n    }\n\n    .dataframe thead th {\n        text-align: right;\n    }\n</style>\n<table border=\"1\" class=\"dataframe\">\n  <thead>\n    <tr style=\"text-align: right;\">\n      <th></th>\n      <th>customer_id</th>\n      <th>age</th>\n      <th>country</th>\n      <th>section</th>\n      <th>point</th>\n      <th>market</th>\n      <th>market_params</th>\n      <th>contest_id</th>\n      <th>home</th>\n      <th>away</th>\n      <th>region</th>\n      <th>sport</th>\n      <th>league</th>\n      <th>minutes_before_start</th>\n      <th>weekday_stake</th>\n      <th>section_2w</th>\n      <th>point_2w</th>\n      <th>market_2w</th>\n      <th>stake_eur</th>\n      <th>prediction</th>\n    </tr>\n  </thead>\n  <tbody>\n    <tr>\n      <th>1912175</th>\n      <td>3725610</td>\n      <td>45</td>\n      <td>2</td>\n      <td>37</td>\n      <td>7</td>\n      <td>15</td>\n      <td>2320</td>\n      <td>16731</td>\n      <td>19658</td>\n      <td>6158</td>\n      <td>33</td>\n      <td>13</td>\n      <td>175</td>\n      <td>1.0</td>\n      <td>3.53</td>\n      <td>3.17</td>\n      <td>3.16</td>\n      <td>2.36</td>\n      <td>3.33</td>\n      <td>3.276333</td>\n    </tr>\n    <tr>\n      <th>2679583</th>\n      <td>3800010</td>\n      <td>56</td>\n      <td>2</td>\n      <td>10</td>\n      <td>7</td>\n      <td>20</td>\n      <td>2320</td>\n      <td>38814</td>\n      <td>15446</td>\n      <td>3323</td>\n      <td>6</td>\n      <td>13</td>\n      <td>1178</td>\n      <td>123.0</td>\n      <td>0.41</td>\n      <td>0.32</td>\n      <td>0.31</td>\n      <td>0.23</td>\n      <td>0.25</td>\n      <td>0.226091</td>\n    </tr>\n    <tr>\n      <th>2330869</th>\n      <td>15335110</td>\n      <td>53</td>\n      <td>2</td>\n      <td>37</td>\n      <td>7</td>\n      <td>12</td>\n      <td>2320</td>\n      <td>21588</td>\n      <td>6167</td>\n      <td>17147</td>\n      <td>43</td>\n      <td>13</td>\n      <td>1465</td>\n      <td>83.0</td>\n      <td>1.24</td>\n      <td>1.10</td>\n      <td>1.10</td>\n      <td>1.19</td>\n      <td>0.35</td>\n      <td>1.174055</td>\n    </tr>\n    <tr>\n      <th>2262266</th>\n      <td>7920610</td>\n      <td>21</td>\n      <td>2</td>\n      <td>37</td>\n      <td>7</td>\n      <td>4</td>\n      <td>2320</td>\n      <td>21013</td>\n      <td>11105</td>\n      <td>330</td>\n      <td>43</td>\n      <td>13</td>\n      <td>1465</td>\n      <td>9.0</td>\n      <td>1.33</td>\n      <td>1.16</td>\n      <td>1.17</td>\n      <td>1.31</td>\n      <td>4.00</td>\n      <td>1.368346</td>\n    </tr>\n    <tr>\n      <th>3504300</th>\n      <td>4567110</td>\n      <td>38</td>\n      <td>2</td>\n      <td>37</td>\n      <td>7</td>\n      <td>12</td>\n      <td>2320</td>\n      <td>57310</td>\n      <td>4683</td>\n      <td>5066</td>\n      <td>43</td>\n      <td>13</td>\n      <td>1471</td>\n      <td>19.0</td>\n      <td>4.09</td>\n      <td>4.11</td>\n      <td>4.14</td>\n      <td>4.15</td>\n      <td>2.50</td>\n      <td>4.322797</td>\n    </tr>\n  </tbody>\n</table>\n</div>"
     },
     "execution_count": 26,
     "metadata": {},
     "output_type": "execute_result"
    }
   ],
   "source": [
    "import warnings\n",
    "warnings.filterwarnings('ignore')\n",
    "\n",
    "# Make prediction\n",
    "predictions = regr.predict(X_test)\n",
    "\n",
    "result = X_test\n",
    "result['stake_eur'] = y_test\n",
    "result['prediction'] = predictions.tolist()\n",
    "result.head()"
   ],
   "metadata": {
    "collapsed": false
   }
  },
  {
   "cell_type": "code",
   "execution_count": null,
   "outputs": [],
   "source": [],
   "metadata": {
    "collapsed": false
   }
  },
  {
   "cell_type": "code",
   "execution_count": 20,
   "outputs": [
    {
     "ename": "TypeError",
     "evalue": "Invalid argument, not a string or column: 5.132292782271063 of type <class 'numpy.float64'>. For column literals, use 'lit', 'array', 'struct' or 'create_map' function.",
     "output_type": "error",
     "traceback": [
      "\u001B[0;31m---------------------------------------------------------------------------\u001B[0m",
      "\u001B[0;31mTypeError\u001B[0m                                 Traceback (most recent call last)",
      "\u001B[0;32m/var/folders/tt/4xbqrq2s7vqgv_5z3nrppw_m0000gn/T/ipykernel_36264/71821875.py\u001B[0m in \u001B[0;36m<module>\u001B[0;34m\u001B[0m\n\u001B[1;32m     12\u001B[0m \u001B[0;34m\u001B[0m\u001B[0m\n\u001B[1;32m     13\u001B[0m \u001B[0;31m# Print metrics\u001B[0m\u001B[0;34m\u001B[0m\u001B[0;34m\u001B[0m\u001B[0m\n\u001B[0;32m---> 14\u001B[0;31m \u001B[0mprint\u001B[0m\u001B[0;34m(\u001B[0m\u001B[0;34m'Mean Absolute Error:'\u001B[0m\u001B[0;34m,\u001B[0m \u001B[0mround\u001B[0m\u001B[0;34m(\u001B[0m\u001B[0mmae\u001B[0m\u001B[0;34m,\u001B[0m \u001B[0;36m2\u001B[0m\u001B[0;34m)\u001B[0m\u001B[0;34m)\u001B[0m\u001B[0;34m\u001B[0m\u001B[0;34m\u001B[0m\u001B[0m\n\u001B[0m\u001B[1;32m     15\u001B[0m \u001B[0mprint\u001B[0m\u001B[0;34m(\u001B[0m\u001B[0;34m'Mean Squared Error:'\u001B[0m\u001B[0;34m,\u001B[0m \u001B[0mround\u001B[0m\u001B[0;34m(\u001B[0m\u001B[0mmse\u001B[0m\u001B[0;34m,\u001B[0m \u001B[0;36m2\u001B[0m\u001B[0;34m)\u001B[0m\u001B[0;34m)\u001B[0m\u001B[0;34m\u001B[0m\u001B[0;34m\u001B[0m\u001B[0m\n\u001B[1;32m     16\u001B[0m \u001B[0mprint\u001B[0m\u001B[0;34m(\u001B[0m\u001B[0;34m'R-squared scores:'\u001B[0m\u001B[0;34m,\u001B[0m \u001B[0mround\u001B[0m\u001B[0;34m(\u001B[0m\u001B[0mr2\u001B[0m\u001B[0;34m,\u001B[0m \u001B[0;36m2\u001B[0m\u001B[0;34m)\u001B[0m\u001B[0;34m)\u001B[0m\u001B[0;34m\u001B[0m\u001B[0;34m\u001B[0m\u001B[0m\n",
      "\u001B[0;32m~/opt/anaconda3/lib/python3.9/site-packages/pyspark/sql/functions.py\u001B[0m in \u001B[0;36mround\u001B[0;34m(col, scale)\u001B[0m\n\u001B[1;32m   1505\u001B[0m     \u001B[0;34m[\u001B[0m\u001B[0mRow\u001B[0m\u001B[0;34m(\u001B[0m\u001B[0mr\u001B[0m\u001B[0;34m=\u001B[0m\u001B[0;36m3.0\u001B[0m\u001B[0;34m)\u001B[0m\u001B[0;34m]\u001B[0m\u001B[0;34m\u001B[0m\u001B[0;34m\u001B[0m\u001B[0m\n\u001B[1;32m   1506\u001B[0m     \"\"\"\n\u001B[0;32m-> 1507\u001B[0;31m     \u001B[0;32mreturn\u001B[0m \u001B[0m_invoke_function\u001B[0m\u001B[0;34m(\u001B[0m\u001B[0;34m\"round\"\u001B[0m\u001B[0;34m,\u001B[0m \u001B[0m_to_java_column\u001B[0m\u001B[0;34m(\u001B[0m\u001B[0mcol\u001B[0m\u001B[0;34m)\u001B[0m\u001B[0;34m,\u001B[0m \u001B[0mscale\u001B[0m\u001B[0;34m)\u001B[0m\u001B[0;34m\u001B[0m\u001B[0;34m\u001B[0m\u001B[0m\n\u001B[0m\u001B[1;32m   1508\u001B[0m \u001B[0;34m\u001B[0m\u001B[0m\n\u001B[1;32m   1509\u001B[0m \u001B[0;34m\u001B[0m\u001B[0m\n",
      "\u001B[0;32m~/opt/anaconda3/lib/python3.9/site-packages/pyspark/sql/column.py\u001B[0m in \u001B[0;36m_to_java_column\u001B[0;34m(col)\u001B[0m\n\u001B[1;32m     63\u001B[0m         \u001B[0mjcol\u001B[0m \u001B[0;34m=\u001B[0m \u001B[0m_create_column_from_name\u001B[0m\u001B[0;34m(\u001B[0m\u001B[0mcol\u001B[0m\u001B[0;34m)\u001B[0m\u001B[0;34m\u001B[0m\u001B[0;34m\u001B[0m\u001B[0m\n\u001B[1;32m     64\u001B[0m     \u001B[0;32melse\u001B[0m\u001B[0;34m:\u001B[0m\u001B[0;34m\u001B[0m\u001B[0;34m\u001B[0m\u001B[0m\n\u001B[0;32m---> 65\u001B[0;31m         raise TypeError(\n\u001B[0m\u001B[1;32m     66\u001B[0m             \u001B[0;34m\"Invalid argument, not a string or column: \"\u001B[0m\u001B[0;34m\u001B[0m\u001B[0;34m\u001B[0m\u001B[0m\n\u001B[1;32m     67\u001B[0m             \u001B[0;34m\"{0} of type {1}. \"\u001B[0m\u001B[0;34m\u001B[0m\u001B[0;34m\u001B[0m\u001B[0m\n",
      "\u001B[0;31mTypeError\u001B[0m: Invalid argument, not a string or column: 5.132292782271063 of type <class 'numpy.float64'>. For column literals, use 'lit', 'array', 'struct' or 'create_map' function."
     ]
    }
   ],
   "source": [
    "# Import library for metrics\n",
    "from sklearn.metrics import mean_squared_error, r2_score, mean_absolute_error\n",
    "\n",
    "# Mean absolute error (MAE)\n",
    "mae = mean_absolute_error(y_test.values.ravel(), predictions)\n",
    "\n",
    "# Mean squared error (MSE)\n",
    "mse = mean_squared_error(y_test.values.ravel(), predictions)\n",
    "\n",
    "# R-squared scores\n",
    "r2 = r2_score(y_test.values.ravel(), predictions)\n",
    "\n",
    "# Print metrics\n",
    "print('Mean Absolute Error:', round(mae, 2))\n",
    "print('Mean Squared Error:', round(mse, 2))\n",
    "print('R-squared scores:', round(r2, 2))"
   ],
   "metadata": {
    "collapsed": false
   }
  },
  {
   "cell_type": "code",
   "execution_count": null,
   "outputs": [],
   "source": [],
   "metadata": {
    "collapsed": false
   }
  }
 ],
 "metadata": {
  "kernelspec": {
   "display_name": "Python 3 (ipykernel)",
   "language": "python",
   "name": "python3"
  },
  "language_info": {
   "codemirror_mode": {
    "name": "ipython",
    "version": 3
   },
   "file_extension": ".py",
   "mimetype": "text/x-python",
   "name": "python",
   "nbconvert_exporter": "python",
   "pygments_lexer": "ipython3",
   "version": "3.9.13"
  }
 },
 "nbformat": 4,
 "nbformat_minor": 5
}
