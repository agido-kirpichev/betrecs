{
 "cells": [
  {
   "cell_type": "code",
   "execution_count": 10,
   "outputs": [
    {
     "data": {
      "text/plain": "  customer_id  age country section point      market market_params contest_id  \\\n0     9786810   26      DE      RT  Goal   OverUnder          None  FB-107952   \n1     9187810   26      DE    SET1  Game   LeadAfter          None   TN-21815   \n2     9187810   26      DE    SET5  Game  NthPoint2w          None   TN-21771   \n3    12072510   44      DE     HT1  Goal   OverUnder          None  FB-106228   \n4    12072510   44      DE      RT  Goal   OverUnder          None  FB-106190   \n\n  placement_date          placement_time  ...  region     sport  \\\n0     2022-09-01 2022-09-01 00:00:07.176  ...     INT  Football   \n1     2022-09-01 2022-09-01 00:00:20.216  ...      US    Tennis   \n2     2022-09-01 2022-09-01 00:00:20.216  ...      US    Tennis   \n3     2022-09-01 2022-09-01 00:00:22.536  ...      US  Football   \n4     2022-09-01 2022-09-01 00:00:22.536  ...      UY  Football   \n\n          league minutes_before_start stake_eur dayofweek  weekday_stake  \\\n0       Friendly                 60.0     11.25         5           2.98   \n1  US Open Women                  0.0      5.00         5           3.56   \n2    US Open Men                  0.0      5.00         5           3.58   \n3            MLS                  0.0      3.75         5           3.29   \n4            Cup                  0.0      3.75         5           3.26   \n\n   section_2w  point_2w  market_2w  \n0        6.25      6.25       6.56  \n1        3.02      3.25       2.94  \n2        5.00      3.25       3.26  \n3        3.75      3.75       3.75  \n4        3.75      3.75       3.75  \n\n[5 rows x 23 columns]",
      "text/html": "<div>\n<style scoped>\n    .dataframe tbody tr th:only-of-type {\n        vertical-align: middle;\n    }\n\n    .dataframe tbody tr th {\n        vertical-align: top;\n    }\n\n    .dataframe thead th {\n        text-align: right;\n    }\n</style>\n<table border=\"1\" class=\"dataframe\">\n  <thead>\n    <tr style=\"text-align: right;\">\n      <th></th>\n      <th>customer_id</th>\n      <th>age</th>\n      <th>country</th>\n      <th>section</th>\n      <th>point</th>\n      <th>market</th>\n      <th>market_params</th>\n      <th>contest_id</th>\n      <th>placement_date</th>\n      <th>placement_time</th>\n      <th>...</th>\n      <th>region</th>\n      <th>sport</th>\n      <th>league</th>\n      <th>minutes_before_start</th>\n      <th>stake_eur</th>\n      <th>dayofweek</th>\n      <th>weekday_stake</th>\n      <th>section_2w</th>\n      <th>point_2w</th>\n      <th>market_2w</th>\n    </tr>\n  </thead>\n  <tbody>\n    <tr>\n      <th>0</th>\n      <td>9786810</td>\n      <td>26</td>\n      <td>DE</td>\n      <td>RT</td>\n      <td>Goal</td>\n      <td>OverUnder</td>\n      <td>None</td>\n      <td>FB-107952</td>\n      <td>2022-09-01</td>\n      <td>2022-09-01 00:00:07.176</td>\n      <td>...</td>\n      <td>INT</td>\n      <td>Football</td>\n      <td>Friendly</td>\n      <td>60.0</td>\n      <td>11.25</td>\n      <td>5</td>\n      <td>2.98</td>\n      <td>6.25</td>\n      <td>6.25</td>\n      <td>6.56</td>\n    </tr>\n    <tr>\n      <th>1</th>\n      <td>9187810</td>\n      <td>26</td>\n      <td>DE</td>\n      <td>SET1</td>\n      <td>Game</td>\n      <td>LeadAfter</td>\n      <td>None</td>\n      <td>TN-21815</td>\n      <td>2022-09-01</td>\n      <td>2022-09-01 00:00:20.216</td>\n      <td>...</td>\n      <td>US</td>\n      <td>Tennis</td>\n      <td>US Open Women</td>\n      <td>0.0</td>\n      <td>5.00</td>\n      <td>5</td>\n      <td>3.56</td>\n      <td>3.02</td>\n      <td>3.25</td>\n      <td>2.94</td>\n    </tr>\n    <tr>\n      <th>2</th>\n      <td>9187810</td>\n      <td>26</td>\n      <td>DE</td>\n      <td>SET5</td>\n      <td>Game</td>\n      <td>NthPoint2w</td>\n      <td>None</td>\n      <td>TN-21771</td>\n      <td>2022-09-01</td>\n      <td>2022-09-01 00:00:20.216</td>\n      <td>...</td>\n      <td>US</td>\n      <td>Tennis</td>\n      <td>US Open Men</td>\n      <td>0.0</td>\n      <td>5.00</td>\n      <td>5</td>\n      <td>3.58</td>\n      <td>5.00</td>\n      <td>3.25</td>\n      <td>3.26</td>\n    </tr>\n    <tr>\n      <th>3</th>\n      <td>12072510</td>\n      <td>44</td>\n      <td>DE</td>\n      <td>HT1</td>\n      <td>Goal</td>\n      <td>OverUnder</td>\n      <td>None</td>\n      <td>FB-106228</td>\n      <td>2022-09-01</td>\n      <td>2022-09-01 00:00:22.536</td>\n      <td>...</td>\n      <td>US</td>\n      <td>Football</td>\n      <td>MLS</td>\n      <td>0.0</td>\n      <td>3.75</td>\n      <td>5</td>\n      <td>3.29</td>\n      <td>3.75</td>\n      <td>3.75</td>\n      <td>3.75</td>\n    </tr>\n    <tr>\n      <th>4</th>\n      <td>12072510</td>\n      <td>44</td>\n      <td>DE</td>\n      <td>RT</td>\n      <td>Goal</td>\n      <td>OverUnder</td>\n      <td>None</td>\n      <td>FB-106190</td>\n      <td>2022-09-01</td>\n      <td>2022-09-01 00:00:22.536</td>\n      <td>...</td>\n      <td>UY</td>\n      <td>Football</td>\n      <td>Cup</td>\n      <td>0.0</td>\n      <td>3.75</td>\n      <td>5</td>\n      <td>3.26</td>\n      <td>3.75</td>\n      <td>3.75</td>\n      <td>3.75</td>\n    </tr>\n  </tbody>\n</table>\n<p>5 rows × 23 columns</p>\n</div>"
     },
     "execution_count": 10,
     "metadata": {},
     "output_type": "execute_result"
    }
   ],
   "source": [
    "from deltalake import DeltaTable\n",
    "import numpy as np\n",
    "import pandas as pd\n",
    "\n",
    "bets = DeltaTable(\"/Users/andreikirpichev/Downloads/bets/\")\n",
    "bets = bets.to_pandas()\n",
    "bets.head()"
   ],
   "metadata": {
    "collapsed": false
   }
  },
  {
   "cell_type": "code",
   "execution_count": 2,
   "outputs": [
    {
     "data": {
      "text/plain": "  customer_id  age  country  section  point  market  market_params  \\\n0     9786810   26        2       37      7      12           2320   \n1     9187810   26        2       39      6       7           2320   \n2     9187810   26        2       86      6       9           2320   \n3    12072510   44        2       10      7      12           2320   \n4    12072510   44        2       37      7      12           2320   \n\n   contest_id placement_date          placement_time  ...  region  sport  \\\n0       15531     2022-09-01 2022-09-01 00:00:07.176  ...      61     13   \n1       63387     2022-09-01 2022-09-01 00:00:20.216  ...     130     28   \n2       63380     2022-09-01 2022-09-01 00:00:20.216  ...     130     28   \n3       15484     2022-09-01 2022-09-01 00:00:22.536  ...     130     13   \n4       15476     2022-09-01 2022-09-01 00:00:22.536  ...     132     13   \n\n   league  minutes_before_start  stake_eur  dayofweek  weekday_stake  \\\n0     618                  60.0      11.25          5           2.98   \n1    1484                   0.0       5.00          5           3.56   \n2    1481                   0.0       5.00          5           3.58   \n3     919                   0.0       3.75          5           3.29   \n4     415                   0.0       3.75          5           3.26   \n\n   section_2w  point_2w  market_2w  \n0        6.25      6.25       6.56  \n1        3.02      3.25       2.94  \n2        5.00      3.25       3.26  \n3        3.75      3.75       3.75  \n4        3.75      3.75       3.75  \n\n[5 rows x 23 columns]",
      "text/html": "<div>\n<style scoped>\n    .dataframe tbody tr th:only-of-type {\n        vertical-align: middle;\n    }\n\n    .dataframe tbody tr th {\n        vertical-align: top;\n    }\n\n    .dataframe thead th {\n        text-align: right;\n    }\n</style>\n<table border=\"1\" class=\"dataframe\">\n  <thead>\n    <tr style=\"text-align: right;\">\n      <th></th>\n      <th>customer_id</th>\n      <th>age</th>\n      <th>country</th>\n      <th>section</th>\n      <th>point</th>\n      <th>market</th>\n      <th>market_params</th>\n      <th>contest_id</th>\n      <th>placement_date</th>\n      <th>placement_time</th>\n      <th>...</th>\n      <th>region</th>\n      <th>sport</th>\n      <th>league</th>\n      <th>minutes_before_start</th>\n      <th>stake_eur</th>\n      <th>dayofweek</th>\n      <th>weekday_stake</th>\n      <th>section_2w</th>\n      <th>point_2w</th>\n      <th>market_2w</th>\n    </tr>\n  </thead>\n  <tbody>\n    <tr>\n      <th>0</th>\n      <td>9786810</td>\n      <td>26</td>\n      <td>2</td>\n      <td>37</td>\n      <td>7</td>\n      <td>12</td>\n      <td>2320</td>\n      <td>15531</td>\n      <td>2022-09-01</td>\n      <td>2022-09-01 00:00:07.176</td>\n      <td>...</td>\n      <td>61</td>\n      <td>13</td>\n      <td>618</td>\n      <td>60.0</td>\n      <td>11.25</td>\n      <td>5</td>\n      <td>2.98</td>\n      <td>6.25</td>\n      <td>6.25</td>\n      <td>6.56</td>\n    </tr>\n    <tr>\n      <th>1</th>\n      <td>9187810</td>\n      <td>26</td>\n      <td>2</td>\n      <td>39</td>\n      <td>6</td>\n      <td>7</td>\n      <td>2320</td>\n      <td>63387</td>\n      <td>2022-09-01</td>\n      <td>2022-09-01 00:00:20.216</td>\n      <td>...</td>\n      <td>130</td>\n      <td>28</td>\n      <td>1484</td>\n      <td>0.0</td>\n      <td>5.00</td>\n      <td>5</td>\n      <td>3.56</td>\n      <td>3.02</td>\n      <td>3.25</td>\n      <td>2.94</td>\n    </tr>\n    <tr>\n      <th>2</th>\n      <td>9187810</td>\n      <td>26</td>\n      <td>2</td>\n      <td>86</td>\n      <td>6</td>\n      <td>9</td>\n      <td>2320</td>\n      <td>63380</td>\n      <td>2022-09-01</td>\n      <td>2022-09-01 00:00:20.216</td>\n      <td>...</td>\n      <td>130</td>\n      <td>28</td>\n      <td>1481</td>\n      <td>0.0</td>\n      <td>5.00</td>\n      <td>5</td>\n      <td>3.58</td>\n      <td>5.00</td>\n      <td>3.25</td>\n      <td>3.26</td>\n    </tr>\n    <tr>\n      <th>3</th>\n      <td>12072510</td>\n      <td>44</td>\n      <td>2</td>\n      <td>10</td>\n      <td>7</td>\n      <td>12</td>\n      <td>2320</td>\n      <td>15484</td>\n      <td>2022-09-01</td>\n      <td>2022-09-01 00:00:22.536</td>\n      <td>...</td>\n      <td>130</td>\n      <td>13</td>\n      <td>919</td>\n      <td>0.0</td>\n      <td>3.75</td>\n      <td>5</td>\n      <td>3.29</td>\n      <td>3.75</td>\n      <td>3.75</td>\n      <td>3.75</td>\n    </tr>\n    <tr>\n      <th>4</th>\n      <td>12072510</td>\n      <td>44</td>\n      <td>2</td>\n      <td>37</td>\n      <td>7</td>\n      <td>12</td>\n      <td>2320</td>\n      <td>15476</td>\n      <td>2022-09-01</td>\n      <td>2022-09-01 00:00:22.536</td>\n      <td>...</td>\n      <td>132</td>\n      <td>13</td>\n      <td>415</td>\n      <td>0.0</td>\n      <td>3.75</td>\n      <td>5</td>\n      <td>3.26</td>\n      <td>3.75</td>\n      <td>3.75</td>\n      <td>3.75</td>\n    </tr>\n  </tbody>\n</table>\n<p>5 rows × 23 columns</p>\n</div>"
     },
     "execution_count": 2,
     "metadata": {},
     "output_type": "execute_result"
    }
   ],
   "source": [
    "from sklearn.preprocessing import LabelEncoder\n",
    "\n",
    "categorical_features = ['country', 'section', 'point', 'market', 'market_params', 'contest_id', 'home', 'away', 'region', 'sport', 'league']\n",
    "\n",
    "le = LabelEncoder()\n",
    "\n",
    "# Convert the variables to numerical\n",
    "for i in range(len(categorical_features)):\n",
    "    label = le.fit_transform(bets[categorical_features[i]])\n",
    "    bets[categorical_features[i]] = label\n",
    "bets.head()\n"
   ],
   "metadata": {
    "collapsed": false
   }
  },
  {
   "cell_type": "code",
   "execution_count": 3,
   "outputs": [
    {
     "data": {
      "text/plain": "RandomForestRegressor(max_depth=10, n_estimators=10, random_state=101)"
     },
     "execution_count": 3,
     "metadata": {},
     "output_type": "execute_result"
    }
   ],
   "source": [
    "# Create features and target\n",
    "XX = bets[['customer_id', 'age', 'country', 'section', 'point', 'market', 'market_params', 'contest_id', 'home', 'away', 'region', 'sport', 'league', 'minutes_before_start', 'weekday_stake', 'section_2w', 'point_2w', 'market_2w']]\n",
    "X = bets[['age', 'country', 'section', 'point', 'market', 'region', 'sport', 'league', 'weekday_stake', 'section_2w', 'point_2w', 'market_2w']]\n",
    "y = bets[['stake_eur']]\n",
    "\n",
    "# show rows with NaN values\n",
    "# X[X.isna().any(axis=1)]\n",
    "\n",
    "# Make necessary imports\n",
    "from sklearn.ensemble import RandomForestRegressor\n",
    "from sklearn.model_selection import train_test_split\n",
    "\n",
    "# Split data into training and test sets\n",
    "X_train, X_test, y_train, y_test = train_test_split(X, y, test_size = 0.20, random_state = 101, shuffle=False)\n",
    "\n",
    "#print('train: from', X_train['placement_date'].min(), ' to ', X_train['placement_date'].max())\n",
    "#print('train: from', X_test['placement_date'].min(), ' to ', X_test['placement_date'].max())\n",
    "\n",
    "# Train the model\n",
    "regr = RandomForestRegressor(n_estimators = 10, max_depth = 10, random_state = 101)\n",
    "regr.fit(X_train, y_train.values.ravel())"
   ],
   "metadata": {
    "collapsed": false
   }
  },
  {
   "cell_type": "code",
   "execution_count": 4,
   "outputs": [
    {
     "data": {
      "text/plain": "         age  country  section  point  market  region  sport  league  \\\n3897318   31        2       37      7      12      96     13     804   \n3897319   31        2       37      7      12      96     13     804   \n3897320   31        2       37      7      19      96     13     804   \n3897321   31        2       37      7      19      96     13     804   \n3897322   31        2       37      7      19      96     13     804   \n\n         weekday_stake  section_2w  point_2w  market_2w  stake_eur  prediction  \n3897318           1.55         1.5       1.5       1.55       0.11    1.563730  \n3897319           1.68         1.5       1.5       1.55       0.11    1.563730  \n3897320           1.52         1.5       1.5       1.89       0.11    1.795443  \n3897321           1.44         1.5       1.5       1.89       0.11    1.768160  \n3897322           1.52         1.5       1.5       1.89       0.11    1.795443  ",
      "text/html": "<div>\n<style scoped>\n    .dataframe tbody tr th:only-of-type {\n        vertical-align: middle;\n    }\n\n    .dataframe tbody tr th {\n        vertical-align: top;\n    }\n\n    .dataframe thead th {\n        text-align: right;\n    }\n</style>\n<table border=\"1\" class=\"dataframe\">\n  <thead>\n    <tr style=\"text-align: right;\">\n      <th></th>\n      <th>age</th>\n      <th>country</th>\n      <th>section</th>\n      <th>point</th>\n      <th>market</th>\n      <th>region</th>\n      <th>sport</th>\n      <th>league</th>\n      <th>weekday_stake</th>\n      <th>section_2w</th>\n      <th>point_2w</th>\n      <th>market_2w</th>\n      <th>stake_eur</th>\n      <th>prediction</th>\n    </tr>\n  </thead>\n  <tbody>\n    <tr>\n      <th>3897318</th>\n      <td>31</td>\n      <td>2</td>\n      <td>37</td>\n      <td>7</td>\n      <td>12</td>\n      <td>96</td>\n      <td>13</td>\n      <td>804</td>\n      <td>1.55</td>\n      <td>1.5</td>\n      <td>1.5</td>\n      <td>1.55</td>\n      <td>0.11</td>\n      <td>1.563730</td>\n    </tr>\n    <tr>\n      <th>3897319</th>\n      <td>31</td>\n      <td>2</td>\n      <td>37</td>\n      <td>7</td>\n      <td>12</td>\n      <td>96</td>\n      <td>13</td>\n      <td>804</td>\n      <td>1.68</td>\n      <td>1.5</td>\n      <td>1.5</td>\n      <td>1.55</td>\n      <td>0.11</td>\n      <td>1.563730</td>\n    </tr>\n    <tr>\n      <th>3897320</th>\n      <td>31</td>\n      <td>2</td>\n      <td>37</td>\n      <td>7</td>\n      <td>19</td>\n      <td>96</td>\n      <td>13</td>\n      <td>804</td>\n      <td>1.52</td>\n      <td>1.5</td>\n      <td>1.5</td>\n      <td>1.89</td>\n      <td>0.11</td>\n      <td>1.795443</td>\n    </tr>\n    <tr>\n      <th>3897321</th>\n      <td>31</td>\n      <td>2</td>\n      <td>37</td>\n      <td>7</td>\n      <td>19</td>\n      <td>96</td>\n      <td>13</td>\n      <td>804</td>\n      <td>1.44</td>\n      <td>1.5</td>\n      <td>1.5</td>\n      <td>1.89</td>\n      <td>0.11</td>\n      <td>1.768160</td>\n    </tr>\n    <tr>\n      <th>3897322</th>\n      <td>31</td>\n      <td>2</td>\n      <td>37</td>\n      <td>7</td>\n      <td>19</td>\n      <td>96</td>\n      <td>13</td>\n      <td>804</td>\n      <td>1.52</td>\n      <td>1.5</td>\n      <td>1.5</td>\n      <td>1.89</td>\n      <td>0.11</td>\n      <td>1.795443</td>\n    </tr>\n  </tbody>\n</table>\n</div>"
     },
     "execution_count": 4,
     "metadata": {},
     "output_type": "execute_result"
    }
   ],
   "source": [
    "import warnings\n",
    "warnings.filterwarnings('ignore')\n",
    "\n",
    "# Make prediction\n",
    "predictions = regr.predict(X_test)\n",
    "\n",
    "result = X_test\n",
    "result['stake_eur'] = y_test\n",
    "result['prediction'] = predictions.tolist()\n",
    "result.head()"
   ],
   "metadata": {
    "collapsed": false
   }
  },
  {
   "cell_type": "code",
   "execution_count": 9,
   "outputs": [
    {
     "name": "stdout",
     "output_type": "stream",
     "text": [
      "Mean Absolute Error: 5.02\n",
      "Mean Squared Error: 892.91\n",
      "R-squared scores: 0.59\n"
     ]
    }
   ],
   "source": [
    "# Import library for metrics\n",
    "from sklearn.metrics import mean_squared_error, r2_score, mean_absolute_error\n",
    "\n",
    "# Mean absolute error (MAE)\n",
    "mae = mean_absolute_error(y_test.values.ravel(), predictions)\n",
    "\n",
    "# Mean squared error (MSE)\n",
    "mse = mean_squared_error(y_test.values.ravel(), predictions)\n",
    "\n",
    "# R-squared scores\n",
    "r2 = r2_score(y_test.values.ravel(), predictions)\n",
    "\n",
    "# Print metrics\n",
    "print('Mean Absolute Error:', round(mae, 2))\n",
    "print('Mean Squared Error:', round(mse, 2))\n",
    "print('R-squared scores:', round(r2, 2))"
   ],
   "metadata": {
    "collapsed": false
   }
  },
  {
   "cell_type": "code",
   "execution_count": 6,
   "outputs": [
    {
     "name": "stdout",
     "output_type": "stream",
     "text": [
      "Fitting 3 folds for each of 12 candidates, totalling 36 fits\n"
     ]
    },
    {
     "name": "stderr",
     "output_type": "stream",
     "text": [
      "/Users/andreikirpichev/opt/anaconda3/lib/python3.9/site-packages/sklearn/model_selection/_validation.py:680: DataConversionWarning: A column-vector y was passed when a 1d array was expected. Please change the shape of y to (n_samples,), for example using ravel().\n",
      "  estimator.fit(X_train, y_train, **fit_params)\n",
      "/Users/andreikirpichev/opt/anaconda3/lib/python3.9/site-packages/sklearn/model_selection/_validation.py:680: DataConversionWarning: A column-vector y was passed when a 1d array was expected. Please change the shape of y to (n_samples,), for example using ravel().\n",
      "  estimator.fit(X_train, y_train, **fit_params)\n",
      "/Users/andreikirpichev/opt/anaconda3/lib/python3.9/site-packages/sklearn/model_selection/_validation.py:680: DataConversionWarning: A column-vector y was passed when a 1d array was expected. Please change the shape of y to (n_samples,), for example using ravel().\n",
      "  estimator.fit(X_train, y_train, **fit_params)\n",
      "/Users/andreikirpichev/opt/anaconda3/lib/python3.9/site-packages/sklearn/model_selection/_validation.py:680: DataConversionWarning: A column-vector y was passed when a 1d array was expected. Please change the shape of y to (n_samples,), for example using ravel().\n",
      "  estimator.fit(X_train, y_train, **fit_params)\n",
      "/Users/andreikirpichev/opt/anaconda3/lib/python3.9/site-packages/sklearn/model_selection/_validation.py:680: DataConversionWarning: A column-vector y was passed when a 1d array was expected. Please change the shape of y to (n_samples,), for example using ravel().\n",
      "  estimator.fit(X_train, y_train, **fit_params)\n",
      "/Users/andreikirpichev/opt/anaconda3/lib/python3.9/site-packages/sklearn/model_selection/_validation.py:680: DataConversionWarning: A column-vector y was passed when a 1d array was expected. Please change the shape of y to (n_samples,), for example using ravel().\n",
      "  estimator.fit(X_train, y_train, **fit_params)\n",
      "/Users/andreikirpichev/opt/anaconda3/lib/python3.9/site-packages/sklearn/model_selection/_validation.py:680: DataConversionWarning: A column-vector y was passed when a 1d array was expected. Please change the shape of y to (n_samples,), for example using ravel().\n",
      "  estimator.fit(X_train, y_train, **fit_params)\n",
      "/Users/andreikirpichev/opt/anaconda3/lib/python3.9/site-packages/sklearn/model_selection/_validation.py:680: DataConversionWarning: A column-vector y was passed when a 1d array was expected. Please change the shape of y to (n_samples,), for example using ravel().\n",
      "  estimator.fit(X_train, y_train, **fit_params)\n"
     ]
    },
    {
     "ename": "KeyboardInterrupt",
     "evalue": "",
     "output_type": "error",
     "traceback": [
      "\u001B[0;31m---------------------------------------------------------------------------\u001B[0m",
      "\u001B[0;31mKeyboardInterrupt\u001B[0m                         Traceback (most recent call last)",
      "\u001B[0;32m/var/folders/tt/4xbqrq2s7vqgv_5z3nrppw_m0000gn/T/ipykernel_69597/2597210689.py\u001B[0m in \u001B[0;36m<module>\u001B[0;34m\u001B[0m\n\u001B[1;32m      8\u001B[0m }\n\u001B[1;32m      9\u001B[0m \u001B[0mgridforest\u001B[0m \u001B[0;34m=\u001B[0m \u001B[0mGridSearchCV\u001B[0m\u001B[0;34m(\u001B[0m\u001B[0mregr\u001B[0m\u001B[0;34m,\u001B[0m \u001B[0mparameters\u001B[0m\u001B[0;34m,\u001B[0m \u001B[0mcv\u001B[0m \u001B[0;34m=\u001B[0m \u001B[0;36m3\u001B[0m\u001B[0;34m,\u001B[0m \u001B[0mn_jobs\u001B[0m \u001B[0;34m=\u001B[0m \u001B[0;34m-\u001B[0m\u001B[0;36m1\u001B[0m\u001B[0;34m,\u001B[0m \u001B[0mverbose\u001B[0m \u001B[0;34m=\u001B[0m \u001B[0;36m1\u001B[0m\u001B[0;34m)\u001B[0m\u001B[0;34m\u001B[0m\u001B[0;34m\u001B[0m\u001B[0m\n\u001B[0;32m---> 10\u001B[0;31m \u001B[0mgridforest\u001B[0m\u001B[0;34m.\u001B[0m\u001B[0mfit\u001B[0m\u001B[0;34m(\u001B[0m\u001B[0mX_train\u001B[0m\u001B[0;34m,\u001B[0m \u001B[0my_train\u001B[0m\u001B[0;34m)\u001B[0m\u001B[0;34m\u001B[0m\u001B[0;34m\u001B[0m\u001B[0m\n\u001B[0m\u001B[1;32m     11\u001B[0m \u001B[0mgridforest\u001B[0m\u001B[0;34m.\u001B[0m\u001B[0mbest_params_\u001B[0m\u001B[0;34m\u001B[0m\u001B[0;34m\u001B[0m\u001B[0m\n",
      "\u001B[0;32m~/opt/anaconda3/lib/python3.9/site-packages/sklearn/model_selection/_search.py\u001B[0m in \u001B[0;36mfit\u001B[0;34m(self, X, y, groups, **fit_params)\u001B[0m\n\u001B[1;32m    889\u001B[0m                 \u001B[0;32mreturn\u001B[0m \u001B[0mresults\u001B[0m\u001B[0;34m\u001B[0m\u001B[0;34m\u001B[0m\u001B[0m\n\u001B[1;32m    890\u001B[0m \u001B[0;34m\u001B[0m\u001B[0m\n\u001B[0;32m--> 891\u001B[0;31m             \u001B[0mself\u001B[0m\u001B[0;34m.\u001B[0m\u001B[0m_run_search\u001B[0m\u001B[0;34m(\u001B[0m\u001B[0mevaluate_candidates\u001B[0m\u001B[0;34m)\u001B[0m\u001B[0;34m\u001B[0m\u001B[0;34m\u001B[0m\u001B[0m\n\u001B[0m\u001B[1;32m    892\u001B[0m \u001B[0;34m\u001B[0m\u001B[0m\n\u001B[1;32m    893\u001B[0m             \u001B[0;31m# multimetric is determined here because in the case of a callable\u001B[0m\u001B[0;34m\u001B[0m\u001B[0;34m\u001B[0m\u001B[0m\n",
      "\u001B[0;32m~/opt/anaconda3/lib/python3.9/site-packages/sklearn/model_selection/_search.py\u001B[0m in \u001B[0;36m_run_search\u001B[0;34m(self, evaluate_candidates)\u001B[0m\n\u001B[1;32m   1390\u001B[0m     \u001B[0;32mdef\u001B[0m \u001B[0m_run_search\u001B[0m\u001B[0;34m(\u001B[0m\u001B[0mself\u001B[0m\u001B[0;34m,\u001B[0m \u001B[0mevaluate_candidates\u001B[0m\u001B[0;34m)\u001B[0m\u001B[0;34m:\u001B[0m\u001B[0;34m\u001B[0m\u001B[0;34m\u001B[0m\u001B[0m\n\u001B[1;32m   1391\u001B[0m         \u001B[0;34m\"\"\"Search all candidates in param_grid\"\"\"\u001B[0m\u001B[0;34m\u001B[0m\u001B[0;34m\u001B[0m\u001B[0m\n\u001B[0;32m-> 1392\u001B[0;31m         \u001B[0mevaluate_candidates\u001B[0m\u001B[0;34m(\u001B[0m\u001B[0mParameterGrid\u001B[0m\u001B[0;34m(\u001B[0m\u001B[0mself\u001B[0m\u001B[0;34m.\u001B[0m\u001B[0mparam_grid\u001B[0m\u001B[0;34m)\u001B[0m\u001B[0;34m)\u001B[0m\u001B[0;34m\u001B[0m\u001B[0;34m\u001B[0m\u001B[0m\n\u001B[0m\u001B[1;32m   1393\u001B[0m \u001B[0;34m\u001B[0m\u001B[0m\n\u001B[1;32m   1394\u001B[0m \u001B[0;34m\u001B[0m\u001B[0m\n",
      "\u001B[0;32m~/opt/anaconda3/lib/python3.9/site-packages/sklearn/model_selection/_search.py\u001B[0m in \u001B[0;36mevaluate_candidates\u001B[0;34m(candidate_params, cv, more_results)\u001B[0m\n\u001B[1;32m    836\u001B[0m                     )\n\u001B[1;32m    837\u001B[0m \u001B[0;34m\u001B[0m\u001B[0m\n\u001B[0;32m--> 838\u001B[0;31m                 out = parallel(\n\u001B[0m\u001B[1;32m    839\u001B[0m                     delayed(_fit_and_score)(\n\u001B[1;32m    840\u001B[0m                         \u001B[0mclone\u001B[0m\u001B[0;34m(\u001B[0m\u001B[0mbase_estimator\u001B[0m\u001B[0;34m)\u001B[0m\u001B[0;34m,\u001B[0m\u001B[0;34m\u001B[0m\u001B[0;34m\u001B[0m\u001B[0m\n",
      "\u001B[0;32m~/opt/anaconda3/lib/python3.9/site-packages/joblib/parallel.py\u001B[0m in \u001B[0;36m__call__\u001B[0;34m(self, iterable)\u001B[0m\n\u001B[1;32m   1054\u001B[0m \u001B[0;34m\u001B[0m\u001B[0m\n\u001B[1;32m   1055\u001B[0m             \u001B[0;32mwith\u001B[0m \u001B[0mself\u001B[0m\u001B[0;34m.\u001B[0m\u001B[0m_backend\u001B[0m\u001B[0;34m.\u001B[0m\u001B[0mretrieval_context\u001B[0m\u001B[0;34m(\u001B[0m\u001B[0;34m)\u001B[0m\u001B[0;34m:\u001B[0m\u001B[0;34m\u001B[0m\u001B[0;34m\u001B[0m\u001B[0m\n\u001B[0;32m-> 1056\u001B[0;31m                 \u001B[0mself\u001B[0m\u001B[0;34m.\u001B[0m\u001B[0mretrieve\u001B[0m\u001B[0;34m(\u001B[0m\u001B[0;34m)\u001B[0m\u001B[0;34m\u001B[0m\u001B[0;34m\u001B[0m\u001B[0m\n\u001B[0m\u001B[1;32m   1057\u001B[0m             \u001B[0;31m# Make sure that we get a last message telling us we are done\u001B[0m\u001B[0;34m\u001B[0m\u001B[0;34m\u001B[0m\u001B[0m\n\u001B[1;32m   1058\u001B[0m             \u001B[0melapsed_time\u001B[0m \u001B[0;34m=\u001B[0m \u001B[0mtime\u001B[0m\u001B[0;34m.\u001B[0m\u001B[0mtime\u001B[0m\u001B[0;34m(\u001B[0m\u001B[0;34m)\u001B[0m \u001B[0;34m-\u001B[0m \u001B[0mself\u001B[0m\u001B[0;34m.\u001B[0m\u001B[0m_start_time\u001B[0m\u001B[0;34m\u001B[0m\u001B[0;34m\u001B[0m\u001B[0m\n",
      "\u001B[0;32m~/opt/anaconda3/lib/python3.9/site-packages/joblib/parallel.py\u001B[0m in \u001B[0;36mretrieve\u001B[0;34m(self)\u001B[0m\n\u001B[1;32m    933\u001B[0m             \u001B[0;32mtry\u001B[0m\u001B[0;34m:\u001B[0m\u001B[0;34m\u001B[0m\u001B[0;34m\u001B[0m\u001B[0m\n\u001B[1;32m    934\u001B[0m                 \u001B[0;32mif\u001B[0m \u001B[0mgetattr\u001B[0m\u001B[0;34m(\u001B[0m\u001B[0mself\u001B[0m\u001B[0;34m.\u001B[0m\u001B[0m_backend\u001B[0m\u001B[0;34m,\u001B[0m \u001B[0;34m'supports_timeout'\u001B[0m\u001B[0;34m,\u001B[0m \u001B[0;32mFalse\u001B[0m\u001B[0;34m)\u001B[0m\u001B[0;34m:\u001B[0m\u001B[0;34m\u001B[0m\u001B[0;34m\u001B[0m\u001B[0m\n\u001B[0;32m--> 935\u001B[0;31m                     \u001B[0mself\u001B[0m\u001B[0;34m.\u001B[0m\u001B[0m_output\u001B[0m\u001B[0;34m.\u001B[0m\u001B[0mextend\u001B[0m\u001B[0;34m(\u001B[0m\u001B[0mjob\u001B[0m\u001B[0;34m.\u001B[0m\u001B[0mget\u001B[0m\u001B[0;34m(\u001B[0m\u001B[0mtimeout\u001B[0m\u001B[0;34m=\u001B[0m\u001B[0mself\u001B[0m\u001B[0;34m.\u001B[0m\u001B[0mtimeout\u001B[0m\u001B[0;34m)\u001B[0m\u001B[0;34m)\u001B[0m\u001B[0;34m\u001B[0m\u001B[0;34m\u001B[0m\u001B[0m\n\u001B[0m\u001B[1;32m    936\u001B[0m                 \u001B[0;32melse\u001B[0m\u001B[0;34m:\u001B[0m\u001B[0;34m\u001B[0m\u001B[0;34m\u001B[0m\u001B[0m\n\u001B[1;32m    937\u001B[0m                     \u001B[0mself\u001B[0m\u001B[0;34m.\u001B[0m\u001B[0m_output\u001B[0m\u001B[0;34m.\u001B[0m\u001B[0mextend\u001B[0m\u001B[0;34m(\u001B[0m\u001B[0mjob\u001B[0m\u001B[0;34m.\u001B[0m\u001B[0mget\u001B[0m\u001B[0;34m(\u001B[0m\u001B[0;34m)\u001B[0m\u001B[0;34m)\u001B[0m\u001B[0;34m\u001B[0m\u001B[0;34m\u001B[0m\u001B[0m\n",
      "\u001B[0;32m~/opt/anaconda3/lib/python3.9/site-packages/joblib/_parallel_backends.py\u001B[0m in \u001B[0;36mwrap_future_result\u001B[0;34m(future, timeout)\u001B[0m\n\u001B[1;32m    540\u001B[0m         AsyncResults.get from multiprocessing.\"\"\"\n\u001B[1;32m    541\u001B[0m         \u001B[0;32mtry\u001B[0m\u001B[0;34m:\u001B[0m\u001B[0;34m\u001B[0m\u001B[0;34m\u001B[0m\u001B[0m\n\u001B[0;32m--> 542\u001B[0;31m             \u001B[0;32mreturn\u001B[0m \u001B[0mfuture\u001B[0m\u001B[0;34m.\u001B[0m\u001B[0mresult\u001B[0m\u001B[0;34m(\u001B[0m\u001B[0mtimeout\u001B[0m\u001B[0;34m=\u001B[0m\u001B[0mtimeout\u001B[0m\u001B[0;34m)\u001B[0m\u001B[0;34m\u001B[0m\u001B[0;34m\u001B[0m\u001B[0m\n\u001B[0m\u001B[1;32m    543\u001B[0m         \u001B[0;32mexcept\u001B[0m \u001B[0mCfTimeoutError\u001B[0m \u001B[0;32mas\u001B[0m \u001B[0me\u001B[0m\u001B[0;34m:\u001B[0m\u001B[0;34m\u001B[0m\u001B[0;34m\u001B[0m\u001B[0m\n\u001B[1;32m    544\u001B[0m             \u001B[0;32mraise\u001B[0m \u001B[0mTimeoutError\u001B[0m \u001B[0;32mfrom\u001B[0m \u001B[0me\u001B[0m\u001B[0;34m\u001B[0m\u001B[0;34m\u001B[0m\u001B[0m\n",
      "\u001B[0;32m~/opt/anaconda3/lib/python3.9/concurrent/futures/_base.py\u001B[0m in \u001B[0;36mresult\u001B[0;34m(self, timeout)\u001B[0m\n\u001B[1;32m    439\u001B[0m                     \u001B[0;32mreturn\u001B[0m \u001B[0mself\u001B[0m\u001B[0;34m.\u001B[0m\u001B[0m__get_result\u001B[0m\u001B[0;34m(\u001B[0m\u001B[0;34m)\u001B[0m\u001B[0;34m\u001B[0m\u001B[0;34m\u001B[0m\u001B[0m\n\u001B[1;32m    440\u001B[0m \u001B[0;34m\u001B[0m\u001B[0m\n\u001B[0;32m--> 441\u001B[0;31m                 \u001B[0mself\u001B[0m\u001B[0;34m.\u001B[0m\u001B[0m_condition\u001B[0m\u001B[0;34m.\u001B[0m\u001B[0mwait\u001B[0m\u001B[0;34m(\u001B[0m\u001B[0mtimeout\u001B[0m\u001B[0;34m)\u001B[0m\u001B[0;34m\u001B[0m\u001B[0;34m\u001B[0m\u001B[0m\n\u001B[0m\u001B[1;32m    442\u001B[0m \u001B[0;34m\u001B[0m\u001B[0m\n\u001B[1;32m    443\u001B[0m                 \u001B[0;32mif\u001B[0m \u001B[0mself\u001B[0m\u001B[0;34m.\u001B[0m\u001B[0m_state\u001B[0m \u001B[0;32min\u001B[0m \u001B[0;34m[\u001B[0m\u001B[0mCANCELLED\u001B[0m\u001B[0;34m,\u001B[0m \u001B[0mCANCELLED_AND_NOTIFIED\u001B[0m\u001B[0;34m]\u001B[0m\u001B[0;34m:\u001B[0m\u001B[0;34m\u001B[0m\u001B[0;34m\u001B[0m\u001B[0m\n",
      "\u001B[0;32m~/opt/anaconda3/lib/python3.9/threading.py\u001B[0m in \u001B[0;36mwait\u001B[0;34m(self, timeout)\u001B[0m\n\u001B[1;32m    310\u001B[0m         \u001B[0;32mtry\u001B[0m\u001B[0;34m:\u001B[0m    \u001B[0;31m# restore state no matter what (e.g., KeyboardInterrupt)\u001B[0m\u001B[0;34m\u001B[0m\u001B[0;34m\u001B[0m\u001B[0m\n\u001B[1;32m    311\u001B[0m             \u001B[0;32mif\u001B[0m \u001B[0mtimeout\u001B[0m \u001B[0;32mis\u001B[0m \u001B[0;32mNone\u001B[0m\u001B[0;34m:\u001B[0m\u001B[0;34m\u001B[0m\u001B[0;34m\u001B[0m\u001B[0m\n\u001B[0;32m--> 312\u001B[0;31m                 \u001B[0mwaiter\u001B[0m\u001B[0;34m.\u001B[0m\u001B[0macquire\u001B[0m\u001B[0;34m(\u001B[0m\u001B[0;34m)\u001B[0m\u001B[0;34m\u001B[0m\u001B[0;34m\u001B[0m\u001B[0m\n\u001B[0m\u001B[1;32m    313\u001B[0m                 \u001B[0mgotit\u001B[0m \u001B[0;34m=\u001B[0m \u001B[0;32mTrue\u001B[0m\u001B[0;34m\u001B[0m\u001B[0;34m\u001B[0m\u001B[0m\n\u001B[1;32m    314\u001B[0m             \u001B[0;32melse\u001B[0m\u001B[0;34m:\u001B[0m\u001B[0;34m\u001B[0m\u001B[0;34m\u001B[0m\u001B[0m\n",
      "\u001B[0;31mKeyboardInterrupt\u001B[0m: "
     ]
    }
   ],
   "source": [
    "# Import GridSearchCV\n",
    "from sklearn.model_selection import GridSearchCV\n",
    "\n",
    "# Find the best parameters for the model\n",
    "parameters = {\n",
    "    'max_depth': [70, 80, 90, 100],\n",
    "    'n_estimators': [900, 1000, 1100]\n",
    "}\n",
    "gridforest = GridSearchCV(regr, parameters, cv = 3, n_jobs = -1, verbose = 1)\n",
    "gridforest.fit(X_train, y_train)\n",
    "gridforest.best_params_"
   ],
   "metadata": {
    "collapsed": false
   }
  },
  {
   "cell_type": "code",
   "execution_count": 8,
   "outputs": [
    {
     "name": "stdout",
     "output_type": "stream",
     "text": [
      "Variable: section_2w           Importance: 0.72\n",
      "Variable: market_2w            Importance: 0.12\n",
      "Variable: weekday_stake        Importance: 0.11\n",
      "Variable: point_2w             Importance: 0.02\n",
      "Variable: age                  Importance: 0.01\n",
      "Variable: league               Importance: 0.01\n",
      "Variable: country              Importance: 0.0\n",
      "Variable: section              Importance: 0.0\n",
      "Variable: point                Importance: 0.0\n",
      "Variable: market               Importance: 0.0\n",
      "Variable: region               Importance: 0.0\n",
      "Variable: sport                Importance: 0.0\n"
     ]
    }
   ],
   "source": [
    "# Get features list\n",
    "characteristics = X.columns\n",
    "# Get the variables importances, sort them, and print the result\n",
    "importances = list(regr.feature_importances_)\n",
    "characteristics_importances = [(characteristic, round(importance, 2)) for characteristic, importance in zip(characteristics, importances)]\n",
    "characteristics_importances = sorted(characteristics_importances, key = lambda x: x[1], reverse = True)\n",
    "[print('Variable: {:20} Importance: {}'.format(*pair)) for pair in characteristics_importances];"
   ],
   "metadata": {
    "collapsed": false
   }
  },
  {
   "cell_type": "code",
   "execution_count": null,
   "outputs": [],
   "source": [
    "# Import library for visualization\n",
    "import matplotlib.pyplot as plt\n",
    "# Visualize the variables importances\n",
    "plt.bar(characteristics, importances, orientation = 'vertical')\n",
    "plt.xticks(rotation = 'vertical')\n",
    "plt.ylabel('Importance')\n",
    "plt.xlabel('Variable')\n",
    "plt.grid(axis = 'y', color = '#D3D3D3', linestyle = 'solid')\n",
    "plt.show()"
   ],
   "metadata": {
    "collapsed": false
   }
  },
  {
   "cell_type": "code",
   "execution_count": null,
   "outputs": [],
   "source": [],
   "metadata": {
    "collapsed": false
   }
  }
 ],
 "metadata": {
  "kernelspec": {
   "display_name": "Python 3 (ipykernel)",
   "language": "python",
   "name": "python3"
  },
  "language_info": {
   "codemirror_mode": {
    "name": "ipython",
    "version": 3
   },
   "file_extension": ".py",
   "mimetype": "text/x-python",
   "name": "python",
   "nbconvert_exporter": "python",
   "pygments_lexer": "ipython3",
   "version": "3.9.13"
  }
 },
 "nbformat": 4,
 "nbformat_minor": 5
}
