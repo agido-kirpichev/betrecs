{
 "cells": [
  {
   "cell_type": "code",
   "execution_count": 20,
   "outputs": [
    {
     "data": {
      "text/plain": "0    3311494\n1    1560154\nName: label, dtype: int64"
     },
     "execution_count": 20,
     "metadata": {},
     "output_type": "execute_result"
    }
   ],
   "source": [
    "from deltalake import DeltaTable\n",
    "import numpy as np\n",
    "import pandas as pd\n",
    "\n",
    "bets = DeltaTable(\"/Users/andreikirpichev/Downloads/bets/\")\n",
    "bets = bets.to_pandas()\n",
    "bets['label'] = np.where(bets['stake_eur'] - bets['weekday_stake'] > 0, 1, 0)\n",
    "bets['label'].value_counts()"
   ],
   "metadata": {
    "collapsed": false
   }
  },
  {
   "cell_type": "code",
   "execution_count": 27,
   "outputs": [
    {
     "data": {
      "text/plain": "  customer_id  age  country  section  point  market  market_params  \\\n0     9786810   26        2       37      7      12           2320   \n1     9187810   26        2       39      6       7           2320   \n2     9187810   26        2       86      6       9           2320   \n3    12072510   44        2       10      7      12           2320   \n4    12072510   44        2       37      7      12           2320   \n\n   contest_id placement_date          placement_time  ...  sport  league  \\\n0       15531     2022-09-01 2022-09-01 00:00:07.176  ...     13     618   \n1       63387     2022-09-01 2022-09-01 00:00:20.216  ...     28    1484   \n2       63380     2022-09-01 2022-09-01 00:00:20.216  ...     28    1481   \n3       15484     2022-09-01 2022-09-01 00:00:22.536  ...     13     919   \n4       15476     2022-09-01 2022-09-01 00:00:22.536  ...     13     415   \n\n   minutes_before_start  stake_eur  dayofweek  weekday_stake  section_2w  \\\n0                  60.0      11.25          5           2.98        6.25   \n1                   0.0       5.00          5           3.56        3.02   \n2                   0.0       5.00          5           3.58        5.00   \n3                   0.0       3.75          5           3.29        3.75   \n4                   0.0       3.75          5           3.26        3.75   \n\n   point_2w  market_2w  label  \n0      6.25       6.56      1  \n1      3.25       2.94      1  \n2      3.25       3.26      1  \n3      3.75       3.75      1  \n4      3.75       3.75      1  \n\n[5 rows x 24 columns]",
      "text/html": "<div>\n<style scoped>\n    .dataframe tbody tr th:only-of-type {\n        vertical-align: middle;\n    }\n\n    .dataframe tbody tr th {\n        vertical-align: top;\n    }\n\n    .dataframe thead th {\n        text-align: right;\n    }\n</style>\n<table border=\"1\" class=\"dataframe\">\n  <thead>\n    <tr style=\"text-align: right;\">\n      <th></th>\n      <th>customer_id</th>\n      <th>age</th>\n      <th>country</th>\n      <th>section</th>\n      <th>point</th>\n      <th>market</th>\n      <th>market_params</th>\n      <th>contest_id</th>\n      <th>placement_date</th>\n      <th>placement_time</th>\n      <th>...</th>\n      <th>sport</th>\n      <th>league</th>\n      <th>minutes_before_start</th>\n      <th>stake_eur</th>\n      <th>dayofweek</th>\n      <th>weekday_stake</th>\n      <th>section_2w</th>\n      <th>point_2w</th>\n      <th>market_2w</th>\n      <th>label</th>\n    </tr>\n  </thead>\n  <tbody>\n    <tr>\n      <th>0</th>\n      <td>9786810</td>\n      <td>26</td>\n      <td>2</td>\n      <td>37</td>\n      <td>7</td>\n      <td>12</td>\n      <td>2320</td>\n      <td>15531</td>\n      <td>2022-09-01</td>\n      <td>2022-09-01 00:00:07.176</td>\n      <td>...</td>\n      <td>13</td>\n      <td>618</td>\n      <td>60.0</td>\n      <td>11.25</td>\n      <td>5</td>\n      <td>2.98</td>\n      <td>6.25</td>\n      <td>6.25</td>\n      <td>6.56</td>\n      <td>1</td>\n    </tr>\n    <tr>\n      <th>1</th>\n      <td>9187810</td>\n      <td>26</td>\n      <td>2</td>\n      <td>39</td>\n      <td>6</td>\n      <td>7</td>\n      <td>2320</td>\n      <td>63387</td>\n      <td>2022-09-01</td>\n      <td>2022-09-01 00:00:20.216</td>\n      <td>...</td>\n      <td>28</td>\n      <td>1484</td>\n      <td>0.0</td>\n      <td>5.00</td>\n      <td>5</td>\n      <td>3.56</td>\n      <td>3.02</td>\n      <td>3.25</td>\n      <td>2.94</td>\n      <td>1</td>\n    </tr>\n    <tr>\n      <th>2</th>\n      <td>9187810</td>\n      <td>26</td>\n      <td>2</td>\n      <td>86</td>\n      <td>6</td>\n      <td>9</td>\n      <td>2320</td>\n      <td>63380</td>\n      <td>2022-09-01</td>\n      <td>2022-09-01 00:00:20.216</td>\n      <td>...</td>\n      <td>28</td>\n      <td>1481</td>\n      <td>0.0</td>\n      <td>5.00</td>\n      <td>5</td>\n      <td>3.58</td>\n      <td>5.00</td>\n      <td>3.25</td>\n      <td>3.26</td>\n      <td>1</td>\n    </tr>\n    <tr>\n      <th>3</th>\n      <td>12072510</td>\n      <td>44</td>\n      <td>2</td>\n      <td>10</td>\n      <td>7</td>\n      <td>12</td>\n      <td>2320</td>\n      <td>15484</td>\n      <td>2022-09-01</td>\n      <td>2022-09-01 00:00:22.536</td>\n      <td>...</td>\n      <td>13</td>\n      <td>919</td>\n      <td>0.0</td>\n      <td>3.75</td>\n      <td>5</td>\n      <td>3.29</td>\n      <td>3.75</td>\n      <td>3.75</td>\n      <td>3.75</td>\n      <td>1</td>\n    </tr>\n    <tr>\n      <th>4</th>\n      <td>12072510</td>\n      <td>44</td>\n      <td>2</td>\n      <td>37</td>\n      <td>7</td>\n      <td>12</td>\n      <td>2320</td>\n      <td>15476</td>\n      <td>2022-09-01</td>\n      <td>2022-09-01 00:00:22.536</td>\n      <td>...</td>\n      <td>13</td>\n      <td>415</td>\n      <td>0.0</td>\n      <td>3.75</td>\n      <td>5</td>\n      <td>3.26</td>\n      <td>3.75</td>\n      <td>3.75</td>\n      <td>3.75</td>\n      <td>1</td>\n    </tr>\n  </tbody>\n</table>\n<p>5 rows × 24 columns</p>\n</div>"
     },
     "execution_count": 27,
     "metadata": {},
     "output_type": "execute_result"
    }
   ],
   "source": [
    "bets.head()"
   ],
   "metadata": {
    "collapsed": false
   }
  },
  {
   "cell_type": "code",
   "execution_count": 21,
   "outputs": [
    {
     "data": {
      "text/plain": "  customer_id  age  country  section  point  market  market_params  \\\n0     9786810   26        2       37      7      12           2320   \n1     9187810   26        2       39      6       7           2320   \n2     9187810   26        2       86      6       9           2320   \n3    12072510   44        2       10      7      12           2320   \n4    12072510   44        2       37      7      12           2320   \n\n   contest_id placement_date          placement_time  ...  sport  league  \\\n0       15531     2022-09-01 2022-09-01 00:00:07.176  ...     13     618   \n1       63387     2022-09-01 2022-09-01 00:00:20.216  ...     28    1484   \n2       63380     2022-09-01 2022-09-01 00:00:20.216  ...     28    1481   \n3       15484     2022-09-01 2022-09-01 00:00:22.536  ...     13     919   \n4       15476     2022-09-01 2022-09-01 00:00:22.536  ...     13     415   \n\n   minutes_before_start  stake_eur  dayofweek  weekday_stake  section_2w  \\\n0                  60.0      11.25          5           2.98        6.25   \n1                   0.0       5.00          5           3.56        3.02   \n2                   0.0       5.00          5           3.58        5.00   \n3                   0.0       3.75          5           3.29        3.75   \n4                   0.0       3.75          5           3.26        3.75   \n\n   point_2w  market_2w  label  \n0      6.25       6.56      1  \n1      3.25       2.94      1  \n2      3.25       3.26      1  \n3      3.75       3.75      1  \n4      3.75       3.75      1  \n\n[5 rows x 24 columns]",
      "text/html": "<div>\n<style scoped>\n    .dataframe tbody tr th:only-of-type {\n        vertical-align: middle;\n    }\n\n    .dataframe tbody tr th {\n        vertical-align: top;\n    }\n\n    .dataframe thead th {\n        text-align: right;\n    }\n</style>\n<table border=\"1\" class=\"dataframe\">\n  <thead>\n    <tr style=\"text-align: right;\">\n      <th></th>\n      <th>customer_id</th>\n      <th>age</th>\n      <th>country</th>\n      <th>section</th>\n      <th>point</th>\n      <th>market</th>\n      <th>market_params</th>\n      <th>contest_id</th>\n      <th>placement_date</th>\n      <th>placement_time</th>\n      <th>...</th>\n      <th>sport</th>\n      <th>league</th>\n      <th>minutes_before_start</th>\n      <th>stake_eur</th>\n      <th>dayofweek</th>\n      <th>weekday_stake</th>\n      <th>section_2w</th>\n      <th>point_2w</th>\n      <th>market_2w</th>\n      <th>label</th>\n    </tr>\n  </thead>\n  <tbody>\n    <tr>\n      <th>0</th>\n      <td>9786810</td>\n      <td>26</td>\n      <td>2</td>\n      <td>37</td>\n      <td>7</td>\n      <td>12</td>\n      <td>2320</td>\n      <td>15531</td>\n      <td>2022-09-01</td>\n      <td>2022-09-01 00:00:07.176</td>\n      <td>...</td>\n      <td>13</td>\n      <td>618</td>\n      <td>60.0</td>\n      <td>11.25</td>\n      <td>5</td>\n      <td>2.98</td>\n      <td>6.25</td>\n      <td>6.25</td>\n      <td>6.56</td>\n      <td>1</td>\n    </tr>\n    <tr>\n      <th>1</th>\n      <td>9187810</td>\n      <td>26</td>\n      <td>2</td>\n      <td>39</td>\n      <td>6</td>\n      <td>7</td>\n      <td>2320</td>\n      <td>63387</td>\n      <td>2022-09-01</td>\n      <td>2022-09-01 00:00:20.216</td>\n      <td>...</td>\n      <td>28</td>\n      <td>1484</td>\n      <td>0.0</td>\n      <td>5.00</td>\n      <td>5</td>\n      <td>3.56</td>\n      <td>3.02</td>\n      <td>3.25</td>\n      <td>2.94</td>\n      <td>1</td>\n    </tr>\n    <tr>\n      <th>2</th>\n      <td>9187810</td>\n      <td>26</td>\n      <td>2</td>\n      <td>86</td>\n      <td>6</td>\n      <td>9</td>\n      <td>2320</td>\n      <td>63380</td>\n      <td>2022-09-01</td>\n      <td>2022-09-01 00:00:20.216</td>\n      <td>...</td>\n      <td>28</td>\n      <td>1481</td>\n      <td>0.0</td>\n      <td>5.00</td>\n      <td>5</td>\n      <td>3.58</td>\n      <td>5.00</td>\n      <td>3.25</td>\n      <td>3.26</td>\n      <td>1</td>\n    </tr>\n    <tr>\n      <th>3</th>\n      <td>12072510</td>\n      <td>44</td>\n      <td>2</td>\n      <td>10</td>\n      <td>7</td>\n      <td>12</td>\n      <td>2320</td>\n      <td>15484</td>\n      <td>2022-09-01</td>\n      <td>2022-09-01 00:00:22.536</td>\n      <td>...</td>\n      <td>13</td>\n      <td>919</td>\n      <td>0.0</td>\n      <td>3.75</td>\n      <td>5</td>\n      <td>3.29</td>\n      <td>3.75</td>\n      <td>3.75</td>\n      <td>3.75</td>\n      <td>1</td>\n    </tr>\n    <tr>\n      <th>4</th>\n      <td>12072510</td>\n      <td>44</td>\n      <td>2</td>\n      <td>37</td>\n      <td>7</td>\n      <td>12</td>\n      <td>2320</td>\n      <td>15476</td>\n      <td>2022-09-01</td>\n      <td>2022-09-01 00:00:22.536</td>\n      <td>...</td>\n      <td>13</td>\n      <td>415</td>\n      <td>0.0</td>\n      <td>3.75</td>\n      <td>5</td>\n      <td>3.26</td>\n      <td>3.75</td>\n      <td>3.75</td>\n      <td>3.75</td>\n      <td>1</td>\n    </tr>\n  </tbody>\n</table>\n<p>5 rows × 24 columns</p>\n</div>"
     },
     "execution_count": 21,
     "metadata": {},
     "output_type": "execute_result"
    }
   ],
   "source": [
    "from sklearn.preprocessing import LabelEncoder\n",
    "\n",
    "categorical_features = ['country', 'section', 'point', 'market', 'market_params', 'contest_id', 'home', 'away', 'region', 'sport', 'league']\n",
    "\n",
    "le = LabelEncoder()\n",
    "\n",
    "# Convert the variables to numerical\n",
    "for i in range(len(categorical_features)):\n",
    "    label = le.fit_transform(bets[categorical_features[i]])\n",
    "    bets[categorical_features[i]] = label\n",
    "bets.head()\n"
   ],
   "metadata": {
    "collapsed": false
   }
  },
  {
   "cell_type": "code",
   "execution_count": 22,
   "outputs": [
    {
     "data": {
      "text/plain": "LogisticRegression()"
     },
     "execution_count": 19,
     "metadata": {},
     "output_type": "execute_result"
    },
    {
     "data": {
      "text/plain": "LogisticRegression()"
     },
     "execution_count": 22,
     "metadata": {},
     "output_type": "execute_result"
    }
   ],
   "source": [
    "# Create features and target\n",
    "XX = bets[['customer_id', 'age', 'country', 'section', 'point', 'market', 'market_params', 'contest_id', 'home', 'away', 'region', 'sport', 'league', 'minutes_before_start', 'weekday_stake', 'section_2w', 'point_2w', 'market_2w']]\n",
    "X = bets[['age', 'country', 'section', 'point', 'market', 'region', 'sport', 'league', 'weekday_stake', 'section_2w', 'point_2w', 'market_2w']]\n",
    "y = bets[['label']]\n",
    "\n",
    "# show rows with NaN values\n",
    "# X[X.isna().any(axis=1)]\n",
    "\n",
    "# Make necessary imports\n",
    "from sklearn.ensemble import RandomForestRegressor\n",
    "from sklearn.model_selection import train_test_split\n",
    "from sklearn.linear_model import LogisticRegression\n",
    "\n",
    "# Split data into training and test sets\n",
    "X_train, X_test, y_train, y_test = train_test_split(X, y, test_size = 0.25, random_state = 101, shuffle=False)\n",
    "\n",
    "# Train the model\n",
    "model = LogisticRegression()\n",
    "model.fit(X_train, y_train)"
   ],
   "metadata": {
    "collapsed": false
   }
  },
  {
   "cell_type": "code",
   "execution_count": 23,
   "outputs": [
    {
     "data": {
      "text/plain": "         age  country  section  point  market  region  sport  league  \\\n3653736   45        2       37      7      12      40     13    1161   \n3653737   45        2       37      7      12      33     13     175   \n3653738   45        2       37      7      12      18     13    1287   \n3653739   45        2       37      7      12     130     18    1011   \n3653740   45        2       37      7      12      41     13     837   \n\n         weekday_stake  section_2w  point_2w  market_2w  label  prediction  \n3653736           0.35        0.28      0.28       0.28      1           0  \n3653737           0.35        0.28      0.28       0.28      1           0  \n3653738           0.35        0.28      0.28       0.28      1           0  \n3653739           0.35        0.28      0.28       0.28      1           0  \n3653740           0.34        0.28      0.28       0.28      1           0  ",
      "text/html": "<div>\n<style scoped>\n    .dataframe tbody tr th:only-of-type {\n        vertical-align: middle;\n    }\n\n    .dataframe tbody tr th {\n        vertical-align: top;\n    }\n\n    .dataframe thead th {\n        text-align: right;\n    }\n</style>\n<table border=\"1\" class=\"dataframe\">\n  <thead>\n    <tr style=\"text-align: right;\">\n      <th></th>\n      <th>age</th>\n      <th>country</th>\n      <th>section</th>\n      <th>point</th>\n      <th>market</th>\n      <th>region</th>\n      <th>sport</th>\n      <th>league</th>\n      <th>weekday_stake</th>\n      <th>section_2w</th>\n      <th>point_2w</th>\n      <th>market_2w</th>\n      <th>label</th>\n      <th>prediction</th>\n    </tr>\n  </thead>\n  <tbody>\n    <tr>\n      <th>3653736</th>\n      <td>45</td>\n      <td>2</td>\n      <td>37</td>\n      <td>7</td>\n      <td>12</td>\n      <td>40</td>\n      <td>13</td>\n      <td>1161</td>\n      <td>0.35</td>\n      <td>0.28</td>\n      <td>0.28</td>\n      <td>0.28</td>\n      <td>1</td>\n      <td>0</td>\n    </tr>\n    <tr>\n      <th>3653737</th>\n      <td>45</td>\n      <td>2</td>\n      <td>37</td>\n      <td>7</td>\n      <td>12</td>\n      <td>33</td>\n      <td>13</td>\n      <td>175</td>\n      <td>0.35</td>\n      <td>0.28</td>\n      <td>0.28</td>\n      <td>0.28</td>\n      <td>1</td>\n      <td>0</td>\n    </tr>\n    <tr>\n      <th>3653738</th>\n      <td>45</td>\n      <td>2</td>\n      <td>37</td>\n      <td>7</td>\n      <td>12</td>\n      <td>18</td>\n      <td>13</td>\n      <td>1287</td>\n      <td>0.35</td>\n      <td>0.28</td>\n      <td>0.28</td>\n      <td>0.28</td>\n      <td>1</td>\n      <td>0</td>\n    </tr>\n    <tr>\n      <th>3653739</th>\n      <td>45</td>\n      <td>2</td>\n      <td>37</td>\n      <td>7</td>\n      <td>12</td>\n      <td>130</td>\n      <td>18</td>\n      <td>1011</td>\n      <td>0.35</td>\n      <td>0.28</td>\n      <td>0.28</td>\n      <td>0.28</td>\n      <td>1</td>\n      <td>0</td>\n    </tr>\n    <tr>\n      <th>3653740</th>\n      <td>45</td>\n      <td>2</td>\n      <td>37</td>\n      <td>7</td>\n      <td>12</td>\n      <td>41</td>\n      <td>13</td>\n      <td>837</td>\n      <td>0.34</td>\n      <td>0.28</td>\n      <td>0.28</td>\n      <td>0.28</td>\n      <td>1</td>\n      <td>0</td>\n    </tr>\n  </tbody>\n</table>\n</div>"
     },
     "execution_count": 23,
     "metadata": {},
     "output_type": "execute_result"
    }
   ],
   "source": [
    "import warnings\n",
    "warnings.filterwarnings('ignore')\n",
    "\n",
    "# Make prediction\n",
    "predictions = model.predict(X_test)\n",
    "\n",
    "result = X_test\n",
    "result['label'] = y_test\n",
    "result['prediction'] = predictions.tolist()\n",
    "result.head()"
   ],
   "metadata": {
    "collapsed": false
   }
  },
  {
   "cell_type": "code",
   "execution_count": 24,
   "outputs": [
    {
     "name": "stdout",
     "output_type": "stream",
     "text": [
      "Accuracy: 0.6849591760324227\n",
      "Precision: 0.5428263214670982\n",
      "Recall: 0.013087602669538033\n"
     ]
    }
   ],
   "source": [
    "# Import library for metrics\n",
    "from sklearn.metrics import accuracy_score, precision_score, recall_score\n",
    "\n",
    "# Print metrics\n",
    "print(\"Accuracy:\", accuracy_score(y_test, predictions))\n",
    "print(\"Precision:\", precision_score(y_test, predictions))\n",
    "print(\"Recall:\", recall_score(y_test, predictions))"
   ],
   "metadata": {
    "collapsed": false
   }
  },
  {
   "cell_type": "code",
   "execution_count": null,
   "outputs": [],
   "source": [],
   "metadata": {
    "collapsed": false
   }
  }
 ],
 "metadata": {
  "kernelspec": {
   "display_name": "Python 3 (ipykernel)",
   "language": "python",
   "name": "python3"
  },
  "language_info": {
   "codemirror_mode": {
    "name": "ipython",
    "version": 3
   },
   "file_extension": ".py",
   "mimetype": "text/x-python",
   "name": "python",
   "nbconvert_exporter": "python",
   "pygments_lexer": "ipython3",
   "version": "3.9.13"
  }
 },
 "nbformat": 4,
 "nbformat_minor": 5
}
