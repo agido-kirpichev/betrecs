{
 "cells": [
  {
   "cell_type": "code",
   "execution_count": 3,
   "outputs": [],
   "source": [
    "from deltalake import DeltaTable\n",
    "import numpy as np\n",
    "import pandas as pd\n",
    "\n",
    "bets = DeltaTable(\"/Users/andreikirpichev/parquet/bets/\")\n",
    "bets = bets.to_pandas()\n",
    "#bets['label'] = np.where(bets['stake_eur'] - bets['weekday_stake'] > 0, 1, 0)\n",
    "bets['label'] = 1"
   ],
   "metadata": {
    "collapsed": false
   }
  },
  {
   "cell_type": "code",
   "execution_count": 4,
   "outputs": [
    {
     "data": {
      "text/plain": "  contest_id section point            market          away  \\\n0  FB-216767      RT  goal  BothTeamsToScore  UE Engordany   \n\n                    start                 end             home  \\\n0 2022-10-22 14:53:19.559 2022-10-23 16:30:00  UE Santa Coloma   \n\n             league region     sport  placement_odds  \n0  Primera Division     AD  Football            1.72  ",
      "text/html": "<div>\n<style scoped>\n    .dataframe tbody tr th:only-of-type {\n        vertical-align: middle;\n    }\n\n    .dataframe tbody tr th {\n        vertical-align: top;\n    }\n\n    .dataframe thead th {\n        text-align: right;\n    }\n</style>\n<table border=\"1\" class=\"dataframe\">\n  <thead>\n    <tr style=\"text-align: right;\">\n      <th></th>\n      <th>contest_id</th>\n      <th>section</th>\n      <th>point</th>\n      <th>market</th>\n      <th>away</th>\n      <th>start</th>\n      <th>end</th>\n      <th>home</th>\n      <th>league</th>\n      <th>region</th>\n      <th>sport</th>\n      <th>placement_odds</th>\n    </tr>\n  </thead>\n  <tbody>\n    <tr>\n      <th>0</th>\n      <td>FB-216767</td>\n      <td>RT</td>\n      <td>goal</td>\n      <td>BothTeamsToScore</td>\n      <td>UE Engordany</td>\n      <td>2022-10-22 14:53:19.559</td>\n      <td>2022-10-23 16:30:00</td>\n      <td>UE Santa Coloma</td>\n      <td>Primera Division</td>\n      <td>AD</td>\n      <td>Football</td>\n      <td>1.72</td>\n    </tr>\n  </tbody>\n</table>\n</div>"
     },
     "execution_count": 4,
     "metadata": {},
     "output_type": "execute_result"
    }
   ],
   "source": [
    "test_betmarkets = DeltaTable(\"/Users/andreikirpichev/parquet/test_betmarkets/\")\n",
    "test_betmarkets = test_betmarkets.to_pandas()\n",
    "test_betmarkets.head(1)"
   ],
   "metadata": {
    "collapsed": false
   }
  },
  {
   "cell_type": "code",
   "execution_count": 5,
   "outputs": [],
   "source": [
    "bets_populated = pd.read_parquet('/Users/andreikirpichev/parquet/bets_populated_weighted.gzip')"
   ],
   "metadata": {
    "collapsed": false
   }
  },
  {
   "cell_type": "code",
   "execution_count": 6,
   "outputs": [],
   "source": [
    "from sklearn.preprocessing import LabelEncoder\n",
    "betmarket_categorical_features = ['section', 'point', 'market', 'region', 'contest_id', 'league', 'home', 'away']\n",
    "categorical_features = betmarket_categorical_features + ['country']\n",
    "\n",
    "le = LabelEncoder()\n",
    "\n",
    "# Convert the variables to numerical\n",
    "def encode(arr, features):\n",
    "    for i in range(len(features)):\n",
    "        encoded = le.fit_transform(arr[features[i]])\n",
    "        arr[features[i]] = encoded\n",
    "\n",
    "encode(test_betmarkets, betmarket_categorical_features)\n",
    "encode(bets_populated, categorical_features)"
   ],
   "metadata": {
    "collapsed": false
   }
  },
  {
   "cell_type": "code",
   "execution_count": 7,
   "outputs": [
    {
     "name": "stdout",
     "output_type": "stream",
     "text": [
      "train: from 2022-09-01 00:00:07.176000  to  2022-10-17 20:05:48.066000 (6297092, 17)\n",
      "test: from 2022-10-17 20:05:48.066000  to  2022-10-28 14:23:42.051000 (1574274, 17)\n"
     ]
    },
    {
     "name": "stderr",
     "output_type": "stream",
     "text": [
      "/Users/andreikirpichev/opt/anaconda3/lib/python3.9/site-packages/sklearn/linear_model/_logistic.py:814: ConvergenceWarning: lbfgs failed to converge (status=1):\n",
      "STOP: TOTAL NO. of ITERATIONS REACHED LIMIT.\n",
      "\n",
      "Increase the number of iterations (max_iter) or scale the data as shown in:\n",
      "    https://scikit-learn.org/stable/modules/preprocessing.html\n",
      "Please also refer to the documentation for alternative solver options:\n",
      "    https://scikit-learn.org/stable/modules/linear_model.html#logistic-regression\n",
      "  n_iter_i = _check_optimize_result(\n"
     ]
    },
    {
     "data": {
      "text/plain": "LogisticRegression()"
     },
     "execution_count": 7,
     "metadata": {},
     "output_type": "execute_result"
    }
   ],
   "source": [
    "# Create features and target\n",
    "features = categorical_features + ['age', 'placement_odds']\n",
    "features_meta = features + ['placement_time', 'customer_id', 'weekday_stake', 'section_2w', 'point_2w', 'market_2w']\n",
    "X = bets_populated[features_meta]\n",
    "y = bets_populated[['label']]\n",
    "\n",
    "# show rows with NaN values\n",
    "#X[X.isna().any(axis=1)]\n",
    "\n",
    "# Make necessary imports\n",
    "from sklearn.model_selection import train_test_split\n",
    "from sklearn.linear_model import LogisticRegression\n",
    "\n",
    "# Split data into training and test sets\n",
    "X_train, X_test, y_train, y_test = train_test_split(X, y, test_size = 0.20, random_state = 101, shuffle=False)\n",
    "\n",
    "print('train: from', X_train['placement_time'].min(), ' to ', X_train['placement_time'].max(), X_train.shape)\n",
    "print('test: from', X_test['placement_time'].min(), ' to ', X_test['placement_time'].max(), X_test.shape)\n",
    "threshhold = X_train['placement_time'].max()\n",
    "\n",
    "X_train = X_train[features]\n",
    "\n",
    "# Train the model\n",
    "model = LogisticRegression()\n",
    "model.fit(X_train, y_train.values.ravel())"
   ],
   "metadata": {
    "collapsed": false
   }
  },
  {
   "cell_type": "code",
   "execution_count": 8,
   "outputs": [
    {
     "data": {
      "text/plain": "section                    int64\npoint                      int64\nmarket                     int64\nregion                     int64\ncontest_id                 int64\nleague                     int64\nhome                       int64\naway                       int64\ncountry                    int64\nage                        int64\nplacement_odds           float64\nplacement_time    datetime64[ns]\ncustomer_id               object\nweekday_stake            float64\nsection_2w               float64\npoint_2w                 float64\nmarket_2w                float64\ndtype: object"
     },
     "execution_count": 8,
     "metadata": {},
     "output_type": "execute_result"
    }
   ],
   "source": [
    "X_test.dtypes"
   ],
   "metadata": {
    "collapsed": false
   }
  },
  {
   "cell_type": "code",
   "execution_count": 28,
   "outputs": [
    {
     "data": {
      "text/plain": "         section  point  market  region  contest_id  league  home  away  \\\n136724         7      2       4     104       26629     243  3831  6200   \n3419903        5      2      21      27        5555     186  7223    28   \n3139673        1      1       4       4       30380      68  7270  4215   \n3139672        1      1       4      27       35353     161  2346  7221   \n3139675        2      1       4      40       29343     156  1778  5609   \n\n         country  age  placement_odds          placement_time customer_id  \\\n136724         3   89          2.4756 2022-10-17 20:05:48.066    17297810   \n3419903        5   53          5.1000 2022-10-17 20:05:48.066    15834910   \n3139673        2   33          1.9000 2022-10-17 20:05:49.417    11339210   \n3139672        2   33          4.0000 2022-10-17 20:05:49.417    11339210   \n3139675        2   33          2.6000 2022-10-17 20:05:49.417    11339210   \n\n         weekday_stake  section_2w  point_2w  market_2w  label  \\\n136724          189.37       53.72     72.25      48.81      0   \n3419903         140.24       15.67    224.73      83.56      0   \n3139673           0.20        0.17      0.14       0.23      1   \n3139672           0.20        0.17      0.14       0.23      1   \n3139675           0.18        0.16      0.14       0.23      1   \n\n                                        prediction  \n136724   [0.26436097327179775, 0.7356390267282022]  \n3419903  [0.7535917210829757, 0.24640827891702435]  \n3139673   [0.6280268382729739, 0.3719731617270261]  \n3139672  [0.8142854027247666, 0.18571459727523337]  \n3139675  [0.6599602159927315, 0.34003978400726853]  ",
      "text/html": "<div>\n<style scoped>\n    .dataframe tbody tr th:only-of-type {\n        vertical-align: middle;\n    }\n\n    .dataframe tbody tr th {\n        vertical-align: top;\n    }\n\n    .dataframe thead th {\n        text-align: right;\n    }\n</style>\n<table border=\"1\" class=\"dataframe\">\n  <thead>\n    <tr style=\"text-align: right;\">\n      <th></th>\n      <th>section</th>\n      <th>point</th>\n      <th>market</th>\n      <th>region</th>\n      <th>contest_id</th>\n      <th>league</th>\n      <th>home</th>\n      <th>away</th>\n      <th>country</th>\n      <th>age</th>\n      <th>placement_odds</th>\n      <th>placement_time</th>\n      <th>customer_id</th>\n      <th>weekday_stake</th>\n      <th>section_2w</th>\n      <th>point_2w</th>\n      <th>market_2w</th>\n      <th>label</th>\n      <th>prediction</th>\n    </tr>\n  </thead>\n  <tbody>\n    <tr>\n      <th>136724</th>\n      <td>7</td>\n      <td>2</td>\n      <td>4</td>\n      <td>104</td>\n      <td>26629</td>\n      <td>243</td>\n      <td>3831</td>\n      <td>6200</td>\n      <td>3</td>\n      <td>89</td>\n      <td>2.4756</td>\n      <td>2022-10-17 20:05:48.066</td>\n      <td>17297810</td>\n      <td>189.37</td>\n      <td>53.72</td>\n      <td>72.25</td>\n      <td>48.81</td>\n      <td>0</td>\n      <td>[0.26436097327179775, 0.7356390267282022]</td>\n    </tr>\n    <tr>\n      <th>3419903</th>\n      <td>5</td>\n      <td>2</td>\n      <td>21</td>\n      <td>27</td>\n      <td>5555</td>\n      <td>186</td>\n      <td>7223</td>\n      <td>28</td>\n      <td>5</td>\n      <td>53</td>\n      <td>5.1000</td>\n      <td>2022-10-17 20:05:48.066</td>\n      <td>15834910</td>\n      <td>140.24</td>\n      <td>15.67</td>\n      <td>224.73</td>\n      <td>83.56</td>\n      <td>0</td>\n      <td>[0.7535917210829757, 0.24640827891702435]</td>\n    </tr>\n    <tr>\n      <th>3139673</th>\n      <td>1</td>\n      <td>1</td>\n      <td>4</td>\n      <td>4</td>\n      <td>30380</td>\n      <td>68</td>\n      <td>7270</td>\n      <td>4215</td>\n      <td>2</td>\n      <td>33</td>\n      <td>1.9000</td>\n      <td>2022-10-17 20:05:49.417</td>\n      <td>11339210</td>\n      <td>0.20</td>\n      <td>0.17</td>\n      <td>0.14</td>\n      <td>0.23</td>\n      <td>1</td>\n      <td>[0.6280268382729739, 0.3719731617270261]</td>\n    </tr>\n    <tr>\n      <th>3139672</th>\n      <td>1</td>\n      <td>1</td>\n      <td>4</td>\n      <td>27</td>\n      <td>35353</td>\n      <td>161</td>\n      <td>2346</td>\n      <td>7221</td>\n      <td>2</td>\n      <td>33</td>\n      <td>4.0000</td>\n      <td>2022-10-17 20:05:49.417</td>\n      <td>11339210</td>\n      <td>0.20</td>\n      <td>0.17</td>\n      <td>0.14</td>\n      <td>0.23</td>\n      <td>1</td>\n      <td>[0.8142854027247666, 0.18571459727523337]</td>\n    </tr>\n    <tr>\n      <th>3139675</th>\n      <td>2</td>\n      <td>1</td>\n      <td>4</td>\n      <td>40</td>\n      <td>29343</td>\n      <td>156</td>\n      <td>1778</td>\n      <td>5609</td>\n      <td>2</td>\n      <td>33</td>\n      <td>2.6000</td>\n      <td>2022-10-17 20:05:49.417</td>\n      <td>11339210</td>\n      <td>0.18</td>\n      <td>0.16</td>\n      <td>0.14</td>\n      <td>0.23</td>\n      <td>1</td>\n      <td>[0.6599602159927315, 0.34003978400726853]</td>\n    </tr>\n  </tbody>\n</table>\n</div>"
     },
     "execution_count": 28,
     "metadata": {},
     "output_type": "execute_result"
    }
   ],
   "source": [
    "import warnings\n",
    "warnings.filterwarnings('ignore')\n",
    "\n",
    "# Make prediction\n",
    "predictions = model.predict_proba(X_test[features])\n",
    "\n",
    "result = X_test[:]\n",
    "result['label'] = y_test\n",
    "result['prediction'] = predictions.tolist()\n",
    "result.head()"
   ],
   "metadata": {
    "collapsed": false
   }
  },
  {
   "cell_type": "code",
   "execution_count": 10,
   "outputs": [
    {
     "name": "stdout",
     "output_type": "stream",
     "text": [
      "Accuracy: 0.7388237371639245\n",
      "Precision: 0.7869707413610285\n",
      "Recall: 0.6629209107400391\n"
     ]
    }
   ],
   "source": [
    "# Import library for metrics\n",
    "from sklearn.metrics import accuracy_score, precision_score, recall_score\n",
    "\n",
    "# Print metrics\n",
    "print(\"Accuracy:\", accuracy_score(y_test, predictions))\n",
    "print(\"Precision:\", precision_score(y_test, predictions))\n",
    "print(\"Recall:\", recall_score(y_test, predictions))"
   ],
   "metadata": {
    "collapsed": false
   }
  },
  {
   "cell_type": "code",
   "execution_count": 11,
   "outputs": [
    {
     "data": {
      "text/plain": "(1574274, 17)"
     },
     "execution_count": 11,
     "metadata": {},
     "output_type": "execute_result"
    }
   ],
   "source": [
    "X_test.shape"
   ],
   "metadata": {
    "collapsed": false
   }
  },
  {
   "cell_type": "code",
   "execution_count": 17,
   "outputs": [
    {
     "data": {
      "text/plain": "         section  point  market  region  contest_id  league  home  away  \\\n136724         7      2       4     104       26629     243  3831  6200   \n3419903        5      2      21      27        5555     186  7223    28   \n3139673        1      1       4       4       30380      68  7270  4215   \n\n         country  age  placement_odds          placement_time customer_id  \\\n136724         3   89          2.4756 2022-10-17 20:05:48.066    17297810   \n3419903        5   53          5.1000 2022-10-17 20:05:48.066    15834910   \n3139673        2   33          1.9000 2022-10-17 20:05:49.417    11339210   \n\n         weekday_stake  section_2w  point_2w  market_2w  \n136724          189.37       53.72     72.25      48.81  \n3419903         140.24       15.67    224.73      83.56  \n3139673           0.20        0.17      0.14       0.23  ",
      "text/html": "<div>\n<style scoped>\n    .dataframe tbody tr th:only-of-type {\n        vertical-align: middle;\n    }\n\n    .dataframe tbody tr th {\n        vertical-align: top;\n    }\n\n    .dataframe thead th {\n        text-align: right;\n    }\n</style>\n<table border=\"1\" class=\"dataframe\">\n  <thead>\n    <tr style=\"text-align: right;\">\n      <th></th>\n      <th>section</th>\n      <th>point</th>\n      <th>market</th>\n      <th>region</th>\n      <th>contest_id</th>\n      <th>league</th>\n      <th>home</th>\n      <th>away</th>\n      <th>country</th>\n      <th>age</th>\n      <th>placement_odds</th>\n      <th>placement_time</th>\n      <th>customer_id</th>\n      <th>weekday_stake</th>\n      <th>section_2w</th>\n      <th>point_2w</th>\n      <th>market_2w</th>\n    </tr>\n  </thead>\n  <tbody>\n    <tr>\n      <th>136724</th>\n      <td>7</td>\n      <td>2</td>\n      <td>4</td>\n      <td>104</td>\n      <td>26629</td>\n      <td>243</td>\n      <td>3831</td>\n      <td>6200</td>\n      <td>3</td>\n      <td>89</td>\n      <td>2.4756</td>\n      <td>2022-10-17 20:05:48.066</td>\n      <td>17297810</td>\n      <td>189.37</td>\n      <td>53.72</td>\n      <td>72.25</td>\n      <td>48.81</td>\n    </tr>\n    <tr>\n      <th>3419903</th>\n      <td>5</td>\n      <td>2</td>\n      <td>21</td>\n      <td>27</td>\n      <td>5555</td>\n      <td>186</td>\n      <td>7223</td>\n      <td>28</td>\n      <td>5</td>\n      <td>53</td>\n      <td>5.1000</td>\n      <td>2022-10-17 20:05:48.066</td>\n      <td>15834910</td>\n      <td>140.24</td>\n      <td>15.67</td>\n      <td>224.73</td>\n      <td>83.56</td>\n    </tr>\n    <tr>\n      <th>3139673</th>\n      <td>1</td>\n      <td>1</td>\n      <td>4</td>\n      <td>4</td>\n      <td>30380</td>\n      <td>68</td>\n      <td>7270</td>\n      <td>4215</td>\n      <td>2</td>\n      <td>33</td>\n      <td>1.9000</td>\n      <td>2022-10-17 20:05:49.417</td>\n      <td>11339210</td>\n      <td>0.20</td>\n      <td>0.17</td>\n      <td>0.14</td>\n      <td>0.23</td>\n    </tr>\n  </tbody>\n</table>\n</div>"
     },
     "execution_count": 17,
     "metadata": {},
     "output_type": "execute_result"
    }
   ],
   "source": [
    "X_test.head(3)"
   ],
   "metadata": {
    "collapsed": false
   }
  },
  {
   "cell_type": "code",
   "execution_count": 50,
   "outputs": [
    {
     "name": "stdout",
     "output_type": "stream",
     "text": [
      "Mode Hit Rate:  0.4 % baseline:  1.6 %  processed  5.0 %\n",
      "Mode Hit Rate:  0.2 % baseline:  0.0 %  processed  10.0 %\n",
      "Mode Hit Rate:  0.13 % baseline:  0.27 %  processed  15.0 %\n",
      "Mode Hit Rate:  0.1 % baseline:  0.2 %  processed  20.0 %\n",
      "Mode Hit Rate:  0.08 % baseline:  0.4 %  processed  25.0 %\n",
      "Mode Hit Rate:  0.07 % baseline:  0.07 %  processed  30.0 %\n",
      "Mode Hit Rate:  0.06 % baseline:  0.17 %  processed  35.0 %\n",
      "Mode Hit Rate:  0.0 % baseline:  0.05 %  processed  40.0 %\n",
      "Mode Hit Rate:  0.04 % baseline:  0.22 %  processed  45.0 %\n",
      "Mode Hit Rate:  0.04 % baseline:  0.2 %  processed  50.0 %\n",
      "Mode Hit Rate:  0.0 % baseline:  0.0 %  processed  55.0 %\n",
      "Mode Hit Rate:  0.03 % baseline:  0.0 %  processed  60.0 %\n",
      "Mode Hit Rate:  0.03 % baseline:  0.03 %  processed  65.0 %\n",
      "Mode Hit Rate:  0.0 % baseline:  0.0 %  processed  70.0 %\n",
      "Mode Hit Rate:  0.0 % baseline:  0.0 %  processed  75.0 %\n",
      "Mode Hit Rate:  0.05 % baseline:  0.03 %  processed  80.0 %\n",
      "Mode Hit Rate:  0.02 % baseline:  0.12 %  processed  85.0 %\n",
      "Mode Hit Rate:  0.02 % baseline:  0.09 %  processed  90.0 %\n",
      "Mode Hit Rate:  0.02 % baseline:  0.06 %  processed  95.0 %\n",
      "Mode Hit Rate:  0.0 % baseline:  0.0 %  processed  100.0 %\n"
     ]
    }
   ],
   "source": [
    "pd.options.mode.chained_assignment = None\n",
    "size = 1000\n",
    "shuffled = X_test[:].sample(frac=1)\n",
    "\n",
    "progress = 0\n",
    "pred_sum = 0\n",
    "base_sum = 0\n",
    "for index, row in shuffled.head(size).iterrows():\n",
    "    current_betmarkets = test_betmarkets[(test_betmarkets['start'] <= row['placement_time']) &\n",
    "                                         (test_betmarkets['end'] >= row['placement_time'])]\n",
    "    customer_bet_features = ['country', 'age']#, 'weekday_stake', 'section_2w', 'point_2w', 'market_2w']\n",
    "    current_betmarkets[customer_bet_features] = row[customer_bet_features]\n",
    "    bets_2w = bets_populated[(bets_populated['placement_time'] > row['placement_time'] - np.timedelta64(14,'D')) &\n",
    "                   (bets_populated['placement_time'] < row['placement_time'])]\n",
    "    def set_avg_2w(bm_type):\n",
    "        type_2w = bets_2w.groupby(['customer_id',bm_type],as_index=False)['stake_eur'].mean('')\n",
    "        type_by_customer = type_2w[type_2w['customer_id'] == row['customer_id']][[bm_type, 'stake_eur']]\n",
    "        type_by_customer[bm_type]=type_by_customer[bm_type].astype(int)\n",
    "        current_betmarkets[bm_type + '_2w'] = pd.merge(current_betmarkets, type_by_customer, on=bm_type)[['stake_eur']]\n",
    "        current_betmarkets[bm_type + '_2w'] = current_betmarkets[bm_type + '_2w'].fillna(0)\n",
    "\n",
    "    set_avg_2w('section')\n",
    "    set_avg_2w('point')\n",
    "    set_avg_2w('market')\n",
    "\n",
    "    predictions = model.predict_proba(current_betmarkets[features])\n",
    "    current_betmarkets['prediction'] = [tuple[1] for tuple in predictions]\n",
    "    recommended = current_betmarkets.query('prediction == prediction.max()')\n",
    "    model_predicted = recommended.iloc[0]\n",
    "\n",
    "    customer_bets = bets_2w[bets_2w['customer_id'] == row['customer_id']]\n",
    "    if customer_bets.empty:\n",
    "        baseline_predicted['market'] = 4\n",
    "        baseline_predicted['point'] = 7\n",
    "        baseline_predicted['section'] = 37\n",
    "    else:\n",
    "        last_customer_bet = customer_bets.query('placement_time == placement_time.max()')\n",
    "        baseline_predicted = last_customer_bet.iloc[0]\n",
    "\n",
    "    customerContestIdInteractions = bets_2w[(bets_2w['customer_id'] == row['customer_id']) &\n",
    "                                            (bets_2w['contest_id'] == row['contest_id'])]\n",
    "    if customerContestIdInteractions.empty:\n",
    "        mostPopular = bets_2w[['contest_id', 'region', 'league']].mode().iloc[0]\n",
    "        baseline_predicted[['region', 'league']] = mostPopular[['region', 'league']]\n",
    "    else:\n",
    "        baseline_predicted[['region', 'league']] = customerContestIdInteractions.iloc[0]\n",
    "\n",
    "\n",
    "    def hitRate(predicted, sum):\n",
    "        res = ((1 if predicted['league'] == row['league'] else 0) +\n",
    "               (1 if predicted['region'] == row['region'] else 0) +\n",
    "               (1 if predicted['market'] == row['market'] else 0) +\n",
    "               (1 if predicted['point'] == row['point'] else 0) +\n",
    "               (1 if predicted['section'] == row['section'] else 0)) / 5\n",
    "        sum += res\n",
    "        return sum\n",
    "\n",
    "    progress += 1\n",
    "    if progress % 50 == 0:\n",
    "        print(\"Mode Hit Rate: \", round(hitRate(model_predicted, pred_sum) / progress * 100, 2), \"%\",\n",
    "              \"baseline: \", round(hitRate(baseline_predicted, base_sum) / progress * 100, 2), \"%\",\n",
    "              \" processed \", round(progress / size * 100, 2), \"%\")"
   ],
   "metadata": {
    "collapsed": false
   }
  },
  {
   "cell_type": "code",
   "execution_count": null,
   "outputs": [],
   "source": [
    "import random\n",
    "cols = bets.columns.tolist()\n",
    "cols.remove(\"placement_time\")\n",
    "populated = pd.DataFrame()\n",
    "for i in range(len(cols)):\n",
    "    col = cols[i]\n",
    "    value_counts = bets[col].value_counts()\n",
    "    population = value_counts.index.tolist()\n",
    "    weights = value_counts.values.tolist()\n",
    "    populated[col] = random.choices(population, weights=None, k=bets.shape[0])\n",
    "\n",
    "value_counts = bets[\"placement_time\"].value_counts()\n",
    "population = value_counts.index.tolist()\n",
    "weights = value_counts.values.tolist()\n",
    "datetimes = pd.DatetimeIndex(population, dtype='datetime64[ns]', freq=None)\n",
    "populated[\"placement_time\"] = random.choices(datetimes.values, k=bets.shape[0])\n",
    "\n",
    "populated['label'] = 0\n",
    "bets_populated = pd.concat([bets, populated])\n",
    "bets_populated = bets_populated.sort_values('placement_time')\n",
    "bets_populated.to_parquet('/Users/andreikirpichev/parquet/bets_populated_weighted.gzip',\n",
    "            compression='gzip')"
   ],
   "metadata": {
    "collapsed": false
   }
  },
  {
   "cell_type": "code",
   "execution_count": null,
   "outputs": [],
   "source": [],
   "metadata": {
    "collapsed": false
   }
  }
 ],
 "metadata": {
  "kernelspec": {
   "display_name": "Python 3 (ipykernel)",
   "language": "python",
   "name": "python3"
  },
  "language_info": {
   "codemirror_mode": {
    "name": "ipython",
    "version": 3
   },
   "file_extension": ".py",
   "mimetype": "text/x-python",
   "name": "python",
   "nbconvert_exporter": "python",
   "pygments_lexer": "ipython3",
   "version": "3.9.13"
  }
 },
 "nbformat": 4,
 "nbformat_minor": 5
}
