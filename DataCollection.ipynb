{
 "cells": [
  {
   "cell_type": "code",
   "execution_count": 1,
   "outputs": [
    {
     "name": "stdout",
     "output_type": "stream",
     "text": [
      "23/05/11 09:32:36 WARN Utils: Your hostname, Andreis-MacBook-Air-2.local resolves to a loopback address: 127.0.0.1; using 192.168.1.145 instead (on interface en0)\n",
      "23/05/11 09:32:36 WARN Utils: Set SPARK_LOCAL_IP if you need to bind to another address\n",
      ":: loading settings :: url = jar:file:/Users/andreikirpichev/opt/anaconda3/lib/python3.9/site-packages/pyspark/jars/ivy-2.5.0.jar!/org/apache/ivy/core/settings/ivysettings.xml\n"
     ]
    },
    {
     "name": "stderr",
     "output_type": "stream",
     "text": [
      "Ivy Default Cache set to: /Users/andreikirpichev/.ivy2/cache\n",
      "The jars for the packages stored in: /Users/andreikirpichev/.ivy2/jars\n",
      "io.delta#delta-core_2.12 added as a dependency\n",
      ":: resolving dependencies :: org.apache.spark#spark-submit-parent-2d498460-aa18-412e-a111-5fce3ed915ff;1.0\n",
      "\tconfs: [default]\n",
      "\tfound io.delta#delta-core_2.12;2.1.0 in central\n",
      "\tfound io.delta#delta-storage;2.1.0 in central\n",
      "\tfound org.antlr#antlr4-runtime;4.8 in central\n",
      "\tfound org.codehaus.jackson#jackson-core-asl;1.9.13 in central\n",
      ":: resolution report :: resolve 110ms :: artifacts dl 3ms\n",
      "\t:: modules in use:\n",
      "\tio.delta#delta-core_2.12;2.1.0 from central in [default]\n",
      "\tio.delta#delta-storage;2.1.0 from central in [default]\n",
      "\torg.antlr#antlr4-runtime;4.8 from central in [default]\n",
      "\torg.codehaus.jackson#jackson-core-asl;1.9.13 from central in [default]\n",
      "\t---------------------------------------------------------------------\n",
      "\t|                  |            modules            ||   artifacts   |\n",
      "\t|       conf       | number| search|dwnlded|evicted|| number|dwnlded|\n",
      "\t---------------------------------------------------------------------\n",
      "\t|      default     |   4   |   0   |   0   |   0   ||   4   |   0   |\n",
      "\t---------------------------------------------------------------------\n",
      ":: retrieving :: org.apache.spark#spark-submit-parent-2d498460-aa18-412e-a111-5fce3ed915ff\n",
      "\tconfs: [default]\n",
      "\t0 artifacts copied, 4 already retrieved (0kB/5ms)\n"
     ]
    },
    {
     "name": "stdout",
     "output_type": "stream",
     "text": [
      "23/05/11 09:32:37 WARN NativeCodeLoader: Unable to load native-hadoop library for your platform... using builtin-java classes where applicable\n"
     ]
    },
    {
     "name": "stderr",
     "output_type": "stream",
     "text": [
      "Setting default log level to \"WARN\".\n",
      "To adjust logging level use sc.setLogLevel(newLevel). For SparkR, use setLogLevel(newLevel).\n"
     ]
    },
    {
     "name": "stdout",
     "output_type": "stream",
     "text": [
      "time: 3.07 s (started: 2023-05-11 09:32:35 +02:00)\n"
     ]
    }
   ],
   "source": [
    "%load_ext autotime\n",
    "import pyspark\n",
    "from currency_converter import CurrencyConverter, ECB_URL\n",
    "from delta import *\n",
    "from pyspark.sql.functions import *\n",
    "from pyspark.sql.types import DoubleType\n",
    "from pyspark.sql.window import Window\n",
    "\n",
    "builder = pyspark.sql.SparkSession.builder.appName(\"MyApp\") \\\n",
    "    .config(\"spark.sql.extensions\", \"io.delta.sql.DeltaSparkSessionExtension\") \\\n",
    "    .config(\"spark.sql.catalog.spark_catalog\", \"org.apache.spark.sql.delta.catalog.DeltaCatalog\") \\\n",
    "    .config(\"spark.driver.memory\", \"16g\") \\\n",
    "    .config(\"spark.driver.maxResultSize\", \"0\") \\\n",
    "    .config(\"spark.driver.extraJavaOptions\", \"-Xss4M\")\n",
    "\n",
    "spark = configure_spark_with_delta_pip(builder).getOrCreate()"
   ],
   "metadata": {
    "collapsed": false
   }
  },
  {
   "cell_type": "code",
   "execution_count": 3,
   "outputs": [
    {
     "name": "stderr",
     "output_type": "stream",
     "text": [
      "                                                                                \r"
     ]
    },
    {
     "name": "stdout",
     "output_type": "stream",
     "text": [
      "time: 18.1 s (started: 2023-05-10 12:24:37 +02:00)\n"
     ]
    }
   ],
   "source": [
    "bm = spark.read.format(\"delta\").load(\"/Users/andreikirpichev/parquet/betmarkets_lifespan/\")\n",
    "bm_contest = bm.withColumn('contest_id', split(bm.contest_id, '\\|').getItem(1))\n",
    "bm_football = bm_contest.filter(bm_contest[\"sport\"] == \"Football\")\n",
    "# test: from 2022-10-18 09:32:32.232000  to  2022-10-28 14:23:44.972000 (974330, 13)\n",
    "MAX_START = \"2022-10-28 14:23:42.051000\"\n",
    "MIN_END = \"2022-10-22 22:50:28.562000\"\n",
    "test_bm = bm_football.filter((bm_football[\"start\"] <= MAX_START) &\n",
    "                             (bm_football[\"end\"] >= MIN_END))\n",
    "test_bm = test_bm\\\n",
    "    .withColumn('point_type', regexp_replace('point_type', 'goal', 'Goal'))\\\n",
    "    .withColumn('point_type', regexp_replace('point_type', 'corner', 'Corner'))\\\n",
    "    .withColumn('point_type', regexp_replace('point_type', 'red card', 'RedCard'))\\\n",
    "    .select('contest_id', 'section', col('point_type').alias('point'), col('market_type').alias('market'), 'away', 'start', 'end', 'home', 'league', 'region', 'sport', col('odds').alias('placement_odds'))\n",
    "\n",
    "test_bm.write.format(\"delta\").mode(\"overwrite\").save(\"/Users/andreikirpichev/parquet/test_betmarkets_grouped\")"
   ],
   "metadata": {
    "collapsed": false
   }
  },
  {
   "cell_type": "code",
   "execution_count": 2,
   "outputs": [
    {
     "name": "stderr",
     "output_type": "stream",
     "text": [
      "                                                                                \r"
     ]
    },
    {
     "name": "stdout",
     "output_type": "stream",
     "text": [
      "time: 16.7 s (started: 2023-05-09 23:27:20 +02:00)\n"
     ]
    }
   ],
   "source": [
    "bm = spark.read.format(\"delta\").load(\"/Users/andreikirpichev/parquet/betmarkets_lifespan/\")\n",
    "bm_by_outcome = bm.select('contest_id', 'section', 'point_type', 'market_type', 'market_params', 'away', 'end', 'home', 'league', col('odds').alias(\"odds_map\"), 'region', 'sport', 'start', explode(\"odds\").alias(\"outcome\", \"odds\"))\n",
    "bm_contest = bm_by_outcome.withColumn('contest_id', split(bm_by_outcome.contest_id, '\\|').getItem(1))\n",
    "bm_football = bm_contest.filter(bm_contest[\"sport\"] == \"Football\")\n",
    "# test: from 2022-10-18 09:32:32.232000  to  2022-10-28 14:23:44.972000 (974330, 13)\n",
    "MAX_START = \"2022-10-28 14:23:42.051000\"\n",
    "MIN_END = \"2022-10-22 22:50:28.562000\"\n",
    "test_bm = bm_football.filter((bm_football[\"start\"] <= MAX_START) &\n",
    "                             (bm_football[\"end\"] >= MIN_END))\n",
    "test_bm = test_bm\\\n",
    "    .withColumn('point_type', regexp_replace('point_type', 'goal', 'Goal'))\\\n",
    "    .withColumn('point_type', regexp_replace('point_type', 'corner', 'Corner'))\\\n",
    "    .withColumn('point_type', regexp_replace('point_type', 'red card', 'RedCard'))\\\n",
    "    .select('contest_id', 'section', col('point_type').alias('point'), col('market_type').alias('market'), 'away', 'start', 'end', 'home', 'league', 'region', 'sport', col('odds').alias('placement_odds'))\n",
    "\n",
    "#test_bm.write.format(\"delta\").mode(\"overwrite\").save(\"/Users/andreikirpichev/parquet/test_betmarkets\")"
   ],
   "metadata": {
    "collapsed": false
   }
  },
  {
   "cell_type": "code",
   "execution_count": 7,
   "outputs": [
    {
     "name": "stdout",
     "output_type": "stream",
     "text": [
      "+----------+-------+-----+----------------+------------+--------------------+-------------------+---------------+----------------+------+--------+--------------------+\n",
      "|contest_id|section|point|          market|        away|               start|                end|           home|          league|region|   sport|      placement_odds|\n",
      "+----------+-------+-----+----------------+------------+--------------------+-------------------+---------------+----------------+------+--------+--------------------+\n",
      "| FB-216767|     RT| Goal|BothTeamsToScore|UE Engordany|2022-10-22 16:53:...|2022-10-23 18:30:00|UE Santa Coloma|Primera Division|    AD|Football|{Yes -> 1.72, No ...|\n",
      "| FB-216767|     RT| Goal|    CorrectScore|UE Engordany|2022-10-22 16:53:...|2022-10-23 18:30:00|UE Santa Coloma|Primera Division|    AD|Football|{ResultOutcome ->...|\n",
      "| FB-216767|     RT| Goal|       EvenScore|UE Engordany|2022-10-22 18:19:...|2022-10-23 18:30:00|UE Santa Coloma|Primera Division|    AD|Football|{Yes -> 1.78, No ...|\n",
      "| FB-216767|     RT| Goal|      Handicap2w|UE Engordany|2022-10-22 16:53:...|2022-10-23 18:30:00|UE Santa Coloma|Primera Division|    AD|Football|{Home -> 1.68, Aw...|\n",
      "+----------+-------+-----+----------------+------------+--------------------+-------------------+---------------+----------------+------+--------+--------------------+\n",
      "only showing top 4 rows\n",
      "\n",
      "time: 550 ms (started: 2023-05-10 12:47:53 +02:00)\n"
     ]
    }
   ],
   "source": [
    "fixtures_df = spark.read.format(\"delta\").load(\"/Users/andreikirpichev/parquet/test_betmarkets_grouped/\")\n",
    "fixtures_df.show(5)"
   ],
   "metadata": {
    "collapsed": false
   }
  },
  {
   "cell_type": "code",
   "execution_count": 6,
   "outputs": [
    {
     "ename": "AttributeError",
     "evalue": "'GroupedData' object has no attribute 'show'",
     "output_type": "error",
     "traceback": [
      "\u001B[0;31m---------------------------------------------------------------------------\u001B[0m",
      "\u001B[0;31mAttributeError\u001B[0m                            Traceback (most recent call last)",
      "\u001B[0;32m/var/folders/tt/4xbqrq2s7vqgv_5z3nrppw_m0000gn/T/ipykernel_27370/122323717.py\u001B[0m in \u001B[0;36m<module>\u001B[0;34m\u001B[0m\n\u001B[1;32m      1\u001B[0m \u001B[0mfixtures_df\u001B[0m \u001B[0;34m=\u001B[0m \u001B[0mspark\u001B[0m\u001B[0;34m.\u001B[0m\u001B[0mread\u001B[0m\u001B[0;34m.\u001B[0m\u001B[0mformat\u001B[0m\u001B[0;34m(\u001B[0m\u001B[0;34m\"delta\"\u001B[0m\u001B[0;34m)\u001B[0m\u001B[0;34m.\u001B[0m\u001B[0mload\u001B[0m\u001B[0;34m(\u001B[0m\u001B[0;34m\"/Users/andreikirpichev/parquet/test_betmarkets_grouped/\"\u001B[0m\u001B[0;34m)\u001B[0m\u001B[0;34m\u001B[0m\u001B[0;34m\u001B[0m\u001B[0m\n\u001B[0;32m----> 2\u001B[0;31m \u001B[0mfixtures_df\u001B[0m\u001B[0;34m.\u001B[0m\u001B[0mgroupby\u001B[0m\u001B[0;34m(\u001B[0m\u001B[0;34m'section'\u001B[0m\u001B[0;34m,\u001B[0m \u001B[0;34m'point'\u001B[0m\u001B[0;34m,\u001B[0m \u001B[0;34m'market'\u001B[0m\u001B[0;34m,\u001B[0m \u001B[0;34m'league'\u001B[0m\u001B[0;34m,\u001B[0m \u001B[0;34m'region'\u001B[0m\u001B[0;34m)\u001B[0m\u001B[0;34m.\u001B[0m\u001B[0mshow\u001B[0m\u001B[0;34m(\u001B[0m\u001B[0;36m5\u001B[0m\u001B[0;34m)\u001B[0m\u001B[0;34m\u001B[0m\u001B[0;34m\u001B[0m\u001B[0m\n\u001B[0m",
      "\u001B[0;31mAttributeError\u001B[0m: 'GroupedData' object has no attribute 'show'"
     ]
    },
    {
     "name": "stdout",
     "output_type": "stream",
     "text": [
      "time: 149 ms (started: 2023-05-10 12:45:19 +02:00)\n"
     ]
    }
   ],
   "source": [
    "fixtures_df = spark.read.format(\"delta\").load(\"/Users/andreikirpichev/parquet/test_betmarkets_grouped/\")\n",
    "fixtures_df.groupby('section', 'point', 'market', 'league', 'region').(5)"
   ],
   "metadata": {
    "collapsed": false
   }
  },
  {
   "cell_type": "code",
   "execution_count": 6,
   "outputs": [
    {
     "data": {
      "text/plain": "Row(date=[datetime.date(2018, 1, 1), datetime.date(2018, 2, 1), datetime.date(2018, 3, 1)])"
     },
     "execution_count": 6,
     "metadata": {},
     "output_type": "execute_result"
    },
    {
     "name": "stdout",
     "output_type": "stream",
     "text": [
      "time: 61.4 ms (started: 2023-05-08 11:53:07 +02:00)\n"
     ]
    }
   ],
   "source": [
    "spark.sql(\"SELECT sequence(to_date('2018-01-01'), to_date('2018-03-01'), interval 1 month) as date\").head()"
   ],
   "metadata": {
    "collapsed": false
   }
  },
  {
   "cell_type": "code",
   "execution_count": 3,
   "outputs": [
    {
     "name": "stdout",
     "output_type": "stream",
     "text": [
      "time: 1.23 s (started: 2023-05-11 09:33:26 +02:00)\n"
     ]
    }
   ],
   "source": [
    "bets_df = spark.read.format(\"delta\").load(\"/Users/andreikirpichev/parquet/bet_stats/\")\n",
    "fixtures_df = spark.read.format(\"delta\").load(\"/Users/andreikirpichev/parquet/fixtures/\")\n",
    "customers_df = spark.read.format(\"delta\").load(\"/Users/andreikirpichev/parquet/customers/\")\n",
    "\n",
    "recent_dates_pre = [\n",
    "    #'2022-09-01', '2022-09-02', '2022-09-03', '2022-09-04', '2022-09-05', '2022-09-06', '2022-09-07', '2022-09-08', '2022-09-09', '2022-09-10', '2022-09-11', '2022-09-12', '2022-09-13', '2022-09-14', '2022-09-15', '2022-09-16', '2022-09-17',\n",
    "    '2022-09-18', '2022-09-19', '2022-09-20', '2022-09-21', '2022-09-22', '2022-09-23', '2022-09-24', '2022-09-25', '2022-09-26', '2022-09-27', '2022-09-28', '2022-09-29', '2022-09-30', '2022-09-31',\n",
    "    '2022-10-01', '2022-10-02', '2022-10-03', '2022-10-04', '2022-10-05', '2022-10-06', '2022-10-07', '2022-10-08', '2022-10-09', '2022-10-10', '2022-10-11', '2022-10-12', '2022-10-13', '2022-10-14','2022-10-15', '2022-10-16', '2022-10-17', '2022-10-18', '2022-10-19', '2022-10-20', '2022-10-21', '2022-10-22', '2022-10-23', '2022-10-24', '2022-10-25', '2022-10-26', '2022-10-27', '2022-10-28', '2022-10-29', '2022-10-30']\n",
    "\n",
    "recent_dates_pre.sort()\n",
    "recent_dates = recent_dates_pre[14:] # drop first 14\n",
    "\n",
    "bets_df = bets_df.filter(col(\"placement_date\").isin(recent_dates_pre))\\\n",
    "                 .withColumn('contest_id', split('contest_id', '\\|').getItem(1))\n",
    "\n",
    "bf = bets_df.join(fixtures_df, \"contest_id\", \"left\")\n",
    "bf_football = bf.filter(col(\"sport\") == \"Football\")\n",
    "#bf_football = bf_football.filter((col(\"customer_id\") == \"10047010\") | (col(\"customer_id\") == \"10098010\"))\n",
    "data = bf_football.join(customers_df, bf_football.customer_id == customers_df.id, \"left\")\n",
    "\n",
    "columns = ['customer_id', 'age', 'country', 'section', 'point', 'market', 'market_params', 'contest_id', 'placement_date', 'placement_time', 'placement_odds', 'home', 'away', 'region', 'sport', 'league', 'minutes_before_start', 'stake_eur']\n",
    "# 'bet_no', 'pick_index', 'fees', 'outcomes', 'currency', 'stake', 'placement_time', 'betting_types', 'scheduled_begin', 'birthdate'\n",
    "c = CurrencyConverter(ECB_URL, fallback_on_missing_rate=True)\n",
    "convert_curr = udf(lambda v,f,d : c.convert(v, f, 'EUR', d), DoubleType())\n",
    "\n",
    "weekday_until_now = Window.partitionBy(\"customer_id\", \"dayofweek\").rowsBetween(Window.unboundedPreceding, Window.currentRow)\n",
    "minus2w_in_seconds = -60 * 60 * 24 * 14\n",
    "section_last2weeks = Window.partitionBy(\"customer_id\", \"section\").orderBy(expr(\"unix_timestamp(placement_time)\").asc()).rangeBetween(minus2w_in_seconds, 0)\n",
    "#.orderBy(expr(\"unix_date(placement_date)\").asc()).rangeBetween(-14, 0)\n",
    "point_last2weeks = Window.partitionBy(\"customer_id\", \"point\").orderBy(expr(\"unix_timestamp(placement_time)\").asc()).rangeBetween(minus2w_in_seconds, 0)\n",
    "market_last2weeks = Window.partitionBy(\"customer_id\", \"market\").orderBy(expr(\"unix_timestamp(placement_time)\").asc()).rangeBetween(minus2w_in_seconds, 0)\n",
    "region_last2weeks = Window.partitionBy(\"customer_id\", \"region\").orderBy(expr(\"unix_timestamp(placement_time)\").asc()).rangeBetween(minus2w_in_seconds, 0)\n",
    "league_last2weeks = Window.partitionBy(\"customer_id\", \"league\").orderBy(expr(\"unix_timestamp(placement_time)\").asc()).rangeBetween(minus2w_in_seconds, 0)\n",
    "\n",
    "res = data.withColumn('age', ceil(datediff('placement_date', 'birthdate')/365.25))\\\n",
    "    .withColumn('minutes_before_start',\n",
    "                  when(\n",
    "                      round((unix_timestamp('scheduled_begin') - unix_timestamp('placement_time')) / 60) < 0,\n",
    "                      0)\n",
    "                  .otherwise(round((unix_timestamp('scheduled_begin') - unix_timestamp('placement_time')) / 60)))\\\n",
    "    .withColumn('section', split(bets_df['betting_types'].getItem(0), ' ').getItem(0))\\\n",
    "    .withColumn('point', split(bets_df['betting_types'].getItem(0), ' ').getItem(1))\\\n",
    "    .withColumn('market', split(bets_df['betting_types'].getItem(0), ' ').getItem(2))\\\n",
    "    .withColumn('market_params', regexp_extract(bets_df['betting_types'].getItem(1), '\\(.*?\\)', 0))\\\n",
    "    .withColumn(\"league\", regexp_replace(col(\"league\"), \"[ .,;{}()\\n\\t=]\", \"\"))\\\n",
    "    .filter(data['currency'] != 'NEO')\\\n",
    "    .withColumn('stake_eur', round(convert_curr('stake', 'currency', 'placement_date')/100, 2))\\\n",
    "    .select(*columns)\\\n",
    "    .withColumn(\"betmarket_id\", concat_ws('_', col(\"section\"), col(\"market\"), col(\"point\")))\\\n",
    "    .withColumn(\"match_id\", concat_ws('_', col(\"league\"), col(\"region\")))\\\n",
    "    .withColumn(\"dayofweek\", dayofweek(col(\"placement_date\")))\\\n",
    "    .withColumn(\"2w_section\", round(avg(col(\"stake_eur\")).over(section_last2weeks), 2))\\\n",
    "    .withColumn(\"2w_point\", round(avg(col(\"stake_eur\")).over(point_last2weeks), 2))\\\n",
    "    .withColumn(\"2w_market\", round(avg(col(\"stake_eur\")).over(market_last2weeks), 2))\\\n",
    "    .withColumn(\"2w_region\", round(avg(col(\"stake_eur\")).over(region_last2weeks), 2))\\\n",
    "    .withColumn(\"2w_league\", round(avg(col(\"stake_eur\")).over(league_last2weeks), 2))\\\n",
    "    .withColumn(\"weekday_stake\", round(avg(col(\"stake_eur\")).over(weekday_until_now), 2))\\\n",
    "    .filter(col(\"age\").isNotNull() & col(\"country\").isNotNull())\\\n",
    "    .orderBy(col(\"placement_time\").asc())\n",
    "\n",
    "\n",
    "#.withColumn(\"section_2w\", round(avg(col(\"stake_eur\")).over(section_last2weeks), 2))\\\n",
    "#.withColumn(\"point_2w\", round(avg(col(\"stake_eur\")).over(point_last2weeks), 2))\\\n",
    "#.withColumn(\"market_2w\", round(avg(col(\"stake_eur\")).over(market_last2weeks), 2))\\"
   ],
   "metadata": {
    "collapsed": false
   }
  },
  {
   "cell_type": "code",
   "execution_count": 5,
   "outputs": [
    {
     "name": "stdout",
     "output_type": "stream",
     "text": [
      "23/05/10 17:23:19 WARN package: Truncated the string representation of a plan since it was too large. This behavior can be adjusted by setting 'spark.sql.debug.maxToStringFields'.\n"
     ]
    },
    {
     "name": "stderr",
     "output_type": "stream",
     "text": [
      "                                                                                \r"
     ]
    },
    {
     "name": "stdout",
     "output_type": "stream",
     "text": [
      "time: 1min 37s (started: 2023-05-10 17:23:19 +02:00)\n"
     ]
    }
   ],
   "source": [
    "res.filter(col(\"placement_date\").isin(recent_dates))\\\n",
    "    .write.format(\"delta\").mode(\"overwrite\").save(\"/Users/andreikirpichev/parquet/bets_rl\")"
   ],
   "metadata": {
    "collapsed": false
   }
  },
  {
   "cell_type": "code",
   "execution_count": 1,
   "outputs": [],
   "source": [
    "from deltalake import DeltaTable\n",
    "import numpy as np\n",
    "import pandas as pd\n",
    "\n",
    "main = DeltaTable(\"/Users/andreikirpichev/parquet/bets_oct_pers_backup/\").to_pandas()\n",
    "rl = DeltaTable(\"/Users/andreikirpichev/parquet/bets_rl/\").to_pandas()\n",
    "main.sort_values('placement_time', ascending=False, inplace=True)\n",
    "rl.sort_values('placement_time', ascending=False, inplace=True)\n",
    "main.reset_index(drop=True, inplace=True)\n",
    "rl.reset_index(drop=True, inplace=True)\n",
    "#\n",
    "\n",
    "# extracted_col = rl[\"2w_section\"]\n",
    "# main.insert(1, \"2w_section_check\", extracted_col)\n",
    "main[[\"2w_region\", \"2w_league\", \"2w_section_check\"]] = rl[[\"2w_region\", \"2w_league\", \"2w_section\"]]\n",
    "#spark.createDataFrame(main).write.format(\"delta\").mode(\"overwrite\").save(\"/Users/andreikirpichev/parquet/bets_oct_pers\")"
   ],
   "metadata": {
    "collapsed": false
   }
  },
  {
   "cell_type": "code",
   "execution_count": 5,
   "outputs": [
    {
     "name": "stdout",
     "output_type": "stream",
     "text": [
      "time: 1min 26s (started: 2023-05-10 19:20:13 +02:00)\n"
     ]
    }
   ],
   "source": [
    "main.to_parquet(\"/Users/andreikirpichev/parquet/bets_oct_pers.parquet\")"
   ],
   "metadata": {
    "collapsed": false
   }
  },
  {
   "cell_type": "code",
   "execution_count": 3,
   "outputs": [
    {
     "ename": "KeyboardInterrupt",
     "evalue": "",
     "output_type": "error",
     "traceback": [
      "\u001B[0;31m---------------------------------------------------------------------------\u001B[0m",
      "\u001B[0;31mKeyboardInterrupt\u001B[0m                         Traceback (most recent call last)",
      "\u001B[0;32m/var/folders/tt/4xbqrq2s7vqgv_5z3nrppw_m0000gn/T/ipykernel_61575/2008253777.py\u001B[0m in \u001B[0;36m<module>\u001B[0;34m\u001B[0m\n\u001B[0;32m----> 1\u001B[0;31m \u001B[0mmaindf\u001B[0m \u001B[0;34m=\u001B[0m \u001B[0mspark\u001B[0m\u001B[0;34m.\u001B[0m\u001B[0mcreateDataFrame\u001B[0m\u001B[0;34m(\u001B[0m\u001B[0mmain\u001B[0m\u001B[0;34m)\u001B[0m\u001B[0;34m\u001B[0m\u001B[0;34m\u001B[0m\u001B[0m\n\u001B[0m\u001B[1;32m      2\u001B[0m \u001B[0mmaindf\u001B[0m\u001B[0;34m.\u001B[0m\u001B[0mshow\u001B[0m\u001B[0;34m(\u001B[0m\u001B[0;36m3\u001B[0m\u001B[0;34m)\u001B[0m\u001B[0;34m\u001B[0m\u001B[0;34m\u001B[0m\u001B[0m\n",
      "\u001B[0;32m~/opt/anaconda3/lib/python3.9/site-packages/pyspark/sql/session.py\u001B[0m in \u001B[0;36mcreateDataFrame\u001B[0;34m(self, data, schema, samplingRatio, verifySchema)\u001B[0m\n\u001B[1;32m    889\u001B[0m         \u001B[0;32mif\u001B[0m \u001B[0mhas_pandas\u001B[0m \u001B[0;32mand\u001B[0m \u001B[0misinstance\u001B[0m\u001B[0;34m(\u001B[0m\u001B[0mdata\u001B[0m\u001B[0;34m,\u001B[0m \u001B[0mpandas\u001B[0m\u001B[0;34m.\u001B[0m\u001B[0mDataFrame\u001B[0m\u001B[0;34m)\u001B[0m\u001B[0;34m:\u001B[0m\u001B[0;34m\u001B[0m\u001B[0;34m\u001B[0m\u001B[0m\n\u001B[1;32m    890\u001B[0m             \u001B[0;31m# Create a DataFrame from pandas DataFrame.\u001B[0m\u001B[0;34m\u001B[0m\u001B[0;34m\u001B[0m\u001B[0m\n\u001B[0;32m--> 891\u001B[0;31m             return super(SparkSession, self).createDataFrame(  # type: ignore[call-overload]\n\u001B[0m\u001B[1;32m    892\u001B[0m                 \u001B[0mdata\u001B[0m\u001B[0;34m,\u001B[0m \u001B[0mschema\u001B[0m\u001B[0;34m,\u001B[0m \u001B[0msamplingRatio\u001B[0m\u001B[0;34m,\u001B[0m \u001B[0mverifySchema\u001B[0m\u001B[0;34m\u001B[0m\u001B[0;34m\u001B[0m\u001B[0m\n\u001B[1;32m    893\u001B[0m             )\n",
      "\u001B[0;32m~/opt/anaconda3/lib/python3.9/site-packages/pyspark/sql/pandas/conversion.py\u001B[0m in \u001B[0;36mcreateDataFrame\u001B[0;34m(self, data, schema, samplingRatio, verifySchema)\u001B[0m\n\u001B[1;32m    435\u001B[0m                     \u001B[0;32mraise\u001B[0m\u001B[0;34m\u001B[0m\u001B[0;34m\u001B[0m\u001B[0m\n\u001B[1;32m    436\u001B[0m         \u001B[0mconverted_data\u001B[0m \u001B[0;34m=\u001B[0m \u001B[0mself\u001B[0m\u001B[0;34m.\u001B[0m\u001B[0m_convert_from_pandas\u001B[0m\u001B[0;34m(\u001B[0m\u001B[0mdata\u001B[0m\u001B[0;34m,\u001B[0m \u001B[0mschema\u001B[0m\u001B[0;34m,\u001B[0m \u001B[0mtimezone\u001B[0m\u001B[0;34m)\u001B[0m\u001B[0;34m\u001B[0m\u001B[0;34m\u001B[0m\u001B[0m\n\u001B[0;32m--> 437\u001B[0;31m         \u001B[0;32mreturn\u001B[0m \u001B[0mself\u001B[0m\u001B[0;34m.\u001B[0m\u001B[0m_create_dataframe\u001B[0m\u001B[0;34m(\u001B[0m\u001B[0mconverted_data\u001B[0m\u001B[0;34m,\u001B[0m \u001B[0mschema\u001B[0m\u001B[0;34m,\u001B[0m \u001B[0msamplingRatio\u001B[0m\u001B[0;34m,\u001B[0m \u001B[0mverifySchema\u001B[0m\u001B[0;34m)\u001B[0m\u001B[0;34m\u001B[0m\u001B[0;34m\u001B[0m\u001B[0m\n\u001B[0m\u001B[1;32m    438\u001B[0m \u001B[0;34m\u001B[0m\u001B[0m\n\u001B[1;32m    439\u001B[0m     def _convert_from_pandas(\n",
      "\u001B[0;32m~/opt/anaconda3/lib/python3.9/site-packages/pyspark/sql/session.py\u001B[0m in \u001B[0;36m_create_dataframe\u001B[0;34m(self, data, schema, samplingRatio, verifySchema)\u001B[0m\n\u001B[1;32m    934\u001B[0m             \u001B[0mrdd\u001B[0m\u001B[0;34m,\u001B[0m \u001B[0mstruct\u001B[0m \u001B[0;34m=\u001B[0m \u001B[0mself\u001B[0m\u001B[0;34m.\u001B[0m\u001B[0m_createFromRDD\u001B[0m\u001B[0;34m(\u001B[0m\u001B[0mdata\u001B[0m\u001B[0;34m.\u001B[0m\u001B[0mmap\u001B[0m\u001B[0;34m(\u001B[0m\u001B[0mprepare\u001B[0m\u001B[0;34m)\u001B[0m\u001B[0;34m,\u001B[0m \u001B[0mschema\u001B[0m\u001B[0;34m,\u001B[0m \u001B[0msamplingRatio\u001B[0m\u001B[0;34m)\u001B[0m\u001B[0;34m\u001B[0m\u001B[0;34m\u001B[0m\u001B[0m\n\u001B[1;32m    935\u001B[0m         \u001B[0;32melse\u001B[0m\u001B[0;34m:\u001B[0m\u001B[0;34m\u001B[0m\u001B[0;34m\u001B[0m\u001B[0m\n\u001B[0;32m--> 936\u001B[0;31m             \u001B[0mrdd\u001B[0m\u001B[0;34m,\u001B[0m \u001B[0mstruct\u001B[0m \u001B[0;34m=\u001B[0m \u001B[0mself\u001B[0m\u001B[0;34m.\u001B[0m\u001B[0m_createFromLocal\u001B[0m\u001B[0;34m(\u001B[0m\u001B[0mmap\u001B[0m\u001B[0;34m(\u001B[0m\u001B[0mprepare\u001B[0m\u001B[0;34m,\u001B[0m \u001B[0mdata\u001B[0m\u001B[0;34m)\u001B[0m\u001B[0;34m,\u001B[0m \u001B[0mschema\u001B[0m\u001B[0;34m)\u001B[0m\u001B[0;34m\u001B[0m\u001B[0;34m\u001B[0m\u001B[0m\n\u001B[0m\u001B[1;32m    937\u001B[0m         \u001B[0;32massert\u001B[0m \u001B[0mself\u001B[0m\u001B[0;34m.\u001B[0m\u001B[0m_jvm\u001B[0m \u001B[0;32mis\u001B[0m \u001B[0;32mnot\u001B[0m \u001B[0;32mNone\u001B[0m\u001B[0;34m\u001B[0m\u001B[0;34m\u001B[0m\u001B[0m\n\u001B[1;32m    938\u001B[0m         \u001B[0mjrdd\u001B[0m \u001B[0;34m=\u001B[0m \u001B[0mself\u001B[0m\u001B[0;34m.\u001B[0m\u001B[0m_jvm\u001B[0m\u001B[0;34m.\u001B[0m\u001B[0mSerDeUtil\u001B[0m\u001B[0;34m.\u001B[0m\u001B[0mtoJavaArray\u001B[0m\u001B[0;34m(\u001B[0m\u001B[0mrdd\u001B[0m\u001B[0;34m.\u001B[0m\u001B[0m_to_java_object_rdd\u001B[0m\u001B[0;34m(\u001B[0m\u001B[0;34m)\u001B[0m\u001B[0;34m)\u001B[0m\u001B[0;34m\u001B[0m\u001B[0;34m\u001B[0m\u001B[0m\n",
      "\u001B[0;32m~/opt/anaconda3/lib/python3.9/site-packages/pyspark/sql/session.py\u001B[0m in \u001B[0;36m_createFromLocal\u001B[0;34m(self, data, schema)\u001B[0m\n\u001B[1;32m    629\u001B[0m \u001B[0;34m\u001B[0m\u001B[0m\n\u001B[1;32m    630\u001B[0m         \u001B[0;32mif\u001B[0m \u001B[0mschema\u001B[0m \u001B[0;32mis\u001B[0m \u001B[0;32mNone\u001B[0m \u001B[0;32mor\u001B[0m \u001B[0misinstance\u001B[0m\u001B[0;34m(\u001B[0m\u001B[0mschema\u001B[0m\u001B[0;34m,\u001B[0m \u001B[0;34m(\u001B[0m\u001B[0mlist\u001B[0m\u001B[0;34m,\u001B[0m \u001B[0mtuple\u001B[0m\u001B[0;34m)\u001B[0m\u001B[0;34m)\u001B[0m\u001B[0;34m:\u001B[0m\u001B[0;34m\u001B[0m\u001B[0;34m\u001B[0m\u001B[0m\n\u001B[0;32m--> 631\u001B[0;31m             \u001B[0mstruct\u001B[0m \u001B[0;34m=\u001B[0m \u001B[0mself\u001B[0m\u001B[0;34m.\u001B[0m\u001B[0m_inferSchemaFromList\u001B[0m\u001B[0;34m(\u001B[0m\u001B[0mdata\u001B[0m\u001B[0;34m,\u001B[0m \u001B[0mnames\u001B[0m\u001B[0;34m=\u001B[0m\u001B[0mschema\u001B[0m\u001B[0;34m)\u001B[0m\u001B[0;34m\u001B[0m\u001B[0;34m\u001B[0m\u001B[0m\n\u001B[0m\u001B[1;32m    632\u001B[0m             \u001B[0mconverter\u001B[0m \u001B[0;34m=\u001B[0m \u001B[0m_create_converter\u001B[0m\u001B[0;34m(\u001B[0m\u001B[0mstruct\u001B[0m\u001B[0;34m)\u001B[0m\u001B[0;34m\u001B[0m\u001B[0;34m\u001B[0m\u001B[0m\n\u001B[1;32m    633\u001B[0m             \u001B[0mtupled_data\u001B[0m\u001B[0;34m:\u001B[0m \u001B[0mIterable\u001B[0m\u001B[0;34m[\u001B[0m\u001B[0mTuple\u001B[0m\u001B[0;34m]\u001B[0m \u001B[0;34m=\u001B[0m \u001B[0mmap\u001B[0m\u001B[0;34m(\u001B[0m\u001B[0mconverter\u001B[0m\u001B[0;34m,\u001B[0m \u001B[0mdata\u001B[0m\u001B[0;34m)\u001B[0m\u001B[0;34m\u001B[0m\u001B[0;34m\u001B[0m\u001B[0m\n",
      "\u001B[0;32m~/opt/anaconda3/lib/python3.9/site-packages/pyspark/sql/session.py\u001B[0m in \u001B[0;36m_inferSchemaFromList\u001B[0;34m(self, data, names)\u001B[0m\n\u001B[1;32m    515\u001B[0m         \u001B[0minfer_dict_as_struct\u001B[0m \u001B[0;34m=\u001B[0m \u001B[0mself\u001B[0m\u001B[0;34m.\u001B[0m\u001B[0m_jconf\u001B[0m\u001B[0;34m.\u001B[0m\u001B[0minferDictAsStruct\u001B[0m\u001B[0;34m(\u001B[0m\u001B[0;34m)\u001B[0m\u001B[0;34m\u001B[0m\u001B[0;34m\u001B[0m\u001B[0m\n\u001B[1;32m    516\u001B[0m         \u001B[0mprefer_timestamp_ntz\u001B[0m \u001B[0;34m=\u001B[0m \u001B[0mis_timestamp_ntz_preferred\u001B[0m\u001B[0;34m(\u001B[0m\u001B[0;34m)\u001B[0m\u001B[0;34m\u001B[0m\u001B[0;34m\u001B[0m\u001B[0m\n\u001B[0;32m--> 517\u001B[0;31m         schema = reduce(\n\u001B[0m\u001B[1;32m    518\u001B[0m             \u001B[0m_merge_type\u001B[0m\u001B[0;34m,\u001B[0m\u001B[0;34m\u001B[0m\u001B[0;34m\u001B[0m\u001B[0m\n\u001B[1;32m    519\u001B[0m             \u001B[0;34m(\u001B[0m\u001B[0m_infer_schema\u001B[0m\u001B[0;34m(\u001B[0m\u001B[0mrow\u001B[0m\u001B[0;34m,\u001B[0m \u001B[0mnames\u001B[0m\u001B[0;34m,\u001B[0m \u001B[0minfer_dict_as_struct\u001B[0m\u001B[0;34m,\u001B[0m \u001B[0mprefer_timestamp_ntz\u001B[0m\u001B[0;34m)\u001B[0m \u001B[0;32mfor\u001B[0m \u001B[0mrow\u001B[0m \u001B[0;32min\u001B[0m \u001B[0mdata\u001B[0m\u001B[0;34m)\u001B[0m\u001B[0;34m,\u001B[0m\u001B[0;34m\u001B[0m\u001B[0;34m\u001B[0m\u001B[0m\n",
      "\u001B[0;32m~/opt/anaconda3/lib/python3.9/site-packages/pyspark/sql/session.py\u001B[0m in \u001B[0;36m<genexpr>\u001B[0;34m(.0)\u001B[0m\n\u001B[1;32m    517\u001B[0m         schema = reduce(\n\u001B[1;32m    518\u001B[0m             \u001B[0m_merge_type\u001B[0m\u001B[0;34m,\u001B[0m\u001B[0;34m\u001B[0m\u001B[0;34m\u001B[0m\u001B[0m\n\u001B[0;32m--> 519\u001B[0;31m             \u001B[0;34m(\u001B[0m\u001B[0m_infer_schema\u001B[0m\u001B[0;34m(\u001B[0m\u001B[0mrow\u001B[0m\u001B[0;34m,\u001B[0m \u001B[0mnames\u001B[0m\u001B[0;34m,\u001B[0m \u001B[0minfer_dict_as_struct\u001B[0m\u001B[0;34m,\u001B[0m \u001B[0mprefer_timestamp_ntz\u001B[0m\u001B[0;34m)\u001B[0m \u001B[0;32mfor\u001B[0m \u001B[0mrow\u001B[0m \u001B[0;32min\u001B[0m \u001B[0mdata\u001B[0m\u001B[0;34m)\u001B[0m\u001B[0;34m,\u001B[0m\u001B[0;34m\u001B[0m\u001B[0;34m\u001B[0m\u001B[0m\n\u001B[0m\u001B[1;32m    520\u001B[0m         )\n\u001B[1;32m    521\u001B[0m         \u001B[0;32mif\u001B[0m \u001B[0m_has_nulltype\u001B[0m\u001B[0;34m(\u001B[0m\u001B[0mschema\u001B[0m\u001B[0;34m)\u001B[0m\u001B[0;34m:\u001B[0m\u001B[0;34m\u001B[0m\u001B[0;34m\u001B[0m\u001B[0m\n",
      "\u001B[0;32m~/opt/anaconda3/lib/python3.9/site-packages/pyspark/sql/types.py\u001B[0m in \u001B[0;36m_infer_schema\u001B[0;34m(row, names, infer_dict_as_struct, prefer_timestamp_ntz)\u001B[0m\n\u001B[1;32m   1306\u001B[0m         \u001B[0;32mtry\u001B[0m\u001B[0;34m:\u001B[0m\u001B[0;34m\u001B[0m\u001B[0;34m\u001B[0m\u001B[0m\n\u001B[1;32m   1307\u001B[0m             fields.append(\n\u001B[0;32m-> 1308\u001B[0;31m                 \u001B[0mStructField\u001B[0m\u001B[0;34m(\u001B[0m\u001B[0mk\u001B[0m\u001B[0;34m,\u001B[0m \u001B[0m_infer_type\u001B[0m\u001B[0;34m(\u001B[0m\u001B[0mv\u001B[0m\u001B[0;34m,\u001B[0m \u001B[0minfer_dict_as_struct\u001B[0m\u001B[0;34m,\u001B[0m \u001B[0mprefer_timestamp_ntz\u001B[0m\u001B[0;34m)\u001B[0m\u001B[0;34m,\u001B[0m \u001B[0;32mTrue\u001B[0m\u001B[0;34m)\u001B[0m\u001B[0;34m\u001B[0m\u001B[0;34m\u001B[0m\u001B[0m\n\u001B[0m\u001B[1;32m   1309\u001B[0m             )\n\u001B[1;32m   1310\u001B[0m         \u001B[0;32mexcept\u001B[0m \u001B[0mTypeError\u001B[0m \u001B[0;32mas\u001B[0m \u001B[0me\u001B[0m\u001B[0;34m:\u001B[0m\u001B[0;34m\u001B[0m\u001B[0;34m\u001B[0m\u001B[0m\n",
      "\u001B[0;32m~/opt/anaconda3/lib/python3.9/site-packages/pyspark/sql/types.py\u001B[0m in \u001B[0;36m__init__\u001B[0;34m(self, name, dataType, nullable, metadata)\u001B[0m\n\u001B[1;32m    557\u001B[0m         )\n\u001B[1;32m    558\u001B[0m         \u001B[0;32massert\u001B[0m \u001B[0misinstance\u001B[0m\u001B[0;34m(\u001B[0m\u001B[0mname\u001B[0m\u001B[0;34m,\u001B[0m \u001B[0mstr\u001B[0m\u001B[0;34m)\u001B[0m\u001B[0;34m,\u001B[0m \u001B[0;34m\"field name %s should be a string\"\u001B[0m \u001B[0;34m%\u001B[0m \u001B[0;34m(\u001B[0m\u001B[0mname\u001B[0m\u001B[0;34m)\u001B[0m\u001B[0;34m\u001B[0m\u001B[0;34m\u001B[0m\u001B[0m\n\u001B[0;32m--> 559\u001B[0;31m         \u001B[0mself\u001B[0m\u001B[0;34m.\u001B[0m\u001B[0mname\u001B[0m \u001B[0;34m=\u001B[0m \u001B[0mname\u001B[0m\u001B[0;34m\u001B[0m\u001B[0;34m\u001B[0m\u001B[0m\n\u001B[0m\u001B[1;32m    560\u001B[0m         \u001B[0mself\u001B[0m\u001B[0;34m.\u001B[0m\u001B[0mdataType\u001B[0m \u001B[0;34m=\u001B[0m \u001B[0mdataType\u001B[0m\u001B[0;34m\u001B[0m\u001B[0;34m\u001B[0m\u001B[0m\n\u001B[1;32m    561\u001B[0m         \u001B[0mself\u001B[0m\u001B[0;34m.\u001B[0m\u001B[0mnullable\u001B[0m \u001B[0;34m=\u001B[0m \u001B[0mnullable\u001B[0m\u001B[0;34m\u001B[0m\u001B[0;34m\u001B[0m\u001B[0m\n",
      "\u001B[0;31mKeyboardInterrupt\u001B[0m: "
     ]
    },
    {
     "name": "stdout",
     "output_type": "stream",
     "text": [
      "time: 18min 25s (started: 2023-05-10 18:34:08 +02:00)\n"
     ]
    }
   ],
   "source": [
    "maindf = spark.createDataFrame(main)\n",
    "maindf.show(3)"
   ],
   "metadata": {
    "collapsed": false
   }
  },
  {
   "cell_type": "code",
   "execution_count": null,
   "outputs": [],
   "source": [
    "maindf.write.format(\"delta\").mode(\"overwrite\").save(\"/Users/andreikirpichev/parquet/bets_oct_pers\")"
   ],
   "metadata": {
    "collapsed": false
   }
  },
  {
   "cell_type": "code",
   "execution_count": 5,
   "outputs": [],
   "source": [
    "extracted_col = rl[\"2w_section\"]\n",
    "main.insert(1, \"2w_section_check\", extracted_col)"
   ],
   "metadata": {
    "collapsed": false
   }
  },
  {
   "cell_type": "code",
   "execution_count": 6,
   "outputs": [
    {
     "data": {
      "text/plain": "  customer_id  age country section point      market market_params contest_id  \\\n0     3044310   40      AT     HT1  Goal   OverUnder          None  FB-226375   \n1    17707010   60      DE      RT  Goal   OverUnder          None  FB-226334   \n2    11764610   61      DE      RT  Goal  Handicap3w          None  FB-226449   \n3    11764610   61      DE      RT  Goal  Handicap3w          None  FB-219054   \n4    11764610   61      DE      RT  Goal  Handicap3w          None  FB-219064   \n\n  placement_date          placement_time  placement_odds  \\\n0     2022-10-28 2022-10-28 14:23:42.051            1.82   \n1     2022-10-28 2022-10-28 14:23:40.631            1.90   \n2     2022-10-28 2022-10-28 14:23:39.479            1.66   \n3     2022-10-28 2022-10-28 14:23:39.479            2.08   \n4     2022-10-28 2022-10-28 14:23:39.479            2.86   \n\n                   home                away region     sport         league  \\\n0              FC Ma'an     Shabab Al Ordon     JO  Football  PremierLeague   \n1     El Sekka El Hadid  Eastern Company SC     EG  Football    2ndDivision   \n2        Arda Kardzhali          CSKA Sofia     BG  Football    FirstLeague   \n3  SpVgg Greuther Fürth   Arminia Bielefeld     DE  Football    2Bundesliga   \n4       1. FC Magdeburg    1. FC Heidenheim     DE  Football    2Bundesliga   \n\n   minutes_before_start  stake_eur        betmarket_id          match_id  \\\n0                   0.0      10.86  HT1_OverUnder_Goal  PremierLeague_JO   \n1                   0.0      20.00   RT_OverUnder_Goal    2ndDivision_EG   \n2                  66.0       0.50  RT_Handicap3w_Goal    FirstLeague_BG   \n3                 126.0       0.50  RT_Handicap3w_Goal    2Bundesliga_DE   \n4                 126.0       0.50  RT_Handicap3w_Goal    2Bundesliga_DE   \n\n   dayofweek  2w_section  2w_point  2w_market  2w_region  2w_league  \\\n0          6       21.41     20.25      20.70      13.72      20.43   \n1          6       12.84     13.01      13.09      20.63      22.50   \n2          6        0.27      0.27       0.27       0.50       0.50   \n3          6        0.27      0.27       0.27       0.38       0.37   \n4          6        0.27      0.27       0.27       0.38       0.37   \n\n   weekday_stake  \n0          20.66  \n1          21.67  \n2           0.24  \n3           0.25  \n4           0.24  ",
      "text/html": "<div>\n<style scoped>\n    .dataframe tbody tr th:only-of-type {\n        vertical-align: middle;\n    }\n\n    .dataframe tbody tr th {\n        vertical-align: top;\n    }\n\n    .dataframe thead th {\n        text-align: right;\n    }\n</style>\n<table border=\"1\" class=\"dataframe\">\n  <thead>\n    <tr style=\"text-align: right;\">\n      <th></th>\n      <th>customer_id</th>\n      <th>age</th>\n      <th>country</th>\n      <th>section</th>\n      <th>point</th>\n      <th>market</th>\n      <th>market_params</th>\n      <th>contest_id</th>\n      <th>placement_date</th>\n      <th>placement_time</th>\n      <th>placement_odds</th>\n      <th>home</th>\n      <th>away</th>\n      <th>region</th>\n      <th>sport</th>\n      <th>league</th>\n      <th>minutes_before_start</th>\n      <th>stake_eur</th>\n      <th>betmarket_id</th>\n      <th>match_id</th>\n      <th>dayofweek</th>\n      <th>2w_section</th>\n      <th>2w_point</th>\n      <th>2w_market</th>\n      <th>2w_region</th>\n      <th>2w_league</th>\n      <th>weekday_stake</th>\n    </tr>\n  </thead>\n  <tbody>\n    <tr>\n      <th>0</th>\n      <td>3044310</td>\n      <td>40</td>\n      <td>AT</td>\n      <td>HT1</td>\n      <td>Goal</td>\n      <td>OverUnder</td>\n      <td>None</td>\n      <td>FB-226375</td>\n      <td>2022-10-28</td>\n      <td>2022-10-28 14:23:42.051</td>\n      <td>1.82</td>\n      <td>FC Ma'an</td>\n      <td>Shabab Al Ordon</td>\n      <td>JO</td>\n      <td>Football</td>\n      <td>PremierLeague</td>\n      <td>0.0</td>\n      <td>10.86</td>\n      <td>HT1_OverUnder_Goal</td>\n      <td>PremierLeague_JO</td>\n      <td>6</td>\n      <td>21.41</td>\n      <td>20.25</td>\n      <td>20.70</td>\n      <td>13.72</td>\n      <td>20.43</td>\n      <td>20.66</td>\n    </tr>\n    <tr>\n      <th>1</th>\n      <td>17707010</td>\n      <td>60</td>\n      <td>DE</td>\n      <td>RT</td>\n      <td>Goal</td>\n      <td>OverUnder</td>\n      <td>None</td>\n      <td>FB-226334</td>\n      <td>2022-10-28</td>\n      <td>2022-10-28 14:23:40.631</td>\n      <td>1.90</td>\n      <td>El Sekka El Hadid</td>\n      <td>Eastern Company SC</td>\n      <td>EG</td>\n      <td>Football</td>\n      <td>2ndDivision</td>\n      <td>0.0</td>\n      <td>20.00</td>\n      <td>RT_OverUnder_Goal</td>\n      <td>2ndDivision_EG</td>\n      <td>6</td>\n      <td>12.84</td>\n      <td>13.01</td>\n      <td>13.09</td>\n      <td>20.63</td>\n      <td>22.50</td>\n      <td>21.67</td>\n    </tr>\n    <tr>\n      <th>2</th>\n      <td>11764610</td>\n      <td>61</td>\n      <td>DE</td>\n      <td>RT</td>\n      <td>Goal</td>\n      <td>Handicap3w</td>\n      <td>None</td>\n      <td>FB-226449</td>\n      <td>2022-10-28</td>\n      <td>2022-10-28 14:23:39.479</td>\n      <td>1.66</td>\n      <td>Arda Kardzhali</td>\n      <td>CSKA Sofia</td>\n      <td>BG</td>\n      <td>Football</td>\n      <td>FirstLeague</td>\n      <td>66.0</td>\n      <td>0.50</td>\n      <td>RT_Handicap3w_Goal</td>\n      <td>FirstLeague_BG</td>\n      <td>6</td>\n      <td>0.27</td>\n      <td>0.27</td>\n      <td>0.27</td>\n      <td>0.50</td>\n      <td>0.50</td>\n      <td>0.24</td>\n    </tr>\n    <tr>\n      <th>3</th>\n      <td>11764610</td>\n      <td>61</td>\n      <td>DE</td>\n      <td>RT</td>\n      <td>Goal</td>\n      <td>Handicap3w</td>\n      <td>None</td>\n      <td>FB-219054</td>\n      <td>2022-10-28</td>\n      <td>2022-10-28 14:23:39.479</td>\n      <td>2.08</td>\n      <td>SpVgg Greuther Fürth</td>\n      <td>Arminia Bielefeld</td>\n      <td>DE</td>\n      <td>Football</td>\n      <td>2Bundesliga</td>\n      <td>126.0</td>\n      <td>0.50</td>\n      <td>RT_Handicap3w_Goal</td>\n      <td>2Bundesliga_DE</td>\n      <td>6</td>\n      <td>0.27</td>\n      <td>0.27</td>\n      <td>0.27</td>\n      <td>0.38</td>\n      <td>0.37</td>\n      <td>0.25</td>\n    </tr>\n    <tr>\n      <th>4</th>\n      <td>11764610</td>\n      <td>61</td>\n      <td>DE</td>\n      <td>RT</td>\n      <td>Goal</td>\n      <td>Handicap3w</td>\n      <td>None</td>\n      <td>FB-219064</td>\n      <td>2022-10-28</td>\n      <td>2022-10-28 14:23:39.479</td>\n      <td>2.86</td>\n      <td>1. FC Magdeburg</td>\n      <td>1. FC Heidenheim</td>\n      <td>DE</td>\n      <td>Football</td>\n      <td>2Bundesliga</td>\n      <td>126.0</td>\n      <td>0.50</td>\n      <td>RT_Handicap3w_Goal</td>\n      <td>2Bundesliga_DE</td>\n      <td>6</td>\n      <td>0.27</td>\n      <td>0.27</td>\n      <td>0.27</td>\n      <td>0.38</td>\n      <td>0.37</td>\n      <td>0.24</td>\n    </tr>\n  </tbody>\n</table>\n</div>"
     },
     "execution_count": 6,
     "metadata": {},
     "output_type": "execute_result"
    }
   ],
   "source": [
    "rl.head(5)"
   ],
   "metadata": {
    "collapsed": false
   }
  },
  {
   "cell_type": "code",
   "execution_count": 7,
   "outputs": [
    {
     "data": {
      "text/plain": "  customer_id  2w_section_check  age country section point      market  \\\n0     3044310             21.41   40      AT     HT1  Goal   OverUnder   \n1    17707010             12.84   60      DE      RT  Goal   OverUnder   \n2    11764610              0.27   61      DE      RT  Goal  Handicap3w   \n3    11764610              0.27   61      DE      RT  Goal  Handicap3w   \n4    11764610              0.27   61      DE      RT  Goal  Handicap3w   \n\n  contest_id placement_date          placement_time  placement_odds  \\\n0  FB-226375     2022-10-28 2022-10-28 14:23:42.051            1.82   \n1  FB-226334     2022-10-28 2022-10-28 14:23:40.631            1.90   \n2  FB-226449     2022-10-28 2022-10-28 14:23:39.479            1.66   \n3  FB-219054     2022-10-28 2022-10-28 14:23:39.479            2.08   \n4  FB-219064     2022-10-28 2022-10-28 14:23:39.479            2.86   \n\n                   home                away region     sport         league  \\\n0              FC Ma'an     Shabab Al Ordon     JO  Football  PremierLeague   \n1     El Sekka El Hadid  Eastern Company SC     EG  Football    2ndDivision   \n2        Arda Kardzhali          CSKA Sofia     BG  Football    FirstLeague   \n3  SpVgg Greuther Fürth   Arminia Bielefeld     DE  Football    2Bundesliga   \n4       1. FC Magdeburg    1. FC Heidenheim     DE  Football    2Bundesliga   \n\n   minutes_before_start  stake_eur        betmarket_id          match_id  \\\n0                   0.0      10.86  HT1_OverUnder_Goal  PremierLeague_JO   \n1                   0.0      20.00   RT_OverUnder_Goal    2ndDivision_EG   \n2                  66.0       0.50  RT_Handicap3w_Goal    FirstLeague_BG   \n3                 126.0       0.50  RT_Handicap3w_Goal    2Bundesliga_DE   \n4                 126.0       0.50  RT_Handicap3w_Goal    2Bundesliga_DE   \n\n   dayofweek  2w_section  2w_point  2w_market  weekday_stake  \\\n0          6       21.41     20.25      20.70          22.74   \n1          6       12.84     13.01      13.09          28.13   \n2          6        0.27      0.27       0.27           0.25   \n3          6        0.27      0.27       0.27           0.24   \n4          6        0.27      0.27       0.27           0.24   \n\n      recent1_betmarket   recent1_match recent1_section recent1_market  \\\n0  HT1_TeamToScore_Goal  SuperLeague_IN             HT1    TeamToScore   \n1    RT_Handicap3w_Goal        3Liga_CZ              RT     Handicap3w   \n2     RT_OverUnder_Goal  2Bundesliga_DE              RT      OverUnder   \n3     RT_OverUnder_Goal        2Liga_AT              RT      OverUnder   \n4     RT_OverUnder_Goal        2Liga_AT              RT      OverUnder   \n\n  recent1_point recent1_league recent1_region   recent2_betmarket  \\\n0          Goal    SuperLeague             IN   RT_OverUnder_Goal   \n1          Goal          3Liga             CZ   RT_OverUnder_Goal   \n2          Goal    2Bundesliga             DE  RT_Handicap3w_Goal   \n3          Goal          2Liga             AT  RT_Handicap3w_Goal   \n4          Goal          2Liga             AT  RT_Handicap3w_Goal   \n\n      recent2_match recent2_section recent2_market recent2_point  \\\n0          3Liga_CZ              RT      OverUnder          Goal   \n1    FirstLeague_BG              RT      OverUnder          Goal   \n2          2Liga_AT              RT     Handicap3w          Goal   \n3  ReserveLeague_PY              RT     Handicap3w          Goal   \n4  ReserveLeague_PY              RT     Handicap3w          Goal   \n\n  recent2_league recent2_region       recent3_betmarket  \\\n0          3Liga             CZ  HT1_TeamOverUnder_Goal   \n1    FirstLeague             BG      HT1_OverUnder_Goal   \n2          2Liga             AT       RT_OverUnder_Goal   \n3  ReserveLeague             PY       RT_OverUnder_Goal   \n4  ReserveLeague             PY       RT_OverUnder_Goal   \n\n                          recent3_match recent3_section recent3_market  \\\n0                         LigaLeumit_IL             HT1  TeamOverUnder   \n1                      PremierLeague_TH             HT1      OverUnder   \n2                      ReserveLeague_PY              RT      OverUnder   \n3  U21ProfessionalDevelopmentLeague_ENG              RT      OverUnder   \n4  U21ProfessionalDevelopmentLeague_ENG              RT      OverUnder   \n\n  recent3_point                    recent3_league recent3_region  \\\n0          Goal                        LigaLeumit             IL   \n1          Goal                     PremierLeague             TH   \n2          Goal                     ReserveLeague             PY   \n3          Goal  U21ProfessionalDevelopmentLeague            ENG   \n4          Goal  U21ProfessionalDevelopmentLeague            ENG   \n\n      recent4_betmarket                         recent4_match recent4_section  \\\n0  HT1_TeamToScore_Goal                        FirstLeague_BG             HT1   \n1     RT_OverUnder_Goal                                Cup_SG              RT   \n2    RT_Handicap3w_Goal  U21ProfessionalDevelopmentLeague_ENG              RT   \n3    RT_Handicap3w_Goal                           V-League_VN              RT   \n4    RT_Handicap3w_Goal                           V-League_VN              RT   \n\n  recent4_market recent4_point                    recent4_league  \\\n0    TeamToScore          Goal                       FirstLeague   \n1      OverUnder          Goal                               Cup   \n2     Handicap3w          Goal  U21ProfessionalDevelopmentLeague   \n3     Handicap3w          Goal                          V-League   \n4     Handicap3w          Goal                          V-League   \n\n  recent4_region      recent5_betmarket   recent5_match recent5_section  \\\n0             BG     HT1_OverUnder_Goal  2ndDivision_EG             HT1   \n1             SG  RT_TeamOverUnder_Goal    Division2_TH              RT   \n2            ENG     OT_Handicap3w_Goal     V-League_VN              OT   \n3             VN     OT_Handicap3w_Goal        3Liga_CZ              OT   \n4             VN     OT_Handicap3w_Goal        3Liga_CZ              OT   \n\n  recent5_market recent5_point recent5_league recent5_region  \\\n0      OverUnder          Goal    2ndDivision             EG   \n1  TeamOverUnder          Goal      Division2             TH   \n2     Handicap3w          Goal       V-League             VN   \n3     Handicap3w          Goal          3Liga             CZ   \n4     Handicap3w          Goal          3Liga             CZ   \n\n           recent6_betmarket                         recent6_match  \\\n0  HT1_BothTeamsToScore_Goal  U21ProfessionalDevelopmentLeague_ENG   \n1          RT_OverUnder_Goal        UEFAEuropaConferenceLeague_EUR   \n2         RT_Handicap3w_Goal                              3Liga_CZ   \n3         RT_Handicap3w_Goal                           A-League_AU   \n4         RT_Handicap3w_Goal                           A-League_AU   \n\n  recent6_section    recent6_market recent6_point  \\\n0             HT1  BothTeamsToScore          Goal   \n1              RT         OverUnder          Goal   \n2              RT        Handicap3w          Goal   \n3              RT        Handicap3w          Goal   \n4              RT        Handicap3w          Goal   \n\n                     recent6_league recent6_region   recent7_betmarket  \\\n0  U21ProfessionalDevelopmentLeague            ENG  HT1_OverUnder_Goal   \n1        UEFAEuropaConferenceLeague            EUR                None   \n2                             3Liga             CZ   RT_OverUnder_Goal   \n3                          A-League             AU   RT_OverUnder_Goal   \n4                          A-League             AU   RT_OverUnder_Goal   \n\n  recent7_match recent7_section recent7_market recent7_point recent7_league  \\\n0      3Liga_CZ             HT1      OverUnder          Goal          3Liga   \n1   A-League_AU            None           None          None       A-League   \n2   A-League_AU              RT      OverUnder          Goal       A-League   \n3      3Liga_CZ              RT      OverUnder          Goal          3Liga   \n4      3Liga_CZ              RT      OverUnder          Goal          3Liga   \n\n  recent7_region          recent8_betmarket  \\\n0             CZ  HT1_BothTeamsToScore_Goal   \n1             AU                       None   \n2             AU         RT_Handicap3w_Goal   \n3             CZ         RT_Handicap3w_Goal   \n4             CZ         RT_Handicap3w_Goal   \n\n                          recent8_match recent8_section    recent8_market  \\\n0  U21ProfessionalDevelopmentLeague_ENG             HT1  BothTeamsToScore   \n1                  UEFAEuropaLeague_EUR            None              None   \n2                              3Liga_CZ              RT        Handicap3w   \n3                            LigaBet_IL              RT        Handicap3w   \n4                            LigaBet_IL              RT        Handicap3w   \n\n  recent8_point                    recent8_league recent8_region  \\\n0          Goal  U21ProfessionalDevelopmentLeague            ENG   \n1          None                  UEFAEuropaLeague            EUR   \n2          Goal                             3Liga             CZ   \n3          Goal                           LigaBet             IL   \n4          Goal                           LigaBet             IL   \n\n     recent9_betmarket recent9_match recent9_section recent9_market  \\\n0   HT1_OverUnder_Goal      3Liga_CZ             HT1      OverUnder   \n1                 None        Cup_IL            None           None   \n2  HT1_Handicap3w_Goal    LigaBet_IL             HT1     Handicap3w   \n3  HT1_Handicap3w_Goal      3Liga_CZ             HT1     Handicap3w   \n4  HT1_Handicap3w_Goal      3Liga_CZ             HT1     Handicap3w   \n\n  recent9_point recent9_league recent9_region  recent10_betmarket  \\\n0          Goal          3Liga             CZ   RT_OverUnder_Goal   \n1          None            Cup             IL                None   \n2          Goal        LigaBet             IL  RT_Handicap3w_Goal   \n3          Goal          3Liga             CZ  RT_Handicap3w_Goal   \n4          Goal          3Liga             CZ  RT_Handicap3w_Goal   \n\n         recent10_match recent10_section recent10_market recent10_point  \\\n0                Cup_SG               RT       OverUnder           Goal   \n1            LigaBet_IL             None            None           None   \n2              3Liga_CZ               RT      Handicap3w           Goal   \n3  UEFAEuropaLeague_EUR               RT      Handicap3w           Goal   \n4  UEFAEuropaLeague_EUR               RT      Handicap3w           Goal   \n\n    recent10_league recent10_region  pers_section_RT  pers_section_HT1  \\\n0               Cup              SG            18.40             21.41   \n1           LigaBet              IL            12.84             25.00   \n2             3Liga              CZ             0.27              0.00   \n3  UEFAEuropaLeague             EUR             0.27              0.00   \n4  UEFAEuropaLeague             EUR             0.27              0.00   \n\n   pers_section_HT2  pers_section_OT  pers_section_LT  pers_section_RTOT  \\\n0             17.49            10.18              0.0              14.46   \n1              0.00             0.00              0.0               0.00   \n2              0.00             0.15              0.0               0.00   \n3              0.00             0.15              0.0               0.00   \n4              0.00             0.15              0.0               0.00   \n\n   pers_section_SO  pers_section_OT1  pers_section_OT2  pers_section_FT  \\\n0              0.0               0.0              25.0              0.0   \n1              0.0               0.0               0.0              0.0   \n2              0.0               0.0               0.0              0.0   \n3              0.0               0.0               0.0              0.0   \n4              0.0               0.0               0.0              0.0   \n\n   pers_market_OverUnder  pers_market_Handicap3w  \\\n0                  20.70                    7.24   \n1                  13.09                   10.00   \n2                   0.36                    0.27   \n3                   0.36                    0.27   \n4                   0.36                    0.27   \n\n   pers_market_BothTeamsToScore  pers_market_NthPoint  \\\n0                         19.38                  8.75   \n1                          0.00                  0.00   \n2                          0.00                  0.00   \n3                          0.00                  0.00   \n4                          0.00                  0.00   \n\n   pers_market_TeamOverUnder  pers_market_PlayerToScore  \\\n0                      19.34                        0.0   \n1                      10.00                        0.0   \n2                       0.00                        0.0   \n3                       0.00                        0.0   \n4                       0.00                        0.0   \n\n   pers_market_TeamToScore  pers_market_CorrectScore  pers_market_Handicap2w  \\\n0                    20.91                       0.0                     0.0   \n1                     0.00                       0.0                     0.0   \n2                     0.00                       0.0                     0.0   \n3                     0.00                       0.0                     0.0   \n4                     0.00                       0.0                     0.0   \n\n   pers_market_ToScoreEachSection  pers_point_Goal  pers_point_Corner  \\\n0                             0.0            20.25                0.0   \n1                             0.0            13.01                0.0   \n2                             0.0             0.27                0.0   \n3                             0.0             0.27                0.0   \n4                             0.0             0.27                0.0   \n\n   pers_point_RedCard  pers_league_UEFAChampionsLeague  \\\n0                 0.0                             8.91   \n1                 0.0                            25.00   \n2                 0.0                             0.00   \n3                 0.0                             0.00   \n4                 0.0                             0.00   \n\n   pers_league_Bundesliga  pers_league_PremierLeague  \\\n0                   28.04                      20.43   \n1                    5.94                      15.54   \n2                    0.10                       0.21   \n3                    0.10                       0.21   \n4                    0.10                       0.21   \n\n   pers_league_UEFANationsLeague  pers_league_UEFAEuropaLeague  \\\n0                            0.0                         15.55   \n1                            0.0                          2.50   \n2                            0.0                          0.18   \n3                            0.0                          0.18   \n4                            0.0                          0.18   \n\n   pers_league_SerieA  pers_league_LaLiga  pers_league_2Bundesliga  \\\n0               36.87               28.47                    60.24   \n1               13.13                5.00                     1.25   \n2                0.23                0.25                     0.37   \n3                0.23                0.25                     0.37   \n4                0.23                0.25                     0.37   \n\n   pers_league_UEFAEuropaConferenceLeague  pers_league_Ligue1  \\\n0                                   15.60               20.18   \n1                                   70.00                2.50   \n2                                    0.19                0.45   \n3                                    0.19                0.45   \n4                                    0.19                0.45   \n\n   pers_league_Cup  pers_league_PrimeraDivision  pers_league_DFBPokal  \\\n0            23.38                        16.57                 19.83   \n1            15.94                         0.00                  0.00   \n2             0.19                         0.00                  0.52   \n3             0.19                         0.00                  0.52   \n4             0.19                         0.00                  0.52   \n\n   pers_league_BattleEsoccer8Min  pers_league_3Liga  pers_league_SuperLeague  \\\n0                            0.0              19.95                    19.26   \n1                            0.0               9.17                    17.50   \n2                            0.0               0.20                     0.25   \n3                            0.0               0.20                     0.25   \n4                            0.0               0.20                     0.25   \n\n   pers_league_LigaProfesional  pers_league_JupilerProLeague  \\\n0                         25.0                         17.49   \n1                          0.0                          0.00   \n2                          0.0                          0.25   \n3                          0.0                          0.25   \n4                          0.0                          0.25   \n\n   pers_league_SuperLig  pers_league_Championship  \\\n0                 21.38                     13.33   \n1                 15.00                      5.00   \n2                  0.13                      0.00   \n3                  0.13                      0.00   \n4                  0.13                      0.00   \n\n   pers_league_UEFAYouthLeague  pers_league_PrimeiraLiga  pers_league_SerieB  \\\n0                        16.42                       0.0                 0.0   \n1                        12.00                       5.0                 0.0   \n2                         0.25                       0.0                 0.0   \n3                         0.25                       0.0                 0.0   \n4                         0.25                       0.0                 0.0   \n\n   pers_league_Eredivisie  pers_league_LeagueOne  pers_league_LaLiga2  \\\n0                   25.62                   8.35                 15.0   \n1                    0.00                   9.38                  0.0   \n2                    0.00                   0.34                  0.0   \n3                    0.00                   0.34                  0.0   \n4                    0.00                   0.34                  0.0   \n\n   pers_league_ReserveLeague  pers_league_LiveArenaEsoccer10Min  \\\n0                      17.94                               5.35   \n1                      12.50                               0.00   \n2                       0.18                               0.00   \n3                       0.18                               0.00   \n4                       0.18                               0.00   \n\n   pers_league_EersteDivisie  pers_league_1stDivision  pers_region_EUR  \\\n0                      25.00                    21.73            14.60   \n1                       0.00                     0.00            15.83   \n2                       0.16                     0.20             0.19   \n3                       0.16                     0.20             0.19   \n4                       0.16                     0.20             0.19   \n\n   pers_region_DE  pers_region_ENG  pers_region_ES  pers_region_IT  \\\n0           40.21            18.48           25.10           29.33   \n1            3.33             3.13            5.00           13.13   \n2            0.38             0.14            0.25            0.23   \n3            0.38             0.14            0.25            0.23   \n4            0.38             0.14            0.25            0.23   \n\n   pers_region_FR  pers_region_AR  pers_region_ONL  pers_region_NL  \\\n0           21.93           21.01             5.35           24.16   \n1            2.50           12.50             0.00            0.00   \n2            0.00            0.00             0.00            0.16   \n3            0.00            0.00             0.00            0.16   \n4            0.00            0.00             0.00            0.16   \n\n   pers_region_TR  pers_region_BE  pers_region_BR  pers_region_PT  \\\n0           21.45           19.61             0.0           20.22   \n1           15.00            0.00             0.0            5.00   \n2            0.14            0.25             0.0            0.00   \n3            0.14            0.25             0.0            0.00   \n4            0.14            0.25             0.0            0.00   \n\n   pers_region_MX  pers_region_JP  pers_region_CN  pers_region_INT  \\\n0           20.00           20.00           15.66              0.0   \n1            0.00           25.00           12.14              0.0   \n2            0.27            0.32            0.35              0.0   \n3            0.27            0.32            0.35              0.0   \n4            0.27            0.32            0.35              0.0   \n\n   pers_region_IL  pers_region_NO  pers_region_AT  pers_region_DK  \\\n0           18.10           25.33           23.15           19.36   \n1            7.00           10.00            0.00            0.00   \n2            0.25            0.20            0.50            0.00   \n3            0.25            0.20            0.50            0.00   \n4            0.25            0.20            0.50            0.00   \n\n   pers_region_CO  pers_region_SE  pers_region_KR  pers_region_CH  \\\n0             0.0           25.68           17.61           18.17   \n1             0.0            0.00            7.50            0.00   \n2             0.2            0.00            0.00            0.00   \n3             0.2            0.00            0.00            0.00   \n4             0.2            0.00            0.00            0.00   \n\n   pers_region_CZ  pers_region_RO  pers_region_PY  pers_region_US  \\\n0           21.44           24.81           12.50            10.0   \n1           18.50           11.25            0.00             0.0   \n2            0.21            0.66            0.22             0.0   \n3            0.21            0.66            0.22             0.0   \n4            0.21            0.66            0.22             0.0   \n\n   pers_region_FI                                 persTOP1_betmarket  \\\n0           18.60  betmarketIDperssection_OT2_market_TeamToScore_...   \n1            0.00  betmarketIDperssection_HT1_market_OverUnder_po...   \n2            0.36  betmarketIDperssection_RT_market_OverUnder_poi...   \n3            0.36  betmarketIDperssection_RT_market_OverUnder_poi...   \n4            0.36  betmarketIDperssection_RT_market_OverUnder_poi...   \n\n                                      persTOP1_match persTOP1_section  \\\n0            matchIDpersleague_2Bundesliga_region_DE              OT2   \n1  matchIDpersleague_UEFAEuropaConferenceLeague_r...              HT1   \n2               matchIDpersleague_DFBPokal_region_RO               RT   \n3               matchIDpersleague_DFBPokal_region_RO               RT   \n4               matchIDpersleague_DFBPokal_region_RO               RT   \n\n  persTOP1_market persTOP1_point             persTOP1_league persTOP1_region  \\\n0     TeamToScore           Goal                 2Bundesliga              DE   \n1       OverUnder           Goal  UEFAEuropaConferenceLeague              JP   \n2       OverUnder           Goal                    DFBPokal              RO   \n3       OverUnder           Goal                    DFBPokal              RO   \n4       OverUnder           Goal                    DFBPokal              RO   \n\n                                  persTOP2_betmarket  \\\n0  betmarketIDperssection_OT2_market_OverUnder_po...   \n1  betmarketIDperssection_HT1_market_TeamOverUnde...   \n2  betmarketIDperssection_RT_market_Handicap3w_po...   \n3  betmarketIDperssection_RT_market_Handicap3w_po...   \n4  betmarketIDperssection_RT_market_Handicap3w_po...   \n\n                                      persTOP2_match persTOP2_section  \\\n0            matchIDpersleague_2Bundesliga_region_IT              OT2   \n1  matchIDpersleague_UEFAEuropaConferenceLeague_r...              HT1   \n2                 matchIDpersleague_Ligue1_region_RO               RT   \n3                 matchIDpersleague_Ligue1_region_RO               RT   \n4                 matchIDpersleague_Ligue1_region_RO               RT   \n\n  persTOP2_market persTOP2_point             persTOP2_league persTOP2_region  \\\n0       OverUnder           Goal                 2Bundesliga              IT   \n1   TeamOverUnder           Goal  UEFAEuropaConferenceLeague              CZ   \n2      Handicap3w           Goal                      Ligue1              RO   \n3      Handicap3w           Goal                      Ligue1              RO   \n4      Handicap3w           Goal                      Ligue1              RO   \n\n                                  persTOP3_betmarket  \\\n0  betmarketIDperssection_OT2_market_BothTeamsToS...   \n1  betmarketIDperssection_HT1_market_Handicap3w_p...   \n2  betmarketIDperssection_OT_market_OverUnder_poi...   \n3  betmarketIDperssection_OT_market_OverUnder_poi...   \n4  betmarketIDperssection_OT_market_OverUnder_poi...   \n\n                                      persTOP3_match persTOP3_section  \\\n0            matchIDpersleague_2Bundesliga_region_SE              OT2   \n1  matchIDpersleague_UEFAEuropaConferenceLeague_r...              HT1   \n2            matchIDpersleague_2Bundesliga_region_RO               OT   \n3            matchIDpersleague_2Bundesliga_region_RO               OT   \n4            matchIDpersleague_2Bundesliga_region_RO               OT   \n\n    persTOP3_market persTOP3_point             persTOP3_league  \\\n0  BothTeamsToScore           Goal                 2Bundesliga   \n1        Handicap3w           Goal  UEFAEuropaConferenceLeague   \n2         OverUnder           Goal                 2Bundesliga   \n3         OverUnder           Goal                 2Bundesliga   \n4         OverUnder           Goal                 2Bundesliga   \n\n  persTOP3_region                                 persTOP4_betmarket  \\\n0              SE  betmarketIDperssection_OT2_market_TeamOverUnde...   \n1             EUR  betmarketIDperssection_RT_market_OverUnder_poi...   \n2              RO  betmarketIDperssection_OT_market_Handicap3w_po...   \n3              RO  betmarketIDperssection_OT_market_Handicap3w_po...   \n4              RO  betmarketIDperssection_OT_market_Handicap3w_po...   \n\n                                      persTOP4_match persTOP4_section  \\\n0            matchIDpersleague_2Bundesliga_region_NO              OT2   \n1  matchIDpersleague_UEFAEuropaConferenceLeague_r...               RT   \n2               matchIDpersleague_DFBPokal_region_AT               OT   \n3               matchIDpersleague_DFBPokal_region_AT               OT   \n4               matchIDpersleague_DFBPokal_region_AT               OT   \n\n  persTOP4_market persTOP4_point             persTOP4_league persTOP4_region  \\\n0   TeamOverUnder           Goal                 2Bundesliga              NO   \n1       OverUnder           Goal  UEFAEuropaConferenceLeague              TR   \n2      Handicap3w           Goal                    DFBPokal              AT   \n3      Handicap3w           Goal                    DFBPokal              AT   \n4      Handicap3w           Goal                    DFBPokal              AT   \n\n                                  persTOP5_betmarket  \\\n0  betmarketIDperssection_HT1_market_TeamToScore_...   \n1  betmarketIDperssection_HT1_market_OverUnder_po...   \n2  betmarketIDperssection_SO_market_OverUnder_poi...   \n3  betmarketIDperssection_SO_market_OverUnder_poi...   \n4  betmarketIDperssection_SO_market_OverUnder_poi...   \n\n                                      persTOP5_match persTOP5_section  \\\n0            matchIDpersleague_2Bundesliga_region_ES              HT1   \n1  matchIDpersleague_UEFAEuropaConferenceLeague_r...              HT1   \n2              matchIDpersleague_LeagueOne_region_RO               SO   \n3              matchIDpersleague_LeagueOne_region_RO               SO   \n4              matchIDpersleague_LeagueOne_region_RO               SO   \n\n  persTOP5_market persTOP5_point             persTOP5_league persTOP5_region  \\\n0     TeamToScore           Goal                 2Bundesliga              ES   \n1       OverUnder        RedCard  UEFAEuropaConferenceLeague              IT   \n2       OverUnder           Goal                   LeagueOne              RO   \n3       OverUnder           Goal                   LeagueOne              RO   \n4       OverUnder           Goal                   LeagueOne              RO   \n\n                                  persTOP6_betmarket  \\\n0  betmarketIDperssection_HT1_market_OverUnder_po...   \n1  betmarketIDperssection_HT1_market_OverUnder_po...   \n2  betmarketIDperssection_RT_market_OverUnder_poi...   \n3  betmarketIDperssection_RT_market_OverUnder_poi...   \n4  betmarketIDperssection_RT_market_OverUnder_poi...   \n\n                                      persTOP6_match persTOP6_section  \\\n0            matchIDpersleague_2Bundesliga_region_RO              HT1   \n1  matchIDpersleague_UEFAEuropaConferenceLeague_r...              HT1   \n2                 matchIDpersleague_Ligue1_region_AT               RT   \n3                 matchIDpersleague_Ligue1_region_AT               RT   \n4                 matchIDpersleague_Ligue1_region_AT               RT   \n\n  persTOP6_market persTOP6_point             persTOP6_league persTOP6_region  \\\n0       OverUnder           Goal                 2Bundesliga              RO   \n1       OverUnder         Corner  UEFAEuropaConferenceLeague              AR   \n2       OverUnder        RedCard                      Ligue1              AT   \n3       OverUnder        RedCard                      Ligue1              AT   \n4       OverUnder        RedCard                      Ligue1              AT   \n\n                                  persTOP7_betmarket  \\\n0  betmarketIDperssection_HT1_market_BothTeamsToS...   \n1  betmarketIDperssection_HT1_market_ToScoreEachS...   \n2  betmarketIDperssection_RT_market_OverUnder_poi...   \n3  betmarketIDperssection_RT_market_OverUnder_poi...   \n4  betmarketIDperssection_RT_market_OverUnder_poi...   \n\n                                      persTOP7_match persTOP7_section  \\\n0            matchIDpersleague_2Bundesliga_region_NL              HT1   \n1  matchIDpersleague_UEFAEuropaConferenceLeague_r...              HT1   \n2        matchIDpersleague_UEFAYouthLeague_region_RO               RT   \n3        matchIDpersleague_UEFAYouthLeague_region_RO               RT   \n4        matchIDpersleague_UEFAYouthLeague_region_RO               RT   \n\n      persTOP7_market persTOP7_point             persTOP7_league  \\\n0    BothTeamsToScore           Goal                 2Bundesliga   \n1  ToScoreEachSection           Goal  UEFAEuropaConferenceLeague   \n2           OverUnder         Corner             UEFAYouthLeague   \n3           OverUnder         Corner             UEFAYouthLeague   \n4           OverUnder         Corner             UEFAYouthLeague   \n\n  persTOP7_region                                 persTOP8_betmarket  \\\n0              NL  betmarketIDperssection_HT1_market_TeamOverUnde...   \n1              CN  betmarketIDperssection_HT1_market_TeamToScore_...   \n2              RO  betmarketIDperssection_RTOT_market_OverUnder_p...   \n3              RO  betmarketIDperssection_RTOT_market_OverUnder_p...   \n4              RO  betmarketIDperssection_RTOT_market_OverUnder_p...   \n\n                                      persTOP8_match persTOP8_section  \\\n0            matchIDpersleague_2Bundesliga_region_AT              HT1   \n1  matchIDpersleague_UEFAEuropaConferenceLeague_r...              HT1   \n2            matchIDpersleague_SuperLeague_region_RO             RTOT   \n3            matchIDpersleague_SuperLeague_region_RO             RTOT   \n4            matchIDpersleague_SuperLeague_region_RO             RTOT   \n\n  persTOP8_market persTOP8_point             persTOP8_league persTOP8_region  \\\n0   TeamOverUnder           Goal                 2Bundesliga              AT   \n1     TeamToScore           Goal  UEFAEuropaConferenceLeague              RO   \n2       OverUnder           Goal                 SuperLeague              RO   \n3       OverUnder           Goal                 SuperLeague              RO   \n4       OverUnder           Goal                 SuperLeague              RO   \n\n                                  persTOP9_betmarket  \\\n0  betmarketIDperssection_RT_market_TeamToScore_p...   \n1  betmarketIDperssection_HT1_market_PlayerToScor...   \n2  betmarketIDperssection_OT2_market_OverUnder_po...   \n3  betmarketIDperssection_OT2_market_OverUnder_po...   \n4  betmarketIDperssection_OT2_market_OverUnder_po...   \n\n                                      persTOP9_match persTOP9_section  \\\n0            matchIDpersleague_2Bundesliga_region_FR               RT   \n1  matchIDpersleague_UEFAEuropaConferenceLeague_r...              HT1   \n2                 matchIDpersleague_LaLiga_region_RO              OT2   \n3                 matchIDpersleague_LaLiga_region_RO              OT2   \n4                 matchIDpersleague_LaLiga_region_RO              OT2   \n\n  persTOP9_market persTOP9_point             persTOP9_league persTOP9_region  \\\n0     TeamToScore           Goal                 2Bundesliga              FR   \n1   PlayerToScore           Goal  UEFAEuropaConferenceLeague              NO   \n2       OverUnder           Goal                      LaLiga              RO   \n3       OverUnder           Goal                      LaLiga              RO   \n4       OverUnder           Goal                      LaLiga              RO   \n\n                                 persTOP10_betmarket  \\\n0  betmarketIDperssection_RT_market_OverUnder_poi...   \n1  betmarketIDperssection_HT1_market_NthPoint_poi...   \n2  betmarketIDperssection_OT1_market_OverUnder_po...   \n3  betmarketIDperssection_OT1_market_OverUnder_po...   \n4  betmarketIDperssection_OT1_market_OverUnder_po...   \n\n                                     persTOP10_match persTOP10_section  \\\n0            matchIDpersleague_2Bundesliga_region_TR                RT   \n1  matchIDpersleague_UEFAEuropaConferenceLeague_r...               HT1   \n2       matchIDpersleague_JupilerProLeague_region_RO               OT1   \n3       matchIDpersleague_JupilerProLeague_region_RO               OT1   \n4       matchIDpersleague_JupilerProLeague_region_RO               OT1   \n\n  persTOP10_market persTOP10_point            persTOP10_league  \\\n0        OverUnder            Goal                 2Bundesliga   \n1         NthPoint            Goal  UEFAEuropaConferenceLeague   \n2        OverUnder            Goal            JupilerProLeague   \n3        OverUnder            Goal            JupilerProLeague   \n4        OverUnder            Goal            JupilerProLeague   \n\n  persTOP10_region  \n0               TR  \n1               KR  \n2               RO  \n3               RO  \n4               RO  ",
      "text/html": "<div>\n<style scoped>\n    .dataframe tbody tr th:only-of-type {\n        vertical-align: middle;\n    }\n\n    .dataframe tbody tr th {\n        vertical-align: top;\n    }\n\n    .dataframe thead th {\n        text-align: right;\n    }\n</style>\n<table border=\"1\" class=\"dataframe\">\n  <thead>\n    <tr style=\"text-align: right;\">\n      <th></th>\n      <th>customer_id</th>\n      <th>2w_section_check</th>\n      <th>age</th>\n      <th>country</th>\n      <th>section</th>\n      <th>point</th>\n      <th>market</th>\n      <th>contest_id</th>\n      <th>placement_date</th>\n      <th>placement_time</th>\n      <th>placement_odds</th>\n      <th>home</th>\n      <th>away</th>\n      <th>region</th>\n      <th>sport</th>\n      <th>league</th>\n      <th>minutes_before_start</th>\n      <th>stake_eur</th>\n      <th>betmarket_id</th>\n      <th>match_id</th>\n      <th>dayofweek</th>\n      <th>2w_section</th>\n      <th>2w_point</th>\n      <th>2w_market</th>\n      <th>weekday_stake</th>\n      <th>recent1_betmarket</th>\n      <th>recent1_match</th>\n      <th>recent1_section</th>\n      <th>recent1_market</th>\n      <th>recent1_point</th>\n      <th>recent1_league</th>\n      <th>recent1_region</th>\n      <th>recent2_betmarket</th>\n      <th>recent2_match</th>\n      <th>recent2_section</th>\n      <th>recent2_market</th>\n      <th>recent2_point</th>\n      <th>recent2_league</th>\n      <th>recent2_region</th>\n      <th>recent3_betmarket</th>\n      <th>recent3_match</th>\n      <th>recent3_section</th>\n      <th>recent3_market</th>\n      <th>recent3_point</th>\n      <th>recent3_league</th>\n      <th>recent3_region</th>\n      <th>recent4_betmarket</th>\n      <th>recent4_match</th>\n      <th>recent4_section</th>\n      <th>recent4_market</th>\n      <th>recent4_point</th>\n      <th>recent4_league</th>\n      <th>recent4_region</th>\n      <th>recent5_betmarket</th>\n      <th>recent5_match</th>\n      <th>recent5_section</th>\n      <th>recent5_market</th>\n      <th>recent5_point</th>\n      <th>recent5_league</th>\n      <th>recent5_region</th>\n      <th>recent6_betmarket</th>\n      <th>recent6_match</th>\n      <th>recent6_section</th>\n      <th>recent6_market</th>\n      <th>recent6_point</th>\n      <th>recent6_league</th>\n      <th>recent6_region</th>\n      <th>recent7_betmarket</th>\n      <th>recent7_match</th>\n      <th>recent7_section</th>\n      <th>recent7_market</th>\n      <th>recent7_point</th>\n      <th>recent7_league</th>\n      <th>recent7_region</th>\n      <th>recent8_betmarket</th>\n      <th>recent8_match</th>\n      <th>recent8_section</th>\n      <th>recent8_market</th>\n      <th>recent8_point</th>\n      <th>recent8_league</th>\n      <th>recent8_region</th>\n      <th>recent9_betmarket</th>\n      <th>recent9_match</th>\n      <th>recent9_section</th>\n      <th>recent9_market</th>\n      <th>recent9_point</th>\n      <th>recent9_league</th>\n      <th>recent9_region</th>\n      <th>recent10_betmarket</th>\n      <th>recent10_match</th>\n      <th>recent10_section</th>\n      <th>recent10_market</th>\n      <th>recent10_point</th>\n      <th>recent10_league</th>\n      <th>recent10_region</th>\n      <th>pers_section_RT</th>\n      <th>pers_section_HT1</th>\n      <th>pers_section_HT2</th>\n      <th>pers_section_OT</th>\n      <th>pers_section_LT</th>\n      <th>pers_section_RTOT</th>\n      <th>pers_section_SO</th>\n      <th>pers_section_OT1</th>\n      <th>pers_section_OT2</th>\n      <th>pers_section_FT</th>\n      <th>pers_market_OverUnder</th>\n      <th>pers_market_Handicap3w</th>\n      <th>pers_market_BothTeamsToScore</th>\n      <th>pers_market_NthPoint</th>\n      <th>pers_market_TeamOverUnder</th>\n      <th>pers_market_PlayerToScore</th>\n      <th>pers_market_TeamToScore</th>\n      <th>pers_market_CorrectScore</th>\n      <th>pers_market_Handicap2w</th>\n      <th>pers_market_ToScoreEachSection</th>\n      <th>pers_point_Goal</th>\n      <th>pers_point_Corner</th>\n      <th>pers_point_RedCard</th>\n      <th>pers_league_UEFAChampionsLeague</th>\n      <th>pers_league_Bundesliga</th>\n      <th>pers_league_PremierLeague</th>\n      <th>pers_league_UEFANationsLeague</th>\n      <th>pers_league_UEFAEuropaLeague</th>\n      <th>pers_league_SerieA</th>\n      <th>pers_league_LaLiga</th>\n      <th>pers_league_2Bundesliga</th>\n      <th>pers_league_UEFAEuropaConferenceLeague</th>\n      <th>pers_league_Ligue1</th>\n      <th>pers_league_Cup</th>\n      <th>pers_league_PrimeraDivision</th>\n      <th>pers_league_DFBPokal</th>\n      <th>pers_league_BattleEsoccer8Min</th>\n      <th>pers_league_3Liga</th>\n      <th>pers_league_SuperLeague</th>\n      <th>pers_league_LigaProfesional</th>\n      <th>pers_league_JupilerProLeague</th>\n      <th>pers_league_SuperLig</th>\n      <th>pers_league_Championship</th>\n      <th>pers_league_UEFAYouthLeague</th>\n      <th>pers_league_PrimeiraLiga</th>\n      <th>pers_league_SerieB</th>\n      <th>pers_league_Eredivisie</th>\n      <th>pers_league_LeagueOne</th>\n      <th>pers_league_LaLiga2</th>\n      <th>pers_league_ReserveLeague</th>\n      <th>pers_league_LiveArenaEsoccer10Min</th>\n      <th>pers_league_EersteDivisie</th>\n      <th>pers_league_1stDivision</th>\n      <th>pers_region_EUR</th>\n      <th>pers_region_DE</th>\n      <th>pers_region_ENG</th>\n      <th>pers_region_ES</th>\n      <th>pers_region_IT</th>\n      <th>pers_region_FR</th>\n      <th>pers_region_AR</th>\n      <th>pers_region_ONL</th>\n      <th>pers_region_NL</th>\n      <th>pers_region_TR</th>\n      <th>pers_region_BE</th>\n      <th>pers_region_BR</th>\n      <th>pers_region_PT</th>\n      <th>pers_region_MX</th>\n      <th>pers_region_JP</th>\n      <th>pers_region_CN</th>\n      <th>pers_region_INT</th>\n      <th>pers_region_IL</th>\n      <th>pers_region_NO</th>\n      <th>pers_region_AT</th>\n      <th>pers_region_DK</th>\n      <th>pers_region_CO</th>\n      <th>pers_region_SE</th>\n      <th>pers_region_KR</th>\n      <th>pers_region_CH</th>\n      <th>pers_region_CZ</th>\n      <th>pers_region_RO</th>\n      <th>pers_region_PY</th>\n      <th>pers_region_US</th>\n      <th>pers_region_FI</th>\n      <th>persTOP1_betmarket</th>\n      <th>persTOP1_match</th>\n      <th>persTOP1_section</th>\n      <th>persTOP1_market</th>\n      <th>persTOP1_point</th>\n      <th>persTOP1_league</th>\n      <th>persTOP1_region</th>\n      <th>persTOP2_betmarket</th>\n      <th>persTOP2_match</th>\n      <th>persTOP2_section</th>\n      <th>persTOP2_market</th>\n      <th>persTOP2_point</th>\n      <th>persTOP2_league</th>\n      <th>persTOP2_region</th>\n      <th>persTOP3_betmarket</th>\n      <th>persTOP3_match</th>\n      <th>persTOP3_section</th>\n      <th>persTOP3_market</th>\n      <th>persTOP3_point</th>\n      <th>persTOP3_league</th>\n      <th>persTOP3_region</th>\n      <th>persTOP4_betmarket</th>\n      <th>persTOP4_match</th>\n      <th>persTOP4_section</th>\n      <th>persTOP4_market</th>\n      <th>persTOP4_point</th>\n      <th>persTOP4_league</th>\n      <th>persTOP4_region</th>\n      <th>persTOP5_betmarket</th>\n      <th>persTOP5_match</th>\n      <th>persTOP5_section</th>\n      <th>persTOP5_market</th>\n      <th>persTOP5_point</th>\n      <th>persTOP5_league</th>\n      <th>persTOP5_region</th>\n      <th>persTOP6_betmarket</th>\n      <th>persTOP6_match</th>\n      <th>persTOP6_section</th>\n      <th>persTOP6_market</th>\n      <th>persTOP6_point</th>\n      <th>persTOP6_league</th>\n      <th>persTOP6_region</th>\n      <th>persTOP7_betmarket</th>\n      <th>persTOP7_match</th>\n      <th>persTOP7_section</th>\n      <th>persTOP7_market</th>\n      <th>persTOP7_point</th>\n      <th>persTOP7_league</th>\n      <th>persTOP7_region</th>\n      <th>persTOP8_betmarket</th>\n      <th>persTOP8_match</th>\n      <th>persTOP8_section</th>\n      <th>persTOP8_market</th>\n      <th>persTOP8_point</th>\n      <th>persTOP8_league</th>\n      <th>persTOP8_region</th>\n      <th>persTOP9_betmarket</th>\n      <th>persTOP9_match</th>\n      <th>persTOP9_section</th>\n      <th>persTOP9_market</th>\n      <th>persTOP9_point</th>\n      <th>persTOP9_league</th>\n      <th>persTOP9_region</th>\n      <th>persTOP10_betmarket</th>\n      <th>persTOP10_match</th>\n      <th>persTOP10_section</th>\n      <th>persTOP10_market</th>\n      <th>persTOP10_point</th>\n      <th>persTOP10_league</th>\n      <th>persTOP10_region</th>\n    </tr>\n  </thead>\n  <tbody>\n    <tr>\n      <th>0</th>\n      <td>3044310</td>\n      <td>21.41</td>\n      <td>40</td>\n      <td>AT</td>\n      <td>HT1</td>\n      <td>Goal</td>\n      <td>OverUnder</td>\n      <td>FB-226375</td>\n      <td>2022-10-28</td>\n      <td>2022-10-28 14:23:42.051</td>\n      <td>1.82</td>\n      <td>FC Ma'an</td>\n      <td>Shabab Al Ordon</td>\n      <td>JO</td>\n      <td>Football</td>\n      <td>PremierLeague</td>\n      <td>0.0</td>\n      <td>10.86</td>\n      <td>HT1_OverUnder_Goal</td>\n      <td>PremierLeague_JO</td>\n      <td>6</td>\n      <td>21.41</td>\n      <td>20.25</td>\n      <td>20.70</td>\n      <td>22.74</td>\n      <td>HT1_TeamToScore_Goal</td>\n      <td>SuperLeague_IN</td>\n      <td>HT1</td>\n      <td>TeamToScore</td>\n      <td>Goal</td>\n      <td>SuperLeague</td>\n      <td>IN</td>\n      <td>RT_OverUnder_Goal</td>\n      <td>3Liga_CZ</td>\n      <td>RT</td>\n      <td>OverUnder</td>\n      <td>Goal</td>\n      <td>3Liga</td>\n      <td>CZ</td>\n      <td>HT1_TeamOverUnder_Goal</td>\n      <td>LigaLeumit_IL</td>\n      <td>HT1</td>\n      <td>TeamOverUnder</td>\n      <td>Goal</td>\n      <td>LigaLeumit</td>\n      <td>IL</td>\n      <td>HT1_TeamToScore_Goal</td>\n      <td>FirstLeague_BG</td>\n      <td>HT1</td>\n      <td>TeamToScore</td>\n      <td>Goal</td>\n      <td>FirstLeague</td>\n      <td>BG</td>\n      <td>HT1_OverUnder_Goal</td>\n      <td>2ndDivision_EG</td>\n      <td>HT1</td>\n      <td>OverUnder</td>\n      <td>Goal</td>\n      <td>2ndDivision</td>\n      <td>EG</td>\n      <td>HT1_BothTeamsToScore_Goal</td>\n      <td>U21ProfessionalDevelopmentLeague_ENG</td>\n      <td>HT1</td>\n      <td>BothTeamsToScore</td>\n      <td>Goal</td>\n      <td>U21ProfessionalDevelopmentLeague</td>\n      <td>ENG</td>\n      <td>HT1_OverUnder_Goal</td>\n      <td>3Liga_CZ</td>\n      <td>HT1</td>\n      <td>OverUnder</td>\n      <td>Goal</td>\n      <td>3Liga</td>\n      <td>CZ</td>\n      <td>HT1_BothTeamsToScore_Goal</td>\n      <td>U21ProfessionalDevelopmentLeague_ENG</td>\n      <td>HT1</td>\n      <td>BothTeamsToScore</td>\n      <td>Goal</td>\n      <td>U21ProfessionalDevelopmentLeague</td>\n      <td>ENG</td>\n      <td>HT1_OverUnder_Goal</td>\n      <td>3Liga_CZ</td>\n      <td>HT1</td>\n      <td>OverUnder</td>\n      <td>Goal</td>\n      <td>3Liga</td>\n      <td>CZ</td>\n      <td>RT_OverUnder_Goal</td>\n      <td>Cup_SG</td>\n      <td>RT</td>\n      <td>OverUnder</td>\n      <td>Goal</td>\n      <td>Cup</td>\n      <td>SG</td>\n      <td>18.40</td>\n      <td>21.41</td>\n      <td>17.49</td>\n      <td>10.18</td>\n      <td>0.0</td>\n      <td>14.46</td>\n      <td>0.0</td>\n      <td>0.0</td>\n      <td>25.0</td>\n      <td>0.0</td>\n      <td>20.70</td>\n      <td>7.24</td>\n      <td>19.38</td>\n      <td>8.75</td>\n      <td>19.34</td>\n      <td>0.0</td>\n      <td>20.91</td>\n      <td>0.0</td>\n      <td>0.0</td>\n      <td>0.0</td>\n      <td>20.25</td>\n      <td>0.0</td>\n      <td>0.0</td>\n      <td>8.91</td>\n      <td>28.04</td>\n      <td>20.43</td>\n      <td>0.0</td>\n      <td>15.55</td>\n      <td>36.87</td>\n      <td>28.47</td>\n      <td>60.24</td>\n      <td>15.60</td>\n      <td>20.18</td>\n      <td>23.38</td>\n      <td>16.57</td>\n      <td>19.83</td>\n      <td>0.0</td>\n      <td>19.95</td>\n      <td>19.26</td>\n      <td>25.0</td>\n      <td>17.49</td>\n      <td>21.38</td>\n      <td>13.33</td>\n      <td>16.42</td>\n      <td>0.0</td>\n      <td>0.0</td>\n      <td>25.62</td>\n      <td>8.35</td>\n      <td>15.0</td>\n      <td>17.94</td>\n      <td>5.35</td>\n      <td>25.00</td>\n      <td>21.73</td>\n      <td>14.60</td>\n      <td>40.21</td>\n      <td>18.48</td>\n      <td>25.10</td>\n      <td>29.33</td>\n      <td>21.93</td>\n      <td>21.01</td>\n      <td>5.35</td>\n      <td>24.16</td>\n      <td>21.45</td>\n      <td>19.61</td>\n      <td>0.0</td>\n      <td>20.22</td>\n      <td>20.00</td>\n      <td>20.00</td>\n      <td>15.66</td>\n      <td>0.0</td>\n      <td>18.10</td>\n      <td>25.33</td>\n      <td>23.15</td>\n      <td>19.36</td>\n      <td>0.0</td>\n      <td>25.68</td>\n      <td>17.61</td>\n      <td>18.17</td>\n      <td>21.44</td>\n      <td>24.81</td>\n      <td>12.50</td>\n      <td>10.0</td>\n      <td>18.60</td>\n      <td>betmarketIDperssection_OT2_market_TeamToScore_...</td>\n      <td>matchIDpersleague_2Bundesliga_region_DE</td>\n      <td>OT2</td>\n      <td>TeamToScore</td>\n      <td>Goal</td>\n      <td>2Bundesliga</td>\n      <td>DE</td>\n      <td>betmarketIDperssection_OT2_market_OverUnder_po...</td>\n      <td>matchIDpersleague_2Bundesliga_region_IT</td>\n      <td>OT2</td>\n      <td>OverUnder</td>\n      <td>Goal</td>\n      <td>2Bundesliga</td>\n      <td>IT</td>\n      <td>betmarketIDperssection_OT2_market_BothTeamsToS...</td>\n      <td>matchIDpersleague_2Bundesliga_region_SE</td>\n      <td>OT2</td>\n      <td>BothTeamsToScore</td>\n      <td>Goal</td>\n      <td>2Bundesliga</td>\n      <td>SE</td>\n      <td>betmarketIDperssection_OT2_market_TeamOverUnde...</td>\n      <td>matchIDpersleague_2Bundesliga_region_NO</td>\n      <td>OT2</td>\n      <td>TeamOverUnder</td>\n      <td>Goal</td>\n      <td>2Bundesliga</td>\n      <td>NO</td>\n      <td>betmarketIDperssection_HT1_market_TeamToScore_...</td>\n      <td>matchIDpersleague_2Bundesliga_region_ES</td>\n      <td>HT1</td>\n      <td>TeamToScore</td>\n      <td>Goal</td>\n      <td>2Bundesliga</td>\n      <td>ES</td>\n      <td>betmarketIDperssection_HT1_market_OverUnder_po...</td>\n      <td>matchIDpersleague_2Bundesliga_region_RO</td>\n      <td>HT1</td>\n      <td>OverUnder</td>\n      <td>Goal</td>\n      <td>2Bundesliga</td>\n      <td>RO</td>\n      <td>betmarketIDperssection_HT1_market_BothTeamsToS...</td>\n      <td>matchIDpersleague_2Bundesliga_region_NL</td>\n      <td>HT1</td>\n      <td>BothTeamsToScore</td>\n      <td>Goal</td>\n      <td>2Bundesliga</td>\n      <td>NL</td>\n      <td>betmarketIDperssection_HT1_market_TeamOverUnde...</td>\n      <td>matchIDpersleague_2Bundesliga_region_AT</td>\n      <td>HT1</td>\n      <td>TeamOverUnder</td>\n      <td>Goal</td>\n      <td>2Bundesliga</td>\n      <td>AT</td>\n      <td>betmarketIDperssection_RT_market_TeamToScore_p...</td>\n      <td>matchIDpersleague_2Bundesliga_region_FR</td>\n      <td>RT</td>\n      <td>TeamToScore</td>\n      <td>Goal</td>\n      <td>2Bundesliga</td>\n      <td>FR</td>\n      <td>betmarketIDperssection_RT_market_OverUnder_poi...</td>\n      <td>matchIDpersleague_2Bundesliga_region_TR</td>\n      <td>RT</td>\n      <td>OverUnder</td>\n      <td>Goal</td>\n      <td>2Bundesliga</td>\n      <td>TR</td>\n    </tr>\n    <tr>\n      <th>1</th>\n      <td>17707010</td>\n      <td>12.84</td>\n      <td>60</td>\n      <td>DE</td>\n      <td>RT</td>\n      <td>Goal</td>\n      <td>OverUnder</td>\n      <td>FB-226334</td>\n      <td>2022-10-28</td>\n      <td>2022-10-28 14:23:40.631</td>\n      <td>1.90</td>\n      <td>El Sekka El Hadid</td>\n      <td>Eastern Company SC</td>\n      <td>EG</td>\n      <td>Football</td>\n      <td>2ndDivision</td>\n      <td>0.0</td>\n      <td>20.00</td>\n      <td>RT_OverUnder_Goal</td>\n      <td>2ndDivision_EG</td>\n      <td>6</td>\n      <td>12.84</td>\n      <td>13.01</td>\n      <td>13.09</td>\n      <td>28.13</td>\n      <td>RT_Handicap3w_Goal</td>\n      <td>3Liga_CZ</td>\n      <td>RT</td>\n      <td>Handicap3w</td>\n      <td>Goal</td>\n      <td>3Liga</td>\n      <td>CZ</td>\n      <td>RT_OverUnder_Goal</td>\n      <td>FirstLeague_BG</td>\n      <td>RT</td>\n      <td>OverUnder</td>\n      <td>Goal</td>\n      <td>FirstLeague</td>\n      <td>BG</td>\n      <td>HT1_OverUnder_Goal</td>\n      <td>PremierLeague_TH</td>\n      <td>HT1</td>\n      <td>OverUnder</td>\n      <td>Goal</td>\n      <td>PremierLeague</td>\n      <td>TH</td>\n      <td>RT_OverUnder_Goal</td>\n      <td>Cup_SG</td>\n      <td>RT</td>\n      <td>OverUnder</td>\n      <td>Goal</td>\n      <td>Cup</td>\n      <td>SG</td>\n      <td>RT_TeamOverUnder_Goal</td>\n      <td>Division2_TH</td>\n      <td>RT</td>\n      <td>TeamOverUnder</td>\n      <td>Goal</td>\n      <td>Division2</td>\n      <td>TH</td>\n      <td>RT_OverUnder_Goal</td>\n      <td>UEFAEuropaConferenceLeague_EUR</td>\n      <td>RT</td>\n      <td>OverUnder</td>\n      <td>Goal</td>\n      <td>UEFAEuropaConferenceLeague</td>\n      <td>EUR</td>\n      <td>None</td>\n      <td>A-League_AU</td>\n      <td>None</td>\n      <td>None</td>\n      <td>None</td>\n      <td>A-League</td>\n      <td>AU</td>\n      <td>None</td>\n      <td>UEFAEuropaLeague_EUR</td>\n      <td>None</td>\n      <td>None</td>\n      <td>None</td>\n      <td>UEFAEuropaLeague</td>\n      <td>EUR</td>\n      <td>None</td>\n      <td>Cup_IL</td>\n      <td>None</td>\n      <td>None</td>\n      <td>None</td>\n      <td>Cup</td>\n      <td>IL</td>\n      <td>None</td>\n      <td>LigaBet_IL</td>\n      <td>None</td>\n      <td>None</td>\n      <td>None</td>\n      <td>LigaBet</td>\n      <td>IL</td>\n      <td>12.84</td>\n      <td>25.00</td>\n      <td>0.00</td>\n      <td>0.00</td>\n      <td>0.0</td>\n      <td>0.00</td>\n      <td>0.0</td>\n      <td>0.0</td>\n      <td>0.0</td>\n      <td>0.0</td>\n      <td>13.09</td>\n      <td>10.00</td>\n      <td>0.00</td>\n      <td>0.00</td>\n      <td>10.00</td>\n      <td>0.0</td>\n      <td>0.00</td>\n      <td>0.0</td>\n      <td>0.0</td>\n      <td>0.0</td>\n      <td>13.01</td>\n      <td>0.0</td>\n      <td>0.0</td>\n      <td>25.00</td>\n      <td>5.94</td>\n      <td>15.54</td>\n      <td>0.0</td>\n      <td>2.50</td>\n      <td>13.13</td>\n      <td>5.00</td>\n      <td>1.25</td>\n      <td>70.00</td>\n      <td>2.50</td>\n      <td>15.94</td>\n      <td>0.00</td>\n      <td>0.00</td>\n      <td>0.0</td>\n      <td>9.17</td>\n      <td>17.50</td>\n      <td>0.0</td>\n      <td>0.00</td>\n      <td>15.00</td>\n      <td>5.00</td>\n      <td>12.00</td>\n      <td>5.0</td>\n      <td>0.0</td>\n      <td>0.00</td>\n      <td>9.38</td>\n      <td>0.0</td>\n      <td>12.50</td>\n      <td>0.00</td>\n      <td>0.00</td>\n      <td>0.00</td>\n      <td>15.83</td>\n      <td>3.33</td>\n      <td>3.13</td>\n      <td>5.00</td>\n      <td>13.13</td>\n      <td>2.50</td>\n      <td>12.50</td>\n      <td>0.00</td>\n      <td>0.00</td>\n      <td>15.00</td>\n      <td>0.00</td>\n      <td>0.0</td>\n      <td>5.00</td>\n      <td>0.00</td>\n      <td>25.00</td>\n      <td>12.14</td>\n      <td>0.0</td>\n      <td>7.00</td>\n      <td>10.00</td>\n      <td>0.00</td>\n      <td>0.00</td>\n      <td>0.0</td>\n      <td>0.00</td>\n      <td>7.50</td>\n      <td>0.00</td>\n      <td>18.50</td>\n      <td>11.25</td>\n      <td>0.00</td>\n      <td>0.0</td>\n      <td>0.00</td>\n      <td>betmarketIDperssection_HT1_market_OverUnder_po...</td>\n      <td>matchIDpersleague_UEFAEuropaConferenceLeague_r...</td>\n      <td>HT1</td>\n      <td>OverUnder</td>\n      <td>Goal</td>\n      <td>UEFAEuropaConferenceLeague</td>\n      <td>JP</td>\n      <td>betmarketIDperssection_HT1_market_TeamOverUnde...</td>\n      <td>matchIDpersleague_UEFAEuropaConferenceLeague_r...</td>\n      <td>HT1</td>\n      <td>TeamOverUnder</td>\n      <td>Goal</td>\n      <td>UEFAEuropaConferenceLeague</td>\n      <td>CZ</td>\n      <td>betmarketIDperssection_HT1_market_Handicap3w_p...</td>\n      <td>matchIDpersleague_UEFAEuropaConferenceLeague_r...</td>\n      <td>HT1</td>\n      <td>Handicap3w</td>\n      <td>Goal</td>\n      <td>UEFAEuropaConferenceLeague</td>\n      <td>EUR</td>\n      <td>betmarketIDperssection_RT_market_OverUnder_poi...</td>\n      <td>matchIDpersleague_UEFAEuropaConferenceLeague_r...</td>\n      <td>RT</td>\n      <td>OverUnder</td>\n      <td>Goal</td>\n      <td>UEFAEuropaConferenceLeague</td>\n      <td>TR</td>\n      <td>betmarketIDperssection_HT1_market_OverUnder_po...</td>\n      <td>matchIDpersleague_UEFAEuropaConferenceLeague_r...</td>\n      <td>HT1</td>\n      <td>OverUnder</td>\n      <td>RedCard</td>\n      <td>UEFAEuropaConferenceLeague</td>\n      <td>IT</td>\n      <td>betmarketIDperssection_HT1_market_OverUnder_po...</td>\n      <td>matchIDpersleague_UEFAEuropaConferenceLeague_r...</td>\n      <td>HT1</td>\n      <td>OverUnder</td>\n      <td>Corner</td>\n      <td>UEFAEuropaConferenceLeague</td>\n      <td>AR</td>\n      <td>betmarketIDperssection_HT1_market_ToScoreEachS...</td>\n      <td>matchIDpersleague_UEFAEuropaConferenceLeague_r...</td>\n      <td>HT1</td>\n      <td>ToScoreEachSection</td>\n      <td>Goal</td>\n      <td>UEFAEuropaConferenceLeague</td>\n      <td>CN</td>\n      <td>betmarketIDperssection_HT1_market_TeamToScore_...</td>\n      <td>matchIDpersleague_UEFAEuropaConferenceLeague_r...</td>\n      <td>HT1</td>\n      <td>TeamToScore</td>\n      <td>Goal</td>\n      <td>UEFAEuropaConferenceLeague</td>\n      <td>RO</td>\n      <td>betmarketIDperssection_HT1_market_PlayerToScor...</td>\n      <td>matchIDpersleague_UEFAEuropaConferenceLeague_r...</td>\n      <td>HT1</td>\n      <td>PlayerToScore</td>\n      <td>Goal</td>\n      <td>UEFAEuropaConferenceLeague</td>\n      <td>NO</td>\n      <td>betmarketIDperssection_HT1_market_NthPoint_poi...</td>\n      <td>matchIDpersleague_UEFAEuropaConferenceLeague_r...</td>\n      <td>HT1</td>\n      <td>NthPoint</td>\n      <td>Goal</td>\n      <td>UEFAEuropaConferenceLeague</td>\n      <td>KR</td>\n    </tr>\n    <tr>\n      <th>2</th>\n      <td>11764610</td>\n      <td>0.27</td>\n      <td>61</td>\n      <td>DE</td>\n      <td>RT</td>\n      <td>Goal</td>\n      <td>Handicap3w</td>\n      <td>FB-226449</td>\n      <td>2022-10-28</td>\n      <td>2022-10-28 14:23:39.479</td>\n      <td>1.66</td>\n      <td>Arda Kardzhali</td>\n      <td>CSKA Sofia</td>\n      <td>BG</td>\n      <td>Football</td>\n      <td>FirstLeague</td>\n      <td>66.0</td>\n      <td>0.50</td>\n      <td>RT_Handicap3w_Goal</td>\n      <td>FirstLeague_BG</td>\n      <td>6</td>\n      <td>0.27</td>\n      <td>0.27</td>\n      <td>0.27</td>\n      <td>0.25</td>\n      <td>RT_OverUnder_Goal</td>\n      <td>2Bundesliga_DE</td>\n      <td>RT</td>\n      <td>OverUnder</td>\n      <td>Goal</td>\n      <td>2Bundesliga</td>\n      <td>DE</td>\n      <td>RT_Handicap3w_Goal</td>\n      <td>2Liga_AT</td>\n      <td>RT</td>\n      <td>Handicap3w</td>\n      <td>Goal</td>\n      <td>2Liga</td>\n      <td>AT</td>\n      <td>RT_OverUnder_Goal</td>\n      <td>ReserveLeague_PY</td>\n      <td>RT</td>\n      <td>OverUnder</td>\n      <td>Goal</td>\n      <td>ReserveLeague</td>\n      <td>PY</td>\n      <td>RT_Handicap3w_Goal</td>\n      <td>U21ProfessionalDevelopmentLeague_ENG</td>\n      <td>RT</td>\n      <td>Handicap3w</td>\n      <td>Goal</td>\n      <td>U21ProfessionalDevelopmentLeague</td>\n      <td>ENG</td>\n      <td>OT_Handicap3w_Goal</td>\n      <td>V-League_VN</td>\n      <td>OT</td>\n      <td>Handicap3w</td>\n      <td>Goal</td>\n      <td>V-League</td>\n      <td>VN</td>\n      <td>RT_Handicap3w_Goal</td>\n      <td>3Liga_CZ</td>\n      <td>RT</td>\n      <td>Handicap3w</td>\n      <td>Goal</td>\n      <td>3Liga</td>\n      <td>CZ</td>\n      <td>RT_OverUnder_Goal</td>\n      <td>A-League_AU</td>\n      <td>RT</td>\n      <td>OverUnder</td>\n      <td>Goal</td>\n      <td>A-League</td>\n      <td>AU</td>\n      <td>RT_Handicap3w_Goal</td>\n      <td>3Liga_CZ</td>\n      <td>RT</td>\n      <td>Handicap3w</td>\n      <td>Goal</td>\n      <td>3Liga</td>\n      <td>CZ</td>\n      <td>HT1_Handicap3w_Goal</td>\n      <td>LigaBet_IL</td>\n      <td>HT1</td>\n      <td>Handicap3w</td>\n      <td>Goal</td>\n      <td>LigaBet</td>\n      <td>IL</td>\n      <td>RT_Handicap3w_Goal</td>\n      <td>3Liga_CZ</td>\n      <td>RT</td>\n      <td>Handicap3w</td>\n      <td>Goal</td>\n      <td>3Liga</td>\n      <td>CZ</td>\n      <td>0.27</td>\n      <td>0.00</td>\n      <td>0.00</td>\n      <td>0.15</td>\n      <td>0.0</td>\n      <td>0.00</td>\n      <td>0.0</td>\n      <td>0.0</td>\n      <td>0.0</td>\n      <td>0.0</td>\n      <td>0.36</td>\n      <td>0.27</td>\n      <td>0.00</td>\n      <td>0.00</td>\n      <td>0.00</td>\n      <td>0.0</td>\n      <td>0.00</td>\n      <td>0.0</td>\n      <td>0.0</td>\n      <td>0.0</td>\n      <td>0.27</td>\n      <td>0.0</td>\n      <td>0.0</td>\n      <td>0.00</td>\n      <td>0.10</td>\n      <td>0.21</td>\n      <td>0.0</td>\n      <td>0.18</td>\n      <td>0.23</td>\n      <td>0.25</td>\n      <td>0.37</td>\n      <td>0.19</td>\n      <td>0.45</td>\n      <td>0.19</td>\n      <td>0.00</td>\n      <td>0.52</td>\n      <td>0.0</td>\n      <td>0.20</td>\n      <td>0.25</td>\n      <td>0.0</td>\n      <td>0.25</td>\n      <td>0.13</td>\n      <td>0.00</td>\n      <td>0.25</td>\n      <td>0.0</td>\n      <td>0.0</td>\n      <td>0.00</td>\n      <td>0.34</td>\n      <td>0.0</td>\n      <td>0.18</td>\n      <td>0.00</td>\n      <td>0.16</td>\n      <td>0.20</td>\n      <td>0.19</td>\n      <td>0.38</td>\n      <td>0.14</td>\n      <td>0.25</td>\n      <td>0.23</td>\n      <td>0.00</td>\n      <td>0.00</td>\n      <td>0.00</td>\n      <td>0.16</td>\n      <td>0.14</td>\n      <td>0.25</td>\n      <td>0.0</td>\n      <td>0.00</td>\n      <td>0.27</td>\n      <td>0.32</td>\n      <td>0.35</td>\n      <td>0.0</td>\n      <td>0.25</td>\n      <td>0.20</td>\n      <td>0.50</td>\n      <td>0.00</td>\n      <td>0.2</td>\n      <td>0.00</td>\n      <td>0.00</td>\n      <td>0.00</td>\n      <td>0.21</td>\n      <td>0.66</td>\n      <td>0.22</td>\n      <td>0.0</td>\n      <td>0.36</td>\n      <td>betmarketIDperssection_RT_market_OverUnder_poi...</td>\n      <td>matchIDpersleague_DFBPokal_region_RO</td>\n      <td>RT</td>\n      <td>OverUnder</td>\n      <td>Goal</td>\n      <td>DFBPokal</td>\n      <td>RO</td>\n      <td>betmarketIDperssection_RT_market_Handicap3w_po...</td>\n      <td>matchIDpersleague_Ligue1_region_RO</td>\n      <td>RT</td>\n      <td>Handicap3w</td>\n      <td>Goal</td>\n      <td>Ligue1</td>\n      <td>RO</td>\n      <td>betmarketIDperssection_OT_market_OverUnder_poi...</td>\n      <td>matchIDpersleague_2Bundesliga_region_RO</td>\n      <td>OT</td>\n      <td>OverUnder</td>\n      <td>Goal</td>\n      <td>2Bundesliga</td>\n      <td>RO</td>\n      <td>betmarketIDperssection_OT_market_Handicap3w_po...</td>\n      <td>matchIDpersleague_DFBPokal_region_AT</td>\n      <td>OT</td>\n      <td>Handicap3w</td>\n      <td>Goal</td>\n      <td>DFBPokal</td>\n      <td>AT</td>\n      <td>betmarketIDperssection_SO_market_OverUnder_poi...</td>\n      <td>matchIDpersleague_LeagueOne_region_RO</td>\n      <td>SO</td>\n      <td>OverUnder</td>\n      <td>Goal</td>\n      <td>LeagueOne</td>\n      <td>RO</td>\n      <td>betmarketIDperssection_RT_market_OverUnder_poi...</td>\n      <td>matchIDpersleague_Ligue1_region_AT</td>\n      <td>RT</td>\n      <td>OverUnder</td>\n      <td>RedCard</td>\n      <td>Ligue1</td>\n      <td>AT</td>\n      <td>betmarketIDperssection_RT_market_OverUnder_poi...</td>\n      <td>matchIDpersleague_UEFAYouthLeague_region_RO</td>\n      <td>RT</td>\n      <td>OverUnder</td>\n      <td>Corner</td>\n      <td>UEFAYouthLeague</td>\n      <td>RO</td>\n      <td>betmarketIDperssection_RTOT_market_OverUnder_p...</td>\n      <td>matchIDpersleague_SuperLeague_region_RO</td>\n      <td>RTOT</td>\n      <td>OverUnder</td>\n      <td>Goal</td>\n      <td>SuperLeague</td>\n      <td>RO</td>\n      <td>betmarketIDperssection_OT2_market_OverUnder_po...</td>\n      <td>matchIDpersleague_LaLiga_region_RO</td>\n      <td>OT2</td>\n      <td>OverUnder</td>\n      <td>Goal</td>\n      <td>LaLiga</td>\n      <td>RO</td>\n      <td>betmarketIDperssection_OT1_market_OverUnder_po...</td>\n      <td>matchIDpersleague_JupilerProLeague_region_RO</td>\n      <td>OT1</td>\n      <td>OverUnder</td>\n      <td>Goal</td>\n      <td>JupilerProLeague</td>\n      <td>RO</td>\n    </tr>\n    <tr>\n      <th>3</th>\n      <td>11764610</td>\n      <td>0.27</td>\n      <td>61</td>\n      <td>DE</td>\n      <td>RT</td>\n      <td>Goal</td>\n      <td>Handicap3w</td>\n      <td>FB-219054</td>\n      <td>2022-10-28</td>\n      <td>2022-10-28 14:23:39.479</td>\n      <td>2.08</td>\n      <td>SpVgg Greuther Fürth</td>\n      <td>Arminia Bielefeld</td>\n      <td>DE</td>\n      <td>Football</td>\n      <td>2Bundesliga</td>\n      <td>126.0</td>\n      <td>0.50</td>\n      <td>RT_Handicap3w_Goal</td>\n      <td>2Bundesliga_DE</td>\n      <td>6</td>\n      <td>0.27</td>\n      <td>0.27</td>\n      <td>0.27</td>\n      <td>0.24</td>\n      <td>RT_OverUnder_Goal</td>\n      <td>2Liga_AT</td>\n      <td>RT</td>\n      <td>OverUnder</td>\n      <td>Goal</td>\n      <td>2Liga</td>\n      <td>AT</td>\n      <td>RT_Handicap3w_Goal</td>\n      <td>ReserveLeague_PY</td>\n      <td>RT</td>\n      <td>Handicap3w</td>\n      <td>Goal</td>\n      <td>ReserveLeague</td>\n      <td>PY</td>\n      <td>RT_OverUnder_Goal</td>\n      <td>U21ProfessionalDevelopmentLeague_ENG</td>\n      <td>RT</td>\n      <td>OverUnder</td>\n      <td>Goal</td>\n      <td>U21ProfessionalDevelopmentLeague</td>\n      <td>ENG</td>\n      <td>RT_Handicap3w_Goal</td>\n      <td>V-League_VN</td>\n      <td>RT</td>\n      <td>Handicap3w</td>\n      <td>Goal</td>\n      <td>V-League</td>\n      <td>VN</td>\n      <td>OT_Handicap3w_Goal</td>\n      <td>3Liga_CZ</td>\n      <td>OT</td>\n      <td>Handicap3w</td>\n      <td>Goal</td>\n      <td>3Liga</td>\n      <td>CZ</td>\n      <td>RT_Handicap3w_Goal</td>\n      <td>A-League_AU</td>\n      <td>RT</td>\n      <td>Handicap3w</td>\n      <td>Goal</td>\n      <td>A-League</td>\n      <td>AU</td>\n      <td>RT_OverUnder_Goal</td>\n      <td>3Liga_CZ</td>\n      <td>RT</td>\n      <td>OverUnder</td>\n      <td>Goal</td>\n      <td>3Liga</td>\n      <td>CZ</td>\n      <td>RT_Handicap3w_Goal</td>\n      <td>LigaBet_IL</td>\n      <td>RT</td>\n      <td>Handicap3w</td>\n      <td>Goal</td>\n      <td>LigaBet</td>\n      <td>IL</td>\n      <td>HT1_Handicap3w_Goal</td>\n      <td>3Liga_CZ</td>\n      <td>HT1</td>\n      <td>Handicap3w</td>\n      <td>Goal</td>\n      <td>3Liga</td>\n      <td>CZ</td>\n      <td>RT_Handicap3w_Goal</td>\n      <td>UEFAEuropaLeague_EUR</td>\n      <td>RT</td>\n      <td>Handicap3w</td>\n      <td>Goal</td>\n      <td>UEFAEuropaLeague</td>\n      <td>EUR</td>\n      <td>0.27</td>\n      <td>0.00</td>\n      <td>0.00</td>\n      <td>0.15</td>\n      <td>0.0</td>\n      <td>0.00</td>\n      <td>0.0</td>\n      <td>0.0</td>\n      <td>0.0</td>\n      <td>0.0</td>\n      <td>0.36</td>\n      <td>0.27</td>\n      <td>0.00</td>\n      <td>0.00</td>\n      <td>0.00</td>\n      <td>0.0</td>\n      <td>0.00</td>\n      <td>0.0</td>\n      <td>0.0</td>\n      <td>0.0</td>\n      <td>0.27</td>\n      <td>0.0</td>\n      <td>0.0</td>\n      <td>0.00</td>\n      <td>0.10</td>\n      <td>0.21</td>\n      <td>0.0</td>\n      <td>0.18</td>\n      <td>0.23</td>\n      <td>0.25</td>\n      <td>0.37</td>\n      <td>0.19</td>\n      <td>0.45</td>\n      <td>0.19</td>\n      <td>0.00</td>\n      <td>0.52</td>\n      <td>0.0</td>\n      <td>0.20</td>\n      <td>0.25</td>\n      <td>0.0</td>\n      <td>0.25</td>\n      <td>0.13</td>\n      <td>0.00</td>\n      <td>0.25</td>\n      <td>0.0</td>\n      <td>0.0</td>\n      <td>0.00</td>\n      <td>0.34</td>\n      <td>0.0</td>\n      <td>0.18</td>\n      <td>0.00</td>\n      <td>0.16</td>\n      <td>0.20</td>\n      <td>0.19</td>\n      <td>0.38</td>\n      <td>0.14</td>\n      <td>0.25</td>\n      <td>0.23</td>\n      <td>0.00</td>\n      <td>0.00</td>\n      <td>0.00</td>\n      <td>0.16</td>\n      <td>0.14</td>\n      <td>0.25</td>\n      <td>0.0</td>\n      <td>0.00</td>\n      <td>0.27</td>\n      <td>0.32</td>\n      <td>0.35</td>\n      <td>0.0</td>\n      <td>0.25</td>\n      <td>0.20</td>\n      <td>0.50</td>\n      <td>0.00</td>\n      <td>0.2</td>\n      <td>0.00</td>\n      <td>0.00</td>\n      <td>0.00</td>\n      <td>0.21</td>\n      <td>0.66</td>\n      <td>0.22</td>\n      <td>0.0</td>\n      <td>0.36</td>\n      <td>betmarketIDperssection_RT_market_OverUnder_poi...</td>\n      <td>matchIDpersleague_DFBPokal_region_RO</td>\n      <td>RT</td>\n      <td>OverUnder</td>\n      <td>Goal</td>\n      <td>DFBPokal</td>\n      <td>RO</td>\n      <td>betmarketIDperssection_RT_market_Handicap3w_po...</td>\n      <td>matchIDpersleague_Ligue1_region_RO</td>\n      <td>RT</td>\n      <td>Handicap3w</td>\n      <td>Goal</td>\n      <td>Ligue1</td>\n      <td>RO</td>\n      <td>betmarketIDperssection_OT_market_OverUnder_poi...</td>\n      <td>matchIDpersleague_2Bundesliga_region_RO</td>\n      <td>OT</td>\n      <td>OverUnder</td>\n      <td>Goal</td>\n      <td>2Bundesliga</td>\n      <td>RO</td>\n      <td>betmarketIDperssection_OT_market_Handicap3w_po...</td>\n      <td>matchIDpersleague_DFBPokal_region_AT</td>\n      <td>OT</td>\n      <td>Handicap3w</td>\n      <td>Goal</td>\n      <td>DFBPokal</td>\n      <td>AT</td>\n      <td>betmarketIDperssection_SO_market_OverUnder_poi...</td>\n      <td>matchIDpersleague_LeagueOne_region_RO</td>\n      <td>SO</td>\n      <td>OverUnder</td>\n      <td>Goal</td>\n      <td>LeagueOne</td>\n      <td>RO</td>\n      <td>betmarketIDperssection_RT_market_OverUnder_poi...</td>\n      <td>matchIDpersleague_Ligue1_region_AT</td>\n      <td>RT</td>\n      <td>OverUnder</td>\n      <td>RedCard</td>\n      <td>Ligue1</td>\n      <td>AT</td>\n      <td>betmarketIDperssection_RT_market_OverUnder_poi...</td>\n      <td>matchIDpersleague_UEFAYouthLeague_region_RO</td>\n      <td>RT</td>\n      <td>OverUnder</td>\n      <td>Corner</td>\n      <td>UEFAYouthLeague</td>\n      <td>RO</td>\n      <td>betmarketIDperssection_RTOT_market_OverUnder_p...</td>\n      <td>matchIDpersleague_SuperLeague_region_RO</td>\n      <td>RTOT</td>\n      <td>OverUnder</td>\n      <td>Goal</td>\n      <td>SuperLeague</td>\n      <td>RO</td>\n      <td>betmarketIDperssection_OT2_market_OverUnder_po...</td>\n      <td>matchIDpersleague_LaLiga_region_RO</td>\n      <td>OT2</td>\n      <td>OverUnder</td>\n      <td>Goal</td>\n      <td>LaLiga</td>\n      <td>RO</td>\n      <td>betmarketIDperssection_OT1_market_OverUnder_po...</td>\n      <td>matchIDpersleague_JupilerProLeague_region_RO</td>\n      <td>OT1</td>\n      <td>OverUnder</td>\n      <td>Goal</td>\n      <td>JupilerProLeague</td>\n      <td>RO</td>\n    </tr>\n    <tr>\n      <th>4</th>\n      <td>11764610</td>\n      <td>0.27</td>\n      <td>61</td>\n      <td>DE</td>\n      <td>RT</td>\n      <td>Goal</td>\n      <td>Handicap3w</td>\n      <td>FB-219064</td>\n      <td>2022-10-28</td>\n      <td>2022-10-28 14:23:39.479</td>\n      <td>2.86</td>\n      <td>1. FC Magdeburg</td>\n      <td>1. FC Heidenheim</td>\n      <td>DE</td>\n      <td>Football</td>\n      <td>2Bundesliga</td>\n      <td>126.0</td>\n      <td>0.50</td>\n      <td>RT_Handicap3w_Goal</td>\n      <td>2Bundesliga_DE</td>\n      <td>6</td>\n      <td>0.27</td>\n      <td>0.27</td>\n      <td>0.27</td>\n      <td>0.24</td>\n      <td>RT_OverUnder_Goal</td>\n      <td>2Liga_AT</td>\n      <td>RT</td>\n      <td>OverUnder</td>\n      <td>Goal</td>\n      <td>2Liga</td>\n      <td>AT</td>\n      <td>RT_Handicap3w_Goal</td>\n      <td>ReserveLeague_PY</td>\n      <td>RT</td>\n      <td>Handicap3w</td>\n      <td>Goal</td>\n      <td>ReserveLeague</td>\n      <td>PY</td>\n      <td>RT_OverUnder_Goal</td>\n      <td>U21ProfessionalDevelopmentLeague_ENG</td>\n      <td>RT</td>\n      <td>OverUnder</td>\n      <td>Goal</td>\n      <td>U21ProfessionalDevelopmentLeague</td>\n      <td>ENG</td>\n      <td>RT_Handicap3w_Goal</td>\n      <td>V-League_VN</td>\n      <td>RT</td>\n      <td>Handicap3w</td>\n      <td>Goal</td>\n      <td>V-League</td>\n      <td>VN</td>\n      <td>OT_Handicap3w_Goal</td>\n      <td>3Liga_CZ</td>\n      <td>OT</td>\n      <td>Handicap3w</td>\n      <td>Goal</td>\n      <td>3Liga</td>\n      <td>CZ</td>\n      <td>RT_Handicap3w_Goal</td>\n      <td>A-League_AU</td>\n      <td>RT</td>\n      <td>Handicap3w</td>\n      <td>Goal</td>\n      <td>A-League</td>\n      <td>AU</td>\n      <td>RT_OverUnder_Goal</td>\n      <td>3Liga_CZ</td>\n      <td>RT</td>\n      <td>OverUnder</td>\n      <td>Goal</td>\n      <td>3Liga</td>\n      <td>CZ</td>\n      <td>RT_Handicap3w_Goal</td>\n      <td>LigaBet_IL</td>\n      <td>RT</td>\n      <td>Handicap3w</td>\n      <td>Goal</td>\n      <td>LigaBet</td>\n      <td>IL</td>\n      <td>HT1_Handicap3w_Goal</td>\n      <td>3Liga_CZ</td>\n      <td>HT1</td>\n      <td>Handicap3w</td>\n      <td>Goal</td>\n      <td>3Liga</td>\n      <td>CZ</td>\n      <td>RT_Handicap3w_Goal</td>\n      <td>UEFAEuropaLeague_EUR</td>\n      <td>RT</td>\n      <td>Handicap3w</td>\n      <td>Goal</td>\n      <td>UEFAEuropaLeague</td>\n      <td>EUR</td>\n      <td>0.27</td>\n      <td>0.00</td>\n      <td>0.00</td>\n      <td>0.15</td>\n      <td>0.0</td>\n      <td>0.00</td>\n      <td>0.0</td>\n      <td>0.0</td>\n      <td>0.0</td>\n      <td>0.0</td>\n      <td>0.36</td>\n      <td>0.27</td>\n      <td>0.00</td>\n      <td>0.00</td>\n      <td>0.00</td>\n      <td>0.0</td>\n      <td>0.00</td>\n      <td>0.0</td>\n      <td>0.0</td>\n      <td>0.0</td>\n      <td>0.27</td>\n      <td>0.0</td>\n      <td>0.0</td>\n      <td>0.00</td>\n      <td>0.10</td>\n      <td>0.21</td>\n      <td>0.0</td>\n      <td>0.18</td>\n      <td>0.23</td>\n      <td>0.25</td>\n      <td>0.37</td>\n      <td>0.19</td>\n      <td>0.45</td>\n      <td>0.19</td>\n      <td>0.00</td>\n      <td>0.52</td>\n      <td>0.0</td>\n      <td>0.20</td>\n      <td>0.25</td>\n      <td>0.0</td>\n      <td>0.25</td>\n      <td>0.13</td>\n      <td>0.00</td>\n      <td>0.25</td>\n      <td>0.0</td>\n      <td>0.0</td>\n      <td>0.00</td>\n      <td>0.34</td>\n      <td>0.0</td>\n      <td>0.18</td>\n      <td>0.00</td>\n      <td>0.16</td>\n      <td>0.20</td>\n      <td>0.19</td>\n      <td>0.38</td>\n      <td>0.14</td>\n      <td>0.25</td>\n      <td>0.23</td>\n      <td>0.00</td>\n      <td>0.00</td>\n      <td>0.00</td>\n      <td>0.16</td>\n      <td>0.14</td>\n      <td>0.25</td>\n      <td>0.0</td>\n      <td>0.00</td>\n      <td>0.27</td>\n      <td>0.32</td>\n      <td>0.35</td>\n      <td>0.0</td>\n      <td>0.25</td>\n      <td>0.20</td>\n      <td>0.50</td>\n      <td>0.00</td>\n      <td>0.2</td>\n      <td>0.00</td>\n      <td>0.00</td>\n      <td>0.00</td>\n      <td>0.21</td>\n      <td>0.66</td>\n      <td>0.22</td>\n      <td>0.0</td>\n      <td>0.36</td>\n      <td>betmarketIDperssection_RT_market_OverUnder_poi...</td>\n      <td>matchIDpersleague_DFBPokal_region_RO</td>\n      <td>RT</td>\n      <td>OverUnder</td>\n      <td>Goal</td>\n      <td>DFBPokal</td>\n      <td>RO</td>\n      <td>betmarketIDperssection_RT_market_Handicap3w_po...</td>\n      <td>matchIDpersleague_Ligue1_region_RO</td>\n      <td>RT</td>\n      <td>Handicap3w</td>\n      <td>Goal</td>\n      <td>Ligue1</td>\n      <td>RO</td>\n      <td>betmarketIDperssection_OT_market_OverUnder_poi...</td>\n      <td>matchIDpersleague_2Bundesliga_region_RO</td>\n      <td>OT</td>\n      <td>OverUnder</td>\n      <td>Goal</td>\n      <td>2Bundesliga</td>\n      <td>RO</td>\n      <td>betmarketIDperssection_OT_market_Handicap3w_po...</td>\n      <td>matchIDpersleague_DFBPokal_region_AT</td>\n      <td>OT</td>\n      <td>Handicap3w</td>\n      <td>Goal</td>\n      <td>DFBPokal</td>\n      <td>AT</td>\n      <td>betmarketIDperssection_SO_market_OverUnder_poi...</td>\n      <td>matchIDpersleague_LeagueOne_region_RO</td>\n      <td>SO</td>\n      <td>OverUnder</td>\n      <td>Goal</td>\n      <td>LeagueOne</td>\n      <td>RO</td>\n      <td>betmarketIDperssection_RT_market_OverUnder_poi...</td>\n      <td>matchIDpersleague_Ligue1_region_AT</td>\n      <td>RT</td>\n      <td>OverUnder</td>\n      <td>RedCard</td>\n      <td>Ligue1</td>\n      <td>AT</td>\n      <td>betmarketIDperssection_RT_market_OverUnder_poi...</td>\n      <td>matchIDpersleague_UEFAYouthLeague_region_RO</td>\n      <td>RT</td>\n      <td>OverUnder</td>\n      <td>Corner</td>\n      <td>UEFAYouthLeague</td>\n      <td>RO</td>\n      <td>betmarketIDperssection_RTOT_market_OverUnder_p...</td>\n      <td>matchIDpersleague_SuperLeague_region_RO</td>\n      <td>RTOT</td>\n      <td>OverUnder</td>\n      <td>Goal</td>\n      <td>SuperLeague</td>\n      <td>RO</td>\n      <td>betmarketIDperssection_OT2_market_OverUnder_po...</td>\n      <td>matchIDpersleague_LaLiga_region_RO</td>\n      <td>OT2</td>\n      <td>OverUnder</td>\n      <td>Goal</td>\n      <td>LaLiga</td>\n      <td>RO</td>\n      <td>betmarketIDperssection_OT1_market_OverUnder_po...</td>\n      <td>matchIDpersleague_JupilerProLeague_region_RO</td>\n      <td>OT1</td>\n      <td>OverUnder</td>\n      <td>Goal</td>\n      <td>JupilerProLeague</td>\n      <td>RO</td>\n    </tr>\n  </tbody>\n</table>\n</div>"
     },
     "execution_count": 7,
     "metadata": {},
     "output_type": "execute_result"
    }
   ],
   "source": [
    "main.head(5)"
   ],
   "metadata": {
    "collapsed": false
   }
  },
  {
   "cell_type": "code",
   "execution_count": 9,
   "outputs": [
    {
     "name": "stdout",
     "output_type": "stream",
     "text": [
      "12857822.99999999 12857822.99999999\n"
     ]
    }
   ],
   "source": [
    "main[\"checksum\"] = main[\"2w_section_check\"] - main[\"2w_section\"]\n",
    "print(main[\"2w_section_check\"].sum(), main[\"2w_section\"].sum())"
   ],
   "metadata": {
    "collapsed": false
   }
  },
  {
   "cell_type": "code",
   "execution_count": 2,
   "outputs": [],
   "source": [
    "import pandas as pd\n",
    "pd.set_option('display.max_columns', None)\n",
    "pd.set_option('display.max_rows', None)\n",
    "#res.toPandas().head(10000)"
   ],
   "metadata": {
    "collapsed": false
   }
  },
  {
   "cell_type": "code",
   "execution_count": 4,
   "outputs": [
    {
     "name": "stdout",
     "output_type": "stream",
     "text": [
      "time: 9.02 ms (started: 2023-05-11 09:33:44 +02:00)\n"
     ]
    }
   ],
   "source": [
    "w = Window.partitionBy('customer_id').orderBy(col('placement_time').asc())"
   ],
   "metadata": {
    "collapsed": false
   }
  },
  {
   "cell_type": "code",
   "execution_count": 5,
   "outputs": [
    {
     "name": "stdout",
     "output_type": "stream",
     "text": [
      "time: 2.16 s (started: 2023-05-11 09:33:50 +02:00)\n"
     ]
    }
   ],
   "source": [
    "previous = w.rowsBetween(Window.unboundedPreceding, -1)\n",
    "previous_incl_self = w.rowsBetween(Window.unboundedPreceding, 0)\n",
    "res = res\\\n",
    "    .withColumn(\"recent1_betmarket\", when(lag(\"betmarket_id\", 1).over(w) != col(\"betmarket_id\"),\n",
    "                                          lag(\"betmarket_id\", 1).over(w)))\\\n",
    "    .withColumn(\"recent1_match\", when(lag(\"match_id\", 1).over(w) != col(\"match_id\"),\n",
    "                                          lag(\"match_id\", 1).over(w)))\n",
    "\n",
    "for i in range (1, 11):\n",
    "    recentN_betmarket = \"recent{}_betmarket\".format(i)\n",
    "    recentN_match = \"recent{}_match\".format(i)\n",
    "    if i > 1:\n",
    "        res = res.withColumn(recentN_betmarket, when(lag(\"betmarket_id\", 1).over(w) != col(\"betmarket_id\"),\n",
    "                                       last(col(\"recent{}_betmarket\".format(i - 1)), True).over(previous)))\\\n",
    "                 .withColumn(recentN_match, when(lag(\"match_id\", 1).over(w) != col(\"match_id\"),\n",
    "                                       last(col(\"recent{}_match\".format(i - 1)), True).over(previous)))\n",
    "\n",
    "    res = res.withColumn(recentN_betmarket, last(col(recentN_betmarket), True).over(previous_incl_self))\\\n",
    "             .withColumn(recentN_match, last(col(recentN_match), True).over(previous_incl_self))\\\n",
    "             .withColumn(\"recent{}_section\".format(i), split(recentN_betmarket, '_').getItem(0))\\\n",
    "             .withColumn(\"recent{}_market\".format(i), split(recentN_betmarket, '_').getItem(1))\\\n",
    "             .withColumn(\"recent{}_point\".format(i), split(recentN_betmarket, '_').getItem(2))\\\n",
    "             .withColumn(\"recent{}_league\".format(i), split(recentN_match, '_').getItem(0))\\\n",
    "             .withColumn(\"recent{}_region\".format(i), split(recentN_match, '_').getItem(1))"
   ],
   "metadata": {
    "collapsed": false
   }
  },
  {
   "cell_type": "code",
   "execution_count": 6,
   "outputs": [
    {
     "name": "stdout",
     "output_type": "stream",
     "text": [
      "23/05/11 09:33:55 WARN package: Truncated the string representation of a plan since it was too large. This behavior can be adjusted by setting 'spark.sql.debug.maxToStringFields'.\n"
     ]
    },
    {
     "name": "stderr",
     "output_type": "stream",
     "text": [
      "[Stage 93:>                                                         (0 + 8) / 8]\r"
     ]
    },
    {
     "name": "stdout",
     "output_type": "stream",
     "text": [
      "time: 59 s (started: 2023-05-11 09:33:54 +02:00)\n"
     ]
    },
    {
     "name": "stderr",
     "output_type": "stream",
     "text": [
      "                                                                                \r"
     ]
    }
   ],
   "source": [
    "ohf = {\n",
    "    \"section\": 10,\n",
    "    \"market\": 10,\n",
    "    \"point\": 10,\n",
    "    \"league\": 30,\n",
    "    \"region\": 30\n",
    "}\n",
    "for feat, n in ohf.items():\n",
    "    types_bets = res.groupBy(feat).count().orderBy(col('count').desc()).limit(n).rdd.map(lambda x: x[0]).collect()\n",
    "    types_expr = [when(col(feat) == ty, col(\"stake_eur\")).otherwise(0).alias(feat + '_' + ty) for ty in types_bets]\n",
    "    res = res.select(col('*'), *types_expr)"
   ],
   "metadata": {
    "collapsed": false
   }
  },
  {
   "cell_type": "code",
   "execution_count": 7,
   "outputs": [
    {
     "name": "stdout",
     "output_type": "stream",
     "text": [
      "time: 1min 11s (started: 2023-05-11 09:34:53 +02:00)\n"
     ]
    }
   ],
   "source": [
    "keys = list(ohf.keys())\n",
    "headers = [\n",
    "    [col for col in res.columns\n",
    "     if col.startswith(header + '_') &\n",
    "     (col != \"market_params\")\n",
    "     ] for header in keys\n",
    "]\n",
    "\n",
    "def flatten(l):\n",
    "    return [item for sublist in l for item in sublist]\n",
    "\n",
    "segment = 'pers'\n",
    "minus2w_in_seconds = -60 * 60 * 24 * 14\n",
    "over_last2weeks_pers = Window.partitionBy(\"customer_id\").orderBy(expr(\"unix_timestamp(placement_time)\").asc()).rangeBetween(minus2w_in_seconds, 0)\n",
    "\n",
    "for header in flatten(headers):\n",
    "\n",
    "    sum_col = header + '_sum_{}' + segment\n",
    "    count_col = header + '_count_{}' + segment\n",
    "    stake_col = segment + '_' + header\n",
    "    res = res\\\n",
    "        .withColumn(sum_col, sum(when(col(header) > 0, col(\"stake_eur\")).otherwise(0)).over(over_last2weeks_pers))\\\n",
    "        .withColumn(count_col, sum(when(col(header) > 0, 1).otherwise(0)).over(over_last2weeks_pers))\\\n",
    "        .withColumn(stake_col, round(when(col(count_col) > 0,\n",
    "                                          col(sum_col) / col(count_col))\n",
    "                                     .otherwise(0), 2))\\\n",
    "        .drop(sum_col, count_col)"
   ],
   "metadata": {
    "collapsed": false
   }
  },
  {
   "cell_type": "code",
   "execution_count": 4,
   "outputs": [
    {
     "name": "stdout",
     "output_type": "stream",
     "text": [
      "time: 38.7 s (started: 2023-05-10 22:30:18 +02:00)\n"
     ]
    }
   ],
   "source": [
    "keys = list(ohf.keys())\n",
    "headers = [\n",
    "    [col for col in res.columns\n",
    "     if col.startswith(header + '_') &\n",
    "     (col != \"market_params\")\n",
    "     ] for header in keys\n",
    "]\n",
    "\n",
    "def flatten(l):\n",
    "    return [item for sublist in l for item in sublist]\n",
    "\n",
    "segment = 'glob'\n",
    "minus2w_in_seconds = -60 * 60 * 24 * 14\n",
    "over_last2weeks_glob = Window.orderBy(expr(\"unix_timestamp(placement_time)\").asc()).rangeBetween(minus2w_in_seconds, 0)\n",
    "\n",
    "for header in flatten(headers):\n",
    "\n",
    "    sum_col = header + '_sum_{}' + segment\n",
    "    count_col = header + '_count_{}' + segment\n",
    "    stake_col = segment + '_' + header\n",
    "    res = res\\\n",
    "        .withColumn(sum_col, sum(when(col(header) > 0, col(\"stake_eur\")).otherwise(0)).over(over_last2weeks_glob))\\\n",
    "        .withColumn(count_col, sum(when(col(header) > 0, 1).otherwise(0)).over(over_last2weeks_glob))\\\n",
    "        .withColumn(stake_col, round(when(col(count_col) > 0,\n",
    "                                          col(sum_col) / col(count_col))\n",
    "                                    .otherwise(0), 2))\\\n",
    "        .drop(sum_col, count_col)"
   ],
   "metadata": {
    "collapsed": false
   }
  },
  {
   "cell_type": "code",
   "execution_count": 8,
   "outputs": [
    {
     "name": "stdout",
     "output_type": "stream",
     "text": [
      "time: 23min 47s (started: 2023-05-11 09:36:05 +02:00)\n"
     ]
    }
   ],
   "source": [
    "import numpy as np\n",
    "\n",
    "segment = 'pers'\n",
    "\n",
    "betmarkets = headers[0:3]\n",
    "matches = headers[3:5]\n",
    "\n",
    "betmarket_id = 'betmarketID' + segment\n",
    "match_id = 'matchID' + segment\n",
    "\n",
    "betmarket_ids = np.array(\n",
    "    np.meshgrid(*betmarkets)).T.reshape(-1, 3)\n",
    "\n",
    "match_ids = np.array(\n",
    "    np.meshgrid(*matches)).T.reshape(-1, 2)\n",
    "\n",
    "for betmarket in betmarket_ids:\n",
    "    stakes_sum = np.sum([col(segment + '_' + ty) for ty in betmarket])\n",
    "    res = res.withColumn(betmarket_id + '_'.join(betmarket), stakes_sum)\n",
    "\n",
    "for match in match_ids:\n",
    "    stakes_sum = np.sum([col(segment + '_' + ty) for ty in match])\n",
    "    res = res.withColumn(match_id + '_'.join(match), stakes_sum)\n",
    "\n",
    "betmarket_stakes = sort_array(array(*[\n",
    "    struct(col(c).alias(\"v\"), lit(c).alias(\"k\")) for c in res.columns if c.startswith(betmarket_id)\n",
    "]), asc=False)\n",
    "match_stakes = sort_array(array(*[\n",
    "    struct(col(c).alias(\"v\"), lit(c).alias(\"k\")) for c in res.columns if c.startswith(match_id)\n",
    "]), asc=False)\n",
    "\n",
    "for i in range(0, 10):\n",
    "    res = res\\\n",
    "        .select(col(\"*\"),\n",
    "                     *[betmarket_stakes[i][\"k\"].alias(\"{}TOP{}_betmarket\".format(segment, i+1))],\n",
    "                     *[match_stakes[i][\"k\"].alias(\"{}TOP{}_match\".format(segment, i+1))])\\\n",
    "        .withColumn(\"{}TOP{}_section\".format(segment, i+1), split(\"{}TOP{}_betmarket\".format(segment, i+1), '_').getItem(1))\\\n",
    "        .withColumn(\"{}TOP{}_market\".format(segment, i+1), split(\"{}TOP{}_betmarket\".format(segment, i+1), '_').getItem(3))\\\n",
    "        .withColumn(\"{}TOP{}_point\".format(segment, i+1), split(\"{}TOP{}_betmarket\".format(segment, i+1), '_').getItem(5))\\\n",
    "        .withColumn(\"{}TOP{}_league\".format(segment, i+1), split(\"{}TOP{}_match\".format(segment, i+1), '_').getItem(1))\\\n",
    "        .withColumn(\"{}TOP{}_region\".format(segment, i+1), split(\"{}TOP{}_match\".format(segment, i+1), '_').getItem(3))"
   ],
   "metadata": {
    "collapsed": false
   }
  },
  {
   "cell_type": "code",
   "execution_count": 5,
   "outputs": [
    {
     "name": "stdout",
     "output_type": "stream",
     "text": [
      "time: 18min 28s (started: 2023-05-10 22:30:57 +02:00)\n"
     ]
    }
   ],
   "source": [
    "import numpy as np\n",
    "\n",
    "segment = 'glob'\n",
    "\n",
    "betmarkets = headers[0:3]\n",
    "matches = headers[3:5]\n",
    "\n",
    "betmarket_id = 'betmarketID' + segment\n",
    "match_id = 'matchID' + segment\n",
    "\n",
    "betmarket_ids = np.array(\n",
    "    np.meshgrid(*betmarkets)).T.reshape(-1, 3)\n",
    "\n",
    "match_ids = np.array(\n",
    "    np.meshgrid(*matches)).T.reshape(-1, 2)\n",
    "\n",
    "for betmarket in betmarket_ids:\n",
    "    stakes_sum = np.sum([col(segment + '_' + ty) for ty in betmarket])\n",
    "    res = res.withColumn(betmarket_id + '_'.join(betmarket), stakes_sum)\n",
    "\n",
    "for match in match_ids:\n",
    "    stakes_sum = np.sum([col(segment + '_' + ty) for ty in match])\n",
    "    res = res.withColumn(match_id + '_'.join(match), stakes_sum)\n",
    "\n",
    "betmarket_stakes = sort_array(array(*[\n",
    "    struct(col(c).alias(\"v\"), lit(c).alias(\"k\")) for c in res.columns if c.startswith(betmarket_id)\n",
    "]), asc=False)\n",
    "match_stakes = sort_array(array(*[\n",
    "    struct(col(c).alias(\"v\"), lit(c).alias(\"k\")) for c in res.columns if c.startswith(match_id)\n",
    "]), asc=False)\n",
    "\n",
    "for i in range(0, 10):\n",
    "    res = res\\\n",
    "        .select(col(\"*\"),\n",
    "                   *[betmarket_stakes[i][\"k\"].alias(\"{}TOP{}_betmarket\".format(segment, i+1))],\n",
    "                   *[match_stakes[i][\"k\"].alias(\"{}TOP{}_match\".format(segment, i+1))])\\\n",
    "        .withColumn(\"{}TOP{}_section\".format(segment, i+1), split(\"{}TOP{}_betmarket\".format(segment, i+1), '_').getItem(1))\\\n",
    "        .withColumn(\"{}TOP{}_market\".format(segment, i+1), split(\"{}TOP{}_betmarket\".format(segment, i+1), '_').getItem(3))\\\n",
    "        .withColumn(\"{}TOP{}_point\".format(segment, i+1), split(\"{}TOP{}_betmarket\".format(segment, i+1), '_').getItem(5))\\\n",
    "        .withColumn(\"{}TOP{}_league\".format(segment, i+1), split(\"{}TOP{}_match\".format(segment, i+1), '_').getItem(1))\\\n",
    "        .withColumn(\"{}TOP{}_region\".format(segment, i+1), split(\"{}TOP{}_match\".format(segment, i+1), '_').getItem(3))"
   ],
   "metadata": {
    "collapsed": false
   }
  },
  {
   "cell_type": "code",
   "execution_count": 4,
   "outputs": [
    {
     "name": "stdout",
     "output_type": "stream",
     "text": [
      "23/05/08 22:00:49 WARN package: Truncated the string representation of a plan since it was too large. This behavior can be adjusted by setting 'spark.sql.debug.maxToStringFields'.\n"
     ]
    },
    {
     "name": "stderr",
     "output_type": "stream",
     "text": [
      "ERROR:root:KeyboardInterrupt while sending command.                 (0 + 8) / 9]\n",
      "Traceback (most recent call last):\n",
      "  File \"/Users/andreikirpichev/opt/anaconda3/lib/python3.9/site-packages/py4j/java_gateway.py\", line 1038, in send_command\n",
      "    response = connection.send_command(command)\n",
      "  File \"/Users/andreikirpichev/opt/anaconda3/lib/python3.9/site-packages/py4j/clientserver.py\", line 511, in send_command\n",
      "    answer = smart_decode(self.stream.readline()[:-1])\n",
      "  File \"/Users/andreikirpichev/opt/anaconda3/lib/python3.9/socket.py\", line 704, in readinto\n",
      "    return self._sock.recv_into(b)\n",
      "KeyboardInterrupt\n"
     ]
    },
    {
     "ename": "KeyboardInterrupt",
     "evalue": "",
     "output_type": "error",
     "traceback": [
      "\u001B[0;31m---------------------------------------------------------------------------\u001B[0m",
      "\u001B[0;31mKeyboardInterrupt\u001B[0m                         Traceback (most recent call last)",
      "\u001B[0;32m/var/folders/tt/4xbqrq2s7vqgv_5z3nrppw_m0000gn/T/ipykernel_23309/3309706419.py\u001B[0m in \u001B[0;36m<module>\u001B[0;34m\u001B[0m\n\u001B[0;32m----> 1\u001B[0;31m \u001B[0mres\u001B[0m\u001B[0;34m.\u001B[0m\u001B[0mtoPandas\u001B[0m\u001B[0;34m(\u001B[0m\u001B[0;34m)\u001B[0m\u001B[0;34m.\u001B[0m\u001B[0mmemory_usage\u001B[0m\u001B[0;34m(\u001B[0m\u001B[0;34m)\u001B[0m\u001B[0;34m\u001B[0m\u001B[0;34m\u001B[0m\u001B[0m\n\u001B[0m",
      "\u001B[0;32m~/opt/anaconda3/lib/python3.9/site-packages/pyspark/sql/pandas/conversion.py\u001B[0m in \u001B[0;36mtoPandas\u001B[0;34m(self)\u001B[0m\n\u001B[1;32m    203\u001B[0m \u001B[0;34m\u001B[0m\u001B[0m\n\u001B[1;32m    204\u001B[0m         \u001B[0;31m# Below is toPandas without Arrow optimization.\u001B[0m\u001B[0;34m\u001B[0m\u001B[0;34m\u001B[0m\u001B[0m\n\u001B[0;32m--> 205\u001B[0;31m         \u001B[0mpdf\u001B[0m \u001B[0;34m=\u001B[0m \u001B[0mpd\u001B[0m\u001B[0;34m.\u001B[0m\u001B[0mDataFrame\u001B[0m\u001B[0;34m.\u001B[0m\u001B[0mfrom_records\u001B[0m\u001B[0;34m(\u001B[0m\u001B[0mself\u001B[0m\u001B[0;34m.\u001B[0m\u001B[0mcollect\u001B[0m\u001B[0;34m(\u001B[0m\u001B[0;34m)\u001B[0m\u001B[0;34m,\u001B[0m \u001B[0mcolumns\u001B[0m\u001B[0;34m=\u001B[0m\u001B[0mself\u001B[0m\u001B[0;34m.\u001B[0m\u001B[0mcolumns\u001B[0m\u001B[0;34m)\u001B[0m\u001B[0;34m\u001B[0m\u001B[0;34m\u001B[0m\u001B[0m\n\u001B[0m\u001B[1;32m    206\u001B[0m         \u001B[0mcolumn_counter\u001B[0m \u001B[0;34m=\u001B[0m \u001B[0mCounter\u001B[0m\u001B[0;34m(\u001B[0m\u001B[0mself\u001B[0m\u001B[0;34m.\u001B[0m\u001B[0mcolumns\u001B[0m\u001B[0;34m)\u001B[0m\u001B[0;34m\u001B[0m\u001B[0;34m\u001B[0m\u001B[0m\n\u001B[1;32m    207\u001B[0m \u001B[0;34m\u001B[0m\u001B[0m\n",
      "\u001B[0;32m~/opt/anaconda3/lib/python3.9/site-packages/pyspark/sql/dataframe.py\u001B[0m in \u001B[0;36mcollect\u001B[0;34m(self)\u001B[0m\n\u001B[1;32m    815\u001B[0m         \"\"\"\n\u001B[1;32m    816\u001B[0m         \u001B[0;32mwith\u001B[0m \u001B[0mSCCallSiteSync\u001B[0m\u001B[0;34m(\u001B[0m\u001B[0mself\u001B[0m\u001B[0;34m.\u001B[0m\u001B[0m_sc\u001B[0m\u001B[0;34m)\u001B[0m\u001B[0;34m:\u001B[0m\u001B[0;34m\u001B[0m\u001B[0;34m\u001B[0m\u001B[0m\n\u001B[0;32m--> 817\u001B[0;31m             \u001B[0msock_info\u001B[0m \u001B[0;34m=\u001B[0m \u001B[0mself\u001B[0m\u001B[0;34m.\u001B[0m\u001B[0m_jdf\u001B[0m\u001B[0;34m.\u001B[0m\u001B[0mcollectToPython\u001B[0m\u001B[0;34m(\u001B[0m\u001B[0;34m)\u001B[0m\u001B[0;34m\u001B[0m\u001B[0;34m\u001B[0m\u001B[0m\n\u001B[0m\u001B[1;32m    818\u001B[0m         \u001B[0;32mreturn\u001B[0m \u001B[0mlist\u001B[0m\u001B[0;34m(\u001B[0m\u001B[0m_load_from_socket\u001B[0m\u001B[0;34m(\u001B[0m\u001B[0msock_info\u001B[0m\u001B[0;34m,\u001B[0m \u001B[0mBatchedSerializer\u001B[0m\u001B[0;34m(\u001B[0m\u001B[0mCPickleSerializer\u001B[0m\u001B[0;34m(\u001B[0m\u001B[0;34m)\u001B[0m\u001B[0;34m)\u001B[0m\u001B[0;34m)\u001B[0m\u001B[0;34m)\u001B[0m\u001B[0;34m\u001B[0m\u001B[0;34m\u001B[0m\u001B[0m\n\u001B[1;32m    819\u001B[0m \u001B[0;34m\u001B[0m\u001B[0m\n",
      "\u001B[0;32m~/opt/anaconda3/lib/python3.9/site-packages/py4j/java_gateway.py\u001B[0m in \u001B[0;36m__call__\u001B[0;34m(self, *args)\u001B[0m\n\u001B[1;32m   1318\u001B[0m             \u001B[0mproto\u001B[0m\u001B[0;34m.\u001B[0m\u001B[0mEND_COMMAND_PART\u001B[0m\u001B[0;34m\u001B[0m\u001B[0;34m\u001B[0m\u001B[0m\n\u001B[1;32m   1319\u001B[0m \u001B[0;34m\u001B[0m\u001B[0m\n\u001B[0;32m-> 1320\u001B[0;31m         \u001B[0manswer\u001B[0m \u001B[0;34m=\u001B[0m \u001B[0mself\u001B[0m\u001B[0;34m.\u001B[0m\u001B[0mgateway_client\u001B[0m\u001B[0;34m.\u001B[0m\u001B[0msend_command\u001B[0m\u001B[0;34m(\u001B[0m\u001B[0mcommand\u001B[0m\u001B[0;34m)\u001B[0m\u001B[0;34m\u001B[0m\u001B[0;34m\u001B[0m\u001B[0m\n\u001B[0m\u001B[1;32m   1321\u001B[0m         return_value = get_return_value(\n\u001B[1;32m   1322\u001B[0m             answer, self.gateway_client, self.target_id, self.name)\n",
      "\u001B[0;32m~/opt/anaconda3/lib/python3.9/site-packages/py4j/java_gateway.py\u001B[0m in \u001B[0;36msend_command\u001B[0;34m(self, command, retry, binary)\u001B[0m\n\u001B[1;32m   1036\u001B[0m         \u001B[0mconnection\u001B[0m \u001B[0;34m=\u001B[0m \u001B[0mself\u001B[0m\u001B[0;34m.\u001B[0m\u001B[0m_get_connection\u001B[0m\u001B[0;34m(\u001B[0m\u001B[0;34m)\u001B[0m\u001B[0;34m\u001B[0m\u001B[0;34m\u001B[0m\u001B[0m\n\u001B[1;32m   1037\u001B[0m         \u001B[0;32mtry\u001B[0m\u001B[0;34m:\u001B[0m\u001B[0;34m\u001B[0m\u001B[0;34m\u001B[0m\u001B[0m\n\u001B[0;32m-> 1038\u001B[0;31m             \u001B[0mresponse\u001B[0m \u001B[0;34m=\u001B[0m \u001B[0mconnection\u001B[0m\u001B[0;34m.\u001B[0m\u001B[0msend_command\u001B[0m\u001B[0;34m(\u001B[0m\u001B[0mcommand\u001B[0m\u001B[0;34m)\u001B[0m\u001B[0;34m\u001B[0m\u001B[0;34m\u001B[0m\u001B[0m\n\u001B[0m\u001B[1;32m   1039\u001B[0m             \u001B[0;32mif\u001B[0m \u001B[0mbinary\u001B[0m\u001B[0;34m:\u001B[0m\u001B[0;34m\u001B[0m\u001B[0;34m\u001B[0m\u001B[0m\n\u001B[1;32m   1040\u001B[0m                 \u001B[0;32mreturn\u001B[0m \u001B[0mresponse\u001B[0m\u001B[0;34m,\u001B[0m \u001B[0mself\u001B[0m\u001B[0;34m.\u001B[0m\u001B[0m_create_connection_guard\u001B[0m\u001B[0;34m(\u001B[0m\u001B[0mconnection\u001B[0m\u001B[0;34m)\u001B[0m\u001B[0;34m\u001B[0m\u001B[0;34m\u001B[0m\u001B[0m\n",
      "\u001B[0;32m~/opt/anaconda3/lib/python3.9/site-packages/py4j/clientserver.py\u001B[0m in \u001B[0;36msend_command\u001B[0;34m(self, command)\u001B[0m\n\u001B[1;32m    509\u001B[0m         \u001B[0;32mtry\u001B[0m\u001B[0;34m:\u001B[0m\u001B[0;34m\u001B[0m\u001B[0;34m\u001B[0m\u001B[0m\n\u001B[1;32m    510\u001B[0m             \u001B[0;32mwhile\u001B[0m \u001B[0;32mTrue\u001B[0m\u001B[0;34m:\u001B[0m\u001B[0;34m\u001B[0m\u001B[0;34m\u001B[0m\u001B[0m\n\u001B[0;32m--> 511\u001B[0;31m                 \u001B[0manswer\u001B[0m \u001B[0;34m=\u001B[0m \u001B[0msmart_decode\u001B[0m\u001B[0;34m(\u001B[0m\u001B[0mself\u001B[0m\u001B[0;34m.\u001B[0m\u001B[0mstream\u001B[0m\u001B[0;34m.\u001B[0m\u001B[0mreadline\u001B[0m\u001B[0;34m(\u001B[0m\u001B[0;34m)\u001B[0m\u001B[0;34m[\u001B[0m\u001B[0;34m:\u001B[0m\u001B[0;34m-\u001B[0m\u001B[0;36m1\u001B[0m\u001B[0;34m]\u001B[0m\u001B[0;34m)\u001B[0m\u001B[0;34m\u001B[0m\u001B[0;34m\u001B[0m\u001B[0m\n\u001B[0m\u001B[1;32m    512\u001B[0m                 \u001B[0mlogger\u001B[0m\u001B[0;34m.\u001B[0m\u001B[0mdebug\u001B[0m\u001B[0;34m(\u001B[0m\u001B[0;34m\"Answer received: {0}\"\u001B[0m\u001B[0;34m.\u001B[0m\u001B[0mformat\u001B[0m\u001B[0;34m(\u001B[0m\u001B[0manswer\u001B[0m\u001B[0;34m)\u001B[0m\u001B[0;34m)\u001B[0m\u001B[0;34m\u001B[0m\u001B[0;34m\u001B[0m\u001B[0m\n\u001B[1;32m    513\u001B[0m                 \u001B[0;31m# Happens when a the other end is dead. There might be an empty\u001B[0m\u001B[0;34m\u001B[0m\u001B[0;34m\u001B[0m\u001B[0m\n",
      "\u001B[0;32m~/opt/anaconda3/lib/python3.9/socket.py\u001B[0m in \u001B[0;36mreadinto\u001B[0;34m(self, b)\u001B[0m\n\u001B[1;32m    702\u001B[0m         \u001B[0;32mwhile\u001B[0m \u001B[0;32mTrue\u001B[0m\u001B[0;34m:\u001B[0m\u001B[0;34m\u001B[0m\u001B[0;34m\u001B[0m\u001B[0m\n\u001B[1;32m    703\u001B[0m             \u001B[0;32mtry\u001B[0m\u001B[0;34m:\u001B[0m\u001B[0;34m\u001B[0m\u001B[0;34m\u001B[0m\u001B[0m\n\u001B[0;32m--> 704\u001B[0;31m                 \u001B[0;32mreturn\u001B[0m \u001B[0mself\u001B[0m\u001B[0;34m.\u001B[0m\u001B[0m_sock\u001B[0m\u001B[0;34m.\u001B[0m\u001B[0mrecv_into\u001B[0m\u001B[0;34m(\u001B[0m\u001B[0mb\u001B[0m\u001B[0;34m)\u001B[0m\u001B[0;34m\u001B[0m\u001B[0;34m\u001B[0m\u001B[0m\n\u001B[0m\u001B[1;32m    705\u001B[0m             \u001B[0;32mexcept\u001B[0m \u001B[0mtimeout\u001B[0m\u001B[0;34m:\u001B[0m\u001B[0;34m\u001B[0m\u001B[0;34m\u001B[0m\u001B[0m\n\u001B[1;32m    706\u001B[0m                 \u001B[0mself\u001B[0m\u001B[0;34m.\u001B[0m\u001B[0m_timeout_occurred\u001B[0m \u001B[0;34m=\u001B[0m \u001B[0;32mTrue\u001B[0m\u001B[0;34m\u001B[0m\u001B[0;34m\u001B[0m\u001B[0m\n",
      "\u001B[0;31mKeyboardInterrupt\u001B[0m: "
     ]
    },
    {
     "name": "stdout",
     "output_type": "stream",
     "text": [
      "time: 1min 31s (started: 2023-05-08 22:00:49 +02:00)\n"
     ]
    }
   ],
   "source": [
    "res.toPandas().memory_usage()"
   ],
   "metadata": {
    "collapsed": false
   }
  },
  {
   "cell_type": "code",
   "execution_count": 9,
   "outputs": [
    {
     "name": "stdout",
     "output_type": "stream",
     "text": [
      "time: 5.97 s (started: 2023-05-11 09:59:52 +02:00)\n"
     ]
    }
   ],
   "source": [
    "res = res.drop(*[c for c in res.columns if c.startswith(\"matchID\")\n",
    "                 | c.startswith(\"betmarketID\")\n",
    "                 | c.startswith(\"section_\")\n",
    "                 | c.startswith(\"point_\")\n",
    "                 | c.startswith(\"market_\")\n",
    "                 | c.startswith(\"league_\")\n",
    "                 | c.startswith(\"region_\")\n",
    "                 ])\\\n",
    "          .filter(col(\"placement_date\").isin(recent_dates))"
   ],
   "metadata": {
    "collapsed": false
   }
  },
  {
   "cell_type": "code",
   "execution_count": 10,
   "outputs": [
    {
     "name": "stderr",
     "output_type": "stream",
     "text": [
      "[Stage 167:============>                                            (2 + 7) / 9]\r"
     ]
    },
    {
     "name": "stdout",
     "output_type": "stream",
     "text": [
      "23/05/11 10:15:17 WARN DAGScheduler: Broadcasting large task binary with size 5.2 MiB\n"
     ]
    },
    {
     "name": "stderr",
     "output_type": "stream",
     "text": [
      "[Stage 181:===============================================>       (43 + 7) / 50]\r"
     ]
    },
    {
     "name": "stdout",
     "output_type": "stream",
     "text": [
      "time: 2h 29min 16s (started: 2023-05-11 09:59:58 +02:00)\n"
     ]
    },
    {
     "name": "stderr",
     "output_type": "stream",
     "text": [
      "                                                                                \r"
     ]
    }
   ],
   "source": [
    "res.write.format(\"delta\").mode(\"overwrite\").save(\"/Users/andreikirpichev/parquet/bets_oct_pers\")"
   ],
   "metadata": {
    "collapsed": false
   }
  },
  {
   "cell_type": "code",
   "execution_count": 9,
   "outputs": [
    {
     "name": "stdout",
     "output_type": "stream",
     "text": [
      "23/05/09 11:25:45 WARN DAGScheduler: Broadcasting large task binary with size 1575.1 KiB\n"
     ]
    },
    {
     "name": "stderr",
     "output_type": "stream",
     "text": [
      "                                                                                \r"
     ]
    },
    {
     "data": {
      "text/plain": "    pers_market_OverUnder  pers_market_Handicap3w  \\\n0                   96.00                    0.00   \n1                   34.33                    0.00   \n2                   34.33                    0.00   \n3                   34.33                    0.00   \n4                   26.00                    0.00   \n5                   21.80                    0.00   \n6                   19.00                    0.00   \n7                   16.75                    0.00   \n8                   16.75                    0.00   \n9                   16.00                    0.00   \n10                  15.20                    0.00   \n11                  15.20                    4.00   \n12                  15.20                    1.04   \n13                  15.20                    1.04   \n14                  15.20                    1.04   \n15                  15.20                    1.04   \n16                  13.85                    0.86   \n17                  13.85                    0.86   \n18                  13.85                    0.86   \n19                  13.85                    0.86   \n20                  14.20                    0.86   \n21                  20.80                    0.86   \n22                  24.42                    0.86   \n23                   0.00                    1.43   \n24                   1.00                    1.43   \n25                   3.00                    1.43   \n26                   0.00                  100.00   \n27                   0.00                  100.00   \n28                   0.00                  100.00   \n29                   0.00                  100.00   \n30                   0.00                  233.33   \n\n    pers_market_NumberOfPoints3w  pers_market_OverUnderInTime  \n0                            0.0                          0.0  \n1                            0.0                          0.0  \n2                            0.0                          0.0  \n3                           25.0                          0.0  \n4                           25.0                          0.0  \n5                           25.0                          0.0  \n6                           25.0                          0.0  \n7                           25.0                          0.0  \n8                           25.0                          0.0  \n9                           25.0                          0.0  \n10                          25.0                          0.0  \n11                          25.0                          0.0  \n12                          25.0                          0.0  \n13                          25.0                          0.0  \n14                          25.0                          0.0  \n15                          25.0                          0.0  \n16                          25.0                          0.0  \n17                          25.0                          0.0  \n18                          25.0                          0.0  \n19                          25.0                          5.0  \n20                          25.0                          5.0  \n21                          25.0                          5.0  \n22                          25.0                          5.0  \n23                           0.0                          0.0  \n24                           0.0                          0.0  \n25                           0.0                          0.0  \n26                           0.0                          0.0  \n27                           0.0                          0.0  \n28                           0.0                          0.0  \n29                           0.0                          0.0  \n30                           0.0                          0.0  ",
      "text/html": "<div>\n<style scoped>\n    .dataframe tbody tr th:only-of-type {\n        vertical-align: middle;\n    }\n\n    .dataframe tbody tr th {\n        vertical-align: top;\n    }\n\n    .dataframe thead th {\n        text-align: right;\n    }\n</style>\n<table border=\"1\" class=\"dataframe\">\n  <thead>\n    <tr style=\"text-align: right;\">\n      <th></th>\n      <th>pers_market_OverUnder</th>\n      <th>pers_market_Handicap3w</th>\n      <th>pers_market_NumberOfPoints3w</th>\n      <th>pers_market_OverUnderInTime</th>\n    </tr>\n  </thead>\n  <tbody>\n    <tr>\n      <th>0</th>\n      <td>96.00</td>\n      <td>0.00</td>\n      <td>0.0</td>\n      <td>0.0</td>\n    </tr>\n    <tr>\n      <th>1</th>\n      <td>34.33</td>\n      <td>0.00</td>\n      <td>0.0</td>\n      <td>0.0</td>\n    </tr>\n    <tr>\n      <th>2</th>\n      <td>34.33</td>\n      <td>0.00</td>\n      <td>0.0</td>\n      <td>0.0</td>\n    </tr>\n    <tr>\n      <th>3</th>\n      <td>34.33</td>\n      <td>0.00</td>\n      <td>25.0</td>\n      <td>0.0</td>\n    </tr>\n    <tr>\n      <th>4</th>\n      <td>26.00</td>\n      <td>0.00</td>\n      <td>25.0</td>\n      <td>0.0</td>\n    </tr>\n    <tr>\n      <th>5</th>\n      <td>21.80</td>\n      <td>0.00</td>\n      <td>25.0</td>\n      <td>0.0</td>\n    </tr>\n    <tr>\n      <th>6</th>\n      <td>19.00</td>\n      <td>0.00</td>\n      <td>25.0</td>\n      <td>0.0</td>\n    </tr>\n    <tr>\n      <th>7</th>\n      <td>16.75</td>\n      <td>0.00</td>\n      <td>25.0</td>\n      <td>0.0</td>\n    </tr>\n    <tr>\n      <th>8</th>\n      <td>16.75</td>\n      <td>0.00</td>\n      <td>25.0</td>\n      <td>0.0</td>\n    </tr>\n    <tr>\n      <th>9</th>\n      <td>16.00</td>\n      <td>0.00</td>\n      <td>25.0</td>\n      <td>0.0</td>\n    </tr>\n    <tr>\n      <th>10</th>\n      <td>15.20</td>\n      <td>0.00</td>\n      <td>25.0</td>\n      <td>0.0</td>\n    </tr>\n    <tr>\n      <th>11</th>\n      <td>15.20</td>\n      <td>4.00</td>\n      <td>25.0</td>\n      <td>0.0</td>\n    </tr>\n    <tr>\n      <th>12</th>\n      <td>15.20</td>\n      <td>1.04</td>\n      <td>25.0</td>\n      <td>0.0</td>\n    </tr>\n    <tr>\n      <th>13</th>\n      <td>15.20</td>\n      <td>1.04</td>\n      <td>25.0</td>\n      <td>0.0</td>\n    </tr>\n    <tr>\n      <th>14</th>\n      <td>15.20</td>\n      <td>1.04</td>\n      <td>25.0</td>\n      <td>0.0</td>\n    </tr>\n    <tr>\n      <th>15</th>\n      <td>15.20</td>\n      <td>1.04</td>\n      <td>25.0</td>\n      <td>0.0</td>\n    </tr>\n    <tr>\n      <th>16</th>\n      <td>13.85</td>\n      <td>0.86</td>\n      <td>25.0</td>\n      <td>0.0</td>\n    </tr>\n    <tr>\n      <th>17</th>\n      <td>13.85</td>\n      <td>0.86</td>\n      <td>25.0</td>\n      <td>0.0</td>\n    </tr>\n    <tr>\n      <th>18</th>\n      <td>13.85</td>\n      <td>0.86</td>\n      <td>25.0</td>\n      <td>0.0</td>\n    </tr>\n    <tr>\n      <th>19</th>\n      <td>13.85</td>\n      <td>0.86</td>\n      <td>25.0</td>\n      <td>5.0</td>\n    </tr>\n    <tr>\n      <th>20</th>\n      <td>14.20</td>\n      <td>0.86</td>\n      <td>25.0</td>\n      <td>5.0</td>\n    </tr>\n    <tr>\n      <th>21</th>\n      <td>20.80</td>\n      <td>0.86</td>\n      <td>25.0</td>\n      <td>5.0</td>\n    </tr>\n    <tr>\n      <th>22</th>\n      <td>24.42</td>\n      <td>0.86</td>\n      <td>25.0</td>\n      <td>5.0</td>\n    </tr>\n    <tr>\n      <th>23</th>\n      <td>0.00</td>\n      <td>1.43</td>\n      <td>0.0</td>\n      <td>0.0</td>\n    </tr>\n    <tr>\n      <th>24</th>\n      <td>1.00</td>\n      <td>1.43</td>\n      <td>0.0</td>\n      <td>0.0</td>\n    </tr>\n    <tr>\n      <th>25</th>\n      <td>3.00</td>\n      <td>1.43</td>\n      <td>0.0</td>\n      <td>0.0</td>\n    </tr>\n    <tr>\n      <th>26</th>\n      <td>0.00</td>\n      <td>100.00</td>\n      <td>0.0</td>\n      <td>0.0</td>\n    </tr>\n    <tr>\n      <th>27</th>\n      <td>0.00</td>\n      <td>100.00</td>\n      <td>0.0</td>\n      <td>0.0</td>\n    </tr>\n    <tr>\n      <th>28</th>\n      <td>0.00</td>\n      <td>100.00</td>\n      <td>0.0</td>\n      <td>0.0</td>\n    </tr>\n    <tr>\n      <th>29</th>\n      <td>0.00</td>\n      <td>100.00</td>\n      <td>0.0</td>\n      <td>0.0</td>\n    </tr>\n    <tr>\n      <th>30</th>\n      <td>0.00</td>\n      <td>233.33</td>\n      <td>0.0</td>\n      <td>0.0</td>\n    </tr>\n  </tbody>\n</table>\n</div>"
     },
     "execution_count": 9,
     "metadata": {},
     "output_type": "execute_result"
    },
    {
     "name": "stdout",
     "output_type": "stream",
     "text": [
      "time: 4.76 s (started: 2023-05-09 11:25:45 +02:00)\n"
     ]
    }
   ],
   "source": [
    "cols = [c for c in res.columns if c.startswith(\"pers_market\")]\n",
    "res.toPandas()[cols]"
   ],
   "metadata": {
    "collapsed": false
   }
  },
  {
   "cell_type": "code",
   "execution_count": null,
   "outputs": [],
   "source": [
    "types_bets = res.groupBy(\"league\").count().orderBy(col('count').desc()).limit(30).show()"
   ],
   "metadata": {
    "collapsed": false
   }
  },
  {
   "cell_type": "code",
   "execution_count": 8,
   "outputs": [
    {
     "name": "stderr",
     "output_type": "stream",
     "text": [
      "                                                                                \r"
     ]
    }
   ],
   "source": [
    "res.write.format(\"delta\").mode(\"append\").save(\"/Users/andreikirpichev/parquet/bets_sm1\")"
   ],
   "metadata": {
    "collapsed": false
   }
  },
  {
   "cell_type": "code",
   "execution_count": 4,
   "outputs": [
    {
     "name": "stderr",
     "output_type": "stream",
     "text": [
      "                                                                                \r"
     ]
    },
    {
     "name": "stdout",
     "output_type": "stream",
     "text": [
      "+-----------------------------+\n",
      "|count(DISTINCT market_params)|\n",
      "+-----------------------------+\n",
      "|                         1306|\n",
      "+-----------------------------+\n",
      "\n"
     ]
    },
    {
     "name": "stderr",
     "output_type": "stream",
     "text": [
      "[Stage 16:>                                                         (0 + 8) / 9]\r"
     ]
    },
    {
     "name": "stdout",
     "output_type": "stream",
     "text": [
      "+-----------+---+-------+-------+-----+------+-------------+----------+--------------+--------------+--------------+----+----+------+-----+------+--------------------+---------+---------+-------------+----------+--------+---------+\n",
      "|customer_id|age|country|section|point|market|market_params|contest_id|placement_date|placement_time|placement_odds|home|away|region|sport|league|minutes_before_start|stake_eur|dayofweek|weekday_stake|section_2w|point_2w|market_2w|\n",
      "+-----------+---+-------+-------+-----+------+-------------+----------+--------------+--------------+--------------+----+----+------+-----+------+--------------------+---------+---------+-------------+----------+--------+---------+\n",
      "|          0|  0|      0|      0|    0|     0|      3752896|         0|             0|             0|             0|   0|   0|     0|    0|     0|                   0|        0|        0|            0|         0|       0|        0|\n",
      "+-----------+---+-------+-------+-----+------+-------------+----------+--------------+--------------+--------------+----+----+------+-----+------+--------------------+---------+---------+-------------+----------+--------+---------+\n",
      "\n"
     ]
    },
    {
     "name": "stderr",
     "output_type": "stream",
     "text": [
      "                                                                                \r"
     ]
    }
   ],
   "source": [
    "bets_df = spark.read.format(\"delta\").load(\"/Users/andreikirpichev/parquet/bets/\")\n",
    "\n",
    "bets_df.select(countDistinct(\"market_params\")).show()\n",
    "bets_df.select([count(when(col(c).isNull(), c)).alias(c) for c in bets_df.columns]).show()"
   ],
   "metadata": {
    "collapsed": false
   }
  }
 ],
 "metadata": {
  "kernelspec": {
   "display_name": "Python 3 (ipykernel)",
   "language": "python",
   "name": "python3"
  },
  "language_info": {
   "codemirror_mode": {
    "name": "ipython",
    "version": 3
   },
   "file_extension": ".py",
   "mimetype": "text/x-python",
   "name": "python",
   "nbconvert_exporter": "python",
   "pygments_lexer": "ipython3",
   "version": "3.9.13"
  }
 },
 "nbformat": 4,
 "nbformat_minor": 5
}
