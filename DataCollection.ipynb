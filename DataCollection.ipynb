{
 "cells": [
  {
   "cell_type": "code",
   "execution_count": 1,
   "outputs": [
    {
     "name": "stdout",
     "output_type": "stream",
     "text": [
      "23/03/09 17:40:39 WARN Utils: Your hostname, Andreis-MacBook-Air-2.local resolves to a loopback address: 127.0.0.1; using 143.205.184.230 instead (on interface en0)\n",
      "23/03/09 17:40:39 WARN Utils: Set SPARK_LOCAL_IP if you need to bind to another address\n",
      ":: loading settings :: url = jar:file:/Users/andreikirpichev/opt/anaconda3/lib/python3.9/site-packages/pyspark/jars/ivy-2.5.0.jar!/org/apache/ivy/core/settings/ivysettings.xml\n"
     ]
    },
    {
     "name": "stderr",
     "output_type": "stream",
     "text": [
      "Ivy Default Cache set to: /Users/andreikirpichev/.ivy2/cache\n",
      "The jars for the packages stored in: /Users/andreikirpichev/.ivy2/jars\n",
      "io.delta#delta-core_2.12 added as a dependency\n",
      ":: resolving dependencies :: org.apache.spark#spark-submit-parent-4c367913-6d52-412e-a1ee-9fd365120595;1.0\n",
      "\tconfs: [default]\n",
      "\tfound io.delta#delta-core_2.12;2.1.0 in central\n",
      "\tfound io.delta#delta-storage;2.1.0 in central\n",
      "\tfound org.antlr#antlr4-runtime;4.8 in central\n",
      "\tfound org.codehaus.jackson#jackson-core-asl;1.9.13 in central\n",
      ":: resolution report :: resolve 137ms :: artifacts dl 4ms\n",
      "\t:: modules in use:\n",
      "\tio.delta#delta-core_2.12;2.1.0 from central in [default]\n",
      "\tio.delta#delta-storage;2.1.0 from central in [default]\n",
      "\torg.antlr#antlr4-runtime;4.8 from central in [default]\n",
      "\torg.codehaus.jackson#jackson-core-asl;1.9.13 from central in [default]\n",
      "\t---------------------------------------------------------------------\n",
      "\t|                  |            modules            ||   artifacts   |\n",
      "\t|       conf       | number| search|dwnlded|evicted|| number|dwnlded|\n",
      "\t---------------------------------------------------------------------\n",
      "\t|      default     |   4   |   0   |   0   |   0   ||   4   |   0   |\n",
      "\t---------------------------------------------------------------------\n",
      ":: retrieving :: org.apache.spark#spark-submit-parent-4c367913-6d52-412e-a1ee-9fd365120595\n",
      "\tconfs: [default]\n",
      "\t0 artifacts copied, 4 already retrieved (0kB/4ms)\n"
     ]
    },
    {
     "name": "stdout",
     "output_type": "stream",
     "text": [
      "23/03/09 17:40:40 WARN NativeCodeLoader: Unable to load native-hadoop library for your platform... using builtin-java classes where applicable\n"
     ]
    },
    {
     "name": "stderr",
     "output_type": "stream",
     "text": [
      "Setting default log level to \"WARN\".\n",
      "To adjust logging level use sc.setLogLevel(newLevel). For SparkR, use setLogLevel(newLevel).\n"
     ]
    },
    {
     "name": "stdout",
     "output_type": "stream",
     "text": [
      "23/03/09 17:40:41 WARN Utils: Service 'SparkUI' could not bind on port 4040. Attempting port 4041.\n"
     ]
    }
   ],
   "source": [
    "import pyspark\n",
    "from currency_converter import CurrencyConverter, ECB_URL\n",
    "from delta import *\n",
    "from pyspark.sql.functions import *\n",
    "from pyspark.sql.types import DoubleType\n",
    "from pyspark.sql.window import Window\n",
    "\n",
    "builder = pyspark.sql.SparkSession.builder.appName(\"MyApp\") \\\n",
    "    .config(\"spark.sql.extensions\", \"io.delta.sql.DeltaSparkSessionExtension\") \\\n",
    "    .config(\"spark.sql.catalog.spark_catalog\", \"org.apache.spark.sql.delta.catalog.DeltaCatalog\") \\\n",
    "    .config(\"spark.driver.memory\", \"10g\") \\\n",
    "    .config(\"spark.driver.maxResultSize\", \"10g\")\n",
    "\n",
    "spark = configure_spark_with_delta_pip(builder).getOrCreate()"
   ],
   "metadata": {
    "collapsed": false
   }
  },
  {
   "cell_type": "code",
   "execution_count": 45,
   "outputs": [
    {
     "name": "stderr",
     "output_type": "stream",
     "text": [
      "ERROR:root:KeyboardInterrupt while sending command.                 (2 + 6) / 8]\n",
      "Traceback (most recent call last):\n",
      "  File \"/Users/andreikirpichev/opt/anaconda3/lib/python3.9/site-packages/py4j/java_gateway.py\", line 1038, in send_command\n",
      "    response = connection.send_command(command)\n",
      "  File \"/Users/andreikirpichev/opt/anaconda3/lib/python3.9/site-packages/py4j/clientserver.py\", line 511, in send_command\n",
      "    answer = smart_decode(self.stream.readline()[:-1])\n",
      "  File \"/Users/andreikirpichev/opt/anaconda3/lib/python3.9/socket.py\", line 704, in readinto\n",
      "    return self._sock.recv_into(b)\n",
      "KeyboardInterrupt\n"
     ]
    },
    {
     "ename": "KeyboardInterrupt",
     "evalue": "",
     "output_type": "error",
     "traceback": [
      "\u001B[0;31m---------------------------------------------------------------------------\u001B[0m",
      "\u001B[0;31mKeyboardInterrupt\u001B[0m                         Traceback (most recent call last)",
      "\u001B[0;32m/var/folders/tt/4xbqrq2s7vqgv_5z3nrppw_m0000gn/T/ipykernel_49912/4268225081.py\u001B[0m in \u001B[0;36m<module>\u001B[0;34m\u001B[0m\n\u001B[1;32m      9\u001B[0m                              (bm_football[\"end\"] >= MIN_END))\n\u001B[1;32m     10\u001B[0m \u001B[0mtest_bm\u001B[0m \u001B[0;34m=\u001B[0m \u001B[0mtest_bm\u001B[0m\u001B[0;34m.\u001B[0m\u001B[0mselect\u001B[0m\u001B[0;34m(\u001B[0m\u001B[0;34m'contest_id'\u001B[0m\u001B[0;34m,\u001B[0m \u001B[0;34m'section'\u001B[0m\u001B[0;34m,\u001B[0m \u001B[0mcol\u001B[0m\u001B[0;34m(\u001B[0m\u001B[0;34m'point_type'\u001B[0m\u001B[0;34m)\u001B[0m\u001B[0;34m.\u001B[0m\u001B[0malias\u001B[0m\u001B[0;34m(\u001B[0m\u001B[0;34m'point'\u001B[0m\u001B[0;34m)\u001B[0m\u001B[0;34m,\u001B[0m \u001B[0mcol\u001B[0m\u001B[0;34m(\u001B[0m\u001B[0;34m'market_type'\u001B[0m\u001B[0;34m)\u001B[0m\u001B[0;34m.\u001B[0m\u001B[0malias\u001B[0m\u001B[0;34m(\u001B[0m\u001B[0;34m'market'\u001B[0m\u001B[0;34m)\u001B[0m\u001B[0;34m,\u001B[0m \u001B[0;34m'away'\u001B[0m\u001B[0;34m,\u001B[0m \u001B[0;34m'start'\u001B[0m\u001B[0;34m,\u001B[0m \u001B[0;34m'end'\u001B[0m\u001B[0;34m,\u001B[0m \u001B[0;34m'home'\u001B[0m\u001B[0;34m,\u001B[0m \u001B[0;34m'league'\u001B[0m\u001B[0;34m,\u001B[0m \u001B[0;34m'region'\u001B[0m\u001B[0;34m,\u001B[0m \u001B[0;34m'sport'\u001B[0m\u001B[0;34m,\u001B[0m \u001B[0mcol\u001B[0m\u001B[0;34m(\u001B[0m\u001B[0;34m'odds'\u001B[0m\u001B[0;34m)\u001B[0m\u001B[0;34m.\u001B[0m\u001B[0malias\u001B[0m\u001B[0;34m(\u001B[0m\u001B[0;34m'placement_odds'\u001B[0m\u001B[0;34m)\u001B[0m\u001B[0;34m)\u001B[0m\u001B[0;34m\u001B[0m\u001B[0;34m\u001B[0m\u001B[0m\n\u001B[0;32m---> 11\u001B[0;31m \u001B[0mtest_bm\u001B[0m\u001B[0;34m.\u001B[0m\u001B[0mwrite\u001B[0m\u001B[0;34m.\u001B[0m\u001B[0mformat\u001B[0m\u001B[0;34m(\u001B[0m\u001B[0;34m\"delta\"\u001B[0m\u001B[0;34m)\u001B[0m\u001B[0;34m.\u001B[0m\u001B[0mmode\u001B[0m\u001B[0;34m(\u001B[0m\u001B[0;34m\"overwrite\"\u001B[0m\u001B[0;34m)\u001B[0m\u001B[0;34m.\u001B[0m\u001B[0msave\u001B[0m\u001B[0;34m(\u001B[0m\u001B[0;34m\"/Users/andreikirpichev/parquet/test_betmarkets\"\u001B[0m\u001B[0;34m)\u001B[0m\u001B[0;34m\u001B[0m\u001B[0;34m\u001B[0m\u001B[0m\n\u001B[0m",
      "\u001B[0;32m~/opt/anaconda3/lib/python3.9/site-packages/pyspark/sql/readwriter.py\u001B[0m in \u001B[0;36msave\u001B[0;34m(self, path, format, mode, partitionBy, **options)\u001B[0m\n\u001B[1;32m    966\u001B[0m             \u001B[0mself\u001B[0m\u001B[0;34m.\u001B[0m\u001B[0m_jwrite\u001B[0m\u001B[0;34m.\u001B[0m\u001B[0msave\u001B[0m\u001B[0;34m(\u001B[0m\u001B[0;34m)\u001B[0m\u001B[0;34m\u001B[0m\u001B[0;34m\u001B[0m\u001B[0m\n\u001B[1;32m    967\u001B[0m         \u001B[0;32melse\u001B[0m\u001B[0;34m:\u001B[0m\u001B[0;34m\u001B[0m\u001B[0;34m\u001B[0m\u001B[0m\n\u001B[0;32m--> 968\u001B[0;31m             \u001B[0mself\u001B[0m\u001B[0;34m.\u001B[0m\u001B[0m_jwrite\u001B[0m\u001B[0;34m.\u001B[0m\u001B[0msave\u001B[0m\u001B[0;34m(\u001B[0m\u001B[0mpath\u001B[0m\u001B[0;34m)\u001B[0m\u001B[0;34m\u001B[0m\u001B[0;34m\u001B[0m\u001B[0m\n\u001B[0m\u001B[1;32m    969\u001B[0m \u001B[0;34m\u001B[0m\u001B[0m\n\u001B[1;32m    970\u001B[0m     \u001B[0;34m@\u001B[0m\u001B[0msince\u001B[0m\u001B[0;34m(\u001B[0m\u001B[0;36m1.4\u001B[0m\u001B[0;34m)\u001B[0m\u001B[0;34m\u001B[0m\u001B[0;34m\u001B[0m\u001B[0m\n",
      "\u001B[0;32m~/opt/anaconda3/lib/python3.9/site-packages/py4j/java_gateway.py\u001B[0m in \u001B[0;36m__call__\u001B[0;34m(self, *args)\u001B[0m\n\u001B[1;32m   1318\u001B[0m             \u001B[0mproto\u001B[0m\u001B[0;34m.\u001B[0m\u001B[0mEND_COMMAND_PART\u001B[0m\u001B[0;34m\u001B[0m\u001B[0;34m\u001B[0m\u001B[0m\n\u001B[1;32m   1319\u001B[0m \u001B[0;34m\u001B[0m\u001B[0m\n\u001B[0;32m-> 1320\u001B[0;31m         \u001B[0manswer\u001B[0m \u001B[0;34m=\u001B[0m \u001B[0mself\u001B[0m\u001B[0;34m.\u001B[0m\u001B[0mgateway_client\u001B[0m\u001B[0;34m.\u001B[0m\u001B[0msend_command\u001B[0m\u001B[0;34m(\u001B[0m\u001B[0mcommand\u001B[0m\u001B[0;34m)\u001B[0m\u001B[0;34m\u001B[0m\u001B[0;34m\u001B[0m\u001B[0m\n\u001B[0m\u001B[1;32m   1321\u001B[0m         return_value = get_return_value(\n\u001B[1;32m   1322\u001B[0m             answer, self.gateway_client, self.target_id, self.name)\n",
      "\u001B[0;32m~/opt/anaconda3/lib/python3.9/site-packages/py4j/java_gateway.py\u001B[0m in \u001B[0;36msend_command\u001B[0;34m(self, command, retry, binary)\u001B[0m\n\u001B[1;32m   1036\u001B[0m         \u001B[0mconnection\u001B[0m \u001B[0;34m=\u001B[0m \u001B[0mself\u001B[0m\u001B[0;34m.\u001B[0m\u001B[0m_get_connection\u001B[0m\u001B[0;34m(\u001B[0m\u001B[0;34m)\u001B[0m\u001B[0;34m\u001B[0m\u001B[0;34m\u001B[0m\u001B[0m\n\u001B[1;32m   1037\u001B[0m         \u001B[0;32mtry\u001B[0m\u001B[0;34m:\u001B[0m\u001B[0;34m\u001B[0m\u001B[0;34m\u001B[0m\u001B[0m\n\u001B[0;32m-> 1038\u001B[0;31m             \u001B[0mresponse\u001B[0m \u001B[0;34m=\u001B[0m \u001B[0mconnection\u001B[0m\u001B[0;34m.\u001B[0m\u001B[0msend_command\u001B[0m\u001B[0;34m(\u001B[0m\u001B[0mcommand\u001B[0m\u001B[0;34m)\u001B[0m\u001B[0;34m\u001B[0m\u001B[0;34m\u001B[0m\u001B[0m\n\u001B[0m\u001B[1;32m   1039\u001B[0m             \u001B[0;32mif\u001B[0m \u001B[0mbinary\u001B[0m\u001B[0;34m:\u001B[0m\u001B[0;34m\u001B[0m\u001B[0;34m\u001B[0m\u001B[0m\n\u001B[1;32m   1040\u001B[0m                 \u001B[0;32mreturn\u001B[0m \u001B[0mresponse\u001B[0m\u001B[0;34m,\u001B[0m \u001B[0mself\u001B[0m\u001B[0;34m.\u001B[0m\u001B[0m_create_connection_guard\u001B[0m\u001B[0;34m(\u001B[0m\u001B[0mconnection\u001B[0m\u001B[0;34m)\u001B[0m\u001B[0;34m\u001B[0m\u001B[0;34m\u001B[0m\u001B[0m\n",
      "\u001B[0;32m~/opt/anaconda3/lib/python3.9/site-packages/py4j/clientserver.py\u001B[0m in \u001B[0;36msend_command\u001B[0;34m(self, command)\u001B[0m\n\u001B[1;32m    509\u001B[0m         \u001B[0;32mtry\u001B[0m\u001B[0;34m:\u001B[0m\u001B[0;34m\u001B[0m\u001B[0;34m\u001B[0m\u001B[0m\n\u001B[1;32m    510\u001B[0m             \u001B[0;32mwhile\u001B[0m \u001B[0;32mTrue\u001B[0m\u001B[0;34m:\u001B[0m\u001B[0;34m\u001B[0m\u001B[0;34m\u001B[0m\u001B[0m\n\u001B[0;32m--> 511\u001B[0;31m                 \u001B[0manswer\u001B[0m \u001B[0;34m=\u001B[0m \u001B[0msmart_decode\u001B[0m\u001B[0;34m(\u001B[0m\u001B[0mself\u001B[0m\u001B[0;34m.\u001B[0m\u001B[0mstream\u001B[0m\u001B[0;34m.\u001B[0m\u001B[0mreadline\u001B[0m\u001B[0;34m(\u001B[0m\u001B[0;34m)\u001B[0m\u001B[0;34m[\u001B[0m\u001B[0;34m:\u001B[0m\u001B[0;34m-\u001B[0m\u001B[0;36m1\u001B[0m\u001B[0;34m]\u001B[0m\u001B[0;34m)\u001B[0m\u001B[0;34m\u001B[0m\u001B[0;34m\u001B[0m\u001B[0m\n\u001B[0m\u001B[1;32m    512\u001B[0m                 \u001B[0mlogger\u001B[0m\u001B[0;34m.\u001B[0m\u001B[0mdebug\u001B[0m\u001B[0;34m(\u001B[0m\u001B[0;34m\"Answer received: {0}\"\u001B[0m\u001B[0;34m.\u001B[0m\u001B[0mformat\u001B[0m\u001B[0;34m(\u001B[0m\u001B[0manswer\u001B[0m\u001B[0;34m)\u001B[0m\u001B[0;34m)\u001B[0m\u001B[0;34m\u001B[0m\u001B[0;34m\u001B[0m\u001B[0m\n\u001B[1;32m    513\u001B[0m                 \u001B[0;31m# Happens when a the other end is dead. There might be an empty\u001B[0m\u001B[0;34m\u001B[0m\u001B[0;34m\u001B[0m\u001B[0m\n",
      "\u001B[0;32m~/opt/anaconda3/lib/python3.9/socket.py\u001B[0m in \u001B[0;36mreadinto\u001B[0;34m(self, b)\u001B[0m\n\u001B[1;32m    702\u001B[0m         \u001B[0;32mwhile\u001B[0m \u001B[0;32mTrue\u001B[0m\u001B[0;34m:\u001B[0m\u001B[0;34m\u001B[0m\u001B[0;34m\u001B[0m\u001B[0m\n\u001B[1;32m    703\u001B[0m             \u001B[0;32mtry\u001B[0m\u001B[0;34m:\u001B[0m\u001B[0;34m\u001B[0m\u001B[0;34m\u001B[0m\u001B[0m\n\u001B[0;32m--> 704\u001B[0;31m                 \u001B[0;32mreturn\u001B[0m \u001B[0mself\u001B[0m\u001B[0;34m.\u001B[0m\u001B[0m_sock\u001B[0m\u001B[0;34m.\u001B[0m\u001B[0mrecv_into\u001B[0m\u001B[0;34m(\u001B[0m\u001B[0mb\u001B[0m\u001B[0;34m)\u001B[0m\u001B[0;34m\u001B[0m\u001B[0;34m\u001B[0m\u001B[0m\n\u001B[0m\u001B[1;32m    705\u001B[0m             \u001B[0;32mexcept\u001B[0m \u001B[0mtimeout\u001B[0m\u001B[0;34m:\u001B[0m\u001B[0;34m\u001B[0m\u001B[0;34m\u001B[0m\u001B[0m\n\u001B[1;32m    706\u001B[0m                 \u001B[0mself\u001B[0m\u001B[0;34m.\u001B[0m\u001B[0m_timeout_occurred\u001B[0m \u001B[0;34m=\u001B[0m \u001B[0;32mTrue\u001B[0m\u001B[0;34m\u001B[0m\u001B[0;34m\u001B[0m\u001B[0m\n",
      "\u001B[0;31mKeyboardInterrupt\u001B[0m: "
     ]
    }
   ],
   "source": [
    "bm = spark.read.format(\"delta\").load(\"/Users/andreikirpichev/parquet/betmarkets_lifespan/\")\n",
    "bm_by_outcome = bm.select('contest_id', 'section', 'point_type', 'market_type', 'market_params', 'away', 'end', 'home', 'league', col('odds').alias(\"odds_map\"), 'region', 'sport', 'start', explode(\"odds\").alias(\"outcome\", \"odds\"))\n",
    "bm_contest = bm_by_outcome.withColumn('contest_id', split(bm_by_outcome.contest_id, '\\|').getItem(1))\n",
    "bm_football = bm_contest.filter(bm_contest[\"sport\"] == \"Football\")\n",
    "# test: from 2022-10-18 09:32:32.232000  to  2022-10-28 14:23:44.972000 (974330, 13)\n",
    "MAX_START = \"2022-10-28 14:23:44.972000\"\n",
    "MIN_END = \"2022-10-18 09:32:32.232000\"\n",
    "test_bm = bm_football.filter((bm_football[\"start\"] <= MAX_START) &\n",
    "                             (bm_football[\"end\"] >= MIN_END))\n",
    "test_bm = test_bm.select('contest_id', 'section', col('point_type').alias('point'), col('market_type').alias('market'), 'away', 'start', 'end', 'home', 'league', 'region', 'sport', col('odds').alias('placement_odds'))\n",
    "#test_bm.write.format(\"delta\").mode(\"overwrite\").save(\"/Users/andreikirpichev/parquet/test_betmarkets\")"
   ],
   "metadata": {
    "collapsed": false
   }
  },
  {
   "cell_type": "code",
   "execution_count": 44,
   "outputs": [],
   "source": [
    "bets_df = spark.read.format(\"delta\").load(\"/Users/andreikirpichev/parquet/bets/\")\n",
    "fixtures_df = spark.read.format(\"delta\").load(\"/Users/andreikirpichev/parquet/fixtures/\")\n",
    "betmarkets_df = spark.read.format(\"delta\").load(\"/Users/andreikirpichev/parquet/betmarkets/\")"
   ],
   "metadata": {
    "collapsed": false
   }
  },
  {
   "cell_type": "code",
   "execution_count": 46,
   "outputs": [
    {
     "name": "stdout",
     "output_type": "stream",
     "text": [
      "+-----------+---+-------+-------+-----+-------------+-------------+----------+--------------+--------------------+--------------+--------------------+--------------------+------+---------------+--------------------+--------------------+---------+---------+-------------+----------+--------+---------+\n",
      "|customer_id|age|country|section|point|       market|market_params|contest_id|placement_date|      placement_time|placement_odds|                home|                away|region|          sport|              league|minutes_before_start|stake_eur|dayofweek|weekday_stake|section_2w|point_2w|market_2w|\n",
      "+-----------+---+-------+-------+-----+-------------+-------------+----------+--------------+--------------------+--------------+--------------------+--------------------+------+---------------+--------------------+--------------------+---------+---------+-------------+----------+--------+---------+\n",
      "|    8718910| 41|     DE|     RT| Goal|   Handicap3w|         null|  IH-22533|    2022-09-23|2022-09-23 22:06:...|           6.2|         MoDo Hockey|              AIK IF|    SE|      Icehockey|   HockeyAllsvenskan|                 0.0|     0.75|        6|         0.62|      0.74|    0.74|     0.74|\n",
      "|    8718910| 41|     DE|     RT| Goal|   Handicap3w|         null|  IH-22533|    2022-09-23|2022-09-23 22:06:...|           6.2|         MoDo Hockey|              AIK IF|    SE|      Icehockey|   HockeyAllsvenskan|                 0.0|     0.13|        6|         0.62|      0.74|    0.74|     0.74|\n",
      "|    8718910| 41|     DE|     RT| Goal|   Handicap3w|         null|  IH-22533|    2022-09-23|2022-09-23 22:06:...|           6.2|         MoDo Hockey|              AIK IF|    SE|      Icehockey|   HockeyAllsvenskan|                 0.0|     0.75|        6|         0.62|      0.74|    0.74|     0.74|\n",
      "|   12783710| 54|     CA|  MATCH|  Set|   Handicap2w|         null|  TN-29090|    2022-09-23|2022-09-23 22:06:...|          1.62|      Lajovic, Dusan|   Cecchinato, Marco|    IT|         Tennis|    Challenger Genoa|                 3.0|     7.59|        6|         4.46|      3.46|    3.46|     3.69|\n",
      "|   12783710| 54|     CA|     FT|Point|   Handicap2w|         null|  BB-31276|    2022-09-23|2022-09-23 22:06:...|          1.28| Pallacanestro Cantu|      Vanoli Cremona|    IT|     Basketball|        A2 Super Cup|                 0.0|     7.59|        6|         4.61|      3.87|    4.24|     3.69|\n",
      "|    3809410| 58|     DE|     FT|  Run|   Handicap2w|         null|  BAS-3870|    2022-09-23|2022-09-23 22:06:...|           1.7|       Miami Marlins|Washington Nationals|    US|       Baseball|                 MLB|               153.0|     1.66|        6|         1.43|      1.02|    1.66|     1.43|\n",
      "|    3809410| 58|     DE|     FT|  Run|   Handicap2w|         null|  BAS-3857|    2022-09-23|2022-09-23 22:06:...|          1.66|  Pittsburgh Pirates|        Chicago Cubs|    US|       Baseball|                 MLB|               148.0|     1.67|        6|         1.62|      1.02|    1.66|     1.43|\n",
      "|    3809410| 58|     DE|     FT|  Run|   Handicap2w|         null|  BAS-3868|    2022-09-23|2022-09-23 22:06:...|          1.88|     Cincinnati Reds|   Milwaukee Brewers|    US|       Baseball|                 MLB|               153.0|     1.66|        6|         1.57|      1.02|    1.66|     1.43|\n",
      "|    4565110| 37|     FI|     FT|Point|   Handicap2w|         null|  BB-31842|    2022-09-23|2022-09-23 22:07:...|          1.78|BKN Nets (BANDIT)...|PHI 76ers (SPOOKY...|   ONL|     Basketball|Ebasketball Battl...|                 0.0|      5.0|        6|         5.05|      5.48|    5.86|     5.84|\n",
      "|    2400410| 25|     DE|     RT| Goal|   Handicap3w|         null|  IH-22533|    2022-09-23|2022-09-23 22:07:...|          2.54|         MoDo Hockey|              AIK IF|    SE|      Icehockey|   HockeyAllsvenskan|                 0.0|     3.34|        6|         15.0|      7.83|    7.62|     8.19|\n",
      "|    2400410| 25|     DE|   SET1|Point|   Handicap2w|         null|  BVB-3012|    2022-09-23|2022-09-23 22:07:...|          1.66|     Patrick/Miranda|dos Santos Silva,...|    BR|BeachVolleyball|    CBVP Joao Pessoa|                 0.0|     3.33|        6|        15.34|      9.03|    9.01|     7.87|\n",
      "|    2400410| 25|     DE|   SET4|Point|TeamOverUnder|         null|   VB-5931|    2022-09-23|2022-09-23 22:07:...|          2.16|Chicago Maroons W...|Wisconsin-Oshkosh...|    US|     Volleyball|          NCAA Women|                 0.0|     3.33|        6|         14.9|      10.1|    9.01|    10.37|\n",
      "|    2897710| 46|     DE|   SET2| Game|   NthPoint2w|         null|  TN-29091|    2022-09-23|2022-09-23 22:07:...|           1.6|        Rune, Holger|   Bublik, Alexander|    FR|         Tennis|                Metz|                 0.0|     11.0|        6|         4.68|     13.95|   12.03|    13.12|\n",
      "|   12783710| 54|     CA|     FT|  Run|   Handicap2w|         null|  BAS-3862|    2022-09-23|2022-09-23 22:07:...|          1.66|   Baltimore Orioles|      Houston Astros|    US|       Baseball|                 MLB|               177.0|     3.79|        6|         4.66|      3.87|    3.19|     3.69|\n",
      "|   12783710| 54|     CA|     FT|  Run|   Handicap2w|         null|  BAS-3868|    2022-09-23|2022-09-23 22:07:...|          1.62|     Cincinnati Reds|   Milwaukee Brewers|    US|       Baseball|                 MLB|               152.0|     3.79|        6|         4.43|      3.87|    3.19|     3.69|\n",
      "|   15224210| 24|     AT|   SET1|Point|   Handicap2w|         null|  TT-68974|    2022-09-23|2022-09-23 22:08:...|           2.2|      Ivanov, Viktor| Plishilo, Volodymyr|   INT|    TableTennis|           Setka Cup|                 4.0|     15.0|        6|         5.27|      14.6|   13.78|    15.78|\n",
      "|   12783710| 54|     CA|     FT|  Run|   Handicap2w|         null|  BAS-3858|    2022-09-23|2022-09-23 22:08:...|          2.44|Philadelphia Phil...|      Atlanta Braves|    US|       Baseball|                 MLB|               177.0|     3.79|        6|          4.8|      3.87|    3.19|     3.69|\n",
      "|   12783710| 54|     CA|     FT|  Run|   Handicap2w|         null|  BAS-3861|    2022-09-23|2022-09-23 22:08:...|          2.12|       Texas Rangers| Cleveland Guardians|    US|       Baseball|                 MLB|               237.0|     3.79|        6|         4.42|      3.87|    3.19|     3.69|\n",
      "|   16679610| 25|     IN|     FT|Point|   Handicap2w|         null|  BB-31847|    2022-09-23|2022-09-23 22:08:...|          1.47|GS Warriors (DEAN...|LA Lakers (SPARKZ...|   ONL|     Basketball|Ebasketball Battl...|                 0.0|   252.94|        6|       179.74|     227.5|   227.5|    227.5|\n",
      "|   12783710| 54|     CA|     FT|  Run|   Handicap2w|         null|  BAS-3876|    2022-09-23|2022-09-23 22:08:...|          2.18|  Kansas City Royals|    Seattle Mariners|    US|       Baseball|                 MLB|               241.0|     3.79|        6|         4.82|      3.87|    3.19|     3.69|\n",
      "+-----------+---+-------+-------+-----+-------------+-------------+----------+--------------+--------------------+--------------+--------------------+--------------------+------+---------------+--------------------+--------------------+---------+---------+-------------+----------+--------+---------+\n",
      "only showing top 20 rows\n",
      "\n"
     ]
    }
   ],
   "source": [
    "bets_df.filter(col(\"sport\") != \"Football\").show()"
   ],
   "metadata": {
    "collapsed": false
   }
  },
  {
   "cell_type": "code",
   "execution_count": 13,
   "outputs": [
    {
     "name": "stderr",
     "output_type": "stream",
     "text": [
      "                                                                                \r"
     ]
    },
    {
     "name": "stdout",
     "output_type": "stream",
     "text": [
      "+----------+--------------------+--------------------+--------------------+--------------------+--------------------+------------+--------------------+------+-----+--------------------+------+-----------+----+------------+--------------------+\n",
      "|contest_id|                away|          duplicates|                home|              league|           linked_to|organisation|   receive_timestamp|region|round|     scheduled_begin|season|      sport|tier|trading_type|               venue|\n",
      "+----------+--------------------+--------------------+--------------------+--------------------+--------------------+------------+--------------------+------+-----+--------------------+------+-----------+----+------------+--------------------+\n",
      "|   1535058| Zhetysu Taldykorgan|                  []| Okzhetpes Kokshetau|      Premier League|[BB.Unibet|120718...|            |2020-11-15 12:36:...|    KZ|     | 2020-11-08 12:00:00|      |   Football|   6|        Live|                    |\n",
      "|   4106585|Bayer 04 (Makcwel...|       [RBP|4106585]|Napoli (Jekos) Es...|Battle Esoccer (8...|[SCR.Bet365.IP|12...|        FIFA|2022-07-08 06:34:...|   ONL|     |2022-06-30 18:09:...|      |   Football|   7|        Live|                    |\n",
      "|   2498600|    PSG (MakcwellLm)|       [RBP|2498600]|  Real Madrid (Liha)|Battle Esoccer (8...|[SCR.Bet365.PG|10...|        FIFA|2021-07-08 14:33:...|   ONL|     | 2021-07-01 13:18:00|      |   Football|   7|        Live|                    |\n",
      "|    986172|     Arsenal (GenaD)|                  []|  Man Utd (mooneycb)|Battle Esoccer (8...|[SCR.Swarm|16406566]|            |2020-05-29 14:32:...|   ONL|     | 2020-05-22 13:48:00|      |   Football|   8|        Live|                    |\n",
      "|    354760|              UCV FC|                  []|Petroleros de Anz...|    Segunda Division|[BB.1xBet|8314237...|            |2019-03-19 20:44:...|    VE|     |2019-03-19 20:40:...|      |   Football|   6|        Live|                    |\n",
      "|   2436039|         Hozumi, Eri|[RBP|2436039, RBP...|        Ozgen, Pemra|Figueira da Foz W...|[BB.Betway|140860...|         ITF|2021-06-25 13:20:...|    PT|     | 2021-06-18 11:30:00|      |     Tennis|   7|        Live|                    |\n",
      "|   1720639|     Man City (Olle)|                  []|  Man Utd (dm1trena)|Battle Esoccer (8...|[SCR.Bet365|97020...|        FIFA|2020-12-30 14:36:...|   ONL|     |2020-12-23 13:45:...|      |   Football|   7|        Live|                    |\n",
      "|   1481097|    PSG (Inquisitor)|                  []| Liverpool (KRaftVK)|Battle Esoccer (8...|[SCR.Bet365|94689...|            |2020-10-29 04:39:...|   ONL|     |2020-10-22 05:20:...|      |   Football|   7|        Live|                    |\n",
      "|   3297176|      Miklukha, Oleg|       [RBP|3297176]| Melnikov, Aleksandr|              TT-Cup|[SCR.Marathon.IP|...|            |2022-01-18 10:50:...|    UA|     | 2022-01-11 09:20:00|      |TableTennis|   7|        Live|                    |\n",
      "|   4009178|Saltanovskaya, Ma...|       [RBP|4009178]|  Konkulovska, Iryna|     Setka Cup Women|[SCR.Bet365.IP|12...|            |2022-06-19 00:56:...|    UA|     |2022-06-11 11:45:...|      |TableTennis|   6|        Live|                    |\n",
      "|   1733535|         Nice (Stig)|                  []|  Lille (Dragonborn)|Live Arena Esocce...|[SCR.Bet365|97165...|        FIFA|2021-01-03 08:37:...|   ONL|     |2020-12-27 08:24:...|      |   Football|   7|        Live|                    |\n",
      "|  TN-15969|        Jaeger, Nico|      [NEO|TN-15969]|     Laborde, Arthur|         Muttenz Men|[SCR.Marathon.PG|...|         ITF|2022-08-15 13:45:...|    CH|     | 2022-08-15 13:00:00|      |     Tennis|   6|        Live|                    |\n",
      "|   3251504|  Kuleshov, Grigoriy|       [RBP|3251504]|     Sokolov, Sergey|           Setka Cup|[SCR.Marathon.RS|...|            |2022-01-04 16:50:...|    UA|     | 2021-12-28 15:05:00|      |TableTennis|   6|        Live|                    |\n",
      "|    983248|Dukhovenko, Oleks...|                  []|    Derypaska, Roman|           Setka Cup|[SCR.Bet365|89353...|            |2020-05-28 10:50:...|    UA|     |2020-05-21 10:29:...|      |TableTennis|   6|        Live|                    |\n",
      "|    564445|            Bani Yas|                  []|           Al Dhafra| Arabian Gulf League|[SSLN|pJXyoBxk71q...|      U.A.E.|2019-10-05 07:01:...|    AE|     | 2019-09-26 16:30:00|      |   Football|   6|        Live|Hamdan bin Zayed ...|\n",
      "|    308729|                null|                  []|                null|                null|[BB.Unibet|791096...|        null|                null|  null| null|                null|  null|       null|null|        null|                null|\n",
      "|   1941421|        Aduana Stars|                  []|        Ashanti Gold|      Premier League|[SCR.Bet365|99126...|            |2021-02-26 16:35:...|    GH|     | 2021-02-19 16:00:00|      |   Football|   6|        Live|                    |\n",
      "|   1086883|    Stefaniuk, Alina|                  []| Severina, Yevheniia|     Setka Cup Women|[SCR.Bet365|90534...|            |2020-07-03 16:50:...|    UA|     |2020-06-26 15:23:...|      |TableTennis|   6|        Live|                    |\n",
      "|   1042970|            Technika|                  []|          Vysehrad A|     Regional League|[BB.1xBet|1072943...|            |2020-06-18 18:24:...|    CZ|     |2020-06-11 17:52:...|      | Volleyball|   7|        Live|                    |\n",
      "|  TT-42598|      Fiklik, Ondrej|      [NEO|TT-42598]|      Kotrbaty, Petr|              TT-Cup|[SCR.Bet365.IP|12...|            |2022-08-20 23:18:...|    CZ|     | 2022-08-20 23:18:00|      |TableTennis|   7|        Live|                    |\n",
      "+----------+--------------------+--------------------+--------------------+--------------------+--------------------+------------+--------------------+------+-----+--------------------+------+-----------+----+------------+--------------------+\n",
      "only showing top 20 rows\n",
      "\n"
     ]
    }
   ],
   "source": [
    "fixtures_df = spark.read.format(\"delta\").load(\"/Users/andreikirpichev/parquet/test_betmarkets/\")\n",
    "fixtures_df.show()"
   ],
   "metadata": {
    "collapsed": false
   }
  },
  {
   "cell_type": "code",
   "execution_count": 25,
   "outputs": [
    {
     "data": {
      "text/plain": "StructType([StructField('contest_id', ArrayType(StringType(), False), True), StructField('section', StringType(), True), StructField('point_type', StringType(), True), StructField('market_type', StringType(), True), StructField('market_params', MapType(StringType(), StringType(), True), True), StructField('certainty', DoubleType(), True), StructField('odds', MapType(StringType(), DoubleType(), True), True), StructField('receive_timestamp', TimestampType(), True), StructField('sources', MapType(StringType(), DoubleType(), True), True), StructField('status', StringType(), True), StructField('valid_from', TimestampType(), True)])"
     },
     "execution_count": 25,
     "metadata": {},
     "output_type": "execute_result"
    }
   ],
   "source": [
    "betmarkets_df.schema"
   ],
   "metadata": {
    "collapsed": false
   }
  },
  {
   "cell_type": "code",
   "execution_count": 48,
   "outputs": [
    {
     "name": "stderr",
     "output_type": "stream",
     "text": [
      "                                                                                \r"
     ]
    }
   ],
   "source": [
    "bets_df = spark.read.format(\"delta\").load(\"/Users/andreikirpichev/parquet/bet_stats/\")\n",
    "fixtures_df = spark.read.format(\"delta\").load(\"/Users/andreikirpichev/parquet/fixtures/\")\n",
    "customers_df = spark.read.format(\"delta\").load(\"/Users/andreikirpichev/parquet/customers/\")\n",
    "\n",
    "recent_dates = ['2022-10-02', '2022-10-03', '2022-10-04', '2022-10-05', '2022-10-06', '2022-10-07', '2022-10-08', '2022-10-09', '2022-10-10', '2022-10-11', '2022-10-12', '2022-10-13', '2022-10-14', '2022-10-15', '2022-10-16', '2022-10-17', '2022-10-18', '2022-10-19', '2022-10-20', '2022-10-21', '2022-10-22', '2022-10-23', '2022-10-24', '2022-10-25', '2022-10-26', '2022-10-27', '2022-10-28', '2022-10-29', '2022-10-30', '2022-10-01', '2022-09-02', '2022-09-03', '2022-09-04', '2022-09-05', '2022-09-06', '2022-09-07', '2022-09-08', '2022-09-09', '2022-09-10', '2022-09-11', '2022-09-12', '2022-09-13', '2022-09-14', '2022-09-15', '2022-09-16', '2022-09-17', '2022-09-18', '2022-09-19', '2022-09-20', '2022-09-21', '2022-09-22', '2022-09-23', '2022-09-24', '2022-09-25', '2022-09-26', '2022-09-27', '2022-09-28', '2022-09-29', '2022-09-30', '2022-09-01', '2022-09-31']\n",
    "\n",
    "bets_df = bets_df.filter(col(\"placement_date\").isin(recent_dates))\\\n",
    "                 .withColumn('contest_id', split('contest_id', '\\|').getItem(1))\n",
    "\n",
    "bf = bets_df.join(fixtures_df, \"contest_id\", \"left\")\n",
    "bf_football = bf.filter(col(\"sport\") == \"Football\")\n",
    "\n",
    "data = bf_football.join(customers_df, bf_football.customer_id == customers_df.id, \"left\")\n",
    "\n",
    "columns = ['customer_id', 'age', 'country', 'section', 'point', 'market', 'market_params', 'contest_id', 'placement_date', 'placement_time', 'placement_odds', 'home', 'away', 'region', 'sport', 'league', 'minutes_before_start', 'stake_eur']\n",
    "# 'bet_no', 'pick_index', 'fees', 'outcomes', 'currency', 'stake', 'placement_time', 'betting_types', 'scheduled_begin', 'birthdate'\n",
    "c = CurrencyConverter(ECB_URL, fallback_on_missing_rate=True)\n",
    "convert_curr = udf(lambda v,f,d : c.convert(v, f, 'EUR', d), DoubleType())\n",
    "\n",
    "weekday_until_now = Window.partitionBy(\"customer_id\", \"dayofweek\").rowsBetween(Window.unboundedPreceding, Window.currentRow)\n",
    "section_last2weeks = Window.partitionBy(\"customer_id\", \"section\").orderBy(expr(\"unix_date(placement_date)\").asc()).rangeBetween(-14, 0)\n",
    "point_last2weeks = Window.partitionBy(\"customer_id\", \"point\").orderBy(expr(\"unix_date(placement_date)\").asc()).rangeBetween(-14, 0)\n",
    "market_last2weeks = Window.partitionBy(\"customer_id\", \"market\").orderBy(expr(\"unix_date(placement_date)\").asc()).rangeBetween(-14, 0)\n",
    "\n",
    "data.withColumn('age', ceil(datediff('placement_date', 'birthdate')/365.25))\\\n",
    "    .withColumn('minutes_before_start',\n",
    "                  when(\n",
    "                      round((unix_timestamp('scheduled_begin') - unix_timestamp('placement_time')) / 60) < 0,\n",
    "                      0)\n",
    "                  .otherwise(round((unix_timestamp('scheduled_begin') - unix_timestamp('placement_time')) / 60)))\\\n",
    "    .withColumn('section', split(bets_df['betting_types'].getItem(0), ' ').getItem(0))\\\n",
    "    .withColumn('point', split(bets_df['betting_types'].getItem(0), ' ').getItem(1))\\\n",
    "    .withColumn('market', split(bets_df['betting_types'].getItem(0), ' ').getItem(2))\\\n",
    "    .withColumn('market_params', regexp_extract(bets_df['betting_types'].getItem(1), '\\(.*?\\)', 0))\\\n",
    "    .filter(data['currency'] != 'NEO')\\\n",
    "    .withColumn('stake_eur', round(convert_curr('stake', 'currency', 'placement_date')/100, 2))\\\n",
    "    .select(*columns)\\\n",
    "    .withColumn(\"dayofweek\", dayofweek(col(\"placement_date\")))\\\n",
    "    .withColumn(\"weekday_stake\", round(avg(col(\"stake_eur\")).over(weekday_until_now), 2))\\\n",
    "    .withColumn(\"section_2w\", round(avg(col(\"stake_eur\")).over(section_last2weeks), 2))\\\n",
    "    .withColumn(\"point_2w\", round(avg(col(\"stake_eur\")).over(point_last2weeks), 2))\\\n",
    "    .withColumn(\"market_2w\", round(avg(col(\"stake_eur\")).over(market_last2weeks), 2))\\\n",
    "    .filter(col(\"age\").isNotNull() & col(\"country\").isNotNull())\\\n",
    "    .orderBy(col(\"placement_time\").asc())\\\n",
    "    .write.format(\"delta\").mode(\"overwrite\").save(\"/Users/andreikirpichev/parquet/bets\")\n"
   ],
   "metadata": {
    "collapsed": false
   }
  },
  {
   "cell_type": "code",
   "execution_count": 7,
   "outputs": [
    {
     "name": "stdout",
     "output_type": "stream",
     "text": [
      "+-----------------------------+\n",
      "|count(DISTINCT market_params)|\n",
      "+-----------------------------+\n",
      "|                         2320|\n",
      "+-----------------------------+\n",
      "\n"
     ]
    },
    {
     "name": "stderr",
     "output_type": "stream",
     "text": [
      "[Stage 157:======>                                                  (1 + 8) / 9]\r"
     ]
    },
    {
     "name": "stdout",
     "output_type": "stream",
     "text": [
      "+-----------+---+-------+-------+-----+------+-------------+----------+--------------+--------------+--------------+----+----+------+-----+------+--------------------+---------+---------+-------------+----------+--------+---------+\n",
      "|customer_id|age|country|section|point|market|market_params|contest_id|placement_date|placement_time|placement_odds|home|away|region|sport|league|minutes_before_start|stake_eur|dayofweek|weekday_stake|section_2w|point_2w|market_2w|\n",
      "+-----------+---+-------+-------+-----+------+-------------+----------+--------------+--------------+--------------+----+----+------+-----+------+--------------------+---------+---------+-------------+----------+--------+---------+\n",
      "|          0|  0|      0|      0|    0|     0|      4684742|         0|             0|             0|             0|   0|   0|     0|    0|     0|                   0|        0|        0|            0|         0|       0|        0|\n",
      "+-----------+---+-------+-------+-----+------+-------------+----------+--------------+--------------+--------------+----+----+------+-----+------+--------------------+---------+---------+-------------+----------+--------+---------+\n",
      "\n"
     ]
    },
    {
     "name": "stderr",
     "output_type": "stream",
     "text": [
      "                                                                                \r"
     ]
    }
   ],
   "source": [
    "bets_df = spark.read.format(\"delta\").load(\"/Users/andreikirpichev/parquet/bets/\")\n",
    "\n",
    "bets_df.select(countDistinct(\"market_params\")).show()\n",
    "bets_df.select([count(when(col(c).isNull(), c)).alias(c) for c in bets_df.columns]).show()"
   ],
   "metadata": {
    "collapsed": false
   }
  },
  {
   "cell_type": "code",
   "execution_count": 7,
   "outputs": [],
   "source": [],
   "metadata": {
    "collapsed": false
   }
  }
 ],
 "metadata": {
  "kernelspec": {
   "display_name": "Python 3 (ipykernel)",
   "language": "python",
   "name": "python3"
  },
  "language_info": {
   "codemirror_mode": {
    "name": "ipython",
    "version": 3
   },
   "file_extension": ".py",
   "mimetype": "text/x-python",
   "name": "python",
   "nbconvert_exporter": "python",
   "pygments_lexer": "ipython3",
   "version": "3.9.13"
  }
 },
 "nbformat": 4,
 "nbformat_minor": 5
}
