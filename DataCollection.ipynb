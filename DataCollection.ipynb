{
 "cells": [
  {
   "cell_type": "code",
   "execution_count": 5,
   "outputs": [],
   "source": [
    "from delta import *\n",
    "from currency_converter import CurrencyConverter, ECB_URL\n",
    "\n",
    "import pyspark\n",
    "from pyspark.sql.session import SparkSession\n",
    "from pyspark.sql.functions import *\n",
    "from pyspark.sql.types import FloatType\n",
    "from pyspark.sql.types import DoubleType\n",
    "from pyspark.sql.window import Window\n",
    "\n",
    "builder = pyspark.sql.SparkSession.builder.appName(\"MyApp\") \\\n",
    "    .config(\"spark.sql.extensions\", \"io.delta.sql.DeltaSparkSessionExtension\") \\\n",
    "    .config(\"spark.sql.catalog.spark_catalog\", \"org.apache.spark.sql.delta.catalog.DeltaCatalog\") \\\n",
    "    .config(\"spark.driver.memory\", \"10g\") \\\n",
    "    .config(\"spark.driver.maxResultSize\", \"10g\")\n",
    "\n",
    "spark = configure_spark_with_delta_pip(builder).getOrCreate()"
   ],
   "metadata": {
    "collapsed": false
   }
  },
  {
   "cell_type": "code",
   "execution_count": 6,
   "outputs": [
    {
     "name": "stderr",
     "output_type": "stream",
     "text": [
      "                                                                                \r"
     ]
    }
   ],
   "source": [
    "bets_df = spark.read.format(\"delta\").load(\"/Users/andreikirpichev/Downloads/bet_stats/\")\n",
    "fixtures_df = spark.read.format(\"delta\").load(\"/Users/andreikirpichev/Downloads/fixtures/\")\n",
    "customers_df = spark.read.format(\"delta\").load(\"/Users/andreikirpichev/Downloads/customers/\")\n",
    "\n",
    "recent_dates = ['2022-10-02', '2022-10-03', '2022-10-04', '2022-10-05', '2022-10-06', '2022-10-07', '2022-10-08', '2022-10-09', '2022-10-10', '2022-10-11', '2022-10-12', '2022-10-13', '2022-10-14', '2022-10-15', '2022-10-16', '2022-10-17', '2022-10-18', '2022-10-19', '2022-10-20', '2022-10-21', '2022-10-22', '2022-10-23', '2022-10-24', '2022-10-25', '2022-10-26', '2022-10-27', '2022-10-28', '2022-10-29', '2022-10-30', '2022-10-01', '2022-09-02', '2022-09-03', '2022-09-04', '2022-09-05', '2022-09-06', '2022-09-07', '2022-09-08', '2022-09-09', '2022-09-10', '2022-09-11', '2022-09-12', '2022-09-13', '2022-09-14', '2022-09-15', '2022-09-16', '2022-09-17', '2022-09-18', '2022-09-19', '2022-09-20', '2022-09-21', '2022-09-22', '2022-09-23', '2022-09-24', '2022-09-25', '2022-09-26', '2022-09-27', '2022-09-28', '2022-09-29', '2022-09-30', '2022-09-01', '2022-09-31']\n",
    "\n",
    "bets_df = bets_df.filter(col(\"placement_date\").isin(recent_dates))\\\n",
    "                 .withColumn('contest_id', split('contest_id', '\\|').getItem(1))\n",
    "\n",
    "bf = bets_df.join(fixtures_df, \"contest_id\", \"left\")\n",
    "data = bf.join(customers_df, bf.customer_id == customers_df.id, \"left\")\n",
    "\n",
    "columns = ['customer_id', 'age', 'country', 'section', 'point', 'market', 'market_params', 'contest_id', 'placement_date', 'placement_time', 'placement_odds', 'home', 'away', 'region', 'sport', 'league', 'minutes_before_start', 'stake_eur']\n",
    "# 'bet_no', 'pick_index', 'fees', 'outcomes', 'currency', 'stake', 'placement_time', 'betting_types', 'scheduled_begin', 'birthdate'\n",
    "c = CurrencyConverter(ECB_URL, fallback_on_missing_rate=True)\n",
    "convert_curr = udf(lambda v,f,d : c.convert(v, f, 'EUR', d), DoubleType())\n",
    "\n",
    "weekday_until_now = Window.partitionBy(\"customer_id\", \"dayofweek\").rowsBetween(Window.unboundedPreceding, Window.currentRow)\n",
    "section_last2weeks = Window.partitionBy(\"customer_id\", \"section\").orderBy(expr(\"unix_date(placement_date)\").asc()).rangeBetween(-14, 0)\n",
    "point_last2weeks = Window.partitionBy(\"customer_id\", \"point\").orderBy(expr(\"unix_date(placement_date)\").asc()).rangeBetween(-14, 0)\n",
    "market_last2weeks = Window.partitionBy(\"customer_id\", \"market\").orderBy(expr(\"unix_date(placement_date)\").asc()).rangeBetween(-14, 0)\n",
    "\n",
    "data.withColumn('age', ceil(datediff('placement_date', 'birthdate', )/365.25))\\\n",
    "    .withColumn('minutes_before_start',\n",
    "                  when(\n",
    "                      round((unix_timestamp('scheduled_begin') - unix_timestamp('placement_time')) / 60) < 0,\n",
    "                      0)\n",
    "                  .otherwise(round((unix_timestamp('scheduled_begin') - unix_timestamp('placement_time')) / 60)))\\\n",
    "    .withColumn('section', split(bets_df['betting_types'].getItem(0), ' ').getItem(0))\\\n",
    "    .withColumn('point', split(bets_df['betting_types'].getItem(0), ' ').getItem(1))\\\n",
    "    .withColumn('market', split(bets_df['betting_types'].getItem(0), ' ').getItem(2))\\\n",
    "    .withColumn('market_params', regexp_extract(bets_df['betting_types'].getItem(1), '\\(.*?\\)', 0))\\\n",
    "    .filter(data['currency'] != 'NEO')\\\n",
    "    .withColumn('stake_eur', round(convert_curr('stake', 'currency', 'placement_date')/100, 2))\\\n",
    "    .select(*columns)\\\n",
    "    .withColumn(\"dayofweek\", dayofweek(col(\"placement_date\")))\\\n",
    "    .withColumn(\"weekday_stake\", round(avg(col(\"stake_eur\")).over(weekday_until_now), 2))\\\n",
    "    .withColumn(\"section_2w\", round(avg(col(\"stake_eur\")).over(section_last2weeks), 2))\\\n",
    "    .withColumn(\"point_2w\", round(avg(col(\"stake_eur\")).over(point_last2weeks), 2))\\\n",
    "    .withColumn(\"market_2w\", round(avg(col(\"stake_eur\")).over(market_last2weeks), 2))\\\n",
    "    .filter(col(\"age\").isNotNull() & col(\"country\").isNotNull())\\\n",
    "    .orderBy(col(\"placement_time\").asc())\\\n",
    "    .write.format(\"delta\").mode(\"overwrite\").save(\"/Users/andreikirpichev/Downloads/bets\")\n"
   ],
   "metadata": {
    "collapsed": false
   }
  },
  {
   "cell_type": "code",
   "execution_count": 7,
   "outputs": [
    {
     "name": "stdout",
     "output_type": "stream",
     "text": [
      "+-----------------------------+\n",
      "|count(DISTINCT market_params)|\n",
      "+-----------------------------+\n",
      "|                         2320|\n",
      "+-----------------------------+\n",
      "\n"
     ]
    },
    {
     "name": "stderr",
     "output_type": "stream",
     "text": [
      "[Stage 157:======>                                                  (1 + 8) / 9]\r"
     ]
    },
    {
     "name": "stdout",
     "output_type": "stream",
     "text": [
      "+-----------+---+-------+-------+-----+------+-------------+----------+--------------+--------------+--------------+----+----+------+-----+------+--------------------+---------+---------+-------------+----------+--------+---------+\n",
      "|customer_id|age|country|section|point|market|market_params|contest_id|placement_date|placement_time|placement_odds|home|away|region|sport|league|minutes_before_start|stake_eur|dayofweek|weekday_stake|section_2w|point_2w|market_2w|\n",
      "+-----------+---+-------+-------+-----+------+-------------+----------+--------------+--------------+--------------+----+----+------+-----+------+--------------------+---------+---------+-------------+----------+--------+---------+\n",
      "|          0|  0|      0|      0|    0|     0|      4684742|         0|             0|             0|             0|   0|   0|     0|    0|     0|                   0|        0|        0|            0|         0|       0|        0|\n",
      "+-----------+---+-------+-------+-----+------+-------------+----------+--------------+--------------+--------------+----+----+------+-----+------+--------------------+---------+---------+-------------+----------+--------+---------+\n",
      "\n"
     ]
    },
    {
     "name": "stderr",
     "output_type": "stream",
     "text": [
      "                                                                                \r"
     ]
    }
   ],
   "source": [
    "bets_df = spark.read.format(\"delta\").load(\"/Users/andreikirpichev/Downloads/bets/\")\n",
    "\n",
    "bets_df.select(countDistinct(\"market_params\")).show()\n",
    "bets_df.select([count(when(col(c).isNull(), c)).alias(c) for c in bets_df.columns]).show()"
   ],
   "metadata": {
    "collapsed": false
   }
  },
  {
   "cell_type": "code",
   "execution_count": 7,
   "outputs": [],
   "source": [],
   "metadata": {
    "collapsed": false
   }
  }
 ],
 "metadata": {
  "kernelspec": {
   "display_name": "Python 3 (ipykernel)",
   "language": "python",
   "name": "python3"
  },
  "language_info": {
   "codemirror_mode": {
    "name": "ipython",
    "version": 3
   },
   "file_extension": ".py",
   "mimetype": "text/x-python",
   "name": "python",
   "nbconvert_exporter": "python",
   "pygments_lexer": "ipython3",
   "version": "3.9.13"
  }
 },
 "nbformat": 4,
 "nbformat_minor": 5
}
